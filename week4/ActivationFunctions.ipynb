{
  "nbformat": 4,
  "nbformat_minor": 5,
  "metadata": {
    "kernelspec": {
      "display_name": "Python 3",
      "language": "python",
      "name": "python3"
    },
    "language_info": {
      "codemirror_mode": {
        "name": "ipython",
        "version": 3
      },
      "file_extension": ".py",
      "mimetype": "text/x-python",
      "name": "python",
      "nbconvert_exporter": "python",
      "pygments_lexer": "ipython3",
      "version": "3.8.9"
    },
    "colab": {
      "name": "ActivationFunctions.ipynb",
      "provenance": []
    }
  },
  "cells": [
    {
      "cell_type": "markdown",
      "metadata": {
        "id": "1eb5be7a"
      },
      "source": [
        "# 3 Activation Functions and Vanishing Gradient"
      ],
      "id": "1eb5be7a"
    },
    {
      "cell_type": "markdown",
      "metadata": {
        "id": "f08b710e"
      },
      "source": [
        "The purpose of this task is to get familiar with different activation functions commonly used in artificial neural networks, as well as with some particular problems associated with some of the functions. We will mostly use the common libraries that you have learned to work with in previous assignments for this task."
      ],
      "id": "f08b710e"
    },
    {
      "cell_type": "code",
      "metadata": {
        "id": "ddf5baaa"
      },
      "source": [
        "# Basic import packages. You can add other packages as needed.\n",
        "import numpy as np\n",
        "import matplotlib.pyplot as plt\n",
        "\n",
        "%matplotlib inline"
      ],
      "id": "ddf5baaa",
      "execution_count": 1,
      "outputs": []
    },
    {
      "cell_type": "markdown",
      "metadata": {
        "id": "51183067"
      },
      "source": [
        "## 3.1 Activation Functions\n",
        "Your first task will be to give a brief overview of the most popular activation functions used in machine learning, both in terms of mathematical definition and plotting. \n",
        "\n",
        "_As usual, for all plots you will produce, keep in mind to add title, proper axis ticks, and axis labels to the plots and make sure they're readable and comprehensible. Whenever you have to plot two different lines, please use different colors for them and add a legend to the plot._"
      ],
      "id": "51183067"
    },
    {
      "cell_type": "markdown",
      "metadata": {
        "id": "58fda0c6"
      },
      "source": [
        "### 3.1.1 Logistic function\n",
        "The logistic function is one particular Sigmoid activation function. Given some neuron input $x$, it is defined by the formula $$f(x) = \\frac{1}{1+e^{-x}}$$\n",
        "\n",
        "1.) Implement a python function that calculates the logistic function, then\n",
        "\n",
        "2.) implement the derivative of the logistic function (either you look it up online or you try to derive the equation yourself), and finally\n",
        "\n",
        "3.) write a function that plots both the logistic function $f(x)$ as well as its derivative/gradient $\\frac{\\partial f(x)}{\\partial x}$ for the some given interval of input values, denoted by the lower bound $x_{\\text{min}}$ and the upper bound $x_{\\text{max}}$. As an example, given the function call ```plot_logistic(-8, 8)```, we want to plot the function and its gradient for the interval $x \\in \\{-8, 8\\}$. Use the third code box below to test your plots against different combinations of input."
      ],
      "id": "58fda0c6"
    },
    {
      "cell_type": "code",
      "metadata": {
        "id": "e19e6620"
      },
      "source": [
        "def logistic(x):\n",
        "    result = 1 / (1+ np.exp(-x))\n",
        "    # your code here\n",
        "    return result"
      ],
      "id": "e19e6620",
      "execution_count": null,
      "outputs": []
    },
    {
      "cell_type": "code",
      "metadata": {
        "id": "616e7f91"
      },
      "source": [
        "def logistic_grad(x):\n",
        "    # your code here\n",
        "    return result"
      ],
      "id": "616e7f91",
      "execution_count": null,
      "outputs": []
    },
    {
      "cell_type": "code",
      "metadata": {
        "id": "49ed9e54"
      },
      "source": [
        "def plot_logistic(x_min, x_max):\n",
        "    # your code here"
      ],
      "id": "49ed9e54",
      "execution_count": null,
      "outputs": []
    },
    {
      "cell_type": "code",
      "metadata": {
        "id": "a386b067"
      },
      "source": [
        "# Use this function call to test your code for different interval boundaries.\n",
        "plot_logistic(-8, 8)"
      ],
      "id": "a386b067",
      "execution_count": null,
      "outputs": []
    },
    {
      "cell_type": "markdown",
      "metadata": {
        "id": "5015616f"
      },
      "source": [
        "### 3.1.2 Hyperbolic tangent\n",
        "\n",
        "The hyperbolic tangent $(tanh)$ is another type of Sigmoid activation function. Given some neuron input $x$, it is defined by the formula $$f(x) = tanh(x) = \\frac{e^x - e^{-x}}{e^x + e^{-x}}$$\n",
        "\n",
        "1.) Implement a python function that calculates the hyperbolic tangent, then\n",
        "\n",
        "2.) implement the derivative of the hyperbolic tangent (either you look it up online or you try to derive the equation yourself), and finally\n",
        "\n",
        "3.) write a function that plots both the hyperbolic tangent $f(x)$ as well as its derivative/gradient $\\frac{\\partial f(x)}{\\partial x}$ for the some given interval of input values, denoted by the lower bound $x_{\\text{min}}$ and the upper bound $x_{\\text{max}}$. As an example, given the function call ```plot_tanh(-8, 8)```, we want to plot the function and its gradient for the interval $x \\in \\{-8, 8\\}$. Use the third code box below to test your plots against different combinations of input."
      ],
      "id": "5015616f"
    },
    {
      "cell_type": "code",
      "metadata": {
        "id": "0d7e7813"
      },
      "source": [
        "def tanh(x):\n",
        "    # your code here\n",
        "    return result"
      ],
      "id": "0d7e7813",
      "execution_count": null,
      "outputs": []
    },
    {
      "cell_type": "code",
      "metadata": {
        "id": "34366a35"
      },
      "source": [
        "def tanh_grad(x):\n",
        "    # your code here\n",
        "    return result"
      ],
      "id": "34366a35",
      "execution_count": null,
      "outputs": []
    },
    {
      "cell_type": "code",
      "metadata": {
        "id": "302ff592"
      },
      "source": [
        "def plot_tanh(x_min, x_max):\n",
        "    # your code here"
      ],
      "id": "302ff592",
      "execution_count": null,
      "outputs": []
    },
    {
      "cell_type": "code",
      "metadata": {
        "id": "6ddbbd9e"
      },
      "source": [
        "# Use this function call to test your code for different interval boundaries.\n",
        "plot_tanh(-8, 8)"
      ],
      "id": "6ddbbd9e",
      "execution_count": null,
      "outputs": []
    },
    {
      "cell_type": "markdown",
      "metadata": {
        "id": "13715365"
      },
      "source": [
        "### 3.1.3 Rectified Linear Unit\n",
        "The Rectified Linear Unit (ReLU) is another well-known actiavtion function used in neural networks. Given some neuron input $x$, it is defined by the formula \n",
        "\n",
        "$$f(x) = \\begin{cases}\n",
        "      x, & \\text{if} \\; x>0 \\\\\n",
        "      0, & \\text{otherwise}\n",
        "    \\end{cases}$$\n",
        "\n",
        "1.) Implement a python function that calculates the ReLU function, then\n",
        "\n",
        "2.) implement the derivative of the ReLU function (either you look it up online or you try to derive the equation yourself), and finally\n",
        "\n",
        "3.) write a function that plots both the ReLU function $f(x)$ as well as its derivative/gradient $\\frac{\\partial f(x)}{\\partial x}$ for the some given interval of input values, denoted by the lower bound $x_{\\text{min}}$ and the upper bound $x_{\\text{max}}$. As an example, given the function call ```plot_relu(-8, 8)```, we want to plot the function and its gradient for the interval $x \\in \\{-8, 8\\}$. Use the third code box below to test your plots against different combinations of input."
      ],
      "id": "13715365"
    },
    {
      "cell_type": "code",
      "metadata": {
        "id": "ca7a1a1b"
      },
      "source": [
        "def relu(x):\n",
        "    # your code here\n",
        "    return result"
      ],
      "id": "ca7a1a1b",
      "execution_count": null,
      "outputs": []
    },
    {
      "cell_type": "code",
      "metadata": {
        "id": "daaaecfc"
      },
      "source": [
        "def relu_grad(x):\n",
        "    # your code here\n",
        "    return result"
      ],
      "id": "daaaecfc",
      "execution_count": null,
      "outputs": []
    },
    {
      "cell_type": "code",
      "metadata": {
        "id": "4c36c922"
      },
      "source": [
        "def plot_relu(x_min, x_max):\n",
        "    # your code here"
      ],
      "id": "4c36c922",
      "execution_count": null,
      "outputs": []
    },
    {
      "cell_type": "code",
      "metadata": {
        "id": "6f23eb6b"
      },
      "source": [
        "# Use this function call to test your code for different interval boundaries.\n",
        "plot_relu(-8, 8)"
      ],
      "id": "6f23eb6b",
      "execution_count": null,
      "outputs": []
    },
    {
      "cell_type": "markdown",
      "metadata": {
        "id": "f26f30e0"
      },
      "source": [
        "## 3.2 Vanishing Gradients\n",
        "\n",
        "Explain the problem of **vanishing gradients** in your own words by taking a look at the plots you just generated above and answering the questions below: \n",
        "\n",
        "- When can vanishing gradients occur?\n",
        "- Assuming our input values are positive, which activation functions are prone to vanishing gradients, and why?\n",
        "- Which layers in a feed-forward neural network are most affected by vanishing gradients?\n",
        "- Considering the causes of vanishing gradients, what could instead cause the **exploding gradients** problem in neural networks?"
      ],
      "id": "f26f30e0"
    },
    {
      "cell_type": "markdown",
      "metadata": {
        "id": "d6c5a25f"
      },
      "source": [
        "**ANSWER:**"
      ],
      "id": "d6c5a25f"
    },
    {
      "cell_type": "markdown",
      "metadata": {
        "id": "af9d15b4"
      },
      "source": [
        ""
      ],
      "id": "af9d15b4"
    }
  ]
}