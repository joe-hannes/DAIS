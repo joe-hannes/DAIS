{
  "nbformat": 4,
  "nbformat_minor": 5,
  "metadata": {
    "kernelspec": {
      "display_name": "Python 3",
      "language": "python",
      "name": "python3"
    },
    "language_info": {
      "codemirror_mode": {
        "name": "ipython",
        "version": 3
      },
      "file_extension": ".py",
      "mimetype": "text/x-python",
      "name": "python",
      "nbconvert_exporter": "python",
      "pygments_lexer": "ipython3",
      "version": "3.8.9"
    },
    "colab": {
      "name": "FMSSVRC.ipynb",
      "provenance": []
    },
    "widgets": {
      "application/vnd.jupyter.widget-state+json": {
        "ffe39c586c334b89a88e377e776a89ed": {
          "model_module": "@jupyter-widgets/controls",
          "model_name": "HBoxModel",
          "state": {
            "_view_name": "HBoxView",
            "_dom_classes": [],
            "_model_name": "HBoxModel",
            "_view_module": "@jupyter-widgets/controls",
            "_model_module_version": "1.5.0",
            "_view_count": null,
            "_view_module_version": "1.5.0",
            "box_style": "",
            "layout": "IPY_MODEL_efec605929064e8484697d0cc76bfa2a",
            "_model_module": "@jupyter-widgets/controls",
            "children": [
              "IPY_MODEL_a49b92ec38194319a1d4a97beb9d20bd",
              "IPY_MODEL_990b3307a9c54cb5ae038d08bae7a147"
            ]
          }
        },
        "efec605929064e8484697d0cc76bfa2a": {
          "model_module": "@jupyter-widgets/base",
          "model_name": "LayoutModel",
          "state": {
            "_view_name": "LayoutView",
            "grid_template_rows": null,
            "right": null,
            "justify_content": null,
            "_view_module": "@jupyter-widgets/base",
            "overflow": null,
            "_model_module_version": "1.2.0",
            "_view_count": null,
            "flex_flow": null,
            "width": null,
            "min_width": null,
            "border": null,
            "align_items": null,
            "bottom": null,
            "_model_module": "@jupyter-widgets/base",
            "top": null,
            "grid_column": null,
            "overflow_y": null,
            "overflow_x": null,
            "grid_auto_flow": null,
            "grid_area": null,
            "grid_template_columns": null,
            "flex": null,
            "_model_name": "LayoutModel",
            "justify_items": null,
            "grid_row": null,
            "max_height": null,
            "align_content": null,
            "visibility": null,
            "align_self": null,
            "height": null,
            "min_height": null,
            "padding": null,
            "grid_auto_rows": null,
            "grid_gap": null,
            "max_width": null,
            "order": null,
            "_view_module_version": "1.2.0",
            "grid_template_areas": null,
            "object_position": null,
            "object_fit": null,
            "grid_auto_columns": null,
            "margin": null,
            "display": null,
            "left": null
          }
        },
        "a49b92ec38194319a1d4a97beb9d20bd": {
          "model_module": "@jupyter-widgets/controls",
          "model_name": "FloatProgressModel",
          "state": {
            "_view_name": "ProgressView",
            "style": "IPY_MODEL_257cb2a75a9a4845bb9b95c74efe74b4",
            "_dom_classes": [],
            "description": "",
            "_model_name": "FloatProgressModel",
            "bar_style": "success",
            "max": 26421880,
            "_view_module": "@jupyter-widgets/controls",
            "_model_module_version": "1.5.0",
            "value": 26421880,
            "_view_count": null,
            "_view_module_version": "1.5.0",
            "orientation": "horizontal",
            "min": 0,
            "description_tooltip": null,
            "_model_module": "@jupyter-widgets/controls",
            "layout": "IPY_MODEL_269d12f2a77949a7b24f637d0d13a024"
          }
        },
        "990b3307a9c54cb5ae038d08bae7a147": {
          "model_module": "@jupyter-widgets/controls",
          "model_name": "HTMLModel",
          "state": {
            "_view_name": "HTMLView",
            "style": "IPY_MODEL_2fc67e9d0a614b83a26024f81c43dd16",
            "_dom_classes": [],
            "description": "",
            "_model_name": "HTMLModel",
            "placeholder": "​",
            "_view_module": "@jupyter-widgets/controls",
            "_model_module_version": "1.5.0",
            "value": " 26422272/? [05:30&lt;00:00, 80025.44it/s]",
            "_view_count": null,
            "_view_module_version": "1.5.0",
            "description_tooltip": null,
            "_model_module": "@jupyter-widgets/controls",
            "layout": "IPY_MODEL_fd06e71e3aa94152a1725577f194a470"
          }
        },
        "257cb2a75a9a4845bb9b95c74efe74b4": {
          "model_module": "@jupyter-widgets/controls",
          "model_name": "ProgressStyleModel",
          "state": {
            "_view_name": "StyleView",
            "_model_name": "ProgressStyleModel",
            "description_width": "initial",
            "_view_module": "@jupyter-widgets/base",
            "_model_module_version": "1.5.0",
            "_view_count": null,
            "_view_module_version": "1.2.0",
            "bar_color": null,
            "_model_module": "@jupyter-widgets/controls"
          }
        },
        "269d12f2a77949a7b24f637d0d13a024": {
          "model_module": "@jupyter-widgets/base",
          "model_name": "LayoutModel",
          "state": {
            "_view_name": "LayoutView",
            "grid_template_rows": null,
            "right": null,
            "justify_content": null,
            "_view_module": "@jupyter-widgets/base",
            "overflow": null,
            "_model_module_version": "1.2.0",
            "_view_count": null,
            "flex_flow": null,
            "width": null,
            "min_width": null,
            "border": null,
            "align_items": null,
            "bottom": null,
            "_model_module": "@jupyter-widgets/base",
            "top": null,
            "grid_column": null,
            "overflow_y": null,
            "overflow_x": null,
            "grid_auto_flow": null,
            "grid_area": null,
            "grid_template_columns": null,
            "flex": null,
            "_model_name": "LayoutModel",
            "justify_items": null,
            "grid_row": null,
            "max_height": null,
            "align_content": null,
            "visibility": null,
            "align_self": null,
            "height": null,
            "min_height": null,
            "padding": null,
            "grid_auto_rows": null,
            "grid_gap": null,
            "max_width": null,
            "order": null,
            "_view_module_version": "1.2.0",
            "grid_template_areas": null,
            "object_position": null,
            "object_fit": null,
            "grid_auto_columns": null,
            "margin": null,
            "display": null,
            "left": null
          }
        },
        "2fc67e9d0a614b83a26024f81c43dd16": {
          "model_module": "@jupyter-widgets/controls",
          "model_name": "DescriptionStyleModel",
          "state": {
            "_view_name": "StyleView",
            "_model_name": "DescriptionStyleModel",
            "description_width": "",
            "_view_module": "@jupyter-widgets/base",
            "_model_module_version": "1.5.0",
            "_view_count": null,
            "_view_module_version": "1.2.0",
            "_model_module": "@jupyter-widgets/controls"
          }
        },
        "fd06e71e3aa94152a1725577f194a470": {
          "model_module": "@jupyter-widgets/base",
          "model_name": "LayoutModel",
          "state": {
            "_view_name": "LayoutView",
            "grid_template_rows": null,
            "right": null,
            "justify_content": null,
            "_view_module": "@jupyter-widgets/base",
            "overflow": null,
            "_model_module_version": "1.2.0",
            "_view_count": null,
            "flex_flow": null,
            "width": null,
            "min_width": null,
            "border": null,
            "align_items": null,
            "bottom": null,
            "_model_module": "@jupyter-widgets/base",
            "top": null,
            "grid_column": null,
            "overflow_y": null,
            "overflow_x": null,
            "grid_auto_flow": null,
            "grid_area": null,
            "grid_template_columns": null,
            "flex": null,
            "_model_name": "LayoutModel",
            "justify_items": null,
            "grid_row": null,
            "max_height": null,
            "align_content": null,
            "visibility": null,
            "align_self": null,
            "height": null,
            "min_height": null,
            "padding": null,
            "grid_auto_rows": null,
            "grid_gap": null,
            "max_width": null,
            "order": null,
            "_view_module_version": "1.2.0",
            "grid_template_areas": null,
            "object_position": null,
            "object_fit": null,
            "grid_auto_columns": null,
            "margin": null,
            "display": null,
            "left": null
          }
        },
        "ca605c5ac83841c0af0b800fe2f1e072": {
          "model_module": "@jupyter-widgets/controls",
          "model_name": "HBoxModel",
          "state": {
            "_view_name": "HBoxView",
            "_dom_classes": [],
            "_model_name": "HBoxModel",
            "_view_module": "@jupyter-widgets/controls",
            "_model_module_version": "1.5.0",
            "_view_count": null,
            "_view_module_version": "1.5.0",
            "box_style": "",
            "layout": "IPY_MODEL_45d8efa5329643b681f8c765c84b3ca1",
            "_model_module": "@jupyter-widgets/controls",
            "children": [
              "IPY_MODEL_6d713a2b87f9465b96ff8763b1487e24",
              "IPY_MODEL_425bdc8968814bd2814097080c946a2e"
            ]
          }
        },
        "45d8efa5329643b681f8c765c84b3ca1": {
          "model_module": "@jupyter-widgets/base",
          "model_name": "LayoutModel",
          "state": {
            "_view_name": "LayoutView",
            "grid_template_rows": null,
            "right": null,
            "justify_content": null,
            "_view_module": "@jupyter-widgets/base",
            "overflow": null,
            "_model_module_version": "1.2.0",
            "_view_count": null,
            "flex_flow": null,
            "width": null,
            "min_width": null,
            "border": null,
            "align_items": null,
            "bottom": null,
            "_model_module": "@jupyter-widgets/base",
            "top": null,
            "grid_column": null,
            "overflow_y": null,
            "overflow_x": null,
            "grid_auto_flow": null,
            "grid_area": null,
            "grid_template_columns": null,
            "flex": null,
            "_model_name": "LayoutModel",
            "justify_items": null,
            "grid_row": null,
            "max_height": null,
            "align_content": null,
            "visibility": null,
            "align_self": null,
            "height": null,
            "min_height": null,
            "padding": null,
            "grid_auto_rows": null,
            "grid_gap": null,
            "max_width": null,
            "order": null,
            "_view_module_version": "1.2.0",
            "grid_template_areas": null,
            "object_position": null,
            "object_fit": null,
            "grid_auto_columns": null,
            "margin": null,
            "display": null,
            "left": null
          }
        },
        "6d713a2b87f9465b96ff8763b1487e24": {
          "model_module": "@jupyter-widgets/controls",
          "model_name": "FloatProgressModel",
          "state": {
            "_view_name": "ProgressView",
            "style": "IPY_MODEL_7066f3c5a07c47d0a7571d6bf61b32f6",
            "_dom_classes": [],
            "description": "",
            "_model_name": "FloatProgressModel",
            "bar_style": "success",
            "max": 29515,
            "_view_module": "@jupyter-widgets/controls",
            "_model_module_version": "1.5.0",
            "value": 29515,
            "_view_count": null,
            "_view_module_version": "1.5.0",
            "orientation": "horizontal",
            "min": 0,
            "description_tooltip": null,
            "_model_module": "@jupyter-widgets/controls",
            "layout": "IPY_MODEL_6f0501fc4b004a668a2e9664ced43885"
          }
        },
        "425bdc8968814bd2814097080c946a2e": {
          "model_module": "@jupyter-widgets/controls",
          "model_name": "HTMLModel",
          "state": {
            "_view_name": "HTMLView",
            "style": "IPY_MODEL_7c006a2a336742cfadc79c37d93190fe",
            "_dom_classes": [],
            "description": "",
            "_model_name": "HTMLModel",
            "placeholder": "​",
            "_view_module": "@jupyter-widgets/controls",
            "_model_module_version": "1.5.0",
            "value": " 29696/? [00:01&lt;00:00, 16669.27it/s]",
            "_view_count": null,
            "_view_module_version": "1.5.0",
            "description_tooltip": null,
            "_model_module": "@jupyter-widgets/controls",
            "layout": "IPY_MODEL_820d9f38d67d42e6a4b95fe6134d875d"
          }
        },
        "7066f3c5a07c47d0a7571d6bf61b32f6": {
          "model_module": "@jupyter-widgets/controls",
          "model_name": "ProgressStyleModel",
          "state": {
            "_view_name": "StyleView",
            "_model_name": "ProgressStyleModel",
            "description_width": "initial",
            "_view_module": "@jupyter-widgets/base",
            "_model_module_version": "1.5.0",
            "_view_count": null,
            "_view_module_version": "1.2.0",
            "bar_color": null,
            "_model_module": "@jupyter-widgets/controls"
          }
        },
        "6f0501fc4b004a668a2e9664ced43885": {
          "model_module": "@jupyter-widgets/base",
          "model_name": "LayoutModel",
          "state": {
            "_view_name": "LayoutView",
            "grid_template_rows": null,
            "right": null,
            "justify_content": null,
            "_view_module": "@jupyter-widgets/base",
            "overflow": null,
            "_model_module_version": "1.2.0",
            "_view_count": null,
            "flex_flow": null,
            "width": null,
            "min_width": null,
            "border": null,
            "align_items": null,
            "bottom": null,
            "_model_module": "@jupyter-widgets/base",
            "top": null,
            "grid_column": null,
            "overflow_y": null,
            "overflow_x": null,
            "grid_auto_flow": null,
            "grid_area": null,
            "grid_template_columns": null,
            "flex": null,
            "_model_name": "LayoutModel",
            "justify_items": null,
            "grid_row": null,
            "max_height": null,
            "align_content": null,
            "visibility": null,
            "align_self": null,
            "height": null,
            "min_height": null,
            "padding": null,
            "grid_auto_rows": null,
            "grid_gap": null,
            "max_width": null,
            "order": null,
            "_view_module_version": "1.2.0",
            "grid_template_areas": null,
            "object_position": null,
            "object_fit": null,
            "grid_auto_columns": null,
            "margin": null,
            "display": null,
            "left": null
          }
        },
        "7c006a2a336742cfadc79c37d93190fe": {
          "model_module": "@jupyter-widgets/controls",
          "model_name": "DescriptionStyleModel",
          "state": {
            "_view_name": "StyleView",
            "_model_name": "DescriptionStyleModel",
            "description_width": "",
            "_view_module": "@jupyter-widgets/base",
            "_model_module_version": "1.5.0",
            "_view_count": null,
            "_view_module_version": "1.2.0",
            "_model_module": "@jupyter-widgets/controls"
          }
        },
        "820d9f38d67d42e6a4b95fe6134d875d": {
          "model_module": "@jupyter-widgets/base",
          "model_name": "LayoutModel",
          "state": {
            "_view_name": "LayoutView",
            "grid_template_rows": null,
            "right": null,
            "justify_content": null,
            "_view_module": "@jupyter-widgets/base",
            "overflow": null,
            "_model_module_version": "1.2.0",
            "_view_count": null,
            "flex_flow": null,
            "width": null,
            "min_width": null,
            "border": null,
            "align_items": null,
            "bottom": null,
            "_model_module": "@jupyter-widgets/base",
            "top": null,
            "grid_column": null,
            "overflow_y": null,
            "overflow_x": null,
            "grid_auto_flow": null,
            "grid_area": null,
            "grid_template_columns": null,
            "flex": null,
            "_model_name": "LayoutModel",
            "justify_items": null,
            "grid_row": null,
            "max_height": null,
            "align_content": null,
            "visibility": null,
            "align_self": null,
            "height": null,
            "min_height": null,
            "padding": null,
            "grid_auto_rows": null,
            "grid_gap": null,
            "max_width": null,
            "order": null,
            "_view_module_version": "1.2.0",
            "grid_template_areas": null,
            "object_position": null,
            "object_fit": null,
            "grid_auto_columns": null,
            "margin": null,
            "display": null,
            "left": null
          }
        },
        "13c3aa3d7c404fb88e60d0b52c5f5ce8": {
          "model_module": "@jupyter-widgets/controls",
          "model_name": "HBoxModel",
          "state": {
            "_view_name": "HBoxView",
            "_dom_classes": [],
            "_model_name": "HBoxModel",
            "_view_module": "@jupyter-widgets/controls",
            "_model_module_version": "1.5.0",
            "_view_count": null,
            "_view_module_version": "1.5.0",
            "box_style": "",
            "layout": "IPY_MODEL_086944ea08de4f69a498e24190b7dece",
            "_model_module": "@jupyter-widgets/controls",
            "children": [
              "IPY_MODEL_e603379aa85b43ce80b9f54c9348ecc5",
              "IPY_MODEL_bcfb90a7a0f84952ae7cb679e8eb8d4d"
            ]
          }
        },
        "086944ea08de4f69a498e24190b7dece": {
          "model_module": "@jupyter-widgets/base",
          "model_name": "LayoutModel",
          "state": {
            "_view_name": "LayoutView",
            "grid_template_rows": null,
            "right": null,
            "justify_content": null,
            "_view_module": "@jupyter-widgets/base",
            "overflow": null,
            "_model_module_version": "1.2.0",
            "_view_count": null,
            "flex_flow": null,
            "width": null,
            "min_width": null,
            "border": null,
            "align_items": null,
            "bottom": null,
            "_model_module": "@jupyter-widgets/base",
            "top": null,
            "grid_column": null,
            "overflow_y": null,
            "overflow_x": null,
            "grid_auto_flow": null,
            "grid_area": null,
            "grid_template_columns": null,
            "flex": null,
            "_model_name": "LayoutModel",
            "justify_items": null,
            "grid_row": null,
            "max_height": null,
            "align_content": null,
            "visibility": null,
            "align_self": null,
            "height": null,
            "min_height": null,
            "padding": null,
            "grid_auto_rows": null,
            "grid_gap": null,
            "max_width": null,
            "order": null,
            "_view_module_version": "1.2.0",
            "grid_template_areas": null,
            "object_position": null,
            "object_fit": null,
            "grid_auto_columns": null,
            "margin": null,
            "display": null,
            "left": null
          }
        },
        "e603379aa85b43ce80b9f54c9348ecc5": {
          "model_module": "@jupyter-widgets/controls",
          "model_name": "FloatProgressModel",
          "state": {
            "_view_name": "ProgressView",
            "style": "IPY_MODEL_92b4e43b2bb243b892dc945ad309b6b3",
            "_dom_classes": [],
            "description": "",
            "_model_name": "FloatProgressModel",
            "bar_style": "success",
            "max": 4422102,
            "_view_module": "@jupyter-widgets/controls",
            "_model_module_version": "1.5.0",
            "value": 4422102,
            "_view_count": null,
            "_view_module_version": "1.5.0",
            "orientation": "horizontal",
            "min": 0,
            "description_tooltip": null,
            "_model_module": "@jupyter-widgets/controls",
            "layout": "IPY_MODEL_56207b57ee2548ca910ff0c08a0f9d97"
          }
        },
        "bcfb90a7a0f84952ae7cb679e8eb8d4d": {
          "model_module": "@jupyter-widgets/controls",
          "model_name": "HTMLModel",
          "state": {
            "_view_name": "HTMLView",
            "style": "IPY_MODEL_56f2343759c04cf29838021695396766",
            "_dom_classes": [],
            "description": "",
            "_model_name": "HTMLModel",
            "placeholder": "​",
            "_view_module": "@jupyter-widgets/controls",
            "_model_module_version": "1.5.0",
            "value": " 4422656/? [00:01&lt;00:00, 3508928.35it/s]",
            "_view_count": null,
            "_view_module_version": "1.5.0",
            "description_tooltip": null,
            "_model_module": "@jupyter-widgets/controls",
            "layout": "IPY_MODEL_1d449c6104784e898dae08427f0dd2c0"
          }
        },
        "92b4e43b2bb243b892dc945ad309b6b3": {
          "model_module": "@jupyter-widgets/controls",
          "model_name": "ProgressStyleModel",
          "state": {
            "_view_name": "StyleView",
            "_model_name": "ProgressStyleModel",
            "description_width": "initial",
            "_view_module": "@jupyter-widgets/base",
            "_model_module_version": "1.5.0",
            "_view_count": null,
            "_view_module_version": "1.2.0",
            "bar_color": null,
            "_model_module": "@jupyter-widgets/controls"
          }
        },
        "56207b57ee2548ca910ff0c08a0f9d97": {
          "model_module": "@jupyter-widgets/base",
          "model_name": "LayoutModel",
          "state": {
            "_view_name": "LayoutView",
            "grid_template_rows": null,
            "right": null,
            "justify_content": null,
            "_view_module": "@jupyter-widgets/base",
            "overflow": null,
            "_model_module_version": "1.2.0",
            "_view_count": null,
            "flex_flow": null,
            "width": null,
            "min_width": null,
            "border": null,
            "align_items": null,
            "bottom": null,
            "_model_module": "@jupyter-widgets/base",
            "top": null,
            "grid_column": null,
            "overflow_y": null,
            "overflow_x": null,
            "grid_auto_flow": null,
            "grid_area": null,
            "grid_template_columns": null,
            "flex": null,
            "_model_name": "LayoutModel",
            "justify_items": null,
            "grid_row": null,
            "max_height": null,
            "align_content": null,
            "visibility": null,
            "align_self": null,
            "height": null,
            "min_height": null,
            "padding": null,
            "grid_auto_rows": null,
            "grid_gap": null,
            "max_width": null,
            "order": null,
            "_view_module_version": "1.2.0",
            "grid_template_areas": null,
            "object_position": null,
            "object_fit": null,
            "grid_auto_columns": null,
            "margin": null,
            "display": null,
            "left": null
          }
        },
        "56f2343759c04cf29838021695396766": {
          "model_module": "@jupyter-widgets/controls",
          "model_name": "DescriptionStyleModel",
          "state": {
            "_view_name": "StyleView",
            "_model_name": "DescriptionStyleModel",
            "description_width": "",
            "_view_module": "@jupyter-widgets/base",
            "_model_module_version": "1.5.0",
            "_view_count": null,
            "_view_module_version": "1.2.0",
            "_model_module": "@jupyter-widgets/controls"
          }
        },
        "1d449c6104784e898dae08427f0dd2c0": {
          "model_module": "@jupyter-widgets/base",
          "model_name": "LayoutModel",
          "state": {
            "_view_name": "LayoutView",
            "grid_template_rows": null,
            "right": null,
            "justify_content": null,
            "_view_module": "@jupyter-widgets/base",
            "overflow": null,
            "_model_module_version": "1.2.0",
            "_view_count": null,
            "flex_flow": null,
            "width": null,
            "min_width": null,
            "border": null,
            "align_items": null,
            "bottom": null,
            "_model_module": "@jupyter-widgets/base",
            "top": null,
            "grid_column": null,
            "overflow_y": null,
            "overflow_x": null,
            "grid_auto_flow": null,
            "grid_area": null,
            "grid_template_columns": null,
            "flex": null,
            "_model_name": "LayoutModel",
            "justify_items": null,
            "grid_row": null,
            "max_height": null,
            "align_content": null,
            "visibility": null,
            "align_self": null,
            "height": null,
            "min_height": null,
            "padding": null,
            "grid_auto_rows": null,
            "grid_gap": null,
            "max_width": null,
            "order": null,
            "_view_module_version": "1.2.0",
            "grid_template_areas": null,
            "object_position": null,
            "object_fit": null,
            "grid_auto_columns": null,
            "margin": null,
            "display": null,
            "left": null
          }
        },
        "4408d73c145c4fd6b8b1153d37bd3225": {
          "model_module": "@jupyter-widgets/controls",
          "model_name": "HBoxModel",
          "state": {
            "_view_name": "HBoxView",
            "_dom_classes": [],
            "_model_name": "HBoxModel",
            "_view_module": "@jupyter-widgets/controls",
            "_model_module_version": "1.5.0",
            "_view_count": null,
            "_view_module_version": "1.5.0",
            "box_style": "",
            "layout": "IPY_MODEL_799d24a120d54ed7be69f5f3546dfcce",
            "_model_module": "@jupyter-widgets/controls",
            "children": [
              "IPY_MODEL_38de1c93149244349f9975aa909c670a",
              "IPY_MODEL_506759461ad44544af68158311a39b1e"
            ]
          }
        },
        "799d24a120d54ed7be69f5f3546dfcce": {
          "model_module": "@jupyter-widgets/base",
          "model_name": "LayoutModel",
          "state": {
            "_view_name": "LayoutView",
            "grid_template_rows": null,
            "right": null,
            "justify_content": null,
            "_view_module": "@jupyter-widgets/base",
            "overflow": null,
            "_model_module_version": "1.2.0",
            "_view_count": null,
            "flex_flow": null,
            "width": null,
            "min_width": null,
            "border": null,
            "align_items": null,
            "bottom": null,
            "_model_module": "@jupyter-widgets/base",
            "top": null,
            "grid_column": null,
            "overflow_y": null,
            "overflow_x": null,
            "grid_auto_flow": null,
            "grid_area": null,
            "grid_template_columns": null,
            "flex": null,
            "_model_name": "LayoutModel",
            "justify_items": null,
            "grid_row": null,
            "max_height": null,
            "align_content": null,
            "visibility": null,
            "align_self": null,
            "height": null,
            "min_height": null,
            "padding": null,
            "grid_auto_rows": null,
            "grid_gap": null,
            "max_width": null,
            "order": null,
            "_view_module_version": "1.2.0",
            "grid_template_areas": null,
            "object_position": null,
            "object_fit": null,
            "grid_auto_columns": null,
            "margin": null,
            "display": null,
            "left": null
          }
        },
        "38de1c93149244349f9975aa909c670a": {
          "model_module": "@jupyter-widgets/controls",
          "model_name": "FloatProgressModel",
          "state": {
            "_view_name": "ProgressView",
            "style": "IPY_MODEL_e3e4a846b89f44e68c56dfc10fbfe18c",
            "_dom_classes": [],
            "description": "",
            "_model_name": "FloatProgressModel",
            "bar_style": "success",
            "max": 5148,
            "_view_module": "@jupyter-widgets/controls",
            "_model_module_version": "1.5.0",
            "value": 5148,
            "_view_count": null,
            "_view_module_version": "1.5.0",
            "orientation": "horizontal",
            "min": 0,
            "description_tooltip": null,
            "_model_module": "@jupyter-widgets/controls",
            "layout": "IPY_MODEL_b68990ebb6d14fad87c480f24305266d"
          }
        },
        "506759461ad44544af68158311a39b1e": {
          "model_module": "@jupyter-widgets/controls",
          "model_name": "HTMLModel",
          "state": {
            "_view_name": "HTMLView",
            "style": "IPY_MODEL_43fb12a4811741bd9261edab5ac01834",
            "_dom_classes": [],
            "description": "",
            "_model_name": "HTMLModel",
            "placeholder": "​",
            "_view_module": "@jupyter-widgets/controls",
            "_model_module_version": "1.5.0",
            "value": " 6144/? [00:00&lt;00:00, 10477.03it/s]",
            "_view_count": null,
            "_view_module_version": "1.5.0",
            "description_tooltip": null,
            "_model_module": "@jupyter-widgets/controls",
            "layout": "IPY_MODEL_597c990ead0049a28fd4621c051d852f"
          }
        },
        "e3e4a846b89f44e68c56dfc10fbfe18c": {
          "model_module": "@jupyter-widgets/controls",
          "model_name": "ProgressStyleModel",
          "state": {
            "_view_name": "StyleView",
            "_model_name": "ProgressStyleModel",
            "description_width": "initial",
            "_view_module": "@jupyter-widgets/base",
            "_model_module_version": "1.5.0",
            "_view_count": null,
            "_view_module_version": "1.2.0",
            "bar_color": null,
            "_model_module": "@jupyter-widgets/controls"
          }
        },
        "b68990ebb6d14fad87c480f24305266d": {
          "model_module": "@jupyter-widgets/base",
          "model_name": "LayoutModel",
          "state": {
            "_view_name": "LayoutView",
            "grid_template_rows": null,
            "right": null,
            "justify_content": null,
            "_view_module": "@jupyter-widgets/base",
            "overflow": null,
            "_model_module_version": "1.2.0",
            "_view_count": null,
            "flex_flow": null,
            "width": null,
            "min_width": null,
            "border": null,
            "align_items": null,
            "bottom": null,
            "_model_module": "@jupyter-widgets/base",
            "top": null,
            "grid_column": null,
            "overflow_y": null,
            "overflow_x": null,
            "grid_auto_flow": null,
            "grid_area": null,
            "grid_template_columns": null,
            "flex": null,
            "_model_name": "LayoutModel",
            "justify_items": null,
            "grid_row": null,
            "max_height": null,
            "align_content": null,
            "visibility": null,
            "align_self": null,
            "height": null,
            "min_height": null,
            "padding": null,
            "grid_auto_rows": null,
            "grid_gap": null,
            "max_width": null,
            "order": null,
            "_view_module_version": "1.2.0",
            "grid_template_areas": null,
            "object_position": null,
            "object_fit": null,
            "grid_auto_columns": null,
            "margin": null,
            "display": null,
            "left": null
          }
        },
        "43fb12a4811741bd9261edab5ac01834": {
          "model_module": "@jupyter-widgets/controls",
          "model_name": "DescriptionStyleModel",
          "state": {
            "_view_name": "StyleView",
            "_model_name": "DescriptionStyleModel",
            "description_width": "",
            "_view_module": "@jupyter-widgets/base",
            "_model_module_version": "1.5.0",
            "_view_count": null,
            "_view_module_version": "1.2.0",
            "_model_module": "@jupyter-widgets/controls"
          }
        },
        "597c990ead0049a28fd4621c051d852f": {
          "model_module": "@jupyter-widgets/base",
          "model_name": "LayoutModel",
          "state": {
            "_view_name": "LayoutView",
            "grid_template_rows": null,
            "right": null,
            "justify_content": null,
            "_view_module": "@jupyter-widgets/base",
            "overflow": null,
            "_model_module_version": "1.2.0",
            "_view_count": null,
            "flex_flow": null,
            "width": null,
            "min_width": null,
            "border": null,
            "align_items": null,
            "bottom": null,
            "_model_module": "@jupyter-widgets/base",
            "top": null,
            "grid_column": null,
            "overflow_y": null,
            "overflow_x": null,
            "grid_auto_flow": null,
            "grid_area": null,
            "grid_template_columns": null,
            "flex": null,
            "_model_name": "LayoutModel",
            "justify_items": null,
            "grid_row": null,
            "max_height": null,
            "align_content": null,
            "visibility": null,
            "align_self": null,
            "height": null,
            "min_height": null,
            "padding": null,
            "grid_auto_rows": null,
            "grid_gap": null,
            "max_width": null,
            "order": null,
            "_view_module_version": "1.2.0",
            "grid_template_areas": null,
            "object_position": null,
            "object_fit": null,
            "grid_auto_columns": null,
            "margin": null,
            "display": null,
            "left": null
          }
        }
      }
    }
  },
  "cells": [
    {
      "cell_type": "markdown",
      "metadata": {
        "id": "6df5bbb9"
      },
      "source": [
        "# 4 FMSSVRC\n",
        "__Fashion-MNIST Small Scale Visual Recognition Challenge__"
      ],
      "id": "6df5bbb9"
    },
    {
      "cell_type": "markdown",
      "metadata": {
        "id": "a96c3b51"
      },
      "source": [
        "We want to write a powerful model that can make accurate predictions and correctly classify different pieces of clothing.\n",
        "\n",
        "Most of the code is already written, including a deep neural network model.\n",
        "However, the performance of said model is subpar. It is your task to complete indicated functions and cells, so that you can train the model. Further, you should change and tweak the model as well as hyperparameters to create a well performing model. You can aim for accuracies in the high 80ies!\n",
        "\n",
        "Experiment around with architecture choices and different hyperparamters. The lecture slides and PyTorch give you a good overview of what is possible. Keep in mind, though, that blindly copy-pasting code from other sources without proper referencing and consent can be seen as plagiarism."
      ],
      "id": "a96c3b51"
    },
    {
      "cell_type": "markdown",
      "metadata": {
        "id": "5c9b0f04"
      },
      "source": [
        "The quality of your model is evaluated on the test data set. Continously optimising your model according to the performance on the test data set is bad scientific practice. Ideally, the evaluation on the test data should happen  just once, when you are confident that you have trained your model to the best of your knowledge. While tweaking your model, you may evaluate its quality on a validation set of the data."
      ],
      "id": "5c9b0f04"
    },
    {
      "cell_type": "markdown",
      "metadata": {
        "id": "cbde7102"
      },
      "source": [
        "You are not allowed to change arbitrary code of the notebook. Instead, functions, variables etc. which you can change, will be indicated explicitely (see __Task__ keyword).\n",
        "Please leave the seeds intact!"
      ],
      "id": "cbde7102"
    },
    {
      "cell_type": "markdown",
      "metadata": {
        "id": "92ffe4d0"
      },
      "source": [
        "## 4.1 Installing PyTorch"
      ],
      "id": "92ffe4d0"
    },
    {
      "cell_type": "code",
      "metadata": {
        "id": "2e699a61",
        "colab": {
          "base_uri": "https://localhost:8080/"
        },
        "outputId": "995264b0-bee0-46b9-95b2-85370a5c9f3f"
      },
      "source": [
        "!pip install torch torchvision\n"
      ],
      "id": "2e699a61",
      "execution_count": 1,
      "outputs": [
        {
          "output_type": "stream",
          "text": [
            "Requirement already satisfied: torch in /usr/local/lib/python3.7/dist-packages (1.8.1+cu101)\n",
            "Requirement already satisfied: torchvision in /usr/local/lib/python3.7/dist-packages (0.9.1+cu101)\n",
            "Requirement already satisfied: numpy in /usr/local/lib/python3.7/dist-packages (from torch) (1.19.5)\n",
            "Requirement already satisfied: typing-extensions in /usr/local/lib/python3.7/dist-packages (from torch) (3.7.4.3)\n",
            "Requirement already satisfied: pillow>=4.1.1 in /usr/local/lib/python3.7/dist-packages (from torchvision) (7.1.2)\n"
          ],
          "name": "stdout"
        }
      ]
    },
    {
      "cell_type": "code",
      "metadata": {
        "id": "7390d495"
      },
      "source": [
        "import torch\n",
        "import torch.nn as nn\n",
        "import torchvision\n",
        "torch.manual_seed(42)\n",
        "import matplotlib.pyplot as plt\n",
        "import numpy as np"
      ],
      "id": "7390d495",
      "execution_count": 2,
      "outputs": []
    },
    {
      "cell_type": "markdown",
      "metadata": {
        "id": "23e8d6f1"
      },
      "source": [
        "## 4.2 Obtaining the dataset\n",
        "We are going to use the [Fashion-MNIST](https://arxiv.org/abs/1708.07747) dataset, which is a more difficult alternative to the standard MNIST dataset."
      ],
      "id": "23e8d6f1"
    },
    {
      "cell_type": "code",
      "metadata": {
        "scrolled": true,
        "id": "7f466806",
        "colab": {
          "base_uri": "https://localhost:8080/",
          "height": 568,
          "referenced_widgets": [
            "ffe39c586c334b89a88e377e776a89ed",
            "efec605929064e8484697d0cc76bfa2a",
            "a49b92ec38194319a1d4a97beb9d20bd",
            "990b3307a9c54cb5ae038d08bae7a147",
            "257cb2a75a9a4845bb9b95c74efe74b4",
            "269d12f2a77949a7b24f637d0d13a024",
            "2fc67e9d0a614b83a26024f81c43dd16",
            "fd06e71e3aa94152a1725577f194a470",
            "ca605c5ac83841c0af0b800fe2f1e072",
            "45d8efa5329643b681f8c765c84b3ca1",
            "6d713a2b87f9465b96ff8763b1487e24",
            "425bdc8968814bd2814097080c946a2e",
            "7066f3c5a07c47d0a7571d6bf61b32f6",
            "6f0501fc4b004a668a2e9664ced43885",
            "7c006a2a336742cfadc79c37d93190fe",
            "820d9f38d67d42e6a4b95fe6134d875d",
            "13c3aa3d7c404fb88e60d0b52c5f5ce8",
            "086944ea08de4f69a498e24190b7dece",
            "e603379aa85b43ce80b9f54c9348ecc5",
            "bcfb90a7a0f84952ae7cb679e8eb8d4d",
            "92b4e43b2bb243b892dc945ad309b6b3",
            "56207b57ee2548ca910ff0c08a0f9d97",
            "56f2343759c04cf29838021695396766",
            "1d449c6104784e898dae08427f0dd2c0",
            "4408d73c145c4fd6b8b1153d37bd3225",
            "799d24a120d54ed7be69f5f3546dfcce",
            "38de1c93149244349f9975aa909c670a",
            "506759461ad44544af68158311a39b1e",
            "e3e4a846b89f44e68c56dfc10fbfe18c",
            "b68990ebb6d14fad87c480f24305266d",
            "43fb12a4811741bd9261edab5ac01834",
            "597c990ead0049a28fd4621c051d852f"
          ]
        },
        "outputId": "0e0cd1b7-2364-49fb-f1ec-5d6d7aca4340"
      },
      "source": [
        "# if, for some reason, you are not using a UNIX-based operating system, \\\n",
        "# you might need to adjust the path arguments\n",
        "trainset = torchvision.datasets.FashionMNIST(root='./data', train=True,\n",
        "                                        download=True, transform=torchvision.transforms.ToTensor())\n",
        "testset = torchvision.datasets.FashionMNIST(root='./data', train=False,\n",
        "                                       download=True, transform=torchvision.transforms.ToTensor())\n",
        "label_names = {0:\"T-shirt/top\", 1:\"Trouser\", 2:\"Pullover\", 3:\"Dress\",\n",
        "               4:\"Coat\", 5:\"Sandal\", 6:\"Shirt\", 7:\"Sneaker\", 8:\"Bag\", \n",
        "               9:\"Ankle boot\"}\n",
        "\n"
      ],
      "id": "7f466806",
      "execution_count": 3,
      "outputs": [
        {
          "output_type": "stream",
          "text": [
            "Downloading http://fashion-mnist.s3-website.eu-central-1.amazonaws.com/train-images-idx3-ubyte.gz\n",
            "Downloading http://fashion-mnist.s3-website.eu-central-1.amazonaws.com/train-images-idx3-ubyte.gz to ./data/FashionMNIST/raw/train-images-idx3-ubyte.gz\n"
          ],
          "name": "stdout"
        },
        {
          "output_type": "display_data",
          "data": {
            "application/vnd.jupyter.widget-view+json": {
              "model_id": "ffe39c586c334b89a88e377e776a89ed",
              "version_minor": 0,
              "version_major": 2
            },
            "text/plain": [
              "HBox(children=(FloatProgress(value=0.0, max=26421880.0), HTML(value='')))"
            ]
          },
          "metadata": {
            "tags": []
          }
        },
        {
          "output_type": "stream",
          "text": [
            "\n",
            "Extracting ./data/FashionMNIST/raw/train-images-idx3-ubyte.gz to ./data/FashionMNIST/raw\n",
            "\n",
            "Downloading http://fashion-mnist.s3-website.eu-central-1.amazonaws.com/train-labels-idx1-ubyte.gz\n",
            "Downloading http://fashion-mnist.s3-website.eu-central-1.amazonaws.com/train-labels-idx1-ubyte.gz to ./data/FashionMNIST/raw/train-labels-idx1-ubyte.gz\n"
          ],
          "name": "stdout"
        },
        {
          "output_type": "display_data",
          "data": {
            "application/vnd.jupyter.widget-view+json": {
              "model_id": "ca605c5ac83841c0af0b800fe2f1e072",
              "version_minor": 0,
              "version_major": 2
            },
            "text/plain": [
              "HBox(children=(FloatProgress(value=0.0, max=29515.0), HTML(value='')))"
            ]
          },
          "metadata": {
            "tags": []
          }
        },
        {
          "output_type": "stream",
          "text": [
            "\n",
            "Extracting ./data/FashionMNIST/raw/train-labels-idx1-ubyte.gz to ./data/FashionMNIST/raw\n",
            "\n",
            "Downloading http://fashion-mnist.s3-website.eu-central-1.amazonaws.com/t10k-images-idx3-ubyte.gz\n",
            "Downloading http://fashion-mnist.s3-website.eu-central-1.amazonaws.com/t10k-images-idx3-ubyte.gz to ./data/FashionMNIST/raw/t10k-images-idx3-ubyte.gz\n"
          ],
          "name": "stdout"
        },
        {
          "output_type": "display_data",
          "data": {
            "application/vnd.jupyter.widget-view+json": {
              "model_id": "13c3aa3d7c404fb88e60d0b52c5f5ce8",
              "version_minor": 0,
              "version_major": 2
            },
            "text/plain": [
              "HBox(children=(FloatProgress(value=0.0, max=4422102.0), HTML(value='')))"
            ]
          },
          "metadata": {
            "tags": []
          }
        },
        {
          "output_type": "stream",
          "text": [
            "\n",
            "Extracting ./data/FashionMNIST/raw/t10k-images-idx3-ubyte.gz to ./data/FashionMNIST/raw\n",
            "\n",
            "Downloading http://fashion-mnist.s3-website.eu-central-1.amazonaws.com/t10k-labels-idx1-ubyte.gz\n",
            "Downloading http://fashion-mnist.s3-website.eu-central-1.amazonaws.com/t10k-labels-idx1-ubyte.gz to ./data/FashionMNIST/raw/t10k-labels-idx1-ubyte.gz\n"
          ],
          "name": "stdout"
        },
        {
          "output_type": "display_data",
          "data": {
            "application/vnd.jupyter.widget-view+json": {
              "model_id": "4408d73c145c4fd6b8b1153d37bd3225",
              "version_minor": 0,
              "version_major": 2
            },
            "text/plain": [
              "HBox(children=(FloatProgress(value=0.0, max=5148.0), HTML(value='')))"
            ]
          },
          "metadata": {
            "tags": []
          }
        },
        {
          "output_type": "stream",
          "text": [
            "\n",
            "Extracting ./data/FashionMNIST/raw/t10k-labels-idx1-ubyte.gz to ./data/FashionMNIST/raw\n",
            "\n",
            "Processing...\n",
            "Done!\n"
          ],
          "name": "stdout"
        },
        {
          "output_type": "stream",
          "text": [
            "/usr/local/lib/python3.7/dist-packages/torchvision/datasets/mnist.py:502: UserWarning: The given NumPy array is not writeable, and PyTorch does not support non-writeable tensors. This means you can write to the underlying (supposedly non-writeable) NumPy array using the tensor. You may want to copy the array to protect its data or make it writeable before converting it to a tensor. This type of warning will be suppressed for the rest of this program. (Triggered internally at  /pytorch/torch/csrc/utils/tensor_numpy.cpp:143.)\n",
            "  return torch.from_numpy(parsed.astype(m[2], copy=False)).view(*s)\n"
          ],
          "name": "stderr"
        }
      ]
    },
    {
      "cell_type": "markdown",
      "metadata": {
        "id": "0d3ebe17"
      },
      "source": [
        "### Task 4.2.1 Inspecting a sample from the data\n",
        "Choose a random sample from the training data, and:\n",
        "- print its shape\n",
        "- visualise the sample with an appropriate plot\n",
        "- print its label (or title the plot appropriately)"
      ],
      "id": "0d3ebe17"
    },
    {
      "cell_type": "code",
      "metadata": {
        "id": "94ef3006",
        "colab": {
          "base_uri": "https://localhost:8080/",
          "height": 314
        },
        "outputId": "903283b4-822e-4c53-c21a-ab1c581a5579"
      },
      "source": [
        "# sample inspection here\n",
        "a = next(iter(trainset))\n",
        "\n",
        "print(a[0].shape)\n",
        "plt.title(label_names[a[1]])\n",
        "plt.imshow(a[0].reshape(28,28))\n",
        "len(trainset)"
      ],
      "id": "94ef3006",
      "execution_count": 4,
      "outputs": [
        {
          "output_type": "stream",
          "text": [
            "torch.Size([1, 28, 28])\n"
          ],
          "name": "stdout"
        },
        {
          "output_type": "execute_result",
          "data": {
            "text/plain": [
              "60000"
            ]
          },
          "metadata": {
            "tags": []
          },
          "execution_count": 4
        },
        {
          "output_type": "display_data",
          "data": {
            "image/png": "[encoded data removed]",
            "text/plain": [
              "<Figure size 432x288 with 1 Axes>"
            ]
          },
          "metadata": {
            "tags": [],
            "needs_background": "light"
          }
        }
      ]
    },
    {
      "cell_type": "markdown",
      "metadata": {
        "id": "f0786fb6"
      },
      "source": [
        "### Task 4.2.2 Validation Split \n",
        "\n",
        "__YOU MAY EDIT PARTS OF THE NEXT CELL__\n",
        "\n",
        "In order to judge the quality of your training efforts, you might want to validate your model on a part of the data it has not seen yet. However, we cannot do that repeatedly on the test data set.\n",
        "\n",
        "Therefore, we can split off some data from our training data. Make a decision about the validation split! The more data you take off from the training set, the more accurate will your evaluation be. The less data you leave for actual training, the worse your model performance will be.\n",
        "\n",
        "_Hint:_ Currently, the validation size is 100, which seems a bit small."
      ],
      "id": "f0786fb6"
    },
    {
      "cell_type": "code",
      "metadata": {
        "id": "779e8770"
      },
      "source": [
        "\n",
        "\n",
        "validation_size = int(((len(trainset) / 100) * 5)) # set the size of your validation set\n",
        "trainset, valset = torch.utils.data.random_split(trainset, \n",
        "                                                 [len(trainset)-validation_size, validation_size], \n",
        "                                                 generator=torch.Generator().manual_seed(1337))"
      ],
      "id": "779e8770",
      "execution_count": 5,
      "outputs": []
    },
    {
      "cell_type": "markdown",
      "metadata": {
        "id": "1d1ad869"
      },
      "source": [
        "### 4.2.3 Torch DataLoader\n",
        "Now we can hand over our three datasets to the DataLoader class which brings a lot of convience to the training procedure. It can batch and shuffle our data.\n",
        "\n",
        "The batch size is set to 32 which is an appropriate value. You may change the batch_size for the trainloader, if you want.\n",
        "\n",
        "Shuffling is not needed for validation and testing because we are only running through the data once, anyway."
      ],
      "id": "1d1ad869"
    },
    {
      "cell_type": "code",
      "metadata": {
        "id": "4bfbc794"
      },
      "source": [
        "trainloader = torch.utils.data.DataLoader(trainset, batch_size=32,\n",
        "                                          shuffle=True)\n",
        "\n",
        "testloader = torch.utils.data.DataLoader(testset, batch_size=32,\n",
        "                                         shuffle=False)\n",
        "\n",
        "valloader = torch.utils.data.DataLoader(valset, batch_size=32,\n",
        "                                         shuffle=False)"
      ],
      "id": "4bfbc794",
      "execution_count": 6,
      "outputs": []
    },
    {
      "cell_type": "markdown",
      "metadata": {
        "id": "15fcdffa"
      },
      "source": [
        "## Task 4.3 Building a Model with torch.nn.Sequential\n",
        "__YOU MAY EDIT PARTS OF THE NEXT CELL__\n",
        "\n",
        "We are going to use [torch.nn.Sequential](https://pytorch.org/docs/stable/generated/torch.nn.Sequential.html) to build a multi-layer perceptron (not a CNN!).\n",
        "You can simply supply [layers and building blocks](https://pytorch.org/docs/stable/nn.html) as arguments to create your network architecture in a sequential way, i.e. the data will flow through the network in the order they are listed as arguments.\n",
        "\n",
        "Useful modules for MLPs are:\n",
        "- [Linear Layers](https://pytorch.org/docs/stable/generated/torch.nn.Linear.html#torch.nn.Linear)\n",
        "- [Activation Functions](https://pytorch.org/docs/stable/nn.html#non-linear-activations-weighted-sum-nonlinearity)\n",
        "- [Dropout Layers](https://pytorch.org/docs/stable/nn.html#dropout-layers)\n",
        "\n",
        "The input to the model is an image, which has to be flattened to a vector, so that it is represented as suitable input for the MLP.\n",
        "\n",
        "The output must be a vector of size 10 (according to our labels/classes).\n",
        "\n",
        "You are supplied with a model that does not perform too well. You are free to build a MLP of your choosing. Be aware, that larger networks will take more time to train!\n",
        "\n",
        "Tips for experimentation:\n",
        "- Layer sizes\n",
        "- Number of layers\n",
        "- Activation functions\n",
        "- Dropout\n",
        "\n",
        "_Hint:_ What is known in PyTorch as a linear layer refers to a fully connected or dense layer."
      ],
      "id": "15fcdffa"
    },
    {
      "cell_type": "code",
      "metadata": {
        "id": "42cd8e5f"
      },
      "source": [
        "model = nn.Sequential(nn.Flatten(),\n",
        "                      nn.Linear(28*28, 20),\n",
        "                      nn.ReLU(),\n",
        "                      nn.Linear(20, 20),\n",
        "                      nn.ReLU(),\n",
        "                      nn.Linear(20, 10),\n",
        "                      nn.ReLU()\n",
        "                      )"
      ],
      "id": "42cd8e5f",
      "execution_count": 7,
      "outputs": []
    },
    {
      "cell_type": "markdown",
      "metadata": {
        "id": "78380467"
      },
      "source": [
        "## 4.4 Training the model\n",
        "Now that we have a model architecture, we will need to specify a training procedure."
      ],
      "id": "78380467"
    },
    {
      "cell_type": "markdown",
      "metadata": {
        "id": "89c9a2b8"
      },
      "source": [
        "### Task 4.4.1 Choosing hyperparameters\n",
        "__YOU MAY EDIT PARTS OF THE NEXT CELL__\n",
        "\n",
        "A few parameters for the training process need to be predefined and are not learned via gradient descent or backprop. We refere to these as hyperparameters.\n",
        "\n",
        "In the following, you are presented with four of those that shape the training process and can have great influence on the trained models performance.\n",
        "\n",
        "The machine-learning practictioner who set up this notebook apparently did not pay full attention to the lecture and literature. Although all lead to a working model, the values of some are not chosen to the best of our knowledge."
      ],
      "id": "89c9a2b8"
    },
    {
      "cell_type": "code",
      "metadata": {
        "id": "f8969c81"
      },
      "source": [
        "learning_rate = 0.01\n",
        "loss = nn.CrossEntropyLoss()\n",
        "optimizer = torch.optim.SGD(model.parameters(), lr=learning_rate)\n",
        "epochs = 60"
      ],
      "id": "f8969c81",
      "execution_count": 8,
      "outputs": []
    },
    {
      "cell_type": "markdown",
      "metadata": {
        "id": "ddea12df"
      },
      "source": [
        "### 4.4.2 The train function\n",
        "This function trains your model for one epoch and keeps track of the correct/incorrect predictions.\n",
        "\n",
        "It takes a model, a dataloader, and optimizer and a loss function, trains the model for one epoch and returns the mean loss over the epoch as well as the accuracy."
      ],
      "id": "ddea12df"
    },
    {
      "cell_type": "code",
      "metadata": {
        "id": "b84f817f"
      },
      "source": [
        "def train(model, dataloader, optimizer, loss):\n",
        "    epoch_loss = []\n",
        "    model.train()\n",
        "    correct = 0\n",
        "    total = 0\n",
        "    for img, lbl in dataloader:\n",
        "        optimizer.zero_grad() \n",
        "        out = model(img) \n",
        "        logits, indices = torch.max(out, 1)\n",
        "        correct += torch.sum(indices == lbl).item()\n",
        "        total += len(lbl)\n",
        "        batch_loss = loss(out, lbl) \n",
        "        batch_loss.backward() \n",
        "        optimizer.step() \n",
        "        epoch_loss.append(batch_loss.item()) \n",
        "    return np.mean(epoch_loss), correct/total"
      ],
      "id": "b84f817f",
      "execution_count": 9,
      "outputs": []
    },
    {
      "cell_type": "markdown",
      "metadata": {
        "id": "bca68321"
      },
      "source": [
        "### 4.4.3 The validation function\n",
        "This function evaluations your model on specified data.\n",
        "\n",
        "It takes a model and a dataloader and returns the accuracy."
      ],
      "id": "bca68321"
    },
    {
      "cell_type": "code",
      "metadata": {
        "id": "01c879d8"
      },
      "source": [
        "def evaluate(model, dataloader):\n",
        "    model.eval()\n",
        "    correct = 0\n",
        "    total = 0\n",
        "    for img, lbl in dataloader:\n",
        "        out = model(img)\n",
        "        logits, indices = torch.max(out, 1)\n",
        "        correct += torch.sum(indices == lbl).item()\n",
        "        total += len(lbl)\n",
        "    return correct/total"
      ],
      "id": "01c879d8",
      "execution_count": 10,
      "outputs": []
    },
    {
      "cell_type": "markdown",
      "metadata": {
        "id": "65e2c6b9"
      },
      "source": [
        "### Task 4.4.4 The training loop\n",
        "Write the training loop for your model:\n",
        "- Call the train function for your model for the specified number of epochs. \n",
        "- For each epoch, keep track of the loss and the training accuracy.\n",
        "- You should also keep track of the validation accuracy, to judge the models actual performance on unseen data.\n",
        "- Store all values for visualisation purposes later on.\n",
        "\n",
        "Run your training loop! Depending on the size of your network architecture and the number of epochs, this might take a few minutes."
      ],
      "id": "65e2c6b9"
    },
    {
      "cell_type": "code",
      "metadata": {
        "scrolled": true,
        "id": "706fa46e",
        "colab": {
          "base_uri": "https://localhost:8080/"
        },
        "outputId": "e455cd8c-1293-4a70-c958-3091cedd459c"
      },
      "source": [
        "# training loop here\n",
        "performance = []\n",
        "validation_accuracy = []\n",
        "for epoch in range(epochs):\n",
        "    performance.append(train(model, trainloader, optimizer, loss))\n",
        "    validation_accuracy.append(evaluate(model, valloader))\n",
        "    if epoch % 10 == 0:\n",
        "        print('===Epoch {}===\\nloss: {} \\naccurarcy: {}'.format(epoch, performance[epoch][0], performance[epoch][1]))"
      ],
      "id": "706fa46e",
      "execution_count": 11,
      "outputs": [
        {
          "output_type": "stream",
          "text": [
            "===Epoch 0===\n",
            "loss: 1.6036633096560082 \n",
            "accurarcy: 0.47312280701754383\n",
            "===Epoch 10===\n",
            "loss: 0.6272950551183069 \n",
            "accurarcy: 0.7650526315789473\n",
            "===Epoch 20===\n",
            "loss: 0.5794731727168884 \n",
            "accurarcy: 0.7798070175438596\n",
            "===Epoch 30===\n",
            "loss: 0.33168482467925176 \n",
            "accurarcy: 0.8811578947368421\n",
            "===Epoch 40===\n",
            "loss: 0.30983896634001057 \n",
            "accurarcy: 0.8883684210526316\n",
            "===Epoch 50===\n",
            "loss: 0.2951521874069917 \n",
            "accurarcy: 0.8924210526315789\n"
          ],
          "name": "stdout"
        }
      ]
    },
    {
      "cell_type": "markdown",
      "metadata": {
        "id": "1a130c63"
      },
      "source": [
        "### Task 4.4.5 Visualise the training\n",
        "Visually inspecting the models behaviour over the training period can give insights on problems and performance issues.\n",
        "\n",
        "Plot:\n",
        "- the training loss and the training accuracy\n",
        "- the validation accuracy\n",
        "\n",
        "over the epochs."
      ],
      "id": "1a130c63"
    },
    {
      "cell_type": "code",
      "metadata": {
        "id": "81d29a3e",
        "colab": {
          "base_uri": "https://localhost:8080/",
          "height": 298
        },
        "outputId": "764718dc-9027-47b3-a4a6-4b6c3ef4b0de"
      },
      "source": [
        "# plot loss\n",
        "plt.plot(performance[0:])\n",
        "# print(performance)\n",
        "\n"
      ],
      "id": "81d29a3e",
      "execution_count": 12,
      "outputs": [
        {
          "output_type": "execute_result",
          "data": {
            "text/plain": [
              "[<matplotlib.lines.Line2D at 0x7f29e1682250>,\n",
              " <matplotlib.lines.Line2D at 0x7f29e1682490>]"
            ]
          },
          "metadata": {
            "tags": []
          },
          "execution_count": 12
        },
        {
          "output_type": "display_data",
          "data": {
            "image/png": "[encoded data removed]",
            "text/plain": [
              "<Figure size 432x288 with 1 Axes>"
            ]
          },
          "metadata": {
            "tags": [],
            "needs_background": "light"
          }
        }
      ]
    },
    {
      "cell_type": "code",
      "metadata": {
        "id": "6b02f989",
        "colab": {
          "base_uri": "https://localhost:8080/",
          "height": 282
        },
        "outputId": "bfdf7a81-1e05-4753-f46b-7077e16878e9"
      },
      "source": [
        "# plot acc\n",
        "\n",
        "plt.plot(validation_accuracy[0:])"
      ],
      "id": "6b02f989",
      "execution_count": 13,
      "outputs": [
        {
          "output_type": "execute_result",
          "data": {
            "text/plain": [
              "[<matplotlib.lines.Line2D at 0x7f29e1523910>]"
            ]
          },
          "metadata": {
            "tags": []
          },
          "execution_count": 13
        },
        {
          "output_type": "display_data",
          "data": {
            "image/png": "[encoded data removed]",
            "text/plain": [
              "<Figure size 432x288 with 1 Axes>"
            ]
          },
          "metadata": {
            "tags": [],
            "needs_background": "light"
          }
        }
      ]
    },
    {
      "cell_type": "markdown",
      "metadata": {
        "id": "4c3b95b0"
      },
      "source": [
        "## 4.5 Testing your model\n",
        "The following should only be executed once. If you are not satisfied with your model performance, go back a few steps and tune your model with different parameters or change the model architecture.\n",
        "\n",
        "If you are checking your model's performance on the test set and then tune it for better performance, you are essentially fitting your model to the test set. Your actual generalization capabilities will decrease."
      ],
      "id": "4c3b95b0"
    },
    {
      "cell_type": "code",
      "metadata": {
        "id": "27b6f224",
        "colab": {
          "base_uri": "https://localhost:8080/"
        },
        "outputId": "c66e3a08-82c9-4e07-8277-bc4cd71f3b5b"
      },
      "source": [
        "test_acc = evaluate(model, testloader)\n",
        "print(\"Your model correctly classified\", round(test_acc*100,2), \n",
        "      \"% of all samples.\")"
      ],
      "id": "27b6f224",
      "execution_count": 14,
      "outputs": [
        {
          "output_type": "stream",
          "text": [
            "Your model correctly classified 85.57 % of all samples.\n"
          ],
          "name": "stdout"
        }
      ]
    },
    {
      "cell_type": "markdown",
      "metadata": {
        "id": "eebfb140"
      },
      "source": [
        "### Task 4.5.1 Prediction capabilities of the model\n",
        "Although we now know the average prediction performance of the model on unseen data, not all data is as equally distributed as our training data. Some classes can be harder to predict, than others.\n",
        "\n",
        "Analyse your models performance on the different classes and plot the prediction accuracies on the test set over the 10 classes."
      ],
      "id": "eebfb140"
    },
    {
      "cell_type": "code",
      "metadata": {
        "id": "692b38b9",
        "colab": {
          "base_uri": "https://localhost:8080/",
          "height": 347
        },
        "outputId": "22839d5d-dbd2-4789-b9b2-2f717d66289e"
      },
      "source": [
        "\n",
        "img, label = next(iter(testloader))\n",
        "\n",
        "unique_labels = np.unique(label).size\n",
        "_, total_labels = np.unique(label, return_counts=True)\n",
        "\n",
        "# print('unique_test: {} \\ncounts: {}'.format(unique_test, counts))\n",
        "\n",
        "predictions = []\n",
        "pred_indices = []\n",
        "plot_arr = []\n",
        "\n",
        "confusion_matrix = np.zeros((unique_labels, unique_labels))\n",
        "\n",
        "for im in img:\n",
        "  out = model(im)\n",
        "  pred_indices.append(int(torch.max(out, 1)[0]))\n",
        "  predictions.append(int(torch.max(out, 1)[1]))\n",
        "\n",
        "# print(predictions)\n",
        "# print(label.tolist())\n",
        "\n",
        "prediction_index = [np.where(np.array(predictions) == item) for item in range(unique_labels)]\n",
        "target_index = [np.where(np.array(label) == item) for item in range(unique_labels)]\n",
        "\n",
        "for item in range(unique_labels):\n",
        "    for item2 in range(unique_labels):\n",
        "        confusion_matrix[item, item2] = np.sum([1 for index in prediction_index[item][0] for index2 in target_index[item2][0] if index == index2])\n",
        "        confusion_matrix[item, item2] = np.sum([1 for index in prediction_index[item][0] for index2 in target_index[item2][0] if index == index2])\n",
        "\n",
        "# print(confusion_matrix)\n",
        "\n",
        "for i in range(len(confusion_matrix)):\n",
        "    plot_arr.append(confusion_matrix[i,i])\n",
        "\n",
        "plot_arr = np.array(plot_arr) / total_labels\n",
        "plt.title('Prediction accuracy for each individual class')\n",
        "plt.xlabel('Label')\n",
        "plt.ylabel('Probability')\n",
        "\n",
        "plt.xticks(range(len(label_names)), list(label_names.values()), rotation=45)\n",
        "\n",
        "plt.bar(range(unique_labels), plot_arr,.2)\n"
      ],
      "id": "692b38b9",
      "execution_count": 15,
      "outputs": [
        {
          "output_type": "execute_result",
          "data": {
            "text/plain": [
              "<BarContainer object of 10 artists>"
            ]
          },
          "metadata": {
            "tags": []
          },
          "execution_count": 15
        },
        {
          "output_type": "display_data",
          "data": {
            "image/png": "[encoded data removed]",
            "text/plain": [
              "<Figure size 432x288 with 1 Axes>"
            ]
          },
          "metadata": {
            "tags": [],
            "needs_background": "light"
          }
        }
      ]
    },
    {
      "cell_type": "code",
      "metadata": {
        "id": "J0oQ0-cu_gff"
      },
      "source": [
        ""
      ],
      "id": "J0oQ0-cu_gff",
      "execution_count": 15,
      "outputs": []
    }
  ]
}