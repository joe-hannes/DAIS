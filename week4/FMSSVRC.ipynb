{
  "nbformat": 4,
  "nbformat_minor": 5,
  "metadata": {
    "kernelspec": {
      "display_name": "Python 3",
      "language": "python",
      "name": "python3"
    },
    "language_info": {
      "codemirror_mode": {
        "name": "ipython",
        "version": 3
      },
      "file_extension": ".py",
      "mimetype": "text/x-python",
      "name": "python",
      "nbconvert_exporter": "python",
      "pygments_lexer": "ipython3",
      "version": "3.8.9"
    },
    "colab": {
      "name": "FMSSVRC.ipynb",
      "provenance": []
    }
  },
  "cells": [
    {
      "cell_type": "markdown",
      "metadata": {
        "id": "6df5bbb9"
      },
      "source": [
        "# 4 FMSSVRC\n",
        "__Fashion-MNIST Small Scale Visual Recognition Challenge__"
      ],
      "id": "6df5bbb9"
    },
    {
      "cell_type": "markdown",
      "metadata": {
        "id": "a96c3b51"
      },
      "source": [
        "We want to write a powerful model that can make accurate predictions and correctly classify different pieces of clothing.\n",
        "\n",
        "Most of the code is already written, including a deep neural network model.\n",
        "However, the performance of said model is subpar. It is your task to complete indicated functions and cells, so that you can train the model. Further, you should change and tweak the model as well as hyperparameters to create a well performing model. You can aim for accuracies in the high 80ies!\n",
        "\n",
        "Experiment around with architecture choices and different hyperparamters. The lecture slides and PyTorch give you a good overview of what is possible. Keep in mind, though, that blindly copy-pasting code from other sources without proper referencing and consent can be seen as plagiarism."
      ],
      "id": "a96c3b51"
    },
    {
      "cell_type": "markdown",
      "metadata": {
        "id": "5c9b0f04"
      },
      "source": [
        "The quality of your model is evaluated on the test data set. Continously optimising your model according to the performance on the test data set is bad scientific practice. Ideally, the evaluation on the test data should happen  just once, when you are confident that you have trained your model to the best of your knowledge. While tweaking your model, you may evaluate its quality on a validation set of the data."
      ],
      "id": "5c9b0f04"
    },
    {
      "cell_type": "markdown",
      "metadata": {
        "id": "cbde7102"
      },
      "source": [
        "You are not allowed to change arbitrary code of the notebook. Instead, functions, variables etc. which you can change, will be indicated explicitely (see __Task__ keyword).\n",
        "Please leave the seeds intact!"
      ],
      "id": "cbde7102"
    },
    {
      "cell_type": "markdown",
      "metadata": {
        "id": "92ffe4d0"
      },
      "source": [
        "## 4.1 Installing PyTorch"
      ],
      "id": "92ffe4d0"
    },
    {
      "cell_type": "code",
      "metadata": {
        "id": "2e699a61",
        "colab": {
          "base_uri": "https://localhost:8080/"
        },
        "outputId": "45ec183d-e23b-46e1-a50c-2a989357d10d"
      },
      "source": [
        "!pip install torch torchvision\n"
      ],
      "id": "2e699a61",
      "execution_count": 1,
      "outputs": [
        {
          "output_type": "stream",
          "text": [
            "Requirement already satisfied: torch in /usr/local/lib/python3.7/dist-packages (1.8.1+cu101)\n",
            "Requirement already satisfied: torchvision in /usr/local/lib/python3.7/dist-packages (0.9.1+cu101)\n",
            "Requirement already satisfied: numpy in /usr/local/lib/python3.7/dist-packages (from torch) (1.19.5)\n",
            "Requirement already satisfied: typing-extensions in /usr/local/lib/python3.7/dist-packages (from torch) (3.7.4.3)\n",
            "Requirement already satisfied: pillow>=4.1.1 in /usr/local/lib/python3.7/dist-packages (from torchvision) (7.1.2)\n"
          ],
          "name": "stdout"
        }
      ]
    },
    {
      "cell_type": "code",
      "metadata": {
        "id": "7390d495"
      },
      "source": [
        "import torch\n",
        "import torch.nn as nn\n",
        "import torchvision\n",
        "torch.manual_seed(42)\n",
        "import matplotlib.pyplot as plt\n",
        "import numpy as np"
      ],
      "id": "7390d495",
      "execution_count": 2,
      "outputs": []
    },
    {
      "cell_type": "markdown",
      "metadata": {
        "id": "23e8d6f1"
      },
      "source": [
        "## 4.2 Obtaining the dataset\n",
        "We are going to use the [Fashion-MNIST](https://arxiv.org/abs/1708.07747) dataset, which is a more difficult alternative to the standard MNIST dataset."
      ],
      "id": "23e8d6f1"
    },
    {
      "cell_type": "code",
      "metadata": {
        "scrolled": true,
        "id": "7f466806",
        "colab": {
          "base_uri": "https://localhost:8080/"
        },
        "outputId": "d369d8bc-66f9-4993-f4ee-84a9a6236c95"
      },
      "source": [
        "# if, for some reason, you are not using a UNIX-based operating system, \\\n",
        "# you might need to adjust the path arguments\n",
        "trainset = torchvision.datasets.FashionMNIST(root='./data', train=True,\n",
        "                                        download=True, transform=torchvision.transforms.ToTensor())\n",
        "testset = torchvision.datasets.FashionMNIST(root='./data', train=False,\n",
        "                                       download=True, transform=torchvision.transforms.ToTensor())\n",
        "label_names = {0:\"T-shirt/top\", 1:\"Trouser\", 2:\"Pullover\", 3:\"Dress\",\n",
        "               4:\"Coat\", 5:\"Sandal\", 6:\"Shirt\", 7:\"Sneaker\", 8:\"Bag\", \n",
        "               9:\"Ankle boot\"}\n",
        "\n"
      ],
      "id": "7f466806",
      "execution_count": 109,
      "outputs": [
        {
          "output_type": "execute_result",
          "data": {
            "text/plain": [
              "10"
            ]
          },
          "metadata": {
            "tags": []
          },
          "execution_count": 109
        }
      ]
    },
    {
      "cell_type": "markdown",
      "metadata": {
        "id": "0d3ebe17"
      },
      "source": [
        "### Task 4.2.1 Inspecting a sample from the data\n",
        "Choose a random sample from the training data, and:\n",
        "- print its shape\n",
        "- visualise the sample with an appropriate plot\n",
        "- print its label (or title the plot appropriately)"
      ],
      "id": "0d3ebe17"
    },
    {
      "cell_type": "code",
      "metadata": {
        "id": "94ef3006",
        "colab": {
          "base_uri": "https://localhost:8080/",
          "height": 314
        },
        "outputId": "aeccff23-1f3d-4dc6-afcf-5bb2f705a8a0"
      },
      "source": [
        "# sample inspection here\n",
        "a = next(iter(trainset))\n",
        "\n",
        "print(a[0].shape)\n",
        "plt.title(label_names[a[1]])\n",
        "plt.imshow(a[0].reshape(28,28))\n",
        "len(trainset)"
      ],
      "id": "94ef3006",
      "execution_count": 4,
      "outputs": [
        {
          "output_type": "stream",
          "text": [
            "torch.Size([1, 28, 28])\n"
          ],
          "name": "stdout"
        },
        {
          "output_type": "execute_result",
          "data": {
            "text/plain": [
              "60000"
            ]
          },
          "metadata": {
            "tags": []
          },
          "execution_count": 4
        },
        {
          "output_type": "display_data",
          "data": {
            "image/png": "[encoded data removed]",
            "text/plain": [
              "<Figure size 432x288 with 1 Axes>"
            ]
          },
          "metadata": {
            "tags": [],
            "needs_background": "light"
          }
        }
      ]
    },
    {
      "cell_type": "markdown",
      "metadata": {
        "id": "f0786fb6"
      },
      "source": [
        "### Task 4.2.2 Validation Split \n",
        "\n",
        "__YOU MAY EDIT PARTS OF THE NEXT CELL__\n",
        "\n",
        "In order to judge the quality of your training efforts, you might want to validate your model on a part of the data it has not seen yet. However, we cannot do that repeatedly on the test data set.\n",
        "\n",
        "Therefore, we can split off some data from our training data. Make a decision about the validation split! The more data you take off from the training set, the more accurate will your evaluation be. The less data you leave for actual training, the worse your model performance will be.\n",
        "\n",
        "_Hint:_ Currently, the validation size is 100, which seems a bit small."
      ],
      "id": "f0786fb6"
    },
    {
      "cell_type": "code",
      "metadata": {
        "id": "779e8770"
      },
      "source": [
        "\n",
        "\n",
        "validation_size = int(((len(trainset) / 100) * 5)) # set the size of your validation set\n",
        "trainset, valset = torch.utils.data.random_split(trainset, \n",
        "                                                 [len(trainset)-validation_size, validation_size], \n",
        "                                                 generator=torch.Generator().manual_seed(1337))"
      ],
      "id": "779e8770",
      "execution_count": 5,
      "outputs": []
    },
    {
      "cell_type": "markdown",
      "metadata": {
        "id": "1d1ad869"
      },
      "source": [
        "### 4.2.3 Torch DataLoader\n",
        "Now we can hand over our three datasets to the DataLoader class which brings a lot of convience to the training procedure. It can batch and shuffle our data.\n",
        "\n",
        "The batch size is set to 32 which is an appropriate value. You may change the batch_size for the trainloader, if you want.\n",
        "\n",
        "Shuffling is not needed for validation and testing because we are only running through the data once, anyway."
      ],
      "id": "1d1ad869"
    },
    {
      "cell_type": "code",
      "metadata": {
        "id": "4bfbc794"
      },
      "source": [
        "trainloader = torch.utils.data.DataLoader(trainset, batch_size=32,\n",
        "                                          shuffle=True)\n",
        "\n",
        "testloader = torch.utils.data.DataLoader(testset, batch_size=32,\n",
        "                                         shuffle=False)\n",
        "\n",
        "valloader = torch.utils.data.DataLoader(valset, batch_size=32,\n",
        "                                         shuffle=False)"
      ],
      "id": "4bfbc794",
      "execution_count": 6,
      "outputs": []
    },
    {
      "cell_type": "markdown",
      "metadata": {
        "id": "15fcdffa"
      },
      "source": [
        "## Task 4.3 Building a Model with torch.nn.Sequential\n",
        "__YOU MAY EDIT PARTS OF THE NEXT CELL__\n",
        "\n",
        "We are going to use [torch.nn.Sequential](https://pytorch.org/docs/stable/generated/torch.nn.Sequential.html) to build a multi-layer perceptron (not a CNN!).\n",
        "You can simply supply [layers and building blocks](https://pytorch.org/docs/stable/nn.html) as arguments to create your network architecture in a sequential way, i.e. the data will flow through the network in the order they are listed as arguments.\n",
        "\n",
        "Useful modules for MLPs are:\n",
        "- [Linear Layers](https://pytorch.org/docs/stable/generated/torch.nn.Linear.html#torch.nn.Linear)\n",
        "- [Activation Functions](https://pytorch.org/docs/stable/nn.html#non-linear-activations-weighted-sum-nonlinearity)\n",
        "- [Dropout Layers](https://pytorch.org/docs/stable/nn.html#dropout-layers)\n",
        "\n",
        "The input to the model is an image, which has to be flattened to a vector, so that it is represented as suitable input for the MLP.\n",
        "\n",
        "The output must be a vector of size 10 (according to our labels/classes).\n",
        "\n",
        "You are supplied with a model that does not perform too well. You are free to build a MLP of your choosing. Be aware, that larger networks will take more time to train!\n",
        "\n",
        "Tips for experimentation:\n",
        "- Layer sizes\n",
        "- Number of layers\n",
        "- Activation functions\n",
        "- Dropout\n",
        "\n",
        "_Hint:_ What is known in PyTorch as a linear layer refers to a fully connected or dense layer."
      ],
      "id": "15fcdffa"
    },
    {
      "cell_type": "code",
      "metadata": {
        "id": "42cd8e5f"
      },
      "source": [
        "model = nn.Sequential(nn.Flatten(),\n",
        "                      nn.Linear(28*28, 20),\n",
        "                      nn.ReLU(),\n",
        "                      nn.Linear(20, 10),\n",
        "                      nn.ReLU()\n",
        "                      )"
      ],
      "id": "42cd8e5f",
      "execution_count": 7,
      "outputs": []
    },
    {
      "cell_type": "markdown",
      "metadata": {
        "id": "78380467"
      },
      "source": [
        "## 4.4 Training the model\n",
        "Now that we have a model architecture, we will need to specify a training procedure."
      ],
      "id": "78380467"
    },
    {
      "cell_type": "markdown",
      "metadata": {
        "id": "89c9a2b8"
      },
      "source": [
        "### Task 4.4.1 Choosing hyperparameters\n",
        "__YOU MAY EDIT PARTS OF THE NEXT CELL__\n",
        "\n",
        "A few parameters for the training process need to be predefined and are not learned via gradient descent or backprop. We refere to these as hyperparameters.\n",
        "\n",
        "In the following, you are presented with four of those that shape the training process and can have great influence on the trained models performance.\n",
        "\n",
        "The machine-learning practictioner who set up this notebook apparently did not pay full attention to the lecture and literature. Although all lead to a working model, the values of some are not chosen to the best of our knowledge."
      ],
      "id": "89c9a2b8"
    },
    {
      "cell_type": "code",
      "metadata": {
        "id": "f8969c81"
      },
      "source": [
        "learning_rate = 0.01\n",
        "loss = nn.CrossEntropyLoss()\n",
        "optimizer = torch.optim.SGD(model.parameters(), lr=learning_rate)\n",
        "epochs = 60"
      ],
      "id": "f8969c81",
      "execution_count": 8,
      "outputs": []
    },
    {
      "cell_type": "markdown",
      "metadata": {
        "id": "ddea12df"
      },
      "source": [
        "### 4.4.2 The train function\n",
        "This function trains your model for one epoch and keeps track of the correct/incorrect predictions.\n",
        "\n",
        "It takes a model, a dataloader, and optimizer and a loss function, trains the model for one epoch and returns the mean loss over the epoch as well as the accuracy."
      ],
      "id": "ddea12df"
    },
    {
      "cell_type": "code",
      "metadata": {
        "id": "b84f817f"
      },
      "source": [
        "def train(model, dataloader, optimizer, loss):\n",
        "    epoch_loss = []\n",
        "    model.train()\n",
        "    correct = 0\n",
        "    total = 0\n",
        "    for img, lbl in dataloader:\n",
        "        optimizer.zero_grad() \n",
        "        out = model(img) \n",
        "        logits, indices = torch.max(out, 1)\n",
        "        correct += torch.sum(indices == lbl).item()\n",
        "        total += len(lbl)\n",
        "        batch_loss = loss(out, lbl) \n",
        "        batch_loss.backward() \n",
        "        optimizer.step() \n",
        "        epoch_loss.append(batch_loss.item()) \n",
        "    return np.mean(epoch_loss), correct/total"
      ],
      "id": "b84f817f",
      "execution_count": 9,
      "outputs": []
    },
    {
      "cell_type": "markdown",
      "metadata": {
        "id": "bca68321"
      },
      "source": [
        "### 4.4.3 The validation function\n",
        "This function evaluations your model on specified data.\n",
        "\n",
        "It takes a model and a dataloader and returns the accuracy."
      ],
      "id": "bca68321"
    },
    {
      "cell_type": "code",
      "metadata": {
        "id": "01c879d8"
      },
      "source": [
        "def evaluate(model, dataloader):\n",
        "    model.eval()\n",
        "    correct = 0\n",
        "    total = 0\n",
        "    for img, lbl in dataloader:\n",
        "        out = model(img)\n",
        "        logits, indices = torch.max(out, 1)\n",
        "        correct += torch.sum(indices == lbl).item()\n",
        "        total += len(lbl)\n",
        "    return correct/total"
      ],
      "id": "01c879d8",
      "execution_count": 10,
      "outputs": []
    },
    {
      "cell_type": "markdown",
      "metadata": {
        "id": "65e2c6b9"
      },
      "source": [
        "### Task 4.4.4 The training loop\n",
        "Write the training loop for your model:\n",
        "- Call the train function for your model for the specified number of epochs. \n",
        "- For each epoch, keep track of the loss and the training accuracy.\n",
        "- You should also keep track of the validation accuracy, to judge the models actual performance on unseen data.\n",
        "- Store all values for visualisation purposes later on.\n",
        "\n",
        "Run your training loop! Depending on the size of your network architecture and the number of epochs, this might take a few minutes."
      ],
      "id": "65e2c6b9"
    },
    {
      "cell_type": "code",
      "metadata": {
        "scrolled": true,
        "id": "706fa46e"
      },
      "source": [
        "# training loop here\n",
        "performance = []\n",
        "validation_accuracy = []\n",
        "for epoch in range(epochs):\n",
        "    performance.append(train(model, trainloader, optimizer, loss)\n",
        "    validation_accuracy.append(evaluate(model, valloader))\n",
        "    if epoch % 10 == 0:\n",
        "        print('===Epoch {}===\\nloss: {} \\naccurarcy: {}'.format(epoch, performance[epoch][0], performance[epoch][1]))"
      ],
      "id": "706fa46e",
      "execution_count": 11,
      "outputs": []
    },
    {
      "cell_type": "markdown",
      "metadata": {
        "id": "1a130c63"
      },
      "source": [
        "### Task 4.4.5 Visualise the training\n",
        "Visually inspecting the models behaviour over the training period can give insights on problems and performance issues.\n",
        "\n",
        "Plot:\n",
        "- the training loss and the training accuracy\n",
        "- the validation accuracy\n",
        "\n",
        "over the epochs."
      ],
      "id": "1a130c63"
    },
    {
      "cell_type": "code",
      "metadata": {
        "id": "81d29a3e",
        "colab": {
          "base_uri": "https://localhost:8080/",
          "height": 298
        },
        "outputId": "91cfd64b-9b0e-4aac-e91f-ea17b57d6c05"
      },
      "source": [
        "# plot loss\n",
        "plt.plot(performance[0:])\n",
        "# print(performance)\n",
        "\n"
      ],
      "id": "81d29a3e",
      "execution_count": 12,
      "outputs": [
        {
          "output_type": "execute_result",
          "data": {
            "text/plain": [
              "[<matplotlib.lines.Line2D at 0x7f9e55383590>,\n",
              " <matplotlib.lines.Line2D at 0x7f9e5548bb10>]"
            ]
          },
          "metadata": {
            "tags": []
          },
          "execution_count": 12
        },
        {
          "output_type": "display_data",
          "data": {
            "image/png": "[encoded data removed]",
            "text/plain": [
              "<Figure size 432x288 with 1 Axes>"
            ]
          },
          "metadata": {
            "tags": [],
            "needs_background": "light"
          }
        }
      ]
    },
    {
      "cell_type": "code",
      "metadata": {
        "id": "6b02f989"
      },
      "source": [
        "# plot acc\n",
        "\n",
        "plt.plot(performance[0:])"
      ],
      "id": "6b02f989",
      "execution_count": 13,
      "outputs": []
    },
    {
      "cell_type": "markdown",
      "metadata": {
        "id": "4c3b95b0"
      },
      "source": [
        "## 4.5 Testing your model\n",
        "The following should only be executed once. If you are not satisfied with your model performance, go back a few steps and tune your model with different parameters or change the model architecture.\n",
        "\n",
        "If you are checking your model's performance on the test set and then tune it for better performance, you are essentially fitting your model to the test set. Your actual generalization capabilities will decrease."
      ],
      "id": "4c3b95b0"
    },
    {
      "cell_type": "code",
      "metadata": {
        "id": "27b6f224",
        "colab": {
          "base_uri": "https://localhost:8080/"
        },
        "outputId": "22c0d50a-574c-4a88-cf14-881c2ce45572"
      },
      "source": [
        "test_acc = evaluate(model, testloader)\n",
        "print(\"Your model correctly classified\", round(test_acc*100,2), \n",
        "      \"% of all samples.\")"
      ],
      "id": "27b6f224",
      "execution_count": 16,
      "outputs": [
        {
          "output_type": "stream",
          "text": [
            "Your model correctly classified 70.52 % of all samples.\n"
          ],
          "name": "stdout"
        }
      ]
    },
    {
      "cell_type": "markdown",
      "metadata": {
        "id": "eebfb140"
      },
      "source": [
        "### Task 4.5.1 Prediction capabilities of the model\n",
        "Although we now know the average prediction performance of the model on unseen data, not all data is as equally distributed as our training data. Some classes can be harder to predict, than others.\n",
        "\n",
        "Analyse your models performance on the different classes and plot the prediction accuracies on the test set over the 10 classes."
      ],
      "id": "eebfb140"
    },
    {
      "cell_type": "code",
      "metadata": {
        "id": "692b38b9",
        "colab": {
          "base_uri": "https://localhost:8080/",
          "height": 347
        },
        "outputId": "1bd47206-4ba1-405b-e2e5-e111ef5f86b3"
      },
      "source": [
        "\n",
        "img, label = next(iter(testloader))\n",
        "\n",
        "unique_labels = np.unique(label).size\n",
        "_, total_labels = np.unique(label, return_counts=True)\n",
        "\n",
        "test = np.array([9,9,9,2])\n",
        "\n",
        "unique_test, counts = np.unique(test, return_counts=True)\n",
        "# print('unique_test: {} \\ncounts: {}'.format(unique_test, counts))\n",
        "\n",
        "predictions = []\n",
        "pred_indices = []\n",
        "plot_arr = []\n",
        "\n",
        "confusion_matrix = np.zeros((unique_labels, unique_labels))\n",
        "\n",
        "for im in img:\n",
        "  out = model(im)\n",
        "  pred_indices.append(int(torch.max(out, 1)[0]))\n",
        "  predictions.append(int(torch.max(out, 1)[1]))\n",
        "\n",
        "# print(predictions)\n",
        "# print(label.tolist())\n",
        "\n",
        "prediction_index = [np.where(np.array(predictions) == item) for item in range(unique_labels)]\n",
        "target_index = [np.where(np.array(label) == item) for item in range(unique_labels)]\n",
        "\n",
        "for item in range(unique_labels):\n",
        "    for item2 in range(unique_labels):\n",
        "        confusion_matrix[item, item2] = np.sum([1 for index in prediction_index[item][0] for index2 in target_index[item2][0] if index == index2])\n",
        "        confusion_matrix[item, item2] = np.sum([1 for index in prediction_index[item][0] for index2 in target_index[item2][0] if index == index2])\n",
        "\n",
        "# print(confusion_matrix)\n",
        "\n",
        "for i in range(len(confusion_matrix)):\n",
        "    plot_arr.append(confusion_matrix[i,i])\n",
        "\n",
        "plot_arr = np.array(plot_arr) / total_labels\n",
        "plt.title('Prediction accuracy for each individual class')\n",
        "plt.xlabel('Label')\n",
        "plt.ylabel('Probability')\n",
        "\n",
        "plt.xticks(range(len(label_names)), list(label_names.values()), rotation=45)\n",
        "\n",
        "plt.bar(range(unique_labels), plot_arr,.2)\n"
      ],
      "id": "692b38b9",
      "execution_count": 121,
      "outputs": [
        {
          "output_type": "execute_result",
          "data": {
            "text/plain": [
              "<BarContainer object of 10 artists>"
            ]
          },
          "metadata": {
            "tags": []
          },
          "execution_count": 121
        },
        {
          "output_type": "display_data",
          "data": {
            "image/png": "[encoded data removed]",
            "text/plain": [
              "<Figure size 432x288 with 1 Axes>"
            ]
          },
          "metadata": {
            "tags": [],
            "needs_background": "light"
          }
        }
      ]
    },
    {
      "cell_type": "code",
      "metadata": {
        "id": "J0oQ0-cu_gff"
      },
      "source": [
        ""
      ],
      "id": "J0oQ0-cu_gff",
      "execution_count": null,
      "outputs": []
    }
  ]
}