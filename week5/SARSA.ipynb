{
  "nbformat": 4,
  "nbformat_minor": 5,
  "metadata": {
    "kernelspec": {
      "display_name": "Python 3",
      "language": "python",
      "name": "python3"
    },
    "language_info": {
      "codemirror_mode": {
        "name": "ipython",
        "version": 3
      },
      "file_extension": ".py",
      "mimetype": "text/x-python",
      "name": "python",
      "nbconvert_exporter": "python",
      "pygments_lexer": "ipython3",
      "version": "3.9.5"
    },
    "colab": {
      "name": "SARSA.ipynb",
      "provenance": []
    }
  },
  "cells": [
    {
      "cell_type": "markdown",
      "metadata": {
        "id": "5a9ad583"
      },
      "source": [
        "# 2 Tabular Reinforcement Learning\n",
        "In this notebook we are going to explore algorithms with which we can train agents to solve more or less simple environments on their own. Specifically, we will have a look at the SARSA algorithm. Instead of telling the agents what to do explicitely, we will only punish and reward their actions. Thereby, the agents should figure out a strategy by themselves, perhaps in ways that we would not have foreseen.\n",
        "\n",
        "Before we can start working on our agents, we have to set up an environment. The environment in a reinforcement learning problem is the world in which the agent acts. Games are very good example environments because they are sufficiently simple and can be simulated easily.\n",
        "\n",
        "## 2.1 The environment\n",
        "We will make use of the [gym](https://gym.openai.com/) library from openAI. It provides a number of environments with varying degrees of complexity in a convenient form."
      ],
      "id": "5a9ad583"
    },
    {
      "cell_type": "code",
      "metadata": {
        "id": "6d885be8",
        "colab": {
          "base_uri": "https://localhost:8080/"
        },
        "outputId": "9a8e7a60-fa78-42dd-f52f-0b064bbbf74d"
      },
      "source": [
        "!pip install gym"
      ],
      "id": "6d885be8",
      "execution_count": 1,
      "outputs": [
        {
          "output_type": "stream",
          "text": [
            "Requirement already satisfied: gym in /usr/local/lib/python3.7/dist-packages (0.17.3)\n",
            "Requirement already satisfied: cloudpickle<1.7.0,>=1.2.0 in /usr/local/lib/python3.7/dist-packages (from gym) (1.3.0)\n",
            "Requirement already satisfied: pyglet<=1.5.0,>=1.4.0 in /usr/local/lib/python3.7/dist-packages (from gym) (1.5.0)\n",
            "Requirement already satisfied: numpy>=1.10.4 in /usr/local/lib/python3.7/dist-packages (from gym) (1.19.5)\n",
            "Requirement already satisfied: scipy in /usr/local/lib/python3.7/dist-packages (from gym) (1.4.1)\n",
            "Requirement already satisfied: future in /usr/local/lib/python3.7/dist-packages (from pyglet<=1.5.0,>=1.4.0->gym) (0.16.0)\n"
          ],
          "name": "stdout"
        }
      ]
    },
    {
      "cell_type": "code",
      "metadata": {
        "id": "414bf143"
      },
      "source": [
        "# import stuff\n",
        "import gym\n",
        "from IPython import display\n",
        "import time\n",
        "import numpy as np\n",
        "import matplotlib.pyplot as plt\n",
        "np.random.seed(1337)"
      ],
      "id": "414bf143",
      "execution_count": 2,
      "outputs": []
    },
    {
      "cell_type": "markdown",
      "metadata": {
        "id": "bafe950e"
      },
      "source": [
        "In our task, we want to use the environment [Taxi-v3](https://gym.openai.com/envs/Taxi-v3/). Let's have a look (because we are using Jupyter notebooks, we need to use the supplied function below to render the environment)."
      ],
      "id": "bafe950e"
    },
    {
      "cell_type": "code",
      "metadata": {
        "id": "db6252ce"
      },
      "source": [
        "def nb_render(env):\n",
        "    # render gym environments in jupyter notebooks\n",
        "    display.clear_output(wait=True)\n",
        "    env.render()\n",
        "    time.sleep(0.05)"
      ],
      "id": "db6252ce",
      "execution_count": 3,
      "outputs": []
    },
    {
      "cell_type": "code",
      "metadata": {
        "scrolled": true,
        "id": "d596f790",
        "colab": {
          "base_uri": "https://localhost:8080/"
        },
        "outputId": "1ab99ca0-218e-4d76-d2d3-68b1460ced07"
      },
      "source": [
        "env = gym.make('Taxi-v3')\n",
        "env.reset() # resets the environment\n",
        "nb_render(env)"
      ],
      "id": "d596f790",
      "execution_count": 4,
      "outputs": [
        {
          "output_type": "stream",
          "text": [
            "+---------+\n",
            "|R: | : :\u001b[34;1mG\u001b[0m|\n",
            "| : |\u001b[43m \u001b[0m: : |\n",
            "| : : : : |\n",
            "| | : | : |\n",
            "|Y| : |\u001b[35mB\u001b[0m: |\n",
            "+---------+\n",
            "\n"
          ],
          "name": "stdout"
        }
      ]
    },
    {
      "cell_type": "markdown",
      "metadata": {
        "id": "b2c575bb"
      },
      "source": [
        "In Taxi-V3, the agent is a taxi driver (yellow if empty, green if full) in a 5x5 square. The aim is to pick up a passenger (at the location in bold blue font) and drop the passenger off at the target location (in magenta).\n",
        "\n",
        "__Rewards__\n",
        "\n",
        "A successful drop-off gives a reward of 20. \n",
        "Attempting to pick-up or drop-off prematurely gives a negative reward (punishment) of -10.\n",
        "Each step taken also gives a negative reward of -1.\n",
        "\n",
        "__Actions__"
      ],
      "id": "b2c575bb"
    },
    {
      "cell_type": "code",
      "metadata": {
        "id": "u7UkxkVjhLEl"
      },
      "source": [
        "# env.step(7)"
      ],
      "id": "u7UkxkVjhLEl",
      "execution_count": 5,
      "outputs": []
    },
    {
      "cell_type": "code",
      "metadata": {
        "id": "ab79636a",
        "colab": {
          "base_uri": "https://localhost:8080/"
        },
        "outputId": "1afbf1a4-c7a8-44ed-aec7-640b526ecd96"
      },
      "source": [
        "print(env.action_space.n)"
      ],
      "id": "ab79636a",
      "execution_count": 6,
      "outputs": [
        {
          "output_type": "stream",
          "text": [
            "6\n"
          ],
          "name": "stdout"
        }
      ]
    },
    {
      "cell_type": "markdown",
      "metadata": {
        "id": "ccc464cc"
      },
      "source": [
        "The agent can execute one of six actions. Move north, south, east, west, pick-up or drop-off.\n",
        "\n",
        "__State-space__\n",
        "\n",
        "(States are called observations in gym lingo)\n",
        "\n",
        "We can encounter 500 different states in this environment (25 taxi positions * 5 passenger locations * 4 destination locations)."
      ],
      "id": "ccc464cc"
    },
    {
      "cell_type": "code",
      "metadata": {
        "scrolled": true,
        "id": "d98a3e1c",
        "colab": {
          "base_uri": "https://localhost:8080/"
        },
        "outputId": "052fb86f-abd5-40b1-e429-9652d9b0f84f"
      },
      "source": [
        "print(env.observation_space.n)"
      ],
      "id": "d98a3e1c",
      "execution_count": 7,
      "outputs": [
        {
          "output_type": "stream",
          "text": [
            "500\n"
          ],
          "name": "stdout"
        }
      ]
    },
    {
      "cell_type": "markdown",
      "metadata": {
        "id": "7a40cb27"
      },
      "source": [
        "__Interaction__\n",
        "\n",
        "Interacting with the environment is really straight-forward. Simply supply the index of an action to the step-function of the environment.\n",
        "As return values, you will receive the next state, the reward for the action and if the environment is solved (you can ignore the fourth return value)."
      ],
      "id": "7a40cb27"
    },
    {
      "cell_type": "code",
      "metadata": {
        "scrolled": true,
        "id": "51fe24fa",
        "colab": {
          "base_uri": "https://localhost:8080/"
        },
        "outputId": "f3841140-b2cb-4af7-af71-f4738f42c2b3"
      },
      "source": [
        "s, r, done, _ = env.step(1)\n",
        "nb_render(env)\n",
        "print(s)\n",
        "# 0 - south\n",
        "# 1 - north\n",
        "# 2 - east\n",
        "# 3 - west\n",
        "# 4 - pickup\n",
        "# 5 - dropoff\n",
        "\n",
        "# nb_render(env)"
      ],
      "id": "51fe24fa",
      "execution_count": 67,
      "outputs": [
        {
          "output_type": "stream",
          "text": [
            "+---------+\n",
            "|R:\u001b[43m \u001b[0m| : :\u001b[35mG\u001b[0m|\n",
            "| : | : : |\n",
            "| : : : : |\n",
            "| | : | : |\n",
            "|\u001b[34;1mY\u001b[0m| : |B: |\n",
            "+---------+\n",
            "  (North)\n",
            "29\n"
          ],
          "name": "stdout"
        }
      ]
    },
    {
      "cell_type": "markdown",
      "metadata": {
        "id": "2fc7ad4f"
      },
      "source": [
        "## 2.2 Evaluation of an agent\n",
        "Since we want to have a _successful_ agent, we need a measure to evaluate that success. The cumulative reward over the whole episode should suffice for that purpose. An episode is the whole interaction process between agent and environment until the problem is solved or otherwise interrupted."
      ],
      "id": "2fc7ad4f"
    },
    {
      "cell_type": "markdown",
      "metadata": {
        "id": "9b7f67c7"
      },
      "source": [
        "### Task 2.2.1 Random agent\n",
        "In order to test our evaluation and compare our agent later, we need to have a baseline agent.\n",
        "Since we do not know any better at the moment, let's implement an agent that acts according to a random policy.\n",
        "Write a function _random\\_policy()_ that takes the current state as input and returns a random action."
      ],
      "id": "9b7f67c7"
    },
    {
      "cell_type": "code",
      "metadata": {
        "id": "9b7b692e",
        "colab": {
          "base_uri": "https://localhost:8080/"
        },
        "outputId": "14c6941f-dbd6-42ef-f9a0-37cc5456e772"
      },
      "source": [
        "def random_policy(state):\n",
        "    # s = state.action_space.sample()\n",
        "    return np.random.randint(0,6)\n",
        "\n",
        "\n",
        "\n",
        "\n",
        "print(random_policy(env))\n",
        "# nb_render(env)\n",
        "# 0 - south\n",
        "# 1 - north\n",
        "# 2 - east\n",
        "# 3 - west\n",
        "# 4 - pickup\n",
        "# 5 - dropoff"
      ],
      "id": "9b7b692e",
      "execution_count": 9,
      "outputs": [
        {
          "output_type": "stream",
          "text": [
            "5\n"
          ],
          "name": "stdout"
        }
      ]
    },
    {
      "cell_type": "markdown",
      "metadata": {
        "id": "7f2ca66a"
      },
      "source": [
        "### Task 2.2.1 Evaluation function\n",
        "Write a function _evaluate()_ that takes a policy function as input, runs the policy on 20 independent episodes of the environment and returns a list of the cumulative rewards of those episodes.\n",
        "\n",
        "_Hint_: The _reset()_ function should be run before each episode starts and provides you with the first state.\n",
        "\n",
        "In order to see what our agent is doing, render the last episode. "
      ],
      "id": "7f2ca66a"
    },
    {
      "cell_type": "code",
      "metadata": {
        "scrolled": true,
        "id": "82c354be"
      },
      "source": [
        "def evaluate(policy):\n",
        "    reward = []\n",
        "  \n",
        "    # env.step(s)\n",
        "    for i in range(20):\n",
        "        s = env.reset()\n",
        "        # print('state: {}'.format(state))\n",
        "        done = False\n",
        "        reward.append([])\n",
        "        while not done:\n",
        "            # state = policy(state)\n",
        "            s, r, done, _ = env.step(policy(s))\n",
        "            # env.env.s = \n",
        "            # s = state[0]\n",
        "            reward[i].append(r)\n",
        "            if i == 19:\n",
        "                nb_render(env)\n",
        "            # print('reward: {}'.format(reward))\n",
        "    # print(len(reward))\n",
        "    cumulative_rewards = [np.sum(reward[i]) for i in range(len(reward))]\n",
        "    return cumulative_rewards\n",
        "\n",
        "\n",
        "\n",
        "\n",
        "\n",
        "# nb_render(env)\n",
        "\n",
        "# env.reset: Resets the environment and returns a random initial state.\n",
        "# env.step(action): Step the environment by one timestep. Returns\n",
        "# observation: Observations of the environment\n",
        "# reward: If your action was beneficial or not\n",
        "# done: Indicates if we have successfully picked up and dropped off a passenger, also called one episode\n",
        "# info: Additional info such as performance and latency for debugging purposes\n",
        "# env.render: Renders one frame of the environment (helpful in visualizing the environment)"
      ],
      "id": "82c354be",
      "execution_count": 10,
      "outputs": []
    },
    {
      "cell_type": "markdown",
      "metadata": {
        "id": "a3b1691c"
      },
      "source": [
        "### Task 2.2.3 Evalute the random agent\n",
        "Run the evaluation scheme on the random agent and plot the rewards."
      ],
      "id": "a3b1691c"
    },
    {
      "cell_type": "code",
      "metadata": {
        "scrolled": true,
        "id": "95d951c1",
        "colab": {
          "base_uri": "https://localhost:8080/"
        },
        "outputId": "6c3f8195-0bc7-48bb-ad56-bcd56d93c479"
      },
      "source": [
        "# your code here\n",
        "rand_rewards = evaluate(random_policy) \n"
      ],
      "id": "95d951c1",
      "execution_count": 49,
      "outputs": [
        {
          "output_type": "stream",
          "text": [
            "+---------+\n",
            "|\u001b[34;1mR\u001b[0m: | : :\u001b[35mG\u001b[0m|\n",
            "| : | : : |\n",
            "| : : : :\u001b[43m \u001b[0m|\n",
            "| | : | : |\n",
            "|Y| : |B: |\n",
            "+---------+\n",
            "  (Pickup)\n"
          ],
          "name": "stdout"
        }
      ]
    },
    {
      "cell_type": "code",
      "metadata": {
        "scrolled": true,
        "id": "54582262",
        "colab": {
          "base_uri": "https://localhost:8080/",
          "height": 312
        },
        "outputId": "55bd576b-4940-4ca0-b26d-69346648c2ab"
      },
      "source": [
        "# your code here\n",
        "plt.title('Cumulative rewards over 20 random episodes')\n",
        "plt.xticks(range(1,len(rand_rewards)+1))\n",
        "# plt.yticks(range(1,len(rewards)+1))\n",
        "plt.ylabel('reward over episode')\n",
        "plt.xlabel('episode')\n",
        "plt.bar(range(1,len(rand_rewards)+1), rand_rewards)"
      ],
      "id": "54582262",
      "execution_count": 141,
      "outputs": [
        {
          "output_type": "execute_result",
          "data": {
            "text/plain": [
              "<BarContainer object of 20 artists>"
            ]
          },
          "metadata": {
            "tags": []
          },
          "execution_count": 141
        },
        {
          "output_type": "display_data",
          "data": {
            "image/png": "[encoded data removed]",
            "text/plain": [
              "<Figure size 432x288 with 1 Axes>"
            ]
          },
          "metadata": {
            "tags": []
          }
        }
      ]
    },
    {
      "cell_type": "markdown",
      "metadata": {
        "id": "99344661"
      },
      "source": [
        "## 2.3 SARSA\n",
        "Now we want to write an agent that learns from rewards and in the end performs the task a little better.\n",
        "From the lecture, we can remember that the SARSA algorithm deals with Q values. These values tell us how good it is to take a specific action in a specific state. For descrete problems up to a certain complexity (as is the Taxi-v3) we can simply store the Q values in a table."
      ],
      "id": "99344661"
    },
    {
      "cell_type": "markdown",
      "metadata": {
        "id": "5d1d2d3c"
      },
      "source": [
        "### Task 2.3.1 The Q-Table\n",
        "Write the function _init\\_table()_ that sets up and returns a table that contains the Q values of state-action pairs.\n",
        "Initialise all Q values with zeros.\n",
        "Over time, while learning, the agent will change these values in order to prefer certain actions in certain situations.\n"
      ],
      "id": "5d1d2d3c"
    },
    {
      "cell_type": "code",
      "metadata": {
        "id": "ee0d3da0",
        "colab": {
          "base_uri": "https://localhost:8080/"
        },
        "outputId": "6e8010b5-bdfc-415c-e33c-648380ac82db"
      },
      "source": [
        "def init_table():\n",
        "    return np.zeros((int(env.observation_space.n),int(env.action_space.n)))\n",
        "    # your code here\n",
        "\n",
        "init_table()"
      ],
      "id": "ee0d3da0",
      "execution_count": 80,
      "outputs": [
        {
          "output_type": "execute_result",
          "data": {
            "text/plain": [
              "array([[0., 0., 0., 0., 0., 0.],\n",
              "       [0., 0., 0., 0., 0., 0.],\n",
              "       [0., 0., 0., 0., 0., 0.],\n",
              "       ...,\n",
              "       [0., 0., 0., 0., 0., 0.],\n",
              "       [0., 0., 0., 0., 0., 0.],\n",
              "       [0., 0., 0., 0., 0., 0.]])"
            ]
          },
          "metadata": {
            "tags": []
          },
          "execution_count": 80
        }
      ]
    },
    {
      "cell_type": "markdown",
      "metadata": {
        "id": "dfeb61ec"
      },
      "source": [
        "### Task 2.3.2 Exploitation: greedy strategy\n",
        "The Q table represents our knowledge about the goodness of actions. Usually, we want to choose the best action for a certain situation. This way of choosing actions can be seen as exploiting your knowledge.\n",
        "Write a function _exploit()_ that returns the best action for a given state according to your Q-table."
      ],
      "id": "dfeb61ec"
    },
    {
      "cell_type": "code",
      "metadata": {
        "id": "e5a5bd96",
        "colab": {
          "base_uri": "https://localhost:8080/"
        },
        "outputId": "b49b4ef2-c82f-442a-c832-5c23268cb2bc"
      },
      "source": [
        "def exploit(state):\n",
        "    s = state\n",
        "    best_action_index = np.argmax(q_table[state])\n",
        "    return best_action_index\n",
        "    # your code here\n",
        "# q_table = init_table()\n",
        "exploit(20)"
      ],
      "id": "e5a5bd96",
      "execution_count": 79,
      "outputs": [
        {
          "output_type": "execute_result",
          "data": {
            "text/plain": [
              "0"
            ]
          },
          "metadata": {
            "tags": []
          },
          "execution_count": 79
        }
      ]
    },
    {
      "cell_type": "markdown",
      "metadata": {
        "id": "74b91c11"
      },
      "source": [
        "### Task 2.3.3 Exploitation vs. Exploration\n",
        "However, greedily executing actions all the time is not the best idea. A big problem in reinforcement learning is sufficent exploration of the environment. You will never know if your current strategy is optimal, if you did not fully explore all possibilities. But exploring is costly, as it means to deviate from exploiting your current strategy.\n",
        "\n",
        "One way to tackle this dilemma is the $\\epsilon$-greedy strategy. For a certain fraction of actions $\\epsilon$, we will not use our knowledge to choose the best action, but rather choose a random non-greedy action to explore the environment.\n",
        "\n",
        "Write a function _explore()_ that returns a random non-greedy action for a given state according to your Q-table."
      ],
      "id": "74b91c11"
    },
    {
      "cell_type": "code",
      "metadata": {
        "id": "dfacaf2d",
        "colab": {
          "base_uri": "https://localhost:8080/"
        },
        "outputId": "ce98fb9b-dfe4-4919-9cba-d33e76e393a2"
      },
      "source": [
        "def explore(state):\n",
        "    rand_action_index = np.random.randint(0,q_table[state].size)\n",
        "    return rand_action_index\n",
        "    # your code here\n",
        "explore(250)"
      ],
      "id": "dfacaf2d",
      "execution_count": 78,
      "outputs": [
        {
          "output_type": "execute_result",
          "data": {
            "text/plain": [
              "1"
            ]
          },
          "metadata": {
            "tags": []
          },
          "execution_count": 78
        }
      ]
    },
    {
      "cell_type": "markdown",
      "metadata": {
        "id": "1378d349"
      },
      "source": [
        "Write a function _eps\\_greedy()_ that takes a state as input. In $\\epsilon$ of all cases return an explorative action and in 1-$\\epsilon$ of all cases return an exploitative action."
      ],
      "id": "1378d349"
    },
    {
      "cell_type": "code",
      "metadata": {
        "id": "cc940ca6"
      },
      "source": [
        "epsilon = 0.1\n",
        "\n",
        "def eps_greedy(state):\n",
        "    rand = np.random.random()\n",
        "    if rand < epsilon:\n",
        "        return explore(state)\n",
        "    return exploit(state)\n",
        "    # your code here"
      ],
      "id": "cc940ca6",
      "execution_count": 77,
      "outputs": []
    },
    {
      "cell_type": "markdown",
      "metadata": {
        "id": "2918193e"
      },
      "source": [
        "### Task 2.3.1 The temporal difference error\n",
        "We only need one last piece to complete our algorithm: updating our knowledge about good state-action combinations. Hence, we have to update our Q-values in a way that reflects how good an action is to reach the goal in the future.\n",
        "\n",
        "The TD-error for SARSA is given as (see lecture p.19):\n",
        "\n",
        "$$ \\delta =  r + \\gamma Q(s';a') - Q(s;a) $$\n",
        "\n",
        "Write a function _td\\_error()_, that takes as arguments the current state, the taken action, the reward, the next state and the next action and returns the temporal difference error"
      ],
      "id": "2918193e"
    },
    {
      "cell_type": "code",
      "metadata": {
        "id": "a3d6a444"
      },
      "source": [
        "gamma = 0.99\n",
        "\n",
        "def td_error(s, a, r, s_prime, a_prime):\n",
        "    # _, r_s, _, _ = env.step(a)\n",
        "    q_sa = q_table[s,a]\n",
        "    q_sa_prime = np.max(q_table[s_prime])\n",
        "\n",
        "    # env.env.s = s_prime\n",
        "    # _, r_s_prime, _, _ = env.step(a_prime)\n",
        "\n",
        "    return r + gamma * q_sa_prime - q_sa\n",
        "      # your code here"
      ],
      "id": "a3d6a444",
      "execution_count": 82,
      "outputs": []
    },
    {
      "cell_type": "markdown",
      "metadata": {
        "id": "879e9181"
      },
      "source": [
        "Lastly, the Q table needs to be updated according to:\n",
        "$$Q(s;a) \\leftarrow Q(s;a) + \\eta \\cdot \\delta$$\n",
        "    \n",
        "Write a function _update\\_table()_ that takes as inputs the current state, the current action and the td-error and updates the Q table."
      ],
      "id": "879e9181"
    },
    {
      "cell_type": "code",
      "metadata": {
        "id": "152c43a2"
      },
      "source": [
        "eta = 0.1\n",
        "\n",
        "def update_table(s, a, delta):\n",
        "    q_table[s, a] += eta * delta\n",
        "    # your code here"
      ],
      "id": "152c43a2",
      "execution_count": 71,
      "outputs": []
    },
    {
      "cell_type": "markdown",
      "metadata": {
        "id": "2a08c0b4"
      },
      "source": [
        "## 2.4 Training\n",
        "Now we can finally train our agent. 2000 episodes should suffice to sufficiently solve the Taxi problem.\n",
        "\n",
        "The SARSA algorithm for one episode goes as follows:\n",
        "\n",
        "- initialise environment, read initial state s\n",
        "- select an action a\n",
        "- repeat until done:\n",
        "    - execute action $a$\n",
        "    - read reward $r$ and new state $s'$\n",
        "    - select next action $a'$\n",
        "    - compute TD-error\n",
        "    - update Q table\n",
        "    - set variables for next iteration: \n",
        "        $s \\leftarrow s'$, $a \\leftarrow a'$"
      ],
      "id": "2a08c0b4"
    },
    {
      "cell_type": "markdown",
      "metadata": {
        "id": "b7ab04df"
      },
      "source": [
        "### Task 2.4.1 The train function\n",
        "Write a train function that applies the SARSA algorithm to the environment for 2000 episodes. The function should return a list of cumulative rewards for each episode."
      ],
      "id": "b7ab04df"
    },
    {
      "cell_type": "code",
      "metadata": {
        "id": "d3fd1bfe"
      },
      "source": [
        "table = init_table()\n",
        "episodes = 2000\n",
        "\n",
        "def train():\n",
        "    # your code here\n",
        "    global q_table \n",
        "    q_table = init_table()\n",
        "    reward = []\n",
        "    for i in range(episodes):\n",
        "        s = env.reset()\n",
        "        reward.append([])\n",
        "        done = False\n",
        "        r_total = 0\n",
        "        delta = 0\n",
        "        while not done:\n",
        "            a = eps_greedy(s)\n",
        "            s_prime, r, done, _ = env.step(a)\n",
        "            # r_total += r\n",
        "            reward[i].append(r)\n",
        "            a_prime = exploit(s)\n",
        "            # s_prime, _, _, _ = env.step(a_prime)\n",
        "\n",
        "            delta = td_error(s, a, r, s_prime, a_prime)\n",
        "\n",
        "            update_table(s, a, delta)\n",
        "            s = s_prime\n",
        "            # env.env.s = s_prime\n",
        "    cumulative_rewards = [np.sum(reward[i]) for i in range(len(reward))]   \n",
        "    return cumulative_rewards\n",
        "\n",
        "train_rewards = train()"
      ],
      "id": "d3fd1bfe",
      "execution_count": 132,
      "outputs": []
    },
    {
      "cell_type": "code",
      "metadata": {
        "id": "8_SrSrnn5nLF",
        "outputId": "314d8e06-8af7-4cee-db2e-c2edb8d069f5",
        "colab": {
          "base_uri": "https://localhost:8080/"
        }
      },
      "source": [
        "print(q_table[1,0:])\n",
        "print(exploit(1))"
      ],
      "id": "8_SrSrnn5nLF",
      "execution_count": 100,
      "outputs": [
        {
          "output_type": "stream",
          "text": [
            "[-0.2650882  -0.37860157 -3.21250964 -1.44168437  9.61605549 -3.93320426]\n",
            "4\n"
          ],
          "name": "stdout"
        }
      ]
    },
    {
      "cell_type": "markdown",
      "metadata": {
        "id": "eba01560"
      },
      "source": [
        "### Task 2.4.2 Visualise the training\n",
        "Train your agent and obtain the cumulative rewards for the episodes.\n",
        "Plot the temporal evolution of the rewards over the episodes in order to see if the training worked."
      ],
      "id": "eba01560"
    },
    {
      "cell_type": "code",
      "metadata": {
        "scrolled": true,
        "id": "847b03f9",
        "colab": {
          "base_uri": "https://localhost:8080/",
          "height": 312
        },
        "outputId": "39f9b1c1-108c-4dc3-98c9-8674050a14e7"
      },
      "source": [
        "# your code here\n",
        "# print(train_rewards)\n",
        "plt.title('Accumulative reward per episode over 2000 SARSA learning episodes')\n",
        "plt.xlabel('episode')\n",
        "plt.ylabel('accumulative reward over episode')\n",
        "plt.plot(train_rewards)"
      ],
      "id": "847b03f9",
      "execution_count": 162,
      "outputs": [
        {
          "output_type": "execute_result",
          "data": {
            "text/plain": [
              "[<matplotlib.lines.Line2D at 0x7fc9348d0650>]"
            ]
          },
          "metadata": {
            "tags": []
          },
          "execution_count": 162
        },
        {
          "output_type": "display_data",
          "data": {
            "image/png": "[encoded data removed]",
            "text/plain": [
              "<Figure size 432x288 with 1 Axes>"
            ]
          },
          "metadata": {
            "tags": []
          }
        }
      ]
    },
    {
      "cell_type": "markdown",
      "metadata": {
        "id": "570409f0"
      },
      "source": [
        "## 2.5 Results\n",
        "Now that we have a trained agent it is time to evaluate the trained agent and compare it against the performance of the random agent."
      ],
      "id": "570409f0"
    },
    {
      "cell_type": "markdown",
      "metadata": {
        "id": "a8647a87"
      },
      "source": [
        "### Task 2.5.1 Evaluate the trained agent\n",
        "We already wrote the evaluation function. So now we just need to apply our policy to the environment and see how the agent performs.\n",
        "It is perhaps best to just use the greedy policy. If we assume that our agent is fully trained to the best of our knowledge, and we are not updating our Q table and thus are not learning during evaluation, there is no need for exploration."
      ],
      "id": "a8647a87"
    },
    {
      "cell_type": "code",
      "metadata": {
        "scrolled": true,
        "id": "efbd2431",
        "colab": {
          "base_uri": "https://localhost:8080/"
        },
        "outputId": "3ce3d6ec-f6b0-4804-eb19-a9ed07f70c8a"
      },
      "source": [
        "# your code here\n",
        "# print(q_table)\n",
        "trained_rewards = evaluate(exploit)\n"
      ],
      "id": "efbd2431",
      "execution_count": 133,
      "outputs": [
        {
          "output_type": "stream",
          "text": [
            "+---------+\n",
            "|\u001b[35m\u001b[34;1m\u001b[43mR\u001b[0m\u001b[0m\u001b[0m: | : :G|\n",
            "| : | : : |\n",
            "| : : : : |\n",
            "| | : | : |\n",
            "|Y| : |B: |\n",
            "+---------+\n",
            "  (Dropoff)\n"
          ],
          "name": "stdout"
        }
      ]
    },
    {
      "cell_type": "markdown",
      "metadata": {
        "id": "23fe5218"
      },
      "source": [
        "### Task 2.5.2 Compare the agents\n",
        "Plot the results of the random agent vs the results of the trained agent for a nice comparison."
      ],
      "id": "23fe5218"
    },
    {
      "cell_type": "code",
      "metadata": {
        "id": "dMLd-AsOxAot"
      },
      "source": [
        ""
      ],
      "id": "dMLd-AsOxAot",
      "execution_count": null,
      "outputs": []
    },
    {
      "cell_type": "code",
      "metadata": {
        "id": "ea8d9d26",
        "colab": {
          "base_uri": "https://localhost:8080/",
          "height": 326
        },
        "outputId": "8b74b508-6439-4c13-b169-c85bbe7bcd2e"
      },
      "source": [
        "plt.style.use('dark_background')\n",
        "fig, axs = plt.subplots(2)\n",
        "fig.subplots_adjust(hspace=.7)\n",
        "fig.suptitle(' Rewards comparison Random vs Sarsa trained over 20 episodes')\n",
        "\n",
        "axs[0].set_title('Random')\n",
        "axs[0].set_xlabel('episode')\n",
        "axs[0].set_ylabel('cumulative reward')\n",
        "axs[0].bar(range(1,len(rand_rewards)+ 1, 1),rand_rewards)\n",
        "\n",
        "axs[1].set_title('SARSA')\n",
        "axs[1].set_xlabel('episode')\n",
        "axs[1].set_ylabel('cumulative reward')\n",
        "axs[1].bar(range(1, len(trained_rewards) + 1, 1), trained_rewards)\n",
        "\n"
      ],
      "id": "ea8d9d26",
      "execution_count": 163,
      "outputs": [
        {
          "output_type": "execute_result",
          "data": {
            "text/plain": [
              "<BarContainer object of 20 artists>"
            ]
          },
          "metadata": {
            "tags": []
          },
          "execution_count": 163
        },
        {
          "output_type": "display_data",
          "data": {
            "image/png": "[encoded data removed]",
            "text/plain": [
              "<Figure size 432x288 with 2 Axes>"
            ]
          },
          "metadata": {
            "tags": []
          }
        }
      ]
    },
    {
      "cell_type": "code",
      "metadata": {
        "id": "a8sT-JHAxQU7"
      },
      "source": [
        ""
      ],
      "id": "a8sT-JHAxQU7",
      "execution_count": null,
      "outputs": []
    }
  ]
}