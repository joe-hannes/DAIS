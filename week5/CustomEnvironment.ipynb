{
  "nbformat": 4,
  "nbformat_minor": 5,
  "metadata": {
    "kernelspec": {
      "display_name": "Python 3",
      "language": "python",
      "name": "python3"
    },
    "language_info": {
      "codemirror_mode": {
        "name": "ipython",
        "version": 3
      },
      "file_extension": ".py",
      "mimetype": "text/x-python",
      "name": "python",
      "nbconvert_exporter": "python",
      "pygments_lexer": "ipython3",
      "version": "3.9.5"
    },
    "colab": {
      "name": "CustomEnvironment.ipynb",
      "provenance": []
    }
  },
  "cells": [
    {
      "cell_type": "markdown",
      "metadata": {
        "id": "55f9b6dc"
      },
      "source": [
        "# 3 Custom Environments\n",
        "In this task you are asked to create a environment for a reinforcement agent. It's common to create environments for agents by using the openai gym interface. It creates a good baseline for what is necessary to train a RL agent and makes it easy to try out different environments on the same algorithm.\n",
        "If you need more information take a look at the documentation https://gym.openai.com/docs/.\n",
        "You can find the implementation of all official enviroments on GitHub: https://github.com/openai/gym/tree/master/gym/envs if you need some examples. "
      ],
      "id": "55f9b6dc"
    },
    {
      "cell_type": "code",
      "metadata": {
        "id": "d46e9eed",
        "outputId": "db27947e-66b5-464a-ca4b-ec57203b0f86",
        "colab": {
          "base_uri": "https://localhost:8080/"
        }
      },
      "source": [
        "pip install gym"
      ],
      "id": "d46e9eed",
      "execution_count": 1,
      "outputs": [
        {
          "output_type": "stream",
          "text": [
            "Requirement already satisfied: gym in /usr/local/lib/python3.7/dist-packages (0.17.3)\n",
            "Requirement already satisfied: numpy>=1.10.4 in /usr/local/lib/python3.7/dist-packages (from gym) (1.19.5)\n",
            "Requirement already satisfied: pyglet<=1.5.0,>=1.4.0 in /usr/local/lib/python3.7/dist-packages (from gym) (1.5.0)\n",
            "Requirement already satisfied: cloudpickle<1.7.0,>=1.2.0 in /usr/local/lib/python3.7/dist-packages (from gym) (1.3.0)\n",
            "Requirement already satisfied: scipy in /usr/local/lib/python3.7/dist-packages (from gym) (1.4.1)\n",
            "Requirement already satisfied: future in /usr/local/lib/python3.7/dist-packages (from pyglet<=1.5.0,>=1.4.0->gym) (0.16.0)\n"
          ],
          "name": "stdout"
        }
      ]
    },
    {
      "cell_type": "code",
      "metadata": {
        "id": "1e12a89a"
      },
      "source": [
        "import gym\n",
        "import numpy as np\n",
        "import time\n",
        "from IPython.display import display, clear_output\n",
        "import matplotlib.pyplot as plt\n"
      ],
      "id": "1e12a89a",
      "execution_count": 288,
      "outputs": []
    },
    {
      "cell_type": "markdown",
      "metadata": {
        "id": "e4a7d886"
      },
      "source": [
        "## 3.1 The Environment\n",
        "A openai gym environment consists of at least 3 methods. `__init__` the constructor which sets all the necessary values, a `step` function, which describes the behaviour of the environment and a `reset` function, which resets the starting state of the environment. In addition to that usually a `render` function is provided to visualize the behaviour of the environment.\n",
        "\n",
        "#### \\__init__:\n",
        "The Constructor of the environment defines all the necessary variables. To set the bounds of our environment we have to define the action_space and the observartion space. The gym.spaces library contains the necassary functions to do in our case we use gym.spaces.Discrete because we want to only handle discrete values.\n",
        "The Discrete space works a bit like a range, with some extra methods. A Linear representation of the state is helpful for tabular learning, because it makes creating a Q-Table really easy. \n",
        "\n",
        "#### step:\n",
        "The step method takes an action and returns a tuple of the shape(observation, reward, done). The observation is the result of taking the action. The reward is the reward handet for takin given action in the previous state. The done variable is boolean and indicates if a given scenario has come to an end. \n",
        "\n",
        "#### reset:\n",
        "The reset method resets the start state of the environment. It returns the new state of the environment.\n",
        "\n",
        "#### render:\n",
        "The render method visualizes the state of the environment. There are many different ways to do so i.e. creating a visual representation by using vector graphics or printing to the terminal. \n",
        "We want to focus on the easiest way, by printing the state. Find a good and easily printable representation of the internal state (i.e. a numpy array) and print it. To print over the last output you can call the  function before you print the state.\n",
        "\n",
        "### Encoding and decoding\n",
        "This functions are not necessary for a gym environment. However it might be usefull do write some functions that encode and decode the linearized state to a 2- dimensional Form and back.\n",
        "\n",
        "#### decode_action\n",
        "returns the action refering to the index of the action\n",
        "\n",
        "#### decode_state\n",
        "returns a 2D representation of the linear state\n",
        "\n",
        "#### encode_state\n",
        "returns a linear representation of the 2D state.\n",
        "\n",
        "\n",
        "### Task 3.1.1\n",
        "- Create a two dimensional, discrete environment of the size 8x8.\n",
        "- Each episode the agent should start at a random position, while the target always stays at the same position.\n",
        "- The agent should be able to move in all 4 directions, If the agent hits a wall it should do nothing.\n",
        "- An episode ends if the agent reaches the target.\n",
        "- Reaching the target results in a reward of 1, while every other action should give a small negative reward."
      ],
      "id": "e4a7d886"
    },
    {
      "cell_type": "code",
      "metadata": {
        "id": "174d6193"
      },
      "source": [
        "class CustomEnv(gym.Env):\n",
        "    metadata = {'render.modes': ['human']}\n",
        "    def __init__(self):\n",
        "        super(CustomEnv, self).__init__()\n",
        "        # Write a constructor for your enviroment\n",
        "        # Define the action_space and observation_space\n",
        "        # Position your agent and the target in the enviroment \n",
        "        self.action_space = gym.spaces.Discrete(4)\n",
        "\n",
        "        self.observation_space = gym.spaces.Discrete(64)\n",
        "        self.env_space = np.zeros((8,8))\n",
        "        random_index1 = np.random.randint(0, self.env_space.shape[0])\n",
        "        random_index2 = np.random.randint(0, self.env_space.shape[1])\n",
        "\n",
        "        self.target_pos = [1,4]\n",
        "        self.agent_pos = [random_index1, random_index2]\n",
        "        \n",
        "    def step(self, action):\n",
        "        # Write the step method for your enviroment. Make sure your agent does not go out of bounds\n",
        "        # by performing the action.\n",
        "\n",
        "        reward = 0\n",
        "        done = False\n",
        "\n",
        "        #north\n",
        "        if action == 0:\n",
        "            if self.agent_pos[0] != 0:\n",
        "                self.agent_pos[0] -=1\n",
        "        #left\n",
        "        if action == 1:\n",
        "            if self.agent_pos[1] != 0:\n",
        "                self.agent_pos[1] -= 1\n",
        "\n",
        "        #right\n",
        "        if action == 2:\n",
        "            if self.agent_pos[1] != 7:\n",
        "                self.agent_pos[1] += 1\n",
        "\n",
        "        #south\n",
        "        if action == 3:\n",
        "            if self.agent_pos[0] != 7:\n",
        "                self.agent_pos[0] += 1\n",
        "\n",
        "        if self.agent_pos == self.target_pos:\n",
        "            reward += 1\n",
        "            done = True\n",
        "        else:\n",
        "            reward -= .1\n",
        "\n",
        "        observation = self.agent_pos[0] * 8 + self.agent_pos[1] \n",
        "        \n",
        "        return (observation, reward, done,_)\n",
        "     \n",
        "    def reset(self):\n",
        "        random_index1 = np.random.randint(0, self.env_space.shape[0])\n",
        "        random_index2 = np.random.randint(0, self.env_space.shape[1])\n",
        "        self.agent_pos = [random_index1, random_index2]\n",
        "        state = self.agent_pos[0] * 8 + self.agent_pos[1] \n",
        "        # Write the reset method that results in the starting state\n",
        "        \n",
        "        return state\n",
        "        \n",
        "    def render(self):\n",
        "        self.env_space *= 0\n",
        "        self.env_space[self.target_pos[0], self.target_pos[1]] = 1\n",
        "        self.env_space[self.agent_pos[0], self.agent_pos[1]] = 2\n",
        "        print(self.env_space)\n",
        "\n",
        "        print('\\nagent: {}\\ntarget:{}'.format(2,1))\n",
        "        #Write a render method for your enviroment to visualize the current state in the terminal\n",
        "\n",
        "    def decode_action(self, action):\n",
        "        #decode a linear action to 2D\n",
        "        #north\n",
        "        act = ''\n",
        "        if action == 0:\n",
        "            act = 'north'\n",
        "        #left\n",
        "        if action == 1:\n",
        "            act = 'left'\n",
        "\n",
        "        #right\n",
        "        if action == 2:\n",
        "            act = 'right'\n",
        "\n",
        "        #south\n",
        "        if action == 3:\n",
        "            act = 'south'\n",
        "        \n",
        "\n",
        "        return act\n",
        "\n",
        "    def decode_state(self, state):\n",
        "        #decode a linear state to 2D\n",
        "        return np.reshape(state, 2)\n",
        "    \n",
        "    def encode_state(self,state):\n",
        "        #encode a 2D state in 1D\n",
        "        return np.reshape(state, 1)\n",
        "    "
      ],
      "id": "174d6193",
      "execution_count": 280,
      "outputs": []
    },
    {
      "cell_type": "markdown",
      "metadata": {
        "id": "3ebcdafe"
      },
      "source": [
        "## 3.2 Test with a random agent\n",
        "The following cell allows you to test your enviroment with a random agent."
      ],
      "id": "3ebcdafe"
    },
    {
      "cell_type": "code",
      "metadata": {
        "id": "a3dc404a",
        "outputId": "f2c4ed65-00d6-44de-dd59-5f90911f1b3d",
        "colab": {
          "base_uri": "https://localhost:8080/"
        }
      },
      "source": [
        "env = CustomEnv()\n",
        "done = False\n",
        "while done == False:\n",
        "    a = env.action_space.sample()\n",
        "    _,_, done,_ = env.step(a)\n",
        "    clear_output(wait=True)\n",
        "    env.render()\n",
        "    time.sleep(0.2)"
      ],
      "id": "a3dc404a",
      "execution_count": 188,
      "outputs": [
        {
          "output_type": "stream",
          "text": [
            "[[0. 0. 0. 0. 0. 0. 0. 0.]\n",
            " [0. 0. 0. 0. 2. 0. 0. 0.]\n",
            " [0. 0. 0. 0. 0. 0. 0. 0.]\n",
            " [0. 0. 0. 0. 0. 0. 0. 0.]\n",
            " [0. 0. 0. 0. 0. 0. 0. 0.]\n",
            " [0. 0. 0. 0. 0. 0. 0. 0.]\n",
            " [0. 0. 0. 0. 0. 0. 0. 0.]\n",
            " [0. 0. 0. 0. 0. 0. 0. 0.]]\n",
            "\n",
            "agent: 2\n",
            "target:1\n"
          ],
          "name": "stdout"
        }
      ]
    },
    {
      "cell_type": "markdown",
      "metadata": {
        "id": "aa73e00f"
      },
      "source": [
        "## Task 3.3 Test with a Q-Learning Agent\n",
        "In the previous task we wrote an agent that used the SARSA algorithm. Now we want to use a similar algorithm, Q-Learning, to solve your own custom environment. And of course visualise your training progress (Cumulative rewards over time).\n",
        "\n",
        "The main difference between SARSA and Q-Learning is the way the Q-Values are calculated. Therefore, you can recycle most of your code."
      ],
      "id": "aa73e00f"
    },
    {
      "cell_type": "code",
      "metadata": {
        "id": "VgBP5ilrBeAW"
      },
      "source": [
        "def evaluate(policy):\n",
        "    reward = []\n",
        "  \n",
        "    # env.step(s)\n",
        "    for i in range(20):\n",
        "        s = env.reset()\n",
        "        # print('state: {}'.format(state))\n",
        "        done = False\n",
        "        reward.append([])\n",
        "        while not done:\n",
        "            # state = policy(state)\n",
        "            s, r, done, _ = env.step(policy(s))\n",
        "            # env.env.s = \n",
        "            # s = state[0]\n",
        "            reward[i].append(r)\n",
        "            if i == 19:\n",
        "                nb_render(env)\n",
        "            # print('reward: {}'.format(reward))\n",
        "    # print(len(reward))\n",
        "    cumulative_rewards = [np.sum(reward[i]) for i in range(len(reward))]\n",
        "    return cumulative_rewards"
      ],
      "id": "VgBP5ilrBeAW",
      "execution_count": 258,
      "outputs": []
    },
    {
      "cell_type": "code",
      "metadata": {
        "id": "yooJEyfg2ZOr"
      },
      "source": [
        "def init_table():\n",
        "    return np.zeros((int(env.observation_space.n),int(env.action_space.n)))"
      ],
      "id": "yooJEyfg2ZOr",
      "execution_count": 189,
      "outputs": []
    },
    {
      "cell_type": "code",
      "metadata": {
        "id": "Ew4QeNxh2l0i"
      },
      "source": [
        "def exploit(state):\n",
        "    s = state\n",
        "    best_action_index = np.argmax(q_table[state])\n",
        "    return best_action_index"
      ],
      "id": "Ew4QeNxh2l0i",
      "execution_count": 190,
      "outputs": []
    },
    {
      "cell_type": "code",
      "metadata": {
        "id": "gT5IAOPQ2qMn"
      },
      "source": [
        "def explore(state):\n",
        "    rand_action_index = np.random.randint(0,q_table[state].size)\n",
        "    return rand_action_index"
      ],
      "id": "gT5IAOPQ2qMn",
      "execution_count": 191,
      "outputs": []
    },
    {
      "cell_type": "code",
      "metadata": {
        "id": "FpSDjIP42vl9"
      },
      "source": [
        "epsilon = 0.1\n",
        "\n",
        "def eps_greedy(state):\n",
        "    rand = np.random.random()\n",
        "    if rand < epsilon:\n",
        "        return explore(state)\n",
        "    return exploit(state)"
      ],
      "id": "FpSDjIP42vl9",
      "execution_count": 192,
      "outputs": []
    },
    {
      "cell_type": "code",
      "metadata": {
        "id": "oNgNLW7A23jk"
      },
      "source": [
        "gamma = 0.99\n",
        "\n",
        "def td_error(s, a, r, s_prime, a_prime):\n",
        "    q_sa = q_table[s,a]\n",
        "    q_sa_prime = np.max(q_table[s_prime])\n",
        "    return r + gamma * q_sa_prime - q_sa"
      ],
      "id": "oNgNLW7A23jk",
      "execution_count": 243,
      "outputs": []
    },
    {
      "cell_type": "code",
      "metadata": {
        "id": "oPs6a-2W3Cag"
      },
      "source": [
        "eta = 0.1\n",
        "\n",
        "def update_table(s, a, delta):\n",
        "    q_table[s, a] += eta * delta"
      ],
      "id": "oPs6a-2W3Cag",
      "execution_count": 244,
      "outputs": []
    },
    {
      "cell_type": "code",
      "metadata": {
        "id": "3a34d4e1"
      },
      "source": [
        "episodes = 2000\n",
        "\n",
        "def train():\n",
        "    global q_table \n",
        "    q_table = init_table()\n",
        "    reward = []\n",
        "    for i in range(episodes):\n",
        "        s = env.reset()\n",
        "        reward.append([])\n",
        "        done = False\n",
        "        r_total = 0\n",
        "        delta = 0\n",
        "        while not done:\n",
        "            a = eps_greedy(s)\n",
        "            s_prime, r, done, _ = env.step(a)\n",
        "            # r_total += r\n",
        "            reward[i].append(r)\n",
        "            a_prime = exploit(s)\n",
        "            # s_prime, _, _, _ = env.step(a_prime)\n",
        "\n",
        "            delta = td_error(s, a, r, s_prime, a_prime)\n",
        "\n",
        "            update_table(s, a, delta)\n",
        "            s = s_prime\n",
        "            # env.env.s = s_prime\n",
        "    cumulative_rewards = [np.sum(reward[i]) for i in range(len(reward))]   \n",
        "    return cumulative_rewards"
      ],
      "id": "3a34d4e1",
      "execution_count": 284,
      "outputs": []
    },
    {
      "cell_type": "code",
      "metadata": {
        "id": "bYgmui7Q8qG9"
      },
      "source": [
        "env = CustomEnv()\n",
        "cumulative_rewards = train()"
      ],
      "id": "bYgmui7Q8qG9",
      "execution_count": 285,
      "outputs": []
    },
    {
      "cell_type": "code",
      "metadata": {
        "id": "gHBpsA_5X4Kp",
        "outputId": "082a1003-0695-4eb6-f491-4c3d25a1bd2e",
        "colab": {
          "base_uri": "https://localhost:8080/",
          "height": 312
        }
      },
      "source": [
        "plt.style.use('dark_background')\n",
        "plt.title('cumulative reward during learning over 2000 episodes')\n",
        "plt.xlabel('episodes')\n",
        "plt.ylabel('cumulative reward per episode')\n",
        "plt.plot(cumulative_rewards)"
      ],
      "id": "gHBpsA_5X4Kp",
      "execution_count": 290,
      "outputs": [
        {
          "output_type": "execute_result",
          "data": {
            "text/plain": [
              "[<matplotlib.lines.Line2D at 0x7f179d044210>]"
            ]
          },
          "metadata": {
            "tags": []
          },
          "execution_count": 290
        },
        {
          "output_type": "display_data",
          "data": {
            "image/png": "[encoded data removed]",
            "text/plain": [
              "<Figure size 432x288 with 1 Axes>"
            ]
          },
          "metadata": {
            "tags": []
          }
        }
      ]
    },
    {
      "cell_type": "markdown",
      "metadata": {
        "id": "8ea757dd"
      },
      "source": [
        "### Task 3.3.1 Size concerns for Tabular RL:\n",
        "The table for learning our simple enviroment has the size 64x4 for now. Since we have 64 possible States and 4 actions. How much bigger would the table get if we allowed the target to be placed anywhere?  "
      ],
      "id": "8ea757dd"
    },
    {
      "cell_type": "code",
      "metadata": {
        "id": "1cgxXVFbXXyt",
        "outputId": "b8857756-9e9c-44e4-84fb-bbe2236d57e7",
        "colab": {
          "base_uri": "https://localhost:8080/"
        }
      },
      "source": [
        "# the table would be 64 times as big as it is now so: 16384 entries\n",
        "print(64 * 64 * 4)"
      ],
      "id": "1cgxXVFbXXyt",
      "execution_count": 286,
      "outputs": [
        {
          "output_type": "stream",
          "text": [
            "16384\n"
          ],
          "name": "stdout"
        }
      ]
    },
    {
      "cell_type": "code",
      "metadata": {
        "id": "BlwgJmBr_Flv",
        "outputId": "c676ddfe-dfed-43c5-ebd3-9d4c7e308fe5",
        "colab": {
          "base_uri": "https://localhost:8080/"
        }
      },
      "source": [
        "s = env.reset()\n",
        "reward = []\n",
        "done = False\n",
        "while not done:\n",
        "    s, r, done, _ = env.step(np.argmax(q_table[s]))\n",
        "    reward.append(r)\n",
        "    clear_output(wait=True)\n",
        "    env.render()\n",
        "    time.sleep(.5)\n",
        "\n",
        "print('reward: {}'.format(np.sum(reward)))"
      ],
      "id": "BlwgJmBr_Flv",
      "execution_count": 279,
      "outputs": [
        {
          "output_type": "stream",
          "text": [
            "[[0. 0. 0. 0. 0. 0. 0. 0.]\n",
            " [0. 0. 0. 0. 2. 0. 0. 0.]\n",
            " [0. 0. 0. 0. 0. 0. 0. 0.]\n",
            " [0. 0. 0. 0. 0. 0. 0. 0.]\n",
            " [0. 0. 0. 0. 0. 0. 0. 0.]\n",
            " [0. 0. 0. 0. 0. 0. 0. 0.]\n",
            " [0. 0. 0. 0. 0. 0. 0. 0.]\n",
            " [0. 0. 0. 0. 0. 0. 0. 0.]]\n",
            "\n",
            "agent: 2\n",
            "target:1\n",
            "reward: 0.94\n"
          ],
          "name": "stdout"
        }
      ]
    }
  ]
}