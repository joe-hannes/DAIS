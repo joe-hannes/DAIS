{
  "nbformat": 4,
  "nbformat_minor": 5,
  "metadata": {
    "kernelspec": {
      "display_name": "Python 3",
      "language": "python",
      "name": "python3"
    },
    "language_info": {
      "codemirror_mode": {
        "name": "ipython",
        "version": 3
      },
      "file_extension": ".py",
      "mimetype": "text/x-python",
      "name": "python",
      "nbconvert_exporter": "python",
      "pygments_lexer": "ipython3",
      "version": "3.9.5"
    },
    "colab": {
      "name": "Ensembles.ipynb",
      "provenance": []
    }
  },
  "cells": [
    {
      "cell_type": "markdown",
      "metadata": {
        "id": "583d1489"
      },
      "source": [
        "# 1 Ensemble Learning"
      ],
      "id": "583d1489"
    },
    {
      "cell_type": "markdown",
      "metadata": {
        "id": "d6b86ad2"
      },
      "source": [
        "This task will be some hands-on programming of two different ensemble learning techniques, i.e. bagging and boosting. More specifically, we will use the [Bagging Classifier](https://scikit-learn.org/stable/modules/generated/sklearn.ensemble.BaggingClassifier.html) as well as [AdaBoost Classifier](https://scikit-learn.org/stable/modules/generated/sklearn.ensemble.AdaBoostClassifier.html) provided by the scikit-learn library.\n",
        "\n",
        "As you are already familiar with loading datasets, splitting into training and test data, fitting a classifier etc., we will this time just give you hints about what steps to do. Also, we will give you some libraries to import, so that you have a good impression already about what you might need for this task. You can use additional imports of course, but please stick with the libraries we have used in this course so far!"
      ],
      "id": "d6b86ad2"
    },
    {
      "cell_type": "code",
      "metadata": {
        "id": "0ad011a4"
      },
      "source": [
        "# Load libraries\n",
        "import numpy as np\n",
        "from sklearn import datasets\n",
        "from sklearn import metrics\n",
        "from sklearn.ensemble import BaggingClassifier\n",
        "from sklearn.ensemble import AdaBoostClassifier\n",
        "import matplotlib.pyplot as plt\n",
        "\n",
        "\n",
        "# Additional imports here, if needed\n",
        "\n",
        "np.random.seed(42)"
      ],
      "id": "0ad011a4",
      "execution_count": 23,
      "outputs": []
    },
    {
      "cell_type": "markdown",
      "metadata": {
        "id": "b4df304a"
      },
      "source": [
        "## 1.1 Load and Split **Digits** Dataset"
      ],
      "id": "b4df304a"
    },
    {
      "cell_type": "markdown",
      "metadata": {
        "id": "3bcaef78"
      },
      "source": [
        "### Task 1.1.1 Load dataset \n",
        "\n",
        "Load the [Digits Toy Dataset](https://scikit-learn.org/stable/datasets/toy_dataset.html#digits-dataset) provided by Scikit-Learn and save it in the variable given below. Make sure that **all 10 digits** are included in the dataset."
      ],
      "id": "3bcaef78"
    },
    {
      "cell_type": "code",
      "metadata": {
        "id": "bdfe78d7",
        "outputId": "8b745325-ae4d-49e4-e914-489f0bf8f508",
        "colab": {
          "base_uri": "https://localhost:8080/"
        }
      },
      "source": [
        "digits = datasets.load_digits()\n",
        "\n",
        "print(digits.DESCR)"
      ],
      "id": "bdfe78d7",
      "execution_count": 3,
      "outputs": [
        {
          "output_type": "stream",
          "text": [
            ".. _digits_dataset:\n",
            "\n",
            "Optical recognition of handwritten digits dataset\n",
            "--------------------------------------------------\n",
            "\n",
            "**Data Set Characteristics:**\n",
            "\n",
            "    :Number of Instances: 5620\n",
            "    :Number of Attributes: 64\n",
            "    :Attribute Information: 8x8 image of integer pixels in the range 0..16.\n",
            "    :Missing Attribute Values: None\n",
            "    :Creator: E. Alpaydin (alpaydin '@' boun.edu.tr)\n",
            "    :Date: July; 1998\n",
            "\n",
            "This is a copy of the test set of the UCI ML hand-written digits datasets\n",
            "https://archive.ics.uci.edu/ml/datasets/Optical+Recognition+of+Handwritten+Digits\n",
            "\n",
            "The data set contains images of hand-written digits: 10 classes where\n",
            "each class refers to a digit.\n",
            "\n",
            "Preprocessing programs made available by NIST were used to extract\n",
            "normalized bitmaps of handwritten digits from a preprinted form. From a\n",
            "total of 43 people, 30 contributed to the training set and different 13\n",
            "to the test set. 32x32 bitmaps are divided into nonoverlapping blocks of\n",
            "4x4 and the number of on pixels are counted in each block. This generates\n",
            "an input matrix of 8x8 where each element is an integer in the range\n",
            "0..16. This reduces dimensionality and gives invariance to small\n",
            "distortions.\n",
            "\n",
            "For info on NIST preprocessing routines, see M. D. Garris, J. L. Blue, G.\n",
            "T. Candela, D. L. Dimmick, J. Geist, P. J. Grother, S. A. Janet, and C.\n",
            "L. Wilson, NIST Form-Based Handprint Recognition System, NISTIR 5469,\n",
            "1994.\n",
            "\n",
            ".. topic:: References\n",
            "\n",
            "  - C. Kaynak (1995) Methods of Combining Multiple Classifiers and Their\n",
            "    Applications to Handwritten Digit Recognition, MSc Thesis, Institute of\n",
            "    Graduate Studies in Science and Engineering, Bogazici University.\n",
            "  - E. Alpaydin, C. Kaynak (1998) Cascading Classifiers, Kybernetika.\n",
            "  - Ken Tang and Ponnuthurai N. Suganthan and Xi Yao and A. Kai Qin.\n",
            "    Linear dimensionalityreduction using relevance weighted LDA. School of\n",
            "    Electrical and Electronic Engineering Nanyang Technological University.\n",
            "    2005.\n",
            "  - Claudio Gentile. A New Approximate Maximal Margin Classification\n",
            "    Algorithm. NIPS. 2000.\n"
          ],
          "name": "stdout"
        }
      ]
    },
    {
      "cell_type": "markdown",
      "metadata": {
        "id": "f0525e20"
      },
      "source": [
        "### Task 1.1.2 Save feature and target data\n",
        "\n",
        "Save the feature data from the dataset (i.e. the vectors representing the digits) and the respective target labels in two different variables *X* and *y*."
      ],
      "id": "f0525e20"
    },
    {
      "cell_type": "code",
      "metadata": {
        "id": "075926da"
      },
      "source": [
        "X = digits.data\n",
        "y = digits.target"
      ],
      "id": "075926da",
      "execution_count": 5,
      "outputs": []
    },
    {
      "cell_type": "markdown",
      "metadata": {
        "id": "1322257b"
      },
      "source": [
        "### Task 1.1.3 Split train and test data\n",
        "\n",
        "Split all data into train and test set, denoting your training set *(X_train, y_train)* and your test set *(X_test, y_test)*. We want to have 70% of the samples for training and 30% of the samples for testing."
      ],
      "id": "1322257b"
    },
    {
      "cell_type": "code",
      "metadata": {
        "id": "7969cab3"
      },
      "source": [
        "training_size = int(len(X) / 100 * 70)\n",
        "test_size = len(X) - training_size\n",
        "x_train = X[0:training_size]\n",
        "x_test = X[0:test_size]\n",
        "\n",
        "y_train = y[0:training_size]\n",
        "y_test = y[0:test_size]"
      ],
      "id": "7969cab3",
      "execution_count": 13,
      "outputs": []
    },
    {
      "cell_type": "markdown",
      "metadata": {
        "id": "30b3a37e"
      },
      "source": [
        "## Task 1.2 Bagging Classifier"
      ],
      "id": "30b3a37e"
    },
    {
      "cell_type": "markdown",
      "metadata": {
        "id": "7a684cb0"
      },
      "source": [
        "### Task 1.2.1 Train Classifier\n",
        "\n",
        "Create a **Bagging Classifier** object and train it on the given training data you got from task 1.1.3. You can play with different sets of parameters for the classifier (such as number of estimators etc.), but please keep the original base estimator (i.e. decision tree)."
      ],
      "id": "7a684cb0"
    },
    {
      "cell_type": "code",
      "metadata": {
        "id": "26b33171"
      },
      "source": [
        "bc = BaggingClassifier()\n",
        "bc_model = bc.fit(x_train,y_train)"
      ],
      "id": "26b33171",
      "execution_count": 18,
      "outputs": []
    },
    {
      "cell_type": "markdown",
      "metadata": {
        "id": "ca6aed0d"
      },
      "source": [
        "### Task 1.2.2 Evaluate Classifier\n",
        "\n",
        "Now it's time to see how the classifier performs. Make the prediction of target labels *y_pred* based on the test samples and print the accuracy of the model."
      ],
      "id": "ca6aed0d"
    },
    {
      "cell_type": "code",
      "metadata": {
        "id": "907a3964",
        "outputId": "6321807a-c7b1-4c91-de87-7e13ce1e6b7d",
        "colab": {
          "base_uri": "https://localhost:8080/",
          "height": 810
        }
      },
      "source": [
        "y_pred = bc_model.predict(x_test)\n",
        "\n",
        "# print(y_pred)\n",
        "# print(y_test)\n",
        "\n",
        "\n",
        "\n",
        "# plt.imshow(x_test[31].reshape(8, 8))\n",
        "\n",
        "bc_accuracy = bc_model.score(x_test, y_test)\n",
        "\n",
        "print(\"Accuracy of Bagging Classifier on Digits Dataset: %.4f\" % bc_accuracy)"
      ],
      "id": "907a3964",
      "execution_count": 28,
      "outputs": [
        {
          "output_type": "stream",
          "text": [
            "[0 1 2 3 4 5 6 7 8 9 0 1 2 3 4 5 6 7 8 9 0 1 2 3 4 5 6 7 8 9 0 9 5 5 6 5 0\n",
            " 9 8 9 8 4 1 7 7 3 5 1 0 0 2 2 7 8 2 0 1 2 6 3 3 7 3 3 4 6 6 6 4 9 1 5 0 9\n",
            " 5 2 8 2 0 0 1 7 6 3 2 1 7 4 6 3 1 3 9 1 7 6 8 4 3 1 4 0 5 3 6 9 6 1 7 5 4\n",
            " 4 7 2 8 2 2 5 7 9 5 4 8 8 4 9 0 8 9 8 0 1 2 3 4 5 6 7 8 9 0 1 2 3 4 5 6 7\n",
            " 8 9 0 1 2 3 4 5 6 7 8 9 0 9 5 5 6 5 0 9 8 9 8 4 1 7 7 3 5 1 0 0 2 2 7 8 2\n",
            " 0 1 2 6 3 3 7 3 3 4 6 6 6 4 9 1 5 0 9 5 2 8 2 0 0 1 7 6 3 2 1 7 3 1 3 9 1\n",
            " 7 6 8 4 3 1 4 0 5 3 6 9 6 1 7 5 4 4 7 2 8 2 2 5 5 4 8 8 4 9 0 8 9 8 0 1 2\n",
            " 3 4 5 6 7 8 9 0 1 2 3 4 5 6 7 8 9 0 1 2 3 4 5 6 7 8 9 0 9 5 5 6 5 0 9 8 9\n",
            " 8 4 1 7 7 3 5 1 0 0 2 2 7 8 2 0 1 2 6 3 3 7 3 3 4 6 6 6 4 9 1 5 0 9 5 2 8\n",
            " 2 0 0 1 7 6 3 2 1 7 4 6 3 1 3 9 1 7 6 8 4 3 1 4 0 5 3 6 9 6 1 7 5 4 4 7 2\n",
            " 8 2 2 5 7 9 5 4 8 8 4 9 0 8 9 3 0 1 2 3 4 5 6 7 8 9 0 1 2 3 4 5 6 7 8 9 0\n",
            " 1 2 3 4 5 6 7 8 9 0 9 5 5 6 5 0 9 8 9 8 4 1 7 7 3 5 1 0 0 2 2 7 8 2 0 1 2\n",
            " 6 3 3 7 3 3 4 6 6 6 4 9 1 5 0 9 5 2 8 2 0 0 1 7 6 3 2 1 7 4 6 3 1 3 9 1 7\n",
            " 6 8 4 3 1 4 0 5 3 6 9 6 1 7 5 4 4 7 2 8 2 2 5 7 9 5 4 8 8 4 9 0 8 9 8 0 1\n",
            " 2 3 4 5 6 7 8 9 0 1 2 3 4 5 6 7 8 9 0 1 2 3]\n",
            "[0 1 2 3 4 5 6 7 8 9 0 1 2 3 4 5 6 7 8 9 0 1 2 3 4 5 6 7 8 9 0 9 5 5 6 5 0\n",
            " 9 8 9 8 4 1 7 7 3 5 1 0 0 2 2 7 8 2 0 1 2 6 3 3 7 3 3 4 6 6 6 4 9 1 5 0 9\n",
            " 5 2 8 2 0 0 1 7 6 3 2 1 7 4 6 3 1 3 9 1 7 6 8 4 3 1 4 0 5 3 6 9 6 1 7 5 4\n",
            " 4 7 2 8 2 2 5 7 9 5 4 8 8 4 9 0 8 9 8 0 1 2 3 4 5 6 7 8 9 0 1 2 3 4 5 6 7\n",
            " 8 9 0 1 2 3 4 5 6 7 8 9 0 9 5 5 6 5 0 9 8 9 8 4 1 7 7 3 5 1 0 0 2 2 7 8 2\n",
            " 0 1 2 6 3 3 7 3 3 4 6 6 6 4 9 1 5 0 9 5 2 8 2 0 0 1 7 6 3 2 1 7 3 1 3 9 1\n",
            " 7 6 8 4 3 1 4 0 5 3 6 9 6 1 7 5 4 4 7 2 8 2 2 5 5 4 8 8 4 9 0 8 9 8 0 1 2\n",
            " 3 4 5 6 7 8 9 0 1 2 3 4 5 6 7 8 9 0 1 2 3 4 5 6 7 8 9 0 9 5 5 6 5 0 9 8 9\n",
            " 8 4 1 7 7 3 5 1 0 0 2 2 7 8 2 0 1 2 6 3 3 7 3 3 4 6 6 6 4 9 1 5 0 9 5 2 8\n",
            " 2 0 0 1 7 6 3 2 1 7 4 6 3 1 3 9 1 7 6 8 4 3 1 4 0 5 3 6 9 6 1 7 5 4 4 7 2\n",
            " 8 2 2 5 7 9 5 4 8 8 4 9 0 8 9 3 0 1 2 3 4 5 6 7 8 9 0 1 2 3 4 5 6 7 8 9 0\n",
            " 1 2 3 4 5 6 7 8 9 0 9 5 5 6 5 0 9 8 9 8 4 1 7 7 3 5 1 0 0 2 2 7 8 2 0 1 2\n",
            " 6 3 3 7 3 3 4 6 6 6 4 9 1 5 0 9 5 2 8 2 0 0 1 7 6 3 2 1 7 4 6 3 1 3 9 1 7\n",
            " 6 8 4 3 1 4 0 5 3 6 9 6 1 7 5 4 4 7 2 8 2 2 5 7 9 5 4 8 8 4 9 0 8 9 8 0 1\n",
            " 2 3 4 5 6 7 8 9 0 1 2 3 4 5 6 7 8 9 0 1 2 3]\n",
            "Accuracy of Bagging Classifier on Digits Dataset: 1.0000\n"
          ],
          "name": "stdout"
        },
        {
          "output_type": "display_data",
          "data": {
            "image/png": "[encoded data removed]",
            "text/plain": [
              "<Figure size 432x288 with 1 Axes>"
            ]
          },
          "metadata": {
            "tags": [],
            "needs_background": "light"
          }
        }
      ]
    },
    {
      "cell_type": "markdown",
      "metadata": {
        "id": "c0a2cb57"
      },
      "source": [
        "Great, you're done! Now it's time to do the same few steps using the AdaBoost classifier."
      ],
      "id": "c0a2cb57"
    },
    {
      "cell_type": "markdown",
      "metadata": {
        "id": "6ab3ad56"
      },
      "source": [
        "## Task 1.3 AdaBoost Classifier"
      ],
      "id": "6ab3ad56"
    },
    {
      "cell_type": "markdown",
      "metadata": {
        "id": "6890d1ce"
      },
      "source": [
        "### Task 1.3.1 Train Classifier\n",
        "\n",
        "Create an **AdaBoost Classifier** object and train it on the given training data you got from task 1.1.3. You can play with different sets of parameters for the classifier (such as number of estimators, learning rate etc.), but please keep the original base estimator (i.e. decision tree)."
      ],
      "id": "6890d1ce"
    },
    {
      "cell_type": "code",
      "metadata": {
        "id": "d07eab24"
      },
      "source": [
        "abc = AdaBoostClassifier(n_estimators=100, random_state=0)\n",
        "\n",
        "abc_model = abc.fit(x_train, y_train, )"
      ],
      "id": "d07eab24",
      "execution_count": 36,
      "outputs": []
    },
    {
      "cell_type": "markdown",
      "metadata": {
        "id": "50442418"
      },
      "source": [
        "### Task 1.3.2 Evaluate Classifier\n",
        "\n",
        "Once again it's time to see how the classifier performs. Make the prediction of target labels *y_pred* based on the test samples and print the accuracy of the model."
      ],
      "id": "50442418"
    },
    {
      "cell_type": "code",
      "metadata": {
        "id": "08f853f2",
        "outputId": "b7dd74ee-10cd-4f72-d777-3091071b0bdf",
        "colab": {
          "base_uri": "https://localhost:8080/"
        }
      },
      "source": [
        "y_pred = abc_model.predict(x_test)\n",
        "\n",
        "abc_accuracy = abc_model.score(x_test, y_test)\n",
        "\n",
        "print(y_pred)\n",
        "print(y_test)\n",
        "\n",
        "\n",
        "\n",
        "# plt.imshow(x_test[31].reshape(8, 8))\n",
        "\n",
        "print(\"Accuracy of AdaBoost Classifier on Digits Dataset: %.4f\" % abc_accuracy)"
      ],
      "id": "08f853f2",
      "execution_count": 38,
      "outputs": [
        {
          "output_type": "stream",
          "text": [
            "[0 1 1 1 0 1 6 1 1 1 0 1 1 1 1 1 1 1 1 9 0 1 1 1 6 6 1 1 1 1 0 9 1 1 1 1 0\n",
            " 1 9 9 1 1 1 1 1 1 1 1 0 0 1 1 1 1 1 0 1 1 6 1 1 1 1 1 6 6 6 6 1 1 1 1 9 9\n",
            " 1 1 1 1 0 0 1 1 6 1 1 1 6 1 6 1 1 1 1 1 1 1 1 1 1 1 1 0 1 1 6 9 9 1 1 1 1\n",
            " 1 1 1 1 1 1 1 1 1 1 1 1 1 1 1 0 9 1 1 0 1 1 1 1 6 6 1 1 9 0 1 1 1 1 1 1 1\n",
            " 1 1 0 1 1 1 1 0 6 1 1 9 0 1 1 6 6 6 0 1 1 9 1 1 1 1 1 1 1 1 0 0 1 1 1 1 1\n",
            " 9 1 1 6 1 1 1 1 1 1 1 6 6 1 1 1 1 0 1 0 1 1 1 0 9 1 1 6 1 1 1 1 1 1 1 1 1\n",
            " 1 1 1 1 1 1 1 0 6 1 1 1 1 1 1 6 1 1 1 1 1 1 1 6 1 1 1 1 1 1 0 1 1 1 0 1 1\n",
            " 1 1 9 6 1 1 1 0 1 1 1 1 1 6 1 1 1 0 1 1 1 1 1 6 1 1 1 0 9 1 1 6 1 0 1 1 1\n",
            " 1 1 1 1 1 1 1 1 0 0 1 1 1 1 1 0 1 1 1 1 1 1 1 1 1 6 6 6 6 1 1 1 0 1 1 1 1\n",
            " 1 0 0 1 1 6 1 1 1 1 1 6 1 1 1 1 1 1 1 1 6 1 1 1 0 1 1 6 1 6 1 1 1 6 1 1 1\n",
            " 1 1 1 1 1 1 1 1 1 1 1 1 0 1 1 1 0 1 1 1 1 1 1 1 1 9 0 1 1 1 1 1 1 1 1 1 0\n",
            " 1 1 1 1 1 1 1 1 1 9 1 1 1 1 1 0 1 1 1 1 1 1 1 1 1 1 1 0 0 1 1 1 1 1 0 1 1\n",
            " 1 1 1 6 1 1 1 1 1 1 1 1 1 1 0 1 1 1 1 1 0 0 1 6 1 1 1 1 1 1 1 1 1 1 1 1 1\n",
            " 1 1 1 1 1 1 9 1 1 1 1 1 1 1 1 1 1 1 1 1 1 1 1 1 1 1 1 1 1 1 1 0 1 1 1 9 1\n",
            " 1 1 1 9 1 1 1 1 0 1 1 1 1 9 1 1 1 1 9 1 1 1]\n",
            "[0 1 2 3 4 5 6 7 8 9 0 1 2 3 4 5 6 7 8 9 0 1 2 3 4 5 6 7 8 9 0 9 5 5 6 5 0\n",
            " 9 8 9 8 4 1 7 7 3 5 1 0 0 2 2 7 8 2 0 1 2 6 3 3 7 3 3 4 6 6 6 4 9 1 5 0 9\n",
            " 5 2 8 2 0 0 1 7 6 3 2 1 7 4 6 3 1 3 9 1 7 6 8 4 3 1 4 0 5 3 6 9 6 1 7 5 4\n",
            " 4 7 2 8 2 2 5 7 9 5 4 8 8 4 9 0 8 9 8 0 1 2 3 4 5 6 7 8 9 0 1 2 3 4 5 6 7\n",
            " 8 9 0 1 2 3 4 5 6 7 8 9 0 9 5 5 6 5 0 9 8 9 8 4 1 7 7 3 5 1 0 0 2 2 7 8 2\n",
            " 0 1 2 6 3 3 7 3 3 4 6 6 6 4 9 1 5 0 9 5 2 8 2 0 0 1 7 6 3 2 1 7 3 1 3 9 1\n",
            " 7 6 8 4 3 1 4 0 5 3 6 9 6 1 7 5 4 4 7 2 8 2 2 5 5 4 8 8 4 9 0 8 9 8 0 1 2\n",
            " 3 4 5 6 7 8 9 0 1 2 3 4 5 6 7 8 9 0 1 2 3 4 5 6 7 8 9 0 9 5 5 6 5 0 9 8 9\n",
            " 8 4 1 7 7 3 5 1 0 0 2 2 7 8 2 0 1 2 6 3 3 7 3 3 4 6 6 6 4 9 1 5 0 9 5 2 8\n",
            " 2 0 0 1 7 6 3 2 1 7 4 6 3 1 3 9 1 7 6 8 4 3 1 4 0 5 3 6 9 6 1 7 5 4 4 7 2\n",
            " 8 2 2 5 7 9 5 4 8 8 4 9 0 8 9 3 0 1 2 3 4 5 6 7 8 9 0 1 2 3 4 5 6 7 8 9 0\n",
            " 1 2 3 4 5 6 7 8 9 0 9 5 5 6 5 0 9 8 9 8 4 1 7 7 3 5 1 0 0 2 2 7 8 2 0 1 2\n",
            " 6 3 3 7 3 3 4 6 6 6 4 9 1 5 0 9 5 2 8 2 0 0 1 7 6 3 2 1 7 4 6 3 1 3 9 1 7\n",
            " 6 8 4 3 1 4 0 5 3 6 9 6 1 7 5 4 4 7 2 8 2 2 5 7 9 5 4 8 8 4 9 0 8 9 8 0 1\n",
            " 2 3 4 5 6 7 8 9 0 1 2 3 4 5 6 7 8 9 0 1 2 3]\n",
            "Accuracy of AdaBoost Classifier on Digits Dataset: 0.2574\n"
          ],
          "name": "stdout"
        }
      ]
    },
    {
      "cell_type": "markdown",
      "metadata": {
        "id": "2da78ccc"
      },
      "source": [
        "_________________________\n",
        "\n",
        "You're done! Are the accuracy results as you had expected? If not, feel free to adjust some parameters to maximize your outcome. Either way, you might have just written your very first ensemble classifiers in python!"
      ],
      "id": "2da78ccc"
    },
    {
      "cell_type": "code",
      "metadata": {
        "id": "5cf3d2f3"
      },
      "source": [
        ""
      ],
      "id": "5cf3d2f3",
      "execution_count": null,
      "outputs": []
    }
  ]
}