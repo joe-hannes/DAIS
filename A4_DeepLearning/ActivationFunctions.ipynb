{
 "cells": [
  {
   "cell_type": "markdown",
   "id": "1eb5be7a",
   "metadata": {},
   "source": [
    "# 3 Activation Functions and Vanishing Gradient"
   ]
  },
  {
   "cell_type": "markdown",
   "id": "f08b710e",
   "metadata": {},
   "source": [
    "The purpose of this task is to get familiar with different activation functions commonly used in artificial neural networks, as well as with some particular problems associated with some of the functions. We will mostly use the common libraries that you have learned to work with in previous assignments for this task."
   ]
  },
  {
   "cell_type": "code",
   "execution_count": null,
   "id": "ddf5baaa",
   "metadata": {},
   "outputs": [],
   "source": [
    "# Basic import packages. You can add other packages as needed.\n",
    "import numpy as np\n",
    "import matplotlib.pyplot as plt\n",
    "\n",
    "%matplotlib inline"
   ]
  },
  {
   "cell_type": "markdown",
   "id": "51183067",
   "metadata": {},
   "source": [
    "## 3.1 Activation Functions\n",
    "Your first task will be to give a brief overview of the most popular activation functions used in machine learning, both in terms of mathematical definition and plotting. \n",
    "\n",
    "_As usual, for all plots you will produce, keep in mind to add title, proper axis ticks, and axis labels to the plots and make sure they're readable and comprehensible. Whenever you have to plot two different lines, please use different colors for them and add a legend to the plot._"
   ]
  },
  {
   "cell_type": "markdown",
   "id": "58fda0c6",
   "metadata": {},
   "source": [
    "### 3.1.1 Logistic function\n",
    "The logistic function is one particular Sigmoid activation function. Given some neuron input $x$, it is defined by the formula $$f(x) = \\frac{1}{1+e^{-x}}$$\n",
    "\n",
    "1.) Implement a python function that calculates the logistic function, then\n",
    "\n",
    "2.) implement the derivative of the logistic function (either you look it up online or you try to derive the equation yourself), and finally\n",
    "\n",
    "3.) write a function that plots both the logistic function $f(x)$ as well as its derivative/gradient $\\frac{\\partial f(x)}{\\partial x}$ for the some given interval of input values, denoted by the lower bound $x_{\\text{min}}$ and the upper bound $x_{\\text{max}}$. As an example, given the function call ```plot_logistic(-8, 8)```, we want to plot the function and its gradient for the interval $x \\in \\{-8, 8\\}$. Use the third code box below to test your plots against different combinations of input."
   ]
  },
  {
   "cell_type": "code",
   "execution_count": null,
   "id": "e19e6620",
   "metadata": {},
   "outputs": [],
   "source": [
    "def logistic(x):\n",
    "    # your code here\n",
    "    return result"
   ]
  },
  {
   "cell_type": "code",
   "execution_count": null,
   "id": "616e7f91",
   "metadata": {},
   "outputs": [],
   "source": [
    "def logistic_grad(x):\n",
    "    # your code here\n",
    "    return result"
   ]
  },
  {
   "cell_type": "code",
   "execution_count": null,
   "id": "49ed9e54",
   "metadata": {},
   "outputs": [],
   "source": [
    "def plot_logistic(x_min, x_max):\n",
    "    # your code here"
   ]
  },
  {
   "cell_type": "code",
   "execution_count": null,
   "id": "a386b067",
   "metadata": {},
   "outputs": [],
   "source": [
    "# Use this function call to test your code for different interval boundaries.\n",
    "plot_logistic(-8, 8)"
   ]
  },
  {
   "cell_type": "markdown",
   "id": "5015616f",
   "metadata": {},
   "source": [
    "### 3.1.2 Hyperbolic tangent\n",
    "\n",
    "The hyperbolic tangent $(tanh)$ is another type of Sigmoid activation function. Given some neuron input $x$, it is defined by the formula $$f(x) = tanh(x) = \\frac{e^x - e^{-x}}{e^x + e^{-x}}$$\n",
    "\n",
    "1.) Implement a python function that calculates the hyperbolic tangent, then\n",
    "\n",
    "2.) implement the derivative of the hyperbolic tangent (either you look it up online or you try to derive the equation yourself), and finally\n",
    "\n",
    "3.) write a function that plots both the hyperbolic tangent $f(x)$ as well as its derivative/gradient $\\frac{\\partial f(x)}{\\partial x}$ for the some given interval of input values, denoted by the lower bound $x_{\\text{min}}$ and the upper bound $x_{\\text{max}}$. As an example, given the function call ```plot_tanh(-8, 8)```, we want to plot the function and its gradient for the interval $x \\in \\{-8, 8\\}$. Use the third code box below to test your plots against different combinations of input."
   ]
  },
  {
   "cell_type": "code",
   "execution_count": null,
   "id": "0d7e7813",
   "metadata": {},
   "outputs": [],
   "source": [
    "def tanh(x):\n",
    "    # your code here\n",
    "    return result"
   ]
  },
  {
   "cell_type": "code",
   "execution_count": null,
   "id": "34366a35",
   "metadata": {},
   "outputs": [],
   "source": [
    "def tanh_grad(x):\n",
    "    # your code here\n",
    "    return result"
   ]
  },
  {
   "cell_type": "code",
   "execution_count": null,
   "id": "302ff592",
   "metadata": {},
   "outputs": [],
   "source": [
    "def plot_tanh(x_min, x_max):\n",
    "    # your code here"
   ]
  },
  {
   "cell_type": "code",
   "execution_count": null,
   "id": "6ddbbd9e",
   "metadata": {},
   "outputs": [],
   "source": [
    "# Use this function call to test your code for different interval boundaries.\n",
    "plot_tanh(-8, 8)"
   ]
  },
  {
   "cell_type": "markdown",
   "id": "13715365",
   "metadata": {},
   "source": [
    "### 3.1.3 Rectified Linear Unit\n",
    "The Rectified Linear Unit (ReLU) is another well-known actiavtion function used in neural networks. Given some neuron input $x$, it is defined by the formula \n",
    "\n",
    "$$f(x) = \\begin{cases}\n",
    "      x, & \\text{if} \\; x>0 \\\\\n",
    "      0, & \\text{otherwise}\n",
    "    \\end{cases}$$\n",
    "\n",
    "1.) Implement a python function that calculates the ReLU function, then\n",
    "\n",
    "2.) implement the derivative of the ReLU function (either you look it up online or you try to derive the equation yourself), and finally\n",
    "\n",
    "3.) write a function that plots both the ReLU function $f(x)$ as well as its derivative/gradient $\\frac{\\partial f(x)}{\\partial x}$ for the some given interval of input values, denoted by the lower bound $x_{\\text{min}}$ and the upper bound $x_{\\text{max}}$. As an example, given the function call ```plot_relu(-8, 8)```, we want to plot the function and its gradient for the interval $x \\in \\{-8, 8\\}$. Use the third code box below to test your plots against different combinations of input."
   ]
  },
  {
   "cell_type": "code",
   "execution_count": null,
   "id": "ca7a1a1b",
   "metadata": {},
   "outputs": [],
   "source": [
    "def relu(x):\n",
    "    # your code here\n",
    "    return result"
   ]
  },
  {
   "cell_type": "code",
   "execution_count": null,
   "id": "daaaecfc",
   "metadata": {},
   "outputs": [],
   "source": [
    "def relu_grad(x):\n",
    "    # your code here\n",
    "    return result"
   ]
  },
  {
   "cell_type": "code",
   "execution_count": null,
   "id": "4c36c922",
   "metadata": {},
   "outputs": [],
   "source": [
    "def plot_relu(x_min, x_max):\n",
    "    # your code here"
   ]
  },
  {
   "cell_type": "code",
   "execution_count": null,
   "id": "6f23eb6b",
   "metadata": {},
   "outputs": [],
   "source": [
    "# Use this function call to test your code for different interval boundaries.\n",
    "plot_relu(-8, 8)"
   ]
  },
  {
   "cell_type": "markdown",
   "id": "f26f30e0",
   "metadata": {},
   "source": [
    "## 3.2 Vanishing Gradients\n",
    "\n",
    "Explain the problem of **vanishing gradients** in your own words by taking a look at the plots you just generated above and answering the questions below: \n",
    "\n",
    "- When can vanishing gradients occur?\n",
    "- Assuming our input values are positive, which activation functions are prone to vanishing gradients, and why?\n",
    "- Which layers in a feed-forward neural network are most affected by vanishing gradients?\n",
    "- Considering the causes of vanishing gradients, what could instead cause the **exploding gradients** problem in neural networks?"
   ]
  },
  {
   "cell_type": "markdown",
   "id": "d6c5a25f",
   "metadata": {},
   "source": [
    "**ANSWER:**"
   ]
  },
  {
   "cell_type": "markdown",
   "id": "af9d15b4",
   "metadata": {},
   "source": []
  }
 ],
 "metadata": {
  "kernelspec": {
   "display_name": "Python 3",
   "language": "python",
   "name": "python3"
  },
  "language_info": {
   "codemirror_mode": {
    "name": "ipython",
    "version": 3
   },
   "file_extension": ".py",
   "mimetype": "text/x-python",
   "name": "python",
   "nbconvert_exporter": "python",
   "pygments_lexer": "ipython3",
   "version": "3.8.9"
  }
 },
 "nbformat": 4,
 "nbformat_minor": 5
}
