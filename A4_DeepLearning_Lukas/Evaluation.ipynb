{
 "cells": [
  {
   "cell_type": "markdown",
   "id": "e292f456",
   "metadata": {},
   "source": [
    "## Model evaluation\n",
    "In this task we will take a look at the evaluation of a classifier. To do this we give you some functions that allow you to train a classifier with PyTorch. PyTorch is a bit more advanced than scikit-learn and needs you to do more of the busy work yourself.\n",
    "On the other hand it gives you the freedom to manually create your own training schemes and network configurations. Together with tensorflow it is the defacto industry standart when it comes to neural network training.\n",
    "For this task it's not really necessary to understand the PyTorch code but if you're interested in learning PyTorch try to follow along by reading the comments. Don't worry, it's ok if you don't understand everything. Just be aware that for our purpose torch.tensor behaves mostly like numpy.array which you should be familiar with by now.\n",
    "\n",
    "\n",
    "A great opporunity to learn more is the PyTorch Homepage wich provides many Tutorials on different machine learning tasks. \n",
    "https://pytorch.org/tutorials/\n",
    "\n",
    "If you want to find information on a given function take a look at the documentation: \n",
    "https://pytorch.org/docs/stable/index.html"
   ]
  },
  {
   "cell_type": "code",
   "execution_count": null,
   "id": "0d10c5b4",
   "metadata": {},
   "outputs": [],
   "source": [
    "#Install the needed packages\n",
    "!python -m pip install torch\n",
    "!python -m pip install sklearn"
   ]
  },
  {
   "cell_type": "code",
   "execution_count": null,
   "id": "cathedral-bowling",
   "metadata": {},
   "outputs": [],
   "source": [
    "import torch\n",
    "from torch.utils.data import Dataset, DataLoader\n",
    "from sklearn.datasets import load_wine\n",
    "from sklearn.preprocessing import StandardScaler\n",
    "torch.manual_seed(0)"
   ]
  },
  {
   "cell_type": "markdown",
   "id": "direct-david",
   "metadata": {},
   "source": [
    "### Load the data\n",
    "We load the Wine data set from scikit learn and normalize it with z-score transformation. Afterwards we shuffle the data because it is ordered by class and this order would mess with the kfold crossvalidation you are going to implement."
   ]
  },
  {
   "cell_type": "code",
   "execution_count": null,
   "id": "1f90da40",
   "metadata": {},
   "outputs": [],
   "source": [
    "wine = load_wine()\n",
    "data = wine[\"data\"]\n",
    "\n",
    "target = torch.from_numpy(wine[\"target\"])\n",
    "\n",
    "#scale the data to mean = 0 and var = 1\n",
    "scaler = StandardScaler()\n",
    "scaler.fit(data)\n",
    "data = torch.from_numpy(scaler.transform(data)).float()\n",
    "\n",
    "#Because the data is ordered we need to shuffle it\n",
    "shuffle_seed = torch.randperm(data.shape[0])\n",
    "data = data[shuffle_seed]\n",
    "target = target[shuffle_seed]\n",
    "\n",
    "attribute_count = data.shape[1]\n",
    "label_count = len(wine[\"target_names\"])"
   ]
  },
  {
   "cell_type": "markdown",
   "id": "6c075b9e",
   "metadata": {},
   "source": [
    "### Dataset\n",
    "As you should already know you can print the information about the dataset with the \"DESCR\" key."
   ]
  },
  {
   "cell_type": "code",
   "execution_count": null,
   "id": "b0a866f2",
   "metadata": {},
   "outputs": [],
   "source": [
    "print(wine[\"DESCR\"])"
   ]
  },
  {
   "cell_type": "markdown",
   "id": "objective-majority",
   "metadata": {},
   "source": [
    "### Define model\n",
    "Here we define our model. Some of the values are fixed by our dataset, like the number of input neurons and the number of output neurons. The hidden layers can be varied and are given in here as a list of integers, where every element defines the number of neurons in a hidden layer i.e. hidden_layers =  [10,10] defines a neural network with two hidden layers with 10 neurons each."
   ]
  },
  {
   "cell_type": "code",
   "execution_count": null,
   "id": "enormous-uncle",
   "metadata": {},
   "outputs": [],
   "source": [
    "def create_model(hidden_layers = [],input_size = attribute_count, output_size = label_count, \n",
    "                 activation = torch.nn.ReLU(),output_activation = torch.nn.Identity()):\n",
    "    #the list of sizes is usefull to manage the input and output sizes of the layers in our network\n",
    "    sizes = [input_size] + hidden_layers + [output_size]\n",
    "    #the list of layers will be combined by using nn.Sequential to easily create a feed forwad network\n",
    "    #from a list of layers and activation functions\n",
    "    layers = []\n",
    "    \n",
    "    for i in range(len(sizes)-1):\n",
    "        #choose the inner activation function for all layers except the last one\n",
    "        act = activation if i < len(sizes) -2 else output_activation\n",
    "        #concatenate a Linear layer and the activation function with our layer list\n",
    "        layers+= [torch.nn.Linear(sizes[i],sizes[i+1]),act]\n",
    "    #create the neural network from our layer list\n",
    "    return torch.nn.Sequential(*layers)"
   ]
  },
  {
   "cell_type": "markdown",
   "id": "regular-audit",
   "metadata": {},
   "source": [
    "### Training Loop\n",
    "The train_model function contains the training Loop for a given model. Mandatory inputs are the model, data, target and epochs. "
   ]
  },
  {
   "cell_type": "code",
   "execution_count": null,
   "id": "current-certification",
   "metadata": {},
   "outputs": [],
   "source": [
    "def trainModel(model, data, target, epochs, lr = 0.01, batchsize = 20, shuffle = False):\n",
    "    #How to calculate the Loss (here we use crossentropy) \n",
    "    criterion = torch.nn.CrossEntropyLoss()\n",
    "    \n",
    "    #The Optimization method for the weights Adam or Stochastic Gradient Descent (SGD) are feasible\n",
    "    optimizer = torch.optim.Adam(model.parameters(),lr=lr)\n",
    "    #Loop n times over the Dataset\n",
    "    for epoch in range(epochs):\n",
    "        #It may be helpful to shuffle your data every epoch, we don't do it here for reproducibility reasons\n",
    "        if shuffle:\n",
    "            seed = torch.randperm(data.shape[0])\n",
    "            data = data[seed]\n",
    "            target = target[seed]\n",
    "        for index in range(0,len(data),batchsize):\n",
    "            #create the batch\n",
    "            batch_last = index + batchsize\n",
    "            data_batch = data[index: batch_last] if batch_last < data.shape[0] else data[index: -1]\n",
    "            target_batch = target[index: batch_last] if batch_last < target.shape[0] else target[index: -1]\n",
    "            \n",
    "            #forward pass\n",
    "            #calculate the outputs\n",
    "            scores = model(data_batch)\n",
    "            #calculate the loss\n",
    "            loss = criterion(scores, target_batch)\n",
    "            #backpropagation\n",
    "            #The gradient has to be set to zero before calculating the new gradients\n",
    "            optimizer.zero_grad()\n",
    "            #propagate the loss backwards through the network\n",
    "            loss.backward()\n",
    "            #update the weights\n",
    "            optimizer.step()\n",
    "    #return the trained model       \n",
    "    return model\n",
    "    "
   ]
  },
  {
   "cell_type": "markdown",
   "id": "69b26619",
   "metadata": {},
   "source": [
    "### Make predictions\n",
    "The predict function takes the model and some data and predicts the class asscociated with the data."
   ]
  },
  {
   "cell_type": "code",
   "execution_count": null,
   "id": "6931014f",
   "metadata": {},
   "outputs": [],
   "source": [
    "def predict(data,model):\n",
    "    #if a single datapoint is given we have to unsqueeze it to handle more than one datapoint aswell\n",
    "    if(len(data.shape)) == 1:\n",
    "        data = data.unsqueeze(0)\n",
    "    #find the output of our model that has the largest value and use it as our prediction\n",
    "    #(torch.tensor.max() returns the largest value as the first return value and its index as the scond return value)\n",
    "    _, prediction = model(data).max(1)\n",
    "    return prediction"
   ]
  },
  {
   "cell_type": "markdown",
   "id": "b7d3c213",
   "metadata": {},
   "source": [
    "### Accuracy\n",
    "The calculate_accuracy function takes some data and the asscociated targets and a model and calculates the accuracy of the model"
   ]
  },
  {
   "cell_type": "code",
   "execution_count": null,
   "id": "7380b0c7",
   "metadata": {},
   "outputs": [],
   "source": [
    "def calculate_accuracy(data, target, model):\n",
    "    num_samples = data.shape[0]\n",
    "    #switch to evaluation mode\n",
    "    model.eval()\n",
    "    with torch.no_grad():\n",
    "        #generate the predictions for the data from our model\n",
    "        prediction = predict(data,model)\n",
    "        #sum up correct predictions (True = 1)\n",
    "        num_correct = (prediction == target).sum()\n",
    "        #calculate accuracy (proportion of correct predictions)\n",
    "        return num_correct/num_samples\n"
   ]
  },
  {
   "cell_type": "markdown",
   "id": "2ed95000",
   "metadata": {},
   "source": [
    "### Putting it all together\n",
    "Now it is time to put it all together. We create a Model with two hidden layers with 100 neurons each and train it on the whole dataset. After that we evaluate the accuracy of our model on the training-data."
   ]
  },
  {
   "cell_type": "code",
   "execution_count": null,
   "id": "f9a23d1c",
   "metadata": {},
   "outputs": [],
   "source": [
    "model = create_model([10])\n",
    "model = trainModel(model, data, target, 50, lr = 0.01)\n",
    "accuracy = calculate_accuracy(data,target, model)\n",
    "print(f\"Accuracy on training set: {accuracy*100:.2f} %\")"
   ]
  },
  {
   "cell_type": "markdown",
   "id": "3d3c5d25",
   "metadata": {},
   "source": [
    "### Crossvalidation\n",
    "100% Accuracy looks really good, but maybe it's too good to be true. Till now we trained on the same set that we used for evaluation, this is a bad practice especially for small  datasets like ours because our network may be overfitting.\n",
    "\n",
    "Now it's your turn, write a function that performs kfold crossvalidation on the dataset to test the quality of your model. To do so split the data into k training and test subsets. Train multiple models on the training data and evaluate the accuracy on the test data.\n",
    "\n",
    "Return the different results aswell as the average accuracy."
   ]
  },
  {
   "cell_type": "code",
   "execution_count": null,
   "id": "f81238e0",
   "metadata": {},
   "outputs": [],
   "source": [
    "def kfold_crossvalidation(k, data, target, hidden = [10], epochs  = 50, lr = 0.01):\n",
    "    #your code here\n",
    "    return (accuracies, avg_accuracy)"
   ]
  },
  {
   "cell_type": "markdown",
   "id": "78641ad6",
   "metadata": {},
   "source": [
    "### Test kfold crossvalidation\n",
    "The following code can be used to test your implementation, if your average accuracy is at ~97% you probably have done it correctly."
   ]
  },
  {
   "cell_type": "code",
   "execution_count": null,
   "id": "c3b8e059",
   "metadata": {},
   "outputs": [],
   "source": [
    "torch.manual_seed(0)\n",
    "kfold_crossvalidation(10, data, target, [10], 10, 0.01)"
   ]
  },
  {
   "cell_type": "markdown",
   "id": "d6800c29",
   "metadata": {},
   "source": [
    "### Calculate the confusion Matrix\n",
    "Since our model is not as perfect as it seems, let's find out what kind of misclassifications it produced. Write a function that calculates the confusion matrix for our data. To do so create a m x m matrix with m = number of classes. Predict the classes and compare the prediction with the target. Sum up how often the classes where assigned the different classes by our classifier."
   ]
  },
  {
   "cell_type": "code",
   "execution_count": null,
   "id": "d84252a0",
   "metadata": {},
   "outputs": [],
   "source": [
    "def confusion_matrix(data,target,model):\n",
    "    #Your code here\n",
    "    return confusion_matrix"
   ]
  },
  {
   "cell_type": "markdown",
   "id": "be92c8ef",
   "metadata": {},
   "source": [
    "### Test the confusion matrix\n",
    "The following code can be used to test your confusion matrix. If you have implemented correctly there should be (an) error(s). "
   ]
  },
  {
   "cell_type": "code",
   "execution_count": null,
   "id": "2548dd8d",
   "metadata": {},
   "outputs": [],
   "source": [
    "torch.manual_seed(0)\n",
    "\n",
    "training_data = data[0:120]\n",
    "training_target = target[0:120]\n",
    "\n",
    "test_data = data[120:-1]\n",
    "test_target = target[120:-1]\n",
    "\n",
    "model = create_model([10])\n",
    "model = trainModel(model, training_data, training_target, 10, lr = 0.01)\n",
    "\n",
    "print(confusion_matrix(test_data,test_target,model))"
   ]
  },
  {
   "cell_type": "markdown",
   "id": "c35dac39",
   "metadata": {},
   "source": [
    "### What kind of error(s) did our model produce?"
   ]
  },
  {
   "cell_type": "code",
   "execution_count": null,
   "id": "a78a75d9",
   "metadata": {},
   "outputs": [],
   "source": [
    "#Your answer here"
   ]
  }
 ],
 "metadata": {
  "kernelspec": {
   "display_name": "Python 3",
   "language": "python",
   "name": "python3"
  },
  "language_info": {
   "codemirror_mode": {
    "name": "ipython",
    "version": 3
   },
   "file_extension": ".py",
   "mimetype": "text/x-python",
   "name": "python",
   "nbconvert_exporter": "python",
   "pygments_lexer": "ipython3",
   "version": "3.8.9"
  }
 },
 "nbformat": 4,
 "nbformat_minor": 5
}
