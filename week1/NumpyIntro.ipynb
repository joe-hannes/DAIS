{
  "nbformat": 4,
  "nbformat_minor": 5,
  "metadata": {
    "kernelspec": {
      "display_name": "Python 3",
      "language": "python",
      "name": "python3"
    },
    "language_info": {
      "codemirror_mode": {
        "name": "ipython",
        "version": 3
      },
      "file_extension": ".py",
      "mimetype": "text/x-python",
      "name": "python",
      "nbconvert_exporter": "python",
      "pygments_lexer": "ipython3",
      "version": "3.6.7"
    },
    "colab": {
      "name": "NumpyIntro.ipynb",
      "provenance": []
    }
  },
  "cells": [
    {
      "cell_type": "markdown",
      "metadata": {
        "id": "hIXVaybM5OdM"
      },
      "source": [
        "# 4 Numpy\n",
        "\n",
        "One of the most important libraries for data science with Python is [NumPy](https://numpy.org/).\n",
        "If you have followed along the Jupyter Intro notebook, you should already have it installed. If, for some reason, you did not, you need to install it with pip into your virtual environment. You can do that by uncommenting the below command and executing the cell."
      ],
      "id": "hIXVaybM5OdM"
    },
    {
      "cell_type": "code",
      "metadata": {
        "scrolled": true,
        "id": "hFOlDvky5OdT"
      },
      "source": [
        "#!pip install -U pip\n",
        "#!pip install numpy==1.20.2"
      ],
      "id": "hFOlDvky5OdT",
      "execution_count": null,
      "outputs": []
    },
    {
      "cell_type": "markdown",
      "metadata": {
        "id": "ruVmFCkX5OdU"
      },
      "source": [
        "## Creating Vectors and Matrices with NumPy"
      ],
      "id": "ruVmFCkX5OdU"
    },
    {
      "cell_type": "code",
      "metadata": {
        "id": "Y3YLXjLw5OdU"
      },
      "source": [
        "import numpy as np"
      ],
      "id": "Y3YLXjLw5OdU",
      "execution_count": null,
      "outputs": []
    },
    {
      "cell_type": "markdown",
      "metadata": {
        "id": "AR0t5Zul5OdV"
      },
      "source": [
        "NumPy is a great library that enables Python users to easily work with vectors and matrices which are very important in all kinds of data science applications. It also has great [documentation](https://numpy.org/doc/) that should help you out in case you are stuck with a task."
      ],
      "id": "AR0t5Zul5OdV"
    },
    {
      "cell_type": "markdown",
      "metadata": {
        "id": "SwXRKzN15OdV"
      },
      "source": [
        "Let us create a simple column vector with three elements, where each element has the value 7."
      ],
      "id": "SwXRKzN15OdV"
    },
    {
      "cell_type": "code",
      "metadata": {
        "scrolled": true,
        "colab": {
          "base_uri": "https://localhost:8080/",
          "height": 183
        },
        "id": "2frnC9jU5OdW",
        "outputId": "8f5f94aa-5803-4b62-a49c-5db865b9e3e3"
      },
      "source": [
        "sevens_vector = np.ones(3) * 7\n",
        "sevens_vector"
      ],
      "id": "2frnC9jU5OdW",
      "execution_count": 2,
      "outputs": [
        {
          "output_type": "error",
          "ename": "NameError",
          "evalue": "ignored",
          "traceback": [
            "\u001b[0;31m---------------------------------------------------------------------------\u001b[0m",
            "\u001b[0;31mNameError\u001b[0m                                 Traceback (most recent call last)",
            "\u001b[0;32m<ipython-input-2-1de5d6d8d2fc>\u001b[0m in \u001b[0;36m<module>\u001b[0;34m()\u001b[0m\n\u001b[0;32m----> 1\u001b[0;31m \u001b[0msevens_vector\u001b[0m \u001b[0;34m=\u001b[0m \u001b[0mnp\u001b[0m\u001b[0;34m.\u001b[0m\u001b[0mones\u001b[0m\u001b[0;34m(\u001b[0m\u001b[0;36m3\u001b[0m\u001b[0;34m)\u001b[0m \u001b[0;34m*\u001b[0m \u001b[0;36m7\u001b[0m \u001b[0;31m# hello\u001b[0m\u001b[0;34m\u001b[0m\u001b[0;34m\u001b[0m\u001b[0m\n\u001b[0m\u001b[1;32m      2\u001b[0m \u001b[0msevens_vector\u001b[0m\u001b[0;34m\u001b[0m\u001b[0;34m\u001b[0m\u001b[0m\n",
            "\u001b[0;31mNameError\u001b[0m: name 'np' is not defined"
          ]
        }
      ]
    },
    {
      "cell_type": "code",
      "metadata": {
        "id": "FBdPwBCL5OdZ",
        "outputId": "7c984165-7851-47ba-9bb4-ea3120747da0"
      },
      "source": [
        "sevens_vector.shape"
      ],
      "id": "FBdPwBCL5OdZ",
      "execution_count": null,
      "outputs": [
        {
          "output_type": "execute_result",
          "data": {
            "text/plain": [
              "(3,)"
            ]
          },
          "metadata": {
            "tags": []
          },
          "execution_count": 3
        }
      ]
    },
    {
      "cell_type": "markdown",
      "metadata": {
        "id": "WQGc--eX5Oda"
      },
      "source": [
        "If we supply the function with only one value, it will create vectors. But np.ones is very flexible and can also create matrices. However, now we have to give the shape of matrix inside a tuple."
      ],
      "id": "WQGc--eX5Oda"
    },
    {
      "cell_type": "code",
      "metadata": {
        "scrolled": false,
        "id": "Qmv2ER755Oda",
        "outputId": "7a0e8079-73a4-4468-beeb-6b09213c6ed9"
      },
      "source": [
        "sevens_matrix = np.ones((4,3)) * 7\n",
        "sevens_matrix"
      ],
      "id": "Qmv2ER755Oda",
      "execution_count": null,
      "outputs": [
        {
          "output_type": "execute_result",
          "data": {
            "text/plain": [
              "array([[ 7.,  7.,  7.],\n",
              "       [ 7.,  7.,  7.],\n",
              "       [ 7.,  7.,  7.],\n",
              "       [ 7.,  7.,  7.]])"
            ]
          },
          "metadata": {
            "tags": []
          },
          "execution_count": 4
        }
      ]
    },
    {
      "cell_type": "code",
      "metadata": {
        "id": "caTJSsxG5Odb",
        "outputId": "a8ca312f-0cd7-4529-b583-82640738ebab"
      },
      "source": [
        "sevens_matrix.shape"
      ],
      "id": "caTJSsxG5Odb",
      "execution_count": null,
      "outputs": [
        {
          "output_type": "execute_result",
          "data": {
            "text/plain": [
              "(4, 3)"
            ]
          },
          "metadata": {
            "tags": []
          },
          "execution_count": 5
        }
      ]
    },
    {
      "cell_type": "markdown",
      "metadata": {
        "id": "mv8sNHWX5Odb"
      },
      "source": [
        "Of course you can also turn Python lists into NumPy arrays."
      ],
      "id": "mv8sNHWX5Odb"
    },
    {
      "cell_type": "code",
      "metadata": {
        "id": "PyHWAzI_5Odb",
        "outputId": "f276fad1-41d0-45ff-b731-64b3674aee77"
      },
      "source": [
        "l = [[1,2,3], [4,5,6]]\n",
        "x = np.array(l)\n",
        "x"
      ],
      "id": "PyHWAzI_5Odb",
      "execution_count": null,
      "outputs": [
        {
          "output_type": "execute_result",
          "data": {
            "text/plain": [
              "array([[1, 2, 3],\n",
              "       [4, 5, 6]])"
            ]
          },
          "metadata": {
            "tags": []
          },
          "execution_count": 6
        }
      ]
    },
    {
      "cell_type": "markdown",
      "metadata": {
        "id": "6Uhp4Zx05Odc"
      },
      "source": [
        "Accessing rows and columns works as you would expect from native Python lists."
      ],
      "id": "6Uhp4Zx05Odc"
    },
    {
      "cell_type": "code",
      "metadata": {
        "id": "9StTZfha5Odc",
        "outputId": "01c65884-4922-444d-859d-a1c72054da09"
      },
      "source": [
        "x[1,1] = 1337\n",
        "x"
      ],
      "id": "9StTZfha5Odc",
      "execution_count": null,
      "outputs": [
        {
          "output_type": "execute_result",
          "data": {
            "text/plain": [
              "array([[   1,    2,    3],\n",
              "       [   4, 1337,    6]])"
            ]
          },
          "metadata": {
            "tags": []
          },
          "execution_count": 7
        }
      ]
    },
    {
      "cell_type": "markdown",
      "metadata": {
        "id": "rHelRyxl5Odc"
      },
      "source": [
        "## Tasks"
      ],
      "id": "rHelRyxl5Odc"
    },
    {
      "cell_type": "markdown",
      "metadata": {
        "id": "gui-k--q5Odd"
      },
      "source": [
        "Now, you are given a sample matrix and we want to investigate it a little. Make sure that you do not change the supplied variable names in the subtasks. Solve the tasks so that the supplied variables contain the solution."
      ],
      "id": "gui-k--q5Odd"
    },
    {
      "cell_type": "markdown",
      "metadata": {
        "id": "DKKtNw295Odd"
      },
      "source": [
        "### Matrix Manipulation"
      ],
      "id": "DKKtNw295Odd"
    },
    {
      "cell_type": "code",
      "metadata": {
        "id": "FtxcUgCv5Odd",
        "outputId": "292e5fdb-c85c-4f62-b221-9c607477c093"
      },
      "source": [
        "# sample matrix a\n",
        "a = np.array([[2, 3.2, 5.5, -6.4, -2.2, 2.4], [1, 22, 4, 0.1, 5.3, -9],\n",
        "                [3, 1, 2.1, 21, 1.1, -2]])\n",
        "a"
      ],
      "id": "FtxcUgCv5Odd",
      "execution_count": null,
      "outputs": [
        {
          "output_type": "execute_result",
          "data": {
            "text/plain": [
              "array([[  2. ,   3.2,   5.5,  -6.4,  -2.2,   2.4],\n",
              "       [  1. ,  22. ,   4. ,   0.1,   5.3,  -9. ],\n",
              "       [  3. ,   1. ,   2.1,  21. ,   1.1,  -2. ]])"
            ]
          },
          "metadata": {
            "tags": []
          },
          "execution_count": 8
        }
      ]
    },
    {
      "cell_type": "code",
      "metadata": {
        "id": "tMV0sNZM5Odd",
        "outputId": "13662f73-840b-4b1a-ff73-42824614ba35"
      },
      "source": [
        "# sample matrix b\n",
        "b = np.array([range(6), range(10, 16)])\n",
        "b"
      ],
      "id": "tMV0sNZM5Odd",
      "execution_count": null,
      "outputs": [
        {
          "output_type": "execute_result",
          "data": {
            "text/plain": [
              "array([[ 0,  1,  2,  3,  4,  5],\n",
              "       [10, 11, 12, 13, 14, 15]])"
            ]
          },
          "metadata": {
            "tags": []
          },
          "execution_count": 9
        }
      ]
    },
    {
      "cell_type": "markdown",
      "metadata": {
        "id": "cS8bcJUJ5Ode"
      },
      "source": [
        "#### 4.1\n",
        "The variable sol_4_1 should contain the second row of the sample matrix a."
      ],
      "id": "cS8bcJUJ5Ode"
    },
    {
      "cell_type": "code",
      "metadata": {
        "id": "nYy7ch2h5Ode",
        "outputId": "95296f1f-cf00-42fd-af1d-04cda2b661e6"
      },
      "source": [
        "sol_4_1 = a[1]\n",
        "sol_4_1"
      ],
      "id": "nYy7ch2h5Ode",
      "execution_count": null,
      "outputs": [
        {
          "output_type": "execute_result",
          "data": {
            "text/plain": [
              "array([  1. ,  22. ,   4. ,   0.1,   5.3,  -9. ])"
            ]
          },
          "metadata": {
            "tags": []
          },
          "execution_count": 10
        }
      ]
    },
    {
      "cell_type": "markdown",
      "metadata": {
        "id": "fcvRh9-W5Ode"
      },
      "source": [
        "#### 4.2\n",
        "The variable sol_4_2 should contain all rows except the first row of the sample matrix a."
      ],
      "id": "fcvRh9-W5Ode"
    },
    {
      "cell_type": "code",
      "metadata": {
        "id": "NclJt4nl5Odf",
        "outputId": "e031c791-6779-4a34-c9db-e46edf46463e"
      },
      "source": [
        "sol_4_2 = a[range(1,len(a))]\n",
        "sol_4_2"
      ],
      "id": "NclJt4nl5Odf",
      "execution_count": null,
      "outputs": [
        {
          "output_type": "execute_result",
          "data": {
            "text/plain": [
              "array([[  1. ,  22. ,   4. ,   0.1,   5.3,  -9. ],\n",
              "       [  3. ,   1. ,   2.1,  21. ,   1.1,  -2. ]])"
            ]
          },
          "metadata": {
            "tags": []
          },
          "execution_count": 11
        }
      ]
    },
    {
      "cell_type": "markdown",
      "metadata": {
        "id": "VSebydII5Odf"
      },
      "source": [
        "#### 4.3\n",
        "The variable sol_4_3 should contain only the fifth element of every row of the sample matrix a."
      ],
      "id": "VSebydII5Odf"
    },
    {
      "cell_type": "code",
      "metadata": {
        "id": "UazKg7g45Odf",
        "outputId": "4b461a4a-23e0-493f-d148-ff12da89ef44"
      },
      "source": [
        "sol_4_3 = a[range(len(a)),4]\n",
        "sol_4_3"
      ],
      "id": "UazKg7g45Odf",
      "execution_count": null,
      "outputs": [
        {
          "output_type": "execute_result",
          "data": {
            "text/plain": [
              "array([-2.2,  5.3,  1.1])"
            ]
          },
          "metadata": {
            "tags": []
          },
          "execution_count": 12
        }
      ]
    },
    {
      "cell_type": "markdown",
      "metadata": {
        "id": "ZVOvNc2K5Odf"
      },
      "source": [
        "#### 4.4\n",
        "The variable sol_4_4 should contain the third element of every row except the first row of the sample matrix a."
      ],
      "id": "ZVOvNc2K5Odf"
    },
    {
      "cell_type": "code",
      "metadata": {
        "id": "USBA6zXu5Odg",
        "outputId": "0007b561-c370-4c7e-ac36-b4e4586a7d94"
      },
      "source": [
        "sol_4_4 = a[range(1,len(a)),2]\n",
        "sol_4_4"
      ],
      "id": "USBA6zXu5Odg",
      "execution_count": null,
      "outputs": [
        {
          "output_type": "execute_result",
          "data": {
            "text/plain": [
              "array([ 4. ,  2.1])"
            ]
          },
          "metadata": {
            "tags": []
          },
          "execution_count": 13
        }
      ]
    },
    {
      "cell_type": "markdown",
      "metadata": {
        "id": "js7piT6E5Odg"
      },
      "source": [
        "### Matrix built-in functions\n",
        "Check out the docs or search the web. There are plenty of resources that will help you with the following tasks."
      ],
      "id": "js7piT6E5Odg"
    },
    {
      "cell_type": "markdown",
      "metadata": {
        "id": "xjqsUSoA5Odg"
      },
      "source": [
        "#### 4.5\n",
        "The variable sol_4_5 should contain the absolut values of sample matrix a."
      ],
      "id": "xjqsUSoA5Odg"
    },
    {
      "cell_type": "code",
      "metadata": {
        "id": "IUh3GSnv5Odg",
        "outputId": "bc68a45f-4451-40e9-e976-8bfdf31fd10d"
      },
      "source": [
        "sol_4_5 = np.abs(a)\n",
        "sol_4_5"
      ],
      "id": "IUh3GSnv5Odg",
      "execution_count": null,
      "outputs": [
        {
          "output_type": "execute_result",
          "data": {
            "text/plain": [
              "array([[  2. ,   3.2,   5.5,   6.4,   2.2,   2.4],\n",
              "       [  1. ,  22. ,   4. ,   0.1,   5.3,   9. ],\n",
              "       [  3. ,   1. ,   2.1,  21. ,   1.1,   2. ]])"
            ]
          },
          "metadata": {
            "tags": []
          },
          "execution_count": 14
        }
      ]
    },
    {
      "cell_type": "markdown",
      "metadata": {
        "id": "1mdYyu9t5Odh"
      },
      "source": [
        "#### 4.6\n",
        "The variable sol_4_6 should contain the shape of sample matrix b."
      ],
      "id": "1mdYyu9t5Odh"
    },
    {
      "cell_type": "code",
      "metadata": {
        "id": "EOb_llYM5Odh",
        "outputId": "e166ace8-493c-43ae-e61c-a466edf0edbc"
      },
      "source": [
        "sol_4_6 = b.shape\n",
        "sol_4_6"
      ],
      "id": "EOb_llYM5Odh",
      "execution_count": null,
      "outputs": [
        {
          "output_type": "execute_result",
          "data": {
            "text/plain": [
              "(2, 6)"
            ]
          },
          "metadata": {
            "tags": []
          },
          "execution_count": 15
        }
      ]
    },
    {
      "cell_type": "markdown",
      "metadata": {
        "id": "R68nOcvJ5Odh"
      },
      "source": [
        "#### 4.7\n",
        "The variable sol_4_7 should contain the highest value of sample matrix b."
      ],
      "id": "R68nOcvJ5Odh"
    },
    {
      "cell_type": "code",
      "metadata": {
        "id": "zOkwAemh5Odh",
        "outputId": "54492678-9be2-4864-b136-a13109983cf4"
      },
      "source": [
        "sol_4_7 = b.max()\n",
        "sol_4_7"
      ],
      "id": "zOkwAemh5Odh",
      "execution_count": null,
      "outputs": [
        {
          "output_type": "execute_result",
          "data": {
            "text/plain": [
              "15"
            ]
          },
          "metadata": {
            "tags": []
          },
          "execution_count": 16
        }
      ]
    },
    {
      "cell_type": "markdown",
      "metadata": {
        "id": "7KrLUQiD5Odi"
      },
      "source": [
        "#### 4.8\n",
        "The variable sol_4_8 should contain the smallest value of sample matrix b."
      ],
      "id": "7KrLUQiD5Odi"
    },
    {
      "cell_type": "code",
      "metadata": {
        "id": "P8a7NL1a5Odi",
        "outputId": "58e2b30c-4974-4c5b-c04d-d6d21b429d89"
      },
      "source": [
        "sol_4_8 = b.min()\n",
        "sol_4_8"
      ],
      "id": "P8a7NL1a5Odi",
      "execution_count": null,
      "outputs": [
        {
          "output_type": "execute_result",
          "data": {
            "text/plain": [
              "0"
            ]
          },
          "metadata": {
            "tags": []
          },
          "execution_count": 17
        }
      ]
    },
    {
      "cell_type": "markdown",
      "metadata": {
        "id": "6IaEajRy5Odj"
      },
      "source": [
        "#### 4.9\n",
        "The variable sol_4_9 should contain the transpose of sample matrix b."
      ],
      "id": "6IaEajRy5Odj"
    },
    {
      "cell_type": "code",
      "metadata": {
        "id": "UqjI-myd5Odj",
        "outputId": "ab7ab4f8-c69f-4937-a681-347b73a8ff59"
      },
      "source": [
        "sol_4_9 = b.transpose()\n",
        "sol_4_9"
      ],
      "id": "UqjI-myd5Odj",
      "execution_count": null,
      "outputs": [
        {
          "output_type": "execute_result",
          "data": {
            "text/plain": [
              "array([[ 0, 10],\n",
              "       [ 1, 11],\n",
              "       [ 2, 12],\n",
              "       [ 3, 13],\n",
              "       [ 4, 14],\n",
              "       [ 5, 15]])"
            ]
          },
          "metadata": {
            "tags": []
          },
          "execution_count": 18
        }
      ]
    },
    {
      "cell_type": "code",
      "metadata": {
        "id": "iJrcEVex5Odj"
      },
      "source": [
        ""
      ],
      "id": "iJrcEVex5Odj",
      "execution_count": null,
      "outputs": []
    }
  ]
}