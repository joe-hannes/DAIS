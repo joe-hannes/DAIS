{
 "cells": [
  {
   "cell_type": "markdown",
   "id": "25d22f29",
   "metadata": {},
   "source": [
    "# 3 Python Functions\n",
    "\n",
    "In the following you will find different python functions that need to be filled with code, so that they return the desired output.\n",
    "\n",
    "Please do not change the function names!"
   ]
  },
  {
   "cell_type": "markdown",
   "id": "a1e0e605",
   "metadata": {},
   "source": [
    "A typical Python function looks like this:"
   ]
  },
  {
   "cell_type": "code",
   "execution_count": null,
   "id": "da6e29d9",
   "metadata": {},
   "outputs": [],
   "source": [
    "def genericFunction(input1, input2):\n",
    "    \"\"\"docstring\"\"\"\n",
    "    # comment\n",
    "    a = 5\n",
    "    b = 3\n",
    "    c = a + b\n",
    "    return c"
   ]
  },
  {
   "cell_type": "markdown",
   "id": "1060dd27",
   "metadata": {},
   "source": [
    "Note that the function body has to be indented!"
   ]
  },
  {
   "cell_type": "markdown",
   "id": "1a6286de",
   "metadata": {},
   "source": [
    "Now, fill the following functions:"
   ]
  },
  {
   "cell_type": "markdown",
   "id": "bf5f3f30",
   "metadata": {},
   "source": [
    "### 3.1\n",
    "Write a function that returns the sum of squares of two variables."
   ]
  },
  {
   "cell_type": "code",
   "execution_count": 12,
   "id": "41d092ef",
   "metadata": {},
   "outputs": [
    {
     "data": {
      "text/plain": [
       "13"
      ]
     },
     "execution_count": 12,
     "metadata": {},
     "output_type": "execute_result"
    }
   ],
   "source": [
    "def sumOfSquares(a,b):\n",
    "    result = a**2 + b**2\n",
    "    return result\n",
    "sumOfSquares(2,3)"
   ]
  },
  {
   "cell_type": "markdown",
   "id": "6603d50c",
   "metadata": {},
   "source": [
    "### 3.2\n",
    "Write a function that increments the value of a variable by 1."
   ]
  },
  {
   "cell_type": "code",
   "execution_count": 10,
   "id": "c0af724a",
   "metadata": {},
   "outputs": [
    {
     "data": {
      "text/plain": [
       "2"
      ]
     },
     "execution_count": 10,
     "metadata": {},
     "output_type": "execute_result"
    }
   ],
   "source": [
    "def incrementByOne(a):\n",
    "    result = a + 1\n",
    "    return result\n",
    "incrementByOne(1)"
   ]
  },
  {
   "cell_type": "markdown",
   "id": "6f33263e",
   "metadata": {},
   "source": [
    "### 3.3\n",
    "Write a function that increments the value of a variable by a number n."
   ]
  },
  {
   "cell_type": "code",
   "execution_count": 7,
   "id": "ba254945",
   "metadata": {},
   "outputs": [
    {
     "data": {
      "text/plain": [
       "3"
      ]
     },
     "execution_count": 7,
     "metadata": {},
     "output_type": "execute_result"
    }
   ],
   "source": [
    "def incrementByN(a,n):\n",
    "    result = a + n\n",
    "    return result\n",
    "incrementByN(1,2)"
   ]
  },
  {
   "cell_type": "markdown",
   "id": "fec8e517",
   "metadata": {},
   "source": [
    "### 3.4\n",
    "Write a function that calculates the factorial of a number (n!)."
   ]
  },
  {
   "cell_type": "code",
   "execution_count": 13,
   "id": "24a5ec2f",
   "metadata": {},
   "outputs": [
    {
     "name": "stdout",
     "output_type": "stream",
     "text": [
      "24\n"
     ]
    }
   ],
   "source": [
    "def factorial(n):\n",
    "    result = 1\n",
    "    for i in range(1,n+1):\n",
    "        result *= i\n",
    "    return result\n",
    "\n",
    "print(factorial(4))"
   ]
  },
  {
   "cell_type": "markdown",
   "id": "8c808002",
   "metadata": {},
   "source": [
    "### 3.4\n",
    "Write a function that checks whether a number is between 1 and 10."
   ]
  },
  {
   "cell_type": "code",
   "execution_count": 5,
   "id": "791d7da5",
   "metadata": {},
   "outputs": [
    {
     "data": {
      "text/plain": [
       "True"
      ]
     },
     "execution_count": 5,
     "metadata": {},
     "output_type": "execute_result"
    }
   ],
   "source": [
    "def betweenOneAndTen(a):\n",
    "    result = a > 1 and a < 10\n",
    "    return result\n",
    "betweenOneAndTen(2)"
   ]
  },
  {
   "cell_type": "markdown",
   "id": "bb2d9231",
   "metadata": {},
   "source": [
    "### 3.5\n",
    "Write a function that checks for two numbers the following conditions: x > y"
   ]
  },
  {
   "cell_type": "code",
   "execution_count": 4,
   "id": "e7d680a2",
   "metadata": {},
   "outputs": [
    {
     "data": {
      "text/plain": [
       "False"
      ]
     },
     "execution_count": 4,
     "metadata": {},
     "output_type": "execute_result"
    }
   ],
   "source": [
    "def xGreaterY(x,y):\n",
    "    result = x > y\n",
    "    return result\n",
    "xGreaterY(1,2)"
   ]
  },
  {
   "cell_type": "markdown",
   "id": "66515d52",
   "metadata": {},
   "source": [
    "### 3.6\n",
    "Write a function that checks for two numbers the following conditions: x < y"
   ]
  },
  {
   "cell_type": "code",
   "execution_count": 3,
   "id": "d90c4ecf",
   "metadata": {},
   "outputs": [
    {
     "data": {
      "text/plain": [
       "True"
      ]
     },
     "execution_count": 3,
     "metadata": {},
     "output_type": "execute_result"
    }
   ],
   "source": [
    "def xLessThanY(x,y):\n",
    "    result = x < y\n",
    "    return result\n",
    "xLessThanY(1,2)"
   ]
  },
  {
   "cell_type": "markdown",
   "id": "bbc91e2b",
   "metadata": {},
   "source": [
    "### 3.7\n",
    "Write a function that checks for two numbers the following conditions: x = y"
   ]
  },
  {
   "cell_type": "code",
   "execution_count": 2,
   "id": "beaa4575",
   "metadata": {},
   "outputs": [
    {
     "data": {
      "text/plain": [
       "False"
      ]
     },
     "execution_count": 2,
     "metadata": {},
     "output_type": "execute_result"
    }
   ],
   "source": [
    "def xEqualsY(x,y):\n",
    "    result = x == y\n",
    "    return result\n",
    "xEqualsY(1,2)"
   ]
  },
  {
   "cell_type": "markdown",
   "id": "a4481210",
   "metadata": {},
   "source": [
    "### 3.8\n",
    "Write a function that checks whether a number is prime or not."
   ]
  },
  {
   "cell_type": "code",
   "execution_count": 1,
   "id": "b33ec198",
   "metadata": {},
   "outputs": [
    {
     "data": {
      "text/plain": [
       "True"
      ]
     },
     "execution_count": 1,
     "metadata": {},
     "output_type": "execute_result"
    }
   ],
   "source": [
    "import numpy as np\n",
    "\n",
    "def isPrime(x):\n",
    "    if x > 1:\n",
    "        for n in range (2, int(np.ceil(np.sqrt(x)))):\n",
    "            if (x % n) == 0:\n",
    "                result = False\n",
    "                break\n",
    "            else: result = True\n",
    "    else: result = False\n",
    "    return result\n",
    "\n",
    "isPrime(127)"
   ]
  },
  {
   "cell_type": "code",
   "execution_count": null,
   "id": "3aa5a596",
   "metadata": {},
   "outputs": [],
   "source": []
  }
 ],
 "metadata": {
  "kernelspec": {
   "display_name": "Python 3",
   "language": "python",
   "name": "python3"
  },
  "language_info": {
   "codemirror_mode": {
    "name": "ipython",
    "version": 3
   },
   "file_extension": ".py",
   "mimetype": "text/x-python",
   "name": "python",
   "nbconvert_exporter": "python",
   "pygments_lexer": "ipython3",
   "version": "3.9.4"
  }
 },
 "nbformat": 4,
 "nbformat_minor": 5
}
