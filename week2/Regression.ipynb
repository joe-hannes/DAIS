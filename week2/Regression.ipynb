{
  "nbformat": 4,
  "nbformat_minor": 5,
  "metadata": {
    "colab": {
      "name": "Regression.ipynb",
      "provenance": []
    },
    "kernelspec": {
      "display_name": "Python 3",
      "language": "python",
      "name": "python3"
    },
    "language_info": {
      "codemirror_mode": {
        "name": "ipython",
        "version": 3
      },
      "file_extension": ".py",
      "mimetype": "text/x-python",
      "name": "python",
      "nbconvert_exporter": "python",
      "pygments_lexer": "ipython3",
      "version": "3.9.4"
    }
  },
  "cells": [
    {
      "cell_type": "markdown",
      "metadata": {
        "id": "e4870c4b"
      },
      "source": [
        "# 5 Regression"
      ],
      "id": "e4870c4b"
    },
    {
      "cell_type": "markdown",
      "metadata": {
        "id": "56dd1c0c"
      },
      "source": [
        "In this task, we want to combine the acquired knowledge about data exploration, plotting and correlations.\n",
        "We will write a simple prediction algorithm, a univariate regression, in Python!"
      ],
      "id": "56dd1c0c"
    },
    {
      "cell_type": "code",
      "metadata": {
        "id": "b2e59239"
      },
      "source": [
        "# import libraries\n",
        "import numpy as np\n",
        "import matplotlib.pyplot as plt\n",
        "%matplotlib inline\n",
        "from sklearn import datasets"
      ],
      "id": "b2e59239",
      "execution_count": 7,
      "outputs": []
    },
    {
      "cell_type": "markdown",
      "metadata": {
        "id": "c100c605"
      },
      "source": [
        "## 5.1 Get the data\n",
        "We will utilise the same dataset as in the Plotting notebook."
      ],
      "id": "c100c605"
    },
    {
      "cell_type": "code",
      "metadata": {
        "id": "4f25001e"
      },
      "source": [
        "boston = datasets.load_boston()"
      ],
      "id": "4f25001e",
      "execution_count": 8,
      "outputs": []
    },
    {
      "cell_type": "markdown",
      "metadata": {
        "id": "59cf4d25"
      },
      "source": [
        "One might remember that the dataset had 13 features and 1 target. For machine learning purposes one feature is labeled as the target because it is often the goal to predict this feature of interest out of other features.\n",
        "\n",
        "Our task will now also be to predict the target feature MEDV, the median value in 1000$s, via a regression.\n",
        "\n",
        "First, we need to find which feature would be a good candidate for predicting the target. Correlation can be a good indicator for close relationships of different features"
      ],
      "id": "59cf4d25"
    },
    {
      "cell_type": "code",
      "metadata": {
        "id": "7dbdf055"
      },
      "source": [
        "data = np.concatenate((boston[\"data\"], boston[\"target\"].reshape(-1,1)),\n",
        "                      axis=1)\n",
        "names = list(boston[\"feature_names\"]) + [\"MEDV\"]\n",
        "corr = np.corrcoef(data, rowvar=False)"
      ],
      "id": "7dbdf055",
      "execution_count": 9,
      "outputs": []
    },
    {
      "cell_type": "markdown",
      "metadata": {
        "id": "4e9984f4"
      },
      "source": [
        "## 5.2 Choose a predictor"
      ],
      "id": "4e9984f4"
    },
    {
      "cell_type": "markdown",
      "metadata": {
        "id": "d28b332c"
      },
      "source": [
        "### Task 5.2.1 Visualise correlation matrix\n",
        "We did some quick Numpy magic to concatenate the target values to our feature matrix and then created a correlation matrix which contains the correlation coefficients between all features.\n",
        "\n",
        "Now, we need to plot those coefficients in a way that let's us decide which is a good predictor for our target MEDV.\n",
        "\n",
        "Try to remember how you plotted 2D matrices in Task 1."
      ],
      "id": "d28b332c"
    },
    {
      "cell_type": "code",
      "metadata": {
        "colab": {
          "base_uri": "https://localhost:8080/",
          "height": 360
        },
        "id": "9ac49ab3",
        "scrolled": false,
        "outputId": "57acd1bf-42a8-4f34-d9a9-dbf1c3b7c5e7"
      },
      "source": [
        "# Your code here, remember how we plotted 2D Matrices?\n",
        "plt.xticks(np.arange(len(names)), labels=names, rotation=45)\n",
        "plt.yticks(np.arange(len(names)), labels=names)\n",
        "plt.title(\"Correlation of features\")\n",
        "ax = plt.subplot()\n",
        "plt.imshow(corr)\n",
        "plt.colorbar()\n",
        "plt.show()"
      ],
      "id": "9ac49ab3",
      "execution_count": 10,
      "outputs": [
        {
          "output_type": "stream",
          "text": [
            "/usr/local/lib/python3.7/dist-packages/ipykernel_launcher.py:5: MatplotlibDeprecationWarning: Adding an axes using the same arguments as a previous axes currently reuses the earlier instance.  In a future version, a new instance will always be created and returned.  Meanwhile, this warning can be suppressed, and the future behavior ensured, by passing a unique label to each axes instance.\n",
            "  \"\"\"\n"
          ],
          "name": "stderr"
        },
        {
          "output_type": "display_data",
          "data": {
            "image/png": "[encoded data removed]",
            "text/plain": [
              "<Figure size 432x288 with 2 Axes>"
            ]
          },
          "metadata": {
            "tags": [],
            "needs_background": "light"
          }
        }
      ]
    },
    {
      "cell_type": "markdown",
      "metadata": {
        "id": "6b2a2578"
      },
      "source": [
        "### Task 5.2.2 Choose a predicting feature\n",
        "Now that we can easily grasp the correlations between the variables,\n",
        "we should choose a predicting feature that has a high correlation with our target feature MEDV (dependent variable).\n",
        "\n",
        "Choose a predictor (independent variable) and isolate the feature in the variable _x_."
      ],
      "id": "6b2a2578"
    },
    {
      "cell_type": "code",
      "metadata": {
        "id": "b6a19792"
      },
      "source": [
        "x =  boston['data'][0:,5] # rm\n",
        "medv = boston[\"target\"]\n",
        "# print(x)\n"
      ],
      "id": "b6a19792",
      "execution_count": 11,
      "outputs": []
    },
    {
      "cell_type": "code",
      "metadata": {
        "id": "dc812a51"
      },
      "source": [
        ""
      ],
      "id": "dc812a51",
      "execution_count": 11,
      "outputs": []
    },
    {
      "cell_type": "markdown",
      "metadata": {
        "id": "a803526d"
      },
      "source": [
        "### Task 5.2.2 Plotting variables\n",
        "Now that we have decided on a feature, we can plot our predictor against our target.\n",
        "A scatter plot would be a good fit for this task.\n",
        "\n",
        "_Hint_: Don't forget all the information about plotting from task 1!"
      ],
      "id": "a803526d"
    },
    {
      "cell_type": "code",
      "metadata": {
        "colab": {
          "base_uri": "https://localhost:8080/",
          "height": 300
        },
        "id": "8598ffdb",
        "outputId": "8f451f2b-b55c-4385-944a-9ee5489c40e7"
      },
      "source": [
        "# your code here\n",
        "plt.title(\"Scatterplot of rooms per dwelling and the median value\")\n",
        "plt.xlabel(\"Rooms per dwelling\")\n",
        "plt.ylabel(\"Median value of owner- occupied homes in $1000's \")\n",
        "plt.scatter(x, medv)\n",
        "plt.show()"
      ],
      "id": "8598ffdb",
      "execution_count": 12,
      "outputs": [
        {
          "output_type": "display_data",
          "data": {
            "image/png": "[encoded data removed]",
            "text/plain": [
              "<Figure size 432x288 with 1 Axes>"
            ]
          },
          "metadata": {
            "tags": [],
            "needs_background": "light"
          }
        }
      ]
    },
    {
      "cell_type": "markdown",
      "metadata": {
        "id": "d14856bc"
      },
      "source": [
        "## 5.3 Set up the function"
      ],
      "id": "d14856bc"
    },
    {
      "cell_type": "markdown",
      "metadata": {
        "id": "f57ad37e"
      },
      "source": [
        "From the lecture, we know that the function for a linear regression is as follows:\n",
        "\n",
        "$$ \\huge y = \\beta_0 + \\beta_1 x + \\epsilon $$\n",
        "\n",
        "$y$ is the target or dependent variable\n",
        "\n",
        "$\\beta_0$ is the y-intercept\n",
        "\n",
        "$\\beta_1$ is the slope\n",
        "\n",
        "$x$ is the predicting or independent variable\n",
        "\n",
        "$\\epsilon$ is the residual error"
      ],
      "id": "f57ad37e"
    },
    {
      "cell_type": "markdown",
      "metadata": {
        "id": "1079094a"
      },
      "source": [
        "We need to calculate $\\beta_0$ and $\\beta_1$ while minimising $\\epsilon$.\n"
      ],
      "id": "1079094a"
    },
    {
      "cell_type": "markdown",
      "metadata": {
        "id": "42ba78c0"
      },
      "source": [
        "### Task 5.3.1 Calculate $\\beta_1$\n",
        "From the lecture, we also know that we can calculate $\\beta_1$ with the following equation when minimising $\\epsilon$:\n",
        "\n",
        "$$ \\beta_1 = \\frac{\\sum_{data}(x-\\bar{x})(y-\\bar{y})}{\\sum_{data}(x-\\bar{x})^2} $$\n",
        "\n",
        "$\\bar{y}$ and $\\bar{x}$ are the mean values of the variables y and x, respectively.\n",
        "\n",
        "Calculate $\\beta_1$ and save the result in the variable _beta_one_."
      ],
      "id": "42ba78c0"
    },
    {
      "cell_type": "code",
      "metadata": {
        "colab": {
          "base_uri": "https://localhost:8080/"
        },
        "id": "VkLuWYOB2jJ_",
        "outputId": "83f7e9dd-a7c4-4fbd-ecf3-78b0920fc572"
      },
      "source": [
        "print(len(x))\n",
        "print(len(medv))\n",
        "print(x[2])\n",
        "print(medv[2])\n",
        "\n",
        "# print('length x : %s, med : %s' % len(x), len(medv))"
      ],
      "id": "VkLuWYOB2jJ_",
      "execution_count": 13,
      "outputs": [
        {
          "output_type": "stream",
          "text": [
            "506\n",
            "506\n",
            "7.185\n",
            "34.7\n"
          ],
          "name": "stdout"
        }
      ]
    },
    {
      "cell_type": "code",
      "metadata": {
        "colab": {
          "base_uri": "https://localhost:8080/"
        },
        "id": "22ef6bd7",
        "outputId": "b0441e3d-cdac-407d-ae53-c8635c74a3ab"
      },
      "source": [
        "enum = 0\n",
        "denom = 0\n",
        "x_mean = np.mean(x)\n",
        "medv_mean = np.mean(medv)\n",
        "for i in range(len(x)-1):\n",
        "  x_sub = x[i] - x_mean\n",
        "  x_sub_sq = x_sub**2\n",
        "  enum += x_sub * (medv[i] - medv_mean)\n",
        "  denom += x_sub_sq\n",
        "\n",
        "beta_one = enum / denom\n",
        "  \n",
        "print(beta_one)"
      ],
      "id": "22ef6bd7",
      "execution_count": 14,
      "outputs": [
        {
          "output_type": "stream",
          "text": [
            "9.093613882193575\n"
          ],
          "name": "stdout"
        }
      ]
    },
    {
      "cell_type": "markdown",
      "metadata": {
        "id": "49148d3e"
      },
      "source": [
        "### Task 5.3.2 Calculate $\\beta_0$\n",
        "From the lecture, we also know that we can calculate $\\beta_0$ with the following equation when minimising $\\epsilon$:\n",
        "\n",
        "$$ \\beta_0 = \\bar{y} - \\beta_1 \\bar{x}. $$\n",
        "\n",
        "Again, $\\bar{y}$ and $\\bar{x}$ are the mean values of the variables y and x, respectively.\n",
        "\n",
        "Calculate $\\beta_0$ and save the result in the variable _beta_zero_."
      ],
      "id": "49148d3e"
    },
    {
      "cell_type": "code",
      "metadata": {
        "colab": {
          "base_uri": "https://localhost:8080/"
        },
        "id": "e5b435bb",
        "outputId": "de88f56f-09fb-415b-98bc-ed0504e3b662"
      },
      "source": [
        "\n",
        "beta_zero = medv_mean - (beta_one * x_mean)\n",
        "print(beta_zero)"
      ],
      "id": "e5b435bb",
      "execution_count": 15,
      "outputs": [
        {
          "output_type": "stream",
          "text": [
            "-34.61723218522256\n"
          ],
          "name": "stdout"
        }
      ]
    },
    {
      "cell_type": "markdown",
      "metadata": {
        "id": "760b1fb6"
      },
      "source": [
        "### Task 5.3.3 Write the regression function\n",
        "Now create python function that takes the independent variable as an input and returns the value of the dependent variable."
      ],
      "id": "760b1fb6"
    },
    {
      "cell_type": "code",
      "metadata": {
        "id": "1e6cbbe8"
      },
      "source": [
        "def regress(x):\n",
        "    y = beta_zero + beta_one * x\n",
        "    return y"
      ],
      "id": "1e6cbbe8",
      "execution_count": 16,
      "outputs": []
    },
    {
      "cell_type": "markdown",
      "metadata": {
        "id": "a02e5f97"
      },
      "source": [
        "## 5.4 Visualise the regression\n",
        "\n",
        "### 5.4.1 Plot the regression\n",
        "\n",
        "Recreate the plot from task 5.2.2 but this time include the regression function.\n",
        "\n",
        "_Hint_: In order to plot the regression function, you might need to supply it with artificial datapoints. The numpy function np.arange can be of help here."
      ],
      "id": "a02e5f97"
    },
    {
      "cell_type": "code",
      "metadata": {
        "colab": {
          "base_uri": "https://localhost:8080/",
          "height": 298
        },
        "id": "62c3dd7f",
        "outputId": "1b13ad3a-ab03-4f8a-c2a9-8c7880761901"
      },
      "source": [
        "# your code here\n",
        "rm_art = np.arange(0,30)\n",
        "medv_reg = []\n",
        "for i in range(len(rm_art)):\n",
        "  medv_reg.append(regress(rm_art[i]))\n",
        "\n",
        "plt.title('Plot of the Regression Function with artifical values')\n",
        "plt.xlabel('number of rooms')\n",
        "plt.ylabel('Median value of owner- occupied homes in $1000\\'s')\n",
        "plt.scatter(rm_art, medv_reg)\n",
        "plt.show()"
      ],
      "id": "62c3dd7f",
      "execution_count": 17,
      "outputs": [
        {
          "output_type": "display_data",
          "data": {
            "image/png": "[encoded data removed]",
            "text/plain": [
              "<Figure size 432x288 with 1 Axes>"
            ]
          },
          "metadata": {
            "tags": [],
            "needs_background": "light"
          }
        }
      ]
    },
    {
      "cell_type": "code",
      "metadata": {
        "id": "62c29783"
      },
      "source": [
        ""
      ],
      "id": "62c29783",
      "execution_count": 17,
      "outputs": []
    }
  ]
}