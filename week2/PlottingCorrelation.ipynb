{
 "cells": [
  {
   "cell_type": "markdown",
   "id": "36344343",
   "metadata": {},
   "source": [
    "# 1 Plotting and Data Visualisation"
   ]
  },
  {
   "cell_type": "markdown",
   "id": "a1844dd0",
   "metadata": {},
   "source": [
    "In this notebook we want to get familiar with plotting and the Python library ```matplotlib```. Plotting is an essential tool for data exploration that can help you to get an intuition about certain characteristics and features of data.\n",
    "\n",
    "\n",
    "[Matplotlib](https://matplotlib.org/) is probably the most widely used Python library and will be the one we are using in this course. However, there are also other alternatives that might be interesting for you, for instance [Seaborn](https://seaborn.pydata.org/) or [Plotly](https://plotly.com/) (for this course, we expect you to stick to matplotlib)."
   ]
  },
  {
   "cell_type": "markdown",
   "id": "c3b9f785",
   "metadata": {},
   "source": [
    "Let's install and import matplotlib:"
   ]
  },
  {
   "cell_type": "code",
   "execution_count": null,
   "id": "87ad92fe",
   "metadata": {},
   "outputs": [],
   "source": [
    "!pip install matplotlib"
   ]
  },
  {
   "cell_type": "code",
   "execution_count": null,
   "id": "660c59bd",
   "metadata": {},
   "outputs": [],
   "source": [
    "import matplotlib.pyplot as plt\n",
    "%matplotlib inline\n",
    "import numpy as np #numpy will always have our back"
   ]
  },
  {
   "cell_type": "markdown",
   "id": "68efa9be",
   "metadata": {},
   "source": [
    "## 1.1 Obtaining a dataset"
   ]
  },
  {
   "cell_type": "markdown",
   "id": "3720eae5",
   "metadata": {},
   "source": [
    "For illustration purposes, we will use datasets that are canon in machine learning and data science. Those datasets are already preprocessed and easily obtainable through the [scikit-learn](https://scikit-learn.org/stable/) library.\n",
    "\n",
    "Now, let's install (mind the version number 0.24.1!) and import scikit-learn and load the dataset."
   ]
  },
  {
   "cell_type": "code",
   "execution_count": null,
   "id": "823d7a4e",
   "metadata": {},
   "outputs": [],
   "source": [
    "!pip install scikit-learn==0.24.1"
   ]
  },
  {
   "cell_type": "code",
   "execution_count": null,
   "id": "6ce5feaa",
   "metadata": {},
   "outputs": [],
   "source": [
    "from sklearn import datasets\n",
    "boston = datasets.load_boston()"
   ]
  },
  {
   "cell_type": "markdown",
   "id": "a103b7e8",
   "metadata": {},
   "source": [
    "Now we have the Boston House Prices dataset. Let's try to explore it with ```matplotlib```."
   ]
  },
  {
   "cell_type": "code",
   "execution_count": null,
   "id": "8229f530",
   "metadata": {},
   "outputs": [],
   "source": [
    "print(boston[\"data\"].shape)"
   ]
  },
  {
   "cell_type": "markdown",
   "id": "04352269",
   "metadata": {},
   "source": [
    "As you can see, we have 506 samples with 13 features. (Actually, there is a 14th feature, the target, which denotes the price of a house.) Now, have a look at what features we are dealing with:"
   ]
  },
  {
   "cell_type": "code",
   "execution_count": null,
   "id": "69a0f0c5",
   "metadata": {
    "scrolled": true
   },
   "outputs": [],
   "source": [
    "print(boston[\"feature_names\"])"
   ]
  },
  {
   "cell_type": "markdown",
   "id": "160866c9",
   "metadata": {},
   "source": [
    "The given abbreviations may seem rightfully cryptic to you, more information can be found in the dataset description:"
   ]
  },
  {
   "cell_type": "code",
   "execution_count": null,
   "id": "42459cf9",
   "metadata": {},
   "outputs": [],
   "source": [
    "print(boston[\"DESCR\"])"
   ]
  },
  {
   "cell_type": "markdown",
   "id": "0c28de2b",
   "metadata": {},
   "source": [
    "## 1.2 Visualise features"
   ]
  },
  {
   "cell_type": "markdown",
   "id": "3d10f848",
   "metadata": {},
   "source": [
    "Now, we want to get a feeling for a feature, how it is distributed and what we can learn from it. Hence, we will pick out one of the features and plot them in difference ways. \n",
    "\n",
    "As an example feature, we will take \"RM\", the average number of rooms.\n",
    "For the all subtasks of 1.2, the term \"data\" refers to the feature \"RM\" of the Boston Housing dataset."
   ]
  },
  {
   "cell_type": "markdown",
   "id": "b16ee34b",
   "metadata": {},
   "source": [
    "### Task 1.2.1: Get the feature\n",
    "Isolate the feature \"RM\" from the data and save the vector into the provided variable _rm_."
   ]
  },
  {
   "cell_type": "code",
   "execution_count": null,
   "id": "72eb1101",
   "metadata": {},
   "outputs": [],
   "source": [
    "rm = # Your Code here"
   ]
  },
  {
   "cell_type": "markdown",
   "id": "a48d1f77",
   "metadata": {},
   "source": [
    "### Task 1.2.2: Describe the data\n",
    "Use the skills you learnt in the lecture and the last assignment (and numpy), to extract meaningful properties from the data:\n",
    "- attribute type (scale) of the data\n",
    "- mean\n",
    "- median\n",
    "- maximum value\n",
    "- minimum value\n",
    "- variance"
   ]
  },
  {
   "cell_type": "code",
   "execution_count": null,
   "id": "9da68986",
   "metadata": {},
   "outputs": [],
   "source": [
    "# attribute type: your answer here\n",
    "rm_mean =  # Your Code here\n",
    "rm_median =  # Your Code here\n",
    "rm_max =  # Your Code here\n",
    "rm_min =  # Your Code here\n",
    "rm_var =  # Your Code here"
   ]
  },
  {
   "cell_type": "markdown",
   "id": "967bfaca",
   "metadata": {},
   "source": [
    "### Task 1.2.3: Show the distribution\n",
    "Now, we are interested in the distribution of the number of rooms over the data, i.e. we want to visualise how many houses have how many rooms. \n",
    "\n",
    "Have a look at the sample plots in on the [matplotlib website](https://matplotlib.org/stable/gallery/statistics/histogram_features.html) and choose an appropriate type of plot to display that information.\n",
    "\n",
    "IMPORTANT: Do not forget to label your axes correctly!"
   ]
  },
  {
   "cell_type": "code",
   "execution_count": null,
   "id": "cf81f019",
   "metadata": {},
   "outputs": [],
   "source": [
    "# Your Code here\n",
    "plt.title(\"Your Title here\")\n",
    "plt.xlabel(\"Your X Label here\")\n",
    "plt.ylabel(\"Your Y Label here\")\n",
    "plt.show()"
   ]
  },
  {
   "cell_type": "markdown",
   "id": "63387014",
   "metadata": {},
   "source": [
    "### Bonus Task 1.2.4: What type of function could describe the data approximately?"
   ]
  },
  {
   "cell_type": "code",
   "execution_count": null,
   "id": "a5f0e3d5",
   "metadata": {},
   "outputs": [],
   "source": [
    "# Your Answer here"
   ]
  },
  {
   "cell_type": "markdown",
   "id": "2fc36444",
   "metadata": {},
   "source": [
    "### Task 1.2.5: Show the boxplot and describe it\n",
    "Now that you know how to plot with matplotlib, you are tasked to create a box and whiskers plot of the data. Have a look at the [official matplotlib documentation](https://matplotlib.org/stable/api/_as_gen/matplotlib.pyplot.boxplot.html) if you need some guidance. Additionally, give a quick description of the plot and what you learn from it about the data."
   ]
  },
  {
   "cell_type": "code",
   "execution_count": null,
   "id": "3ad43df6",
   "metadata": {},
   "outputs": [],
   "source": [
    "# Your Code here\n",
    "plt.title(\"Your Title here\")\n",
    "plt.xlabel(\"Your X Label here\")\n",
    "plt.ylabel(\"Your Y Label here\")\n",
    "plt.show()\n",
    "\n",
    "# Your description here"
   ]
  },
  {
   "cell_type": "markdown",
   "id": "c33559bd",
   "metadata": {},
   "source": [
    "## 1.3 Visualise 2D data\n",
    "After we have looked at the characteristics of a single feature, let's see how matplotlib can help to visualise two-dimensional data and single samples. Prominent 2D data are greyscale photos or images, where the two dimensions are the x and y positions of the pixel values."
   ]
  },
  {
   "cell_type": "markdown",
   "id": "0fcc2c79",
   "metadata": {},
   "source": [
    "### 1.3.1 Obtain an image dataset\n",
    "Fortunately, Scikit-learn also provides a dataset with pixel images as samples."
   ]
  },
  {
   "cell_type": "code",
   "execution_count": null,
   "id": "370bad4f",
   "metadata": {
    "scrolled": true
   },
   "outputs": [],
   "source": [
    "digits = datasets.load_digits()\n",
    "print(digits.keys())"
   ]
  },
  {
   "cell_type": "markdown",
   "id": "0f435a3f",
   "metadata": {},
   "source": [
    "Let's go the usual route and have a look at the shape of the data."
   ]
  },
  {
   "cell_type": "code",
   "execution_count": null,
   "id": "a0d19689",
   "metadata": {},
   "outputs": [],
   "source": [
    "print(digits[\"data\"].shape)"
   ]
  },
  {
   "cell_type": "markdown",
   "id": "eb7a25d9",
   "metadata": {},
   "source": [
    "So, we have 1797 samples with 64 features each. That means, if we isolate a feature vector for a single sample, it has 64 features. But aren't we dealing with images that are usually 2-dimensional?\n",
    "\n",
    "Perhaps the feature names can give more insight:"
   ]
  },
  {
   "cell_type": "code",
   "execution_count": null,
   "id": "86dddd3a",
   "metadata": {},
   "outputs": [],
   "source": [
    "print(digits[\"feature_names\"])"
   ]
  },
  {
   "cell_type": "markdown",
   "id": "6d872e0a",
   "metadata": {},
   "source": [
    "From the feature names, we can conclude that the pixel values are represented in a vector, row for row. In order to plot it as a picture, we need a 2D representation, though.\n",
    "\n",
    "Therefore our tasks are now: \n",
    "- 1.) isolate the feature vector of a single sample\n",
    "- 2.) reshape the vector into a 2D matrix\n",
    "- 3.) plot the image using matplotlib"
   ]
  },
  {
   "cell_type": "markdown",
   "id": "0db17dbe",
   "metadata": {},
   "source": [
    "### Task 1.3.1 Isolate a feature vector\n",
    "This task can be seen as the \"inverse\" of task 1.2.1. But now, instead of a single feature over all samples, we want all the features for a single sample!\n",
    "\n",
    "Isolate a sample of your choice and save it in the variable _im_vec_."
   ]
  },
  {
   "cell_type": "code",
   "execution_count": null,
   "id": "cba8bcdd",
   "metadata": {},
   "outputs": [],
   "source": [
    "# Your Code here\n",
    "print(im_vec.shape)"
   ]
  },
  {
   "cell_type": "markdown",
   "id": "ddd73a30",
   "metadata": {},
   "source": [
    "### Task 1.3.2 Reshape the vector into a 2D matrix\n",
    "Now, you should have a vector of length 64. The image samples of the dataset are square. So now you need to reshape the vector into the appropriate shape using Numpy. Save the resulting matrix into the variable _im_.\n",
    "\n",
    "Hint: a helpful function is [numpy.reshape](https://numpy.org/doc/stable/reference/generated/numpy.reshape.html)."
   ]
  },
  {
   "cell_type": "code",
   "execution_count": null,
   "id": "584fcc46",
   "metadata": {},
   "outputs": [],
   "source": [
    "im = # your code here\n",
    "print(im.shape)"
   ]
  },
  {
   "cell_type": "markdown",
   "id": "6581bf35",
   "metadata": {},
   "source": [
    "### Task 1.3.3 Plot the image\n",
    "Use the skills obtained above to plot the sample using the ```imshow``` [function from matplotlib](https://matplotlib.org/stable/api/_as_gen/matplotlib.pyplot.imshow.html)."
   ]
  },
  {
   "cell_type": "code",
   "execution_count": null,
   "id": "d0ee8850",
   "metadata": {},
   "outputs": [],
   "source": [
    "# your code here"
   ]
  },
  {
   "cell_type": "markdown",
   "id": "b6239e8d",
   "metadata": {},
   "source": [
    "## 1.4 Visual recognition of correlations\n",
    "\n",
    "In this part you shall plot different attributes against each other in a scatterplot to find out if the selected attributes are correlated.\n",
    "\n",
    "The [scatter()](https://matplotlib.org/stable/api/_as_gen/matplotlib.pyplot.scatter.html) function from matplotlib might be worthwhile to look into.\n",
    "\n",
    "Don't forget the title and axes labeling for your plots!\n"
   ]
  },
  {
   "cell_type": "markdown",
   "id": "d69edc60",
   "metadata": {},
   "source": [
    "### Task 1.4.1 Nitric oxid concentration and industrial density\n",
    "\n",
    "We assume a positive correlation between the proportion of non-retail business acres per town and the amount of nitric oxid in the air as a result of higher emissions in industrial areas.\n",
    "Plot the asscociated attributes (INDUS and NOX) against each other and analyse the plot to find out if this is true."
   ]
  },
  {
   "cell_type": "code",
   "execution_count": null,
   "id": "cedf202b",
   "metadata": {},
   "outputs": [],
   "source": [
    "# Your code here\n",
    "\n",
    "# is the assumption true?: your answer here."
   ]
  },
  {
   "cell_type": "markdown",
   "id": "a3fc08b3",
   "metadata": {},
   "source": [
    "### Task 1.4.2 House age and number of rooms\n",
    "\n",
    "We assume a negative correlation between the number of rooms and the age of the house as a result of the trend towards more open interior design choices and larger rooms in modern housing.\n",
    "Plot the asscociated attributes (RM and AGE) against each other and analyse the plot to find out if this assumption is true."
   ]
  },
  {
   "cell_type": "code",
   "execution_count": null,
   "id": "602ebbf4",
   "metadata": {},
   "outputs": [],
   "source": [
    "# Your code here\n",
    "\n",
    "# is the assumption true?: your answer here."
   ]
  },
  {
   "cell_type": "markdown",
   "id": "a397946a",
   "metadata": {},
   "source": [
    "### Task 1.4.3 Social status and price\n",
    "We assume a negative correlation between the amount of people with lower social status in a neighbourhood and the house prices.\n",
    "Plot the associated attributes (LSTAT and MDEV) against each other and analyse the plot to find out if this assumption is true."
   ]
  },
  {
   "cell_type": "code",
   "execution_count": null,
   "id": "b319baea",
   "metadata": {},
   "outputs": [],
   "source": [
    "# Your code here\n",
    "\n",
    "# is the assumption true?: your answer here."
   ]
  }
 ],
 "metadata": {
  "kernelspec": {
   "display_name": "Python 3",
   "language": "python",
   "name": "python3"
  },
  "language_info": {
   "codemirror_mode": {
    "name": "ipython",
    "version": 3
   },
   "file_extension": ".py",
   "mimetype": "text/x-python",
   "name": "python",
   "nbconvert_exporter": "python",
   "pygments_lexer": "ipython3",
   "version": "3.9.3"
  }
 },
 "nbformat": 4,
 "nbformat_minor": 5
}
