{
  "nbformat": 4,
  "nbformat_minor": 5,
  "metadata": {
    "colab": {
      "name": "PlottingCorrelation.ipynb",
      "provenance": []
    },
    "kernelspec": {
      "display_name": "Python 3",
      "language": "python",
      "name": "python3"
    },
    "language_info": {
      "codemirror_mode": {
        "name": "ipython",
        "version": 3
      },
      "file_extension": ".py",
      "mimetype": "text/x-python",
      "name": "python",
      "nbconvert_exporter": "python",
      "pygments_lexer": "ipython3",
      "version": "3.9.4"
    }
  },
  "cells": [
    {
      "cell_type": "markdown",
      "metadata": {
        "id": "36344343"
      },
      "source": [
        "# 1 Plotting and Data Visualisation"
      ],
      "id": "36344343"
    },
    {
      "cell_type": "markdown",
      "metadata": {
        "id": "a1844dd0"
      },
      "source": [
        "In this notebook we want to get familiar with plotting and the Python library ```matplotlib```. Plotting is an essential tool for data exploration that can help you to get an intuition about certain characteristics and features of data.\n",
        "\n",
        "\n",
        "[Matplotlib](https://matplotlib.org/) is probably the most widely used Python library and will be the one we are using in this course. However, there are also other alternatives that might be interesting for you, for instance [Seaborn](https://seaborn.pydata.org/) or [Plotly](https://plotly.com/) (for this course, we expect you to stick to matplotlib)."
      ],
      "id": "a1844dd0"
    },
    {
      "cell_type": "markdown",
      "metadata": {
        "id": "c3b9f785"
      },
      "source": [
        "Let's install and import matplotlib:"
      ],
      "id": "c3b9f785"
    },
    {
      "cell_type": "code",
      "metadata": {
        "colab": {
          "base_uri": "https://localhost:8080/"
        },
        "id": "87ad92fe",
        "outputId": "dc124cf4-1447-4bd7-fc77-e9200bc45886"
      },
      "source": [
        "!pip install matplotlib"
      ],
      "id": "87ad92fe",
      "execution_count": 1,
      "outputs": [
        {
          "output_type": "stream",
          "text": [
            "Requirement already satisfied: matplotlib in /usr/local/lib/python3.7/dist-packages (3.2.2)\n",
            "Requirement already satisfied: numpy>=1.11 in /usr/local/lib/python3.7/dist-packages (from matplotlib) (1.19.5)\n",
            "Requirement already satisfied: python-dateutil>=2.1 in /usr/local/lib/python3.7/dist-packages (from matplotlib) (2.8.1)\n",
            "Requirement already satisfied: pyparsing!=2.0.4,!=2.1.2,!=2.1.6,>=2.0.1 in /usr/local/lib/python3.7/dist-packages (from matplotlib) (2.4.7)\n",
            "Requirement already satisfied: cycler>=0.10 in /usr/local/lib/python3.7/dist-packages (from matplotlib) (0.10.0)\n",
            "Requirement already satisfied: kiwisolver>=1.0.1 in /usr/local/lib/python3.7/dist-packages (from matplotlib) (1.3.1)\n",
            "Requirement already satisfied: six>=1.5 in /usr/local/lib/python3.7/dist-packages (from python-dateutil>=2.1->matplotlib) (1.15.0)\n"
          ],
          "name": "stdout"
        }
      ]
    },
    {
      "cell_type": "code",
      "metadata": {
        "id": "660c59bd"
      },
      "source": [
        "import matplotlib.pyplot as plt\n",
        "%matplotlib inline\n",
        "import numpy as np #numpy will always have our back"
      ],
      "id": "660c59bd",
      "execution_count": 2,
      "outputs": []
    },
    {
      "cell_type": "markdown",
      "metadata": {
        "id": "68efa9be"
      },
      "source": [
        "## 1.1 Obtaining a dataset"
      ],
      "id": "68efa9be"
    },
    {
      "cell_type": "markdown",
      "metadata": {
        "id": "3720eae5"
      },
      "source": [
        "For illustration purposes, we will use datasets that are canon in machine learning and data science. Those datasets are already preprocessed and easily obtainable through the [scikit-learn](https://scikit-learn.org/stable/) library.\n",
        "\n",
        "Now, let's install (mind the version number 0.24.1!) and import scikit-learn and load the dataset."
      ],
      "id": "3720eae5"
    },
    {
      "cell_type": "code",
      "metadata": {
        "colab": {
          "base_uri": "https://localhost:8080/"
        },
        "id": "823d7a4e",
        "outputId": "77a64ccf-cdad-4c86-cd15-0c93aedf928c"
      },
      "source": [
        "!pip install scikit-learn==0.24.1"
      ],
      "id": "823d7a4e",
      "execution_count": 3,
      "outputs": [
        {
          "output_type": "stream",
          "text": [
            "Collecting scikit-learn==0.24.1\n",
            "\u001b[?25l  Downloading https://files.pythonhosted.org/packages/f3/74/eb899f41d55f957e2591cde5528e75871f817d9fb46d4732423ecaca736d/scikit_learn-0.24.1-cp37-cp37m-manylinux2010_x86_64.whl (22.3MB)\n",
            "\u001b[K     |████████████████████████████████| 22.3MB 1.2MB/s \n",
            "\u001b[?25hCollecting threadpoolctl>=2.0.0\n",
            "  Downloading https://files.pythonhosted.org/packages/f7/12/ec3f2e203afa394a149911729357aa48affc59c20e2c1c8297a60f33f133/threadpoolctl-2.1.0-py3-none-any.whl\n",
            "Requirement already satisfied: joblib>=0.11 in /usr/local/lib/python3.7/dist-packages (from scikit-learn==0.24.1) (1.0.1)\n",
            "Requirement already satisfied: numpy>=1.13.3 in /usr/local/lib/python3.7/dist-packages (from scikit-learn==0.24.1) (1.19.5)\n",
            "Requirement already satisfied: scipy>=0.19.1 in /usr/local/lib/python3.7/dist-packages (from scikit-learn==0.24.1) (1.4.1)\n",
            "Installing collected packages: threadpoolctl, scikit-learn\n",
            "  Found existing installation: scikit-learn 0.22.2.post1\n",
            "    Uninstalling scikit-learn-0.22.2.post1:\n",
            "      Successfully uninstalled scikit-learn-0.22.2.post1\n",
            "Successfully installed scikit-learn-0.24.1 threadpoolctl-2.1.0\n"
          ],
          "name": "stdout"
        }
      ]
    },
    {
      "cell_type": "code",
      "metadata": {
        "id": "6ce5feaa"
      },
      "source": [
        "from sklearn import datasets\n",
        "boston = datasets.load_boston()"
      ],
      "id": "6ce5feaa",
      "execution_count": 4,
      "outputs": []
    },
    {
      "cell_type": "markdown",
      "metadata": {
        "id": "a103b7e8"
      },
      "source": [
        "Now we have the Boston House Prices dataset. Let's try to explore it with ```matplotlib```."
      ],
      "id": "a103b7e8"
    },
    {
      "cell_type": "code",
      "metadata": {
        "colab": {
          "base_uri": "https://localhost:8080/"
        },
        "id": "8229f530",
        "outputId": "0d1cf431-aa23-4c39-d0a5-1b6fa20e53e6"
      },
      "source": [
        "print(boston[\"data\"].shape)"
      ],
      "id": "8229f530",
      "execution_count": 5,
      "outputs": [
        {
          "output_type": "stream",
          "text": [
            "(506, 13)\n"
          ],
          "name": "stdout"
        }
      ]
    },
    {
      "cell_type": "markdown",
      "metadata": {
        "id": "04352269"
      },
      "source": [
        "As you can see, we have 506 samples with 13 features. (Actually, there is a 14th feature, the target, which denotes the price of a house.) Now, have a look at what features we are dealing with:"
      ],
      "id": "04352269"
    },
    {
      "cell_type": "code",
      "metadata": {
        "colab": {
          "base_uri": "https://localhost:8080/"
        },
        "id": "69a0f0c5",
        "scrolled": true,
        "outputId": "589a0717-f15f-4b56-be1c-d59081aab87f"
      },
      "source": [
        "print(boston[\"feature_names\"])"
      ],
      "id": "69a0f0c5",
      "execution_count": 6,
      "outputs": [
        {
          "output_type": "stream",
          "text": [
            "['CRIM' 'ZN' 'INDUS' 'CHAS' 'NOX' 'RM' 'AGE' 'DIS' 'RAD' 'TAX' 'PTRATIO'\n",
            " 'B' 'LSTAT']\n"
          ],
          "name": "stdout"
        }
      ]
    },
    {
      "cell_type": "markdown",
      "metadata": {
        "id": "160866c9"
      },
      "source": [
        "The given abbreviations may seem rightfully cryptic to you, more information can be found in the dataset description:"
      ],
      "id": "160866c9"
    },
    {
      "cell_type": "code",
      "metadata": {
        "colab": {
          "base_uri": "https://localhost:8080/"
        },
        "id": "42459cf9",
        "outputId": "473c06e5-74ae-4ee3-ac1f-adfde2affb8a"
      },
      "source": [
        "print(boston[\"DESCR\"])"
      ],
      "id": "42459cf9",
      "execution_count": 7,
      "outputs": [
        {
          "output_type": "stream",
          "text": [
            ".. _boston_dataset:\n",
            "\n",
            "Boston house prices dataset\n",
            "---------------------------\n",
            "\n",
            "**Data Set Characteristics:**  \n",
            "\n",
            "    :Number of Instances: 506 \n",
            "\n",
            "    :Number of Attributes: 13 numeric/categorical predictive. Median Value (attribute 14) is usually the target.\n",
            "\n",
            "    :Attribute Information (in order):\n",
            "        - CRIM     per capita crime rate by town\n",
            "        - ZN       proportion of residential land zoned for lots over 25,000 sq.ft.\n",
            "        - INDUS    proportion of non-retail business acres per town\n",
            "        - CHAS     Charles River dummy variable (= 1 if tract bounds river; 0 otherwise)\n",
            "        - NOX      nitric oxides concentration (parts per 10 million)\n",
            "        - RM       average number of rooms per dwelling\n",
            "        - AGE      proportion of owner-occupied units built prior to 1940\n",
            "        - DIS      weighted distances to five Boston employment centres\n",
            "        - RAD      index of accessibility to radial highways\n",
            "        - TAX      full-value property-tax rate per $10,000\n",
            "        - PTRATIO  pupil-teacher ratio by town\n",
            "        - B        1000(Bk - 0.63)^2 where Bk is the proportion of blacks by town\n",
            "        - LSTAT    % lower status of the population\n",
            "        - MEDV     Median value of owner-occupied homes in $1000's\n",
            "\n",
            "    :Missing Attribute Values: None\n",
            "\n",
            "    :Creator: Harrison, D. and Rubinfeld, D.L.\n",
            "\n",
            "This is a copy of UCI ML housing dataset.\n",
            "https://archive.ics.uci.edu/ml/machine-learning-databases/housing/\n",
            "\n",
            "\n",
            "This dataset was taken from the StatLib library which is maintained at Carnegie Mellon University.\n",
            "\n",
            "The Boston house-price data of Harrison, D. and Rubinfeld, D.L. 'Hedonic\n",
            "prices and the demand for clean air', J. Environ. Economics & Management,\n",
            "vol.5, 81-102, 1978.   Used in Belsley, Kuh & Welsch, 'Regression diagnostics\n",
            "...', Wiley, 1980.   N.B. Various transformations are used in the table on\n",
            "pages 244-261 of the latter.\n",
            "\n",
            "The Boston house-price data has been used in many machine learning papers that address regression\n",
            "problems.   \n",
            "     \n",
            ".. topic:: References\n",
            "\n",
            "   - Belsley, Kuh & Welsch, 'Regression diagnostics: Identifying Influential Data and Sources of Collinearity', Wiley, 1980. 244-261.\n",
            "   - Quinlan,R. (1993). Combining Instance-Based and Model-Based Learning. In Proceedings on the Tenth International Conference of Machine Learning, 236-243, University of Massachusetts, Amherst. Morgan Kaufmann.\n",
            "\n"
          ],
          "name": "stdout"
        }
      ]
    },
    {
      "cell_type": "markdown",
      "metadata": {
        "id": "0c28de2b"
      },
      "source": [
        "## 1.2 Visualise features"
      ],
      "id": "0c28de2b"
    },
    {
      "cell_type": "markdown",
      "metadata": {
        "id": "3d10f848"
      },
      "source": [
        "Now, we want to get a feeling for a feature, how it is distributed and what we can learn from it. Hence, we will pick out one of the features and plot them in difference ways. \n",
        "\n",
        "As an example feature, we will take \"RM\", the average number of rooms.\n",
        "For the all subtasks of 1.2, the term \"data\" refers to the feature \"RM\" of the Boston Housing dataset."
      ],
      "id": "3d10f848"
    },
    {
      "cell_type": "markdown",
      "metadata": {
        "id": "b16ee34b"
      },
      "source": [
        "### Task 1.2.1: Get the feature\n",
        "Isolate the feature \"RM\" from the data and save the vector into the provided variable _rm_."
      ],
      "id": "b16ee34b"
    },
    {
      "cell_type": "code",
      "metadata": {
        "colab": {
          "base_uri": "https://localhost:8080/"
        },
        "id": "72eb1101",
        "outputId": "d99b69ce-2528-4f10-dd82-9b6126b60728"
      },
      "source": [
        "rm = boston['data'][0:, 5]\n",
        "rm"
      ],
      "id": "72eb1101",
      "execution_count": 8,
      "outputs": [
        {
          "output_type": "execute_result",
          "data": {
            "text/plain": [
              "array([6.575, 6.421, 7.185, 6.998, 7.147, 6.43 , 6.012, 6.172, 5.631,\n",
              "       6.004, 6.377, 6.009, 5.889, 5.949, 6.096, 5.834, 5.935, 5.99 ,\n",
              "       5.456, 5.727, 5.57 , 5.965, 6.142, 5.813, 5.924, 5.599, 5.813,\n",
              "       6.047, 6.495, 6.674, 5.713, 6.072, 5.95 , 5.701, 6.096, 5.933,\n",
              "       5.841, 5.85 , 5.966, 6.595, 7.024, 6.77 , 6.169, 6.211, 6.069,\n",
              "       5.682, 5.786, 6.03 , 5.399, 5.602, 5.963, 6.115, 6.511, 5.998,\n",
              "       5.888, 7.249, 6.383, 6.816, 6.145, 5.927, 5.741, 5.966, 6.456,\n",
              "       6.762, 7.104, 6.29 , 5.787, 5.878, 5.594, 5.885, 6.417, 5.961,\n",
              "       6.065, 6.245, 6.273, 6.286, 6.279, 6.14 , 6.232, 5.874, 6.727,\n",
              "       6.619, 6.302, 6.167, 6.389, 6.63 , 6.015, 6.121, 7.007, 7.079,\n",
              "       6.417, 6.405, 6.442, 6.211, 6.249, 6.625, 6.163, 8.069, 7.82 ,\n",
              "       7.416, 6.727, 6.781, 6.405, 6.137, 6.167, 5.851, 5.836, 6.127,\n",
              "       6.474, 6.229, 6.195, 6.715, 5.913, 6.092, 6.254, 5.928, 6.176,\n",
              "       6.021, 5.872, 5.731, 5.87 , 6.004, 5.961, 5.856, 5.879, 5.986,\n",
              "       5.613, 5.693, 6.431, 5.637, 6.458, 6.326, 6.372, 5.822, 5.757,\n",
              "       6.335, 5.942, 6.454, 5.857, 6.151, 6.174, 5.019, 5.403, 5.468,\n",
              "       4.903, 6.13 , 5.628, 4.926, 5.186, 5.597, 6.122, 5.404, 5.012,\n",
              "       5.709, 6.129, 6.152, 5.272, 6.943, 6.066, 6.51 , 6.25 , 7.489,\n",
              "       7.802, 8.375, 5.854, 6.101, 7.929, 5.877, 6.319, 6.402, 5.875,\n",
              "       5.88 , 5.572, 6.416, 5.859, 6.546, 6.02 , 6.315, 6.86 , 6.98 ,\n",
              "       7.765, 6.144, 7.155, 6.563, 5.604, 6.153, 7.831, 6.782, 6.556,\n",
              "       7.185, 6.951, 6.739, 7.178, 6.8  , 6.604, 7.875, 7.287, 7.107,\n",
              "       7.274, 6.975, 7.135, 6.162, 7.61 , 7.853, 8.034, 5.891, 6.326,\n",
              "       5.783, 6.064, 5.344, 5.96 , 5.404, 5.807, 6.375, 5.412, 6.182,\n",
              "       5.888, 6.642, 5.951, 6.373, 6.951, 6.164, 6.879, 6.618, 8.266,\n",
              "       8.725, 8.04 , 7.163, 7.686, 6.552, 5.981, 7.412, 8.337, 8.247,\n",
              "       6.726, 6.086, 6.631, 7.358, 6.481, 6.606, 6.897, 6.095, 6.358,\n",
              "       6.393, 5.593, 5.605, 6.108, 6.226, 6.433, 6.718, 6.487, 6.438,\n",
              "       6.957, 8.259, 6.108, 5.876, 7.454, 8.704, 7.333, 6.842, 7.203,\n",
              "       7.52 , 8.398, 7.327, 7.206, 5.56 , 7.014, 8.297, 7.47 , 5.92 ,\n",
              "       5.856, 6.24 , 6.538, 7.691, 6.758, 6.854, 7.267, 6.826, 6.482,\n",
              "       6.812, 7.82 , 6.968, 7.645, 7.923, 7.088, 6.453, 6.23 , 6.209,\n",
              "       6.315, 6.565, 6.861, 7.148, 6.63 , 6.127, 6.009, 6.678, 6.549,\n",
              "       5.79 , 6.345, 7.041, 6.871, 6.59 , 6.495, 6.982, 7.236, 6.616,\n",
              "       7.42 , 6.849, 6.635, 5.972, 4.973, 6.122, 6.023, 6.266, 6.567,\n",
              "       5.705, 5.914, 5.782, 6.382, 6.113, 6.426, 6.376, 6.041, 5.708,\n",
              "       6.415, 6.431, 6.312, 6.083, 5.868, 6.333, 6.144, 5.706, 6.031,\n",
              "       6.316, 6.31 , 6.037, 5.869, 5.895, 6.059, 5.985, 5.968, 7.241,\n",
              "       6.54 , 6.696, 6.874, 6.014, 5.898, 6.516, 6.635, 6.939, 6.49 ,\n",
              "       6.579, 5.884, 6.728, 5.663, 5.936, 6.212, 6.395, 6.127, 6.112,\n",
              "       6.398, 6.251, 5.362, 5.803, 8.78 , 3.561, 4.963, 3.863, 4.97 ,\n",
              "       6.683, 7.016, 6.216, 5.875, 4.906, 4.138, 7.313, 6.649, 6.794,\n",
              "       6.38 , 6.223, 6.968, 6.545, 5.536, 5.52 , 4.368, 5.277, 4.652,\n",
              "       5.   , 4.88 , 5.39 , 5.713, 6.051, 5.036, 6.193, 5.887, 6.471,\n",
              "       6.405, 5.747, 5.453, 5.852, 5.987, 6.343, 6.404, 5.349, 5.531,\n",
              "       5.683, 4.138, 5.608, 5.617, 6.852, 5.757, 6.657, 4.628, 5.155,\n",
              "       4.519, 6.434, 6.782, 5.304, 5.957, 6.824, 6.411, 6.006, 5.648,\n",
              "       6.103, 5.565, 5.896, 5.837, 6.202, 6.193, 6.38 , 6.348, 6.833,\n",
              "       6.425, 6.436, 6.208, 6.629, 6.461, 6.152, 5.935, 5.627, 5.818,\n",
              "       6.406, 6.219, 6.485, 5.854, 6.459, 6.341, 6.251, 6.185, 6.417,\n",
              "       6.749, 6.655, 6.297, 7.393, 6.728, 6.525, 5.976, 5.936, 6.301,\n",
              "       6.081, 6.701, 6.376, 6.317, 6.513, 6.209, 5.759, 5.952, 6.003,\n",
              "       5.926, 5.713, 6.167, 6.229, 6.437, 6.98 , 5.427, 6.162, 6.484,\n",
              "       5.304, 6.185, 6.229, 6.242, 6.75 , 7.061, 5.762, 5.871, 6.312,\n",
              "       6.114, 5.905, 5.454, 5.414, 5.093, 5.983, 5.983, 5.707, 5.926,\n",
              "       5.67 , 5.39 , 5.794, 6.019, 5.569, 6.027, 6.593, 6.12 , 6.976,\n",
              "       6.794, 6.03 ])"
            ]
          },
          "metadata": {
            "tags": []
          },
          "execution_count": 8
        }
      ]
    },
    {
      "cell_type": "markdown",
      "metadata": {
        "id": "a48d1f77"
      },
      "source": [
        "### Task 1.2.2: Describe the data\n",
        "Use the skills you learnt in the lecture and the last assignment (and numpy), to extract meaningful properties from the data:\n",
        "- attribute type (scale) of the data\n",
        "- mean\n",
        "- median\n",
        "- maximum value\n",
        "- minimum value\n",
        "- variance"
      ],
      "id": "a48d1f77"
    },
    {
      "cell_type": "code",
      "metadata": {
        "colab": {
          "base_uri": "https://localhost:8080/"
        },
        "id": "9da68986",
        "outputId": "092c8018-f6d1-48dd-c57d-375da2d60728"
      },
      "source": [
        "# attribute type: metric\n",
        "rm_mean =  np.mean(rm)# Your Code here\n",
        "print('mean: %s' % rm_mean)\n",
        "rm_median =  np.median(rm)# Your Code here\n",
        "print('median: %s' % rm_median)\n",
        "rm_max =  np.max(rm)# Your Code here\n",
        "print('max: %s' % rm_max)\n",
        "rm_min =  np.min(rm)# Your Code here\n",
        "print('min: %s' % rm_min)\n",
        "rm_var =  np.var(rm) # Your Code here\n",
        "print('variance: %s' % rm_var)"
      ],
      "id": "9da68986",
      "execution_count": 9,
      "outputs": [
        {
          "output_type": "stream",
          "text": [
            "mean: 6.284634387351779\n",
            "median: 6.2085\n",
            "max: 8.78\n",
            "min: 3.561\n",
            "variance: 0.49269521612976297\n"
          ],
          "name": "stdout"
        }
      ]
    },
    {
      "cell_type": "markdown",
      "metadata": {
        "id": "967bfaca"
      },
      "source": [
        "### Task 1.2.3: Show the distribution\n",
        "Now, we are interested in the distribution of the number of rooms over the data, i.e. we want to visualise how many houses have how many rooms. \n",
        "\n",
        "Have a look at the sample plots in on the [matplotlib website](https://matplotlib.org/stable/gallery/statistics/histogram_features.html) and choose an appropriate type of plot to display that information.\n",
        "\n",
        "IMPORTANT: Do not forget to label your axes correctly!"
      ],
      "id": "967bfaca"
    },
    {
      "cell_type": "code",
      "metadata": {
        "colab": {
          "base_uri": "https://localhost:8080/",
          "height": 295
        },
        "id": "cf81f019",
        "outputId": "3a4358d5-4c87-4f93-e941-e12e9f6dfd17"
      },
      "source": [
        "fig, ax = plt.subplots()\n",
        "# plt.hist(rm)\n",
        "ax.hist(rm)\n",
        "ax.set_xlabel('Number of Rooms')\n",
        "ax.set_ylabel('Number of Houses')\n",
        "plt.title(\"histogram of the number of rooms\")\n",
        "plt.show()"
      ],
      "id": "cf81f019",
      "execution_count": 10,
      "outputs": [
        {
          "output_type": "display_data",
          "data": {
            "image/png": "[encoded data removed]",
            "text/plain": [
              "<Figure size 432x288 with 1 Axes>"
            ]
          },
          "metadata": {
            "tags": [],
            "needs_background": "light"
          }
        }
      ]
    },
    {
      "cell_type": "markdown",
      "metadata": {
        "id": "63387014"
      },
      "source": [
        "### Bonus Task 1.2.4: What type of function could describe the data approximately?"
      ],
      "id": "63387014"
    },
    {
      "cell_type": "code",
      "metadata": {
        "id": "a5f0e3d5"
      },
      "source": [
        "# Your Answer here"
      ],
      "id": "a5f0e3d5",
      "execution_count": 11,
      "outputs": []
    },
    {
      "cell_type": "markdown",
      "metadata": {
        "id": "2fc36444"
      },
      "source": [
        "### Task 1.2.5: Show the boxplot and describe it\n",
        "Now that you know how to plot with matplotlib, you are tasked to create a box and whiskers plot of the data. Have a look at the [official matplotlib documentation](https://matplotlib.org/stable/api/_as_gen/matplotlib.pyplot.boxplot.html) if you need some guidance. Additionally, give a quick description of the plot and what you learn from it about the data."
      ],
      "id": "2fc36444"
    },
    {
      "cell_type": "code",
      "metadata": {
        "colab": {
          "base_uri": "https://localhost:8080/",
          "height": 268
        },
        "id": "3ad43df6",
        "outputId": "2d5c8340-5880-4c62-aee3-283c08a13eab"
      },
      "source": [
        "# Your Code here\n",
        "\n",
        "fig, ax = plt.subplots()\n",
        "# ax.set_xlabel('Number of Rooms')\n",
        "ax.set_ylabel('Number of Rooms')\n",
        "ax.boxplot(rm)\n",
        "plt.show()\n",
        "\n",
        "# The plot shows the distribution of data in the set. The box represents 50% of the data \n",
        "# within the second and third quanrtile. The line represents the median. The whiskers are the\n",
        "# the limits for data values that are not outliers. The dots represent the outliers in the data set.\n",
        "# We can see that the data set contains many outliers. The box is rather small. This means that \n",
        "# most of the flats have between 6 and 7 rooms. However, there are some exception with less than 5 or more than 8 rooms."
      ],
      "id": "3ad43df6",
      "execution_count": 12,
      "outputs": [
        {
          "output_type": "display_data",
          "data": {
            "image/png": "[encoded data removed]",
            "text/plain": [
              "<Figure size 432x288 with 1 Axes>"
            ]
          },
          "metadata": {
            "tags": [],
            "needs_background": "light"
          }
        }
      ]
    },
    {
      "cell_type": "markdown",
      "metadata": {
        "id": "c33559bd"
      },
      "source": [
        "## 1.3 Visualise 2D data\n",
        "After we have looked at the characteristics of a single feature, let's see how matplotlib can help to visualise two-dimensional data and single samples. Prominent 2D data are greyscale photos or images, where the two dimensions are the x and y positions of the pixel values."
      ],
      "id": "c33559bd"
    },
    {
      "cell_type": "markdown",
      "metadata": {
        "id": "0fcc2c79"
      },
      "source": [
        "### 1.3.1 Obtain an image dataset\n",
        "Fortunately, Scikit-learn also provides a dataset with pixel images as samples."
      ],
      "id": "0fcc2c79"
    },
    {
      "cell_type": "code",
      "metadata": {
        "colab": {
          "base_uri": "https://localhost:8080/"
        },
        "id": "370bad4f",
        "scrolled": true,
        "outputId": "06007260-f5a6-401e-e2b9-7792a29b16c3"
      },
      "source": [
        "digits = datasets.load_digits()\n",
        "print(digits.keys())"
      ],
      "id": "370bad4f",
      "execution_count": 13,
      "outputs": [
        {
          "output_type": "stream",
          "text": [
            "dict_keys(['data', 'target', 'frame', 'feature_names', 'target_names', 'images', 'DESCR'])\n"
          ],
          "name": "stdout"
        }
      ]
    },
    {
      "cell_type": "markdown",
      "metadata": {
        "id": "0f435a3f"
      },
      "source": [
        "Let's go the usual route and have a look at the shape of the data."
      ],
      "id": "0f435a3f"
    },
    {
      "cell_type": "code",
      "metadata": {
        "colab": {
          "base_uri": "https://localhost:8080/"
        },
        "id": "a0d19689",
        "outputId": "fac39bf3-912a-4c61-8157-660e505ee9f2"
      },
      "source": [
        "print(digits[\"data\"].shape)"
      ],
      "id": "a0d19689",
      "execution_count": 14,
      "outputs": [
        {
          "output_type": "stream",
          "text": [
            "(1797, 64)\n"
          ],
          "name": "stdout"
        }
      ]
    },
    {
      "cell_type": "markdown",
      "metadata": {
        "id": "eb7a25d9"
      },
      "source": [
        "So, we have 1797 samples with 64 features each. That means, if we isolate a feature vector for a single sample, it has 64 features. But aren't we dealing with images that are usually 2-dimensional?\n",
        "\n",
        "Perhaps the feature names can give more insight:"
      ],
      "id": "eb7a25d9"
    },
    {
      "cell_type": "code",
      "metadata": {
        "colab": {
          "base_uri": "https://localhost:8080/"
        },
        "id": "86dddd3a",
        "outputId": "9a46d36c-744c-42dc-de89-ebd9d530a842"
      },
      "source": [
        "print(digits[\"feature_names\"])"
      ],
      "id": "86dddd3a",
      "execution_count": 15,
      "outputs": [
        {
          "output_type": "stream",
          "text": [
            "['pixel_0_0', 'pixel_0_1', 'pixel_0_2', 'pixel_0_3', 'pixel_0_4', 'pixel_0_5', 'pixel_0_6', 'pixel_0_7', 'pixel_1_0', 'pixel_1_1', 'pixel_1_2', 'pixel_1_3', 'pixel_1_4', 'pixel_1_5', 'pixel_1_6', 'pixel_1_7', 'pixel_2_0', 'pixel_2_1', 'pixel_2_2', 'pixel_2_3', 'pixel_2_4', 'pixel_2_5', 'pixel_2_6', 'pixel_2_7', 'pixel_3_0', 'pixel_3_1', 'pixel_3_2', 'pixel_3_3', 'pixel_3_4', 'pixel_3_5', 'pixel_3_6', 'pixel_3_7', 'pixel_4_0', 'pixel_4_1', 'pixel_4_2', 'pixel_4_3', 'pixel_4_4', 'pixel_4_5', 'pixel_4_6', 'pixel_4_7', 'pixel_5_0', 'pixel_5_1', 'pixel_5_2', 'pixel_5_3', 'pixel_5_4', 'pixel_5_5', 'pixel_5_6', 'pixel_5_7', 'pixel_6_0', 'pixel_6_1', 'pixel_6_2', 'pixel_6_3', 'pixel_6_4', 'pixel_6_5', 'pixel_6_6', 'pixel_6_7', 'pixel_7_0', 'pixel_7_1', 'pixel_7_2', 'pixel_7_3', 'pixel_7_4', 'pixel_7_5', 'pixel_7_6', 'pixel_7_7']\n"
          ],
          "name": "stdout"
        }
      ]
    },
    {
      "cell_type": "markdown",
      "metadata": {
        "id": "6d872e0a"
      },
      "source": [
        "From the feature names, we can conclude that the pixel values are represented in a vector, row for row. In order to plot it as a picture, we need a 2D representation, though.\n",
        "\n",
        "Therefore our tasks are now: \n",
        "- 1.) isolate the feature vector of a single sample\n",
        "- 2.) reshape the vector into a 2D matrix\n",
        "- 3.) plot the image using matplotlib"
      ],
      "id": "6d872e0a"
    },
    {
      "cell_type": "markdown",
      "metadata": {
        "id": "0db17dbe"
      },
      "source": [
        "### Task 1.3.1 Isolate a feature vector\n",
        "This task can be seen as the \"inverse\" of task 1.2.1. But now, instead of a single feature over all samples, we want all the features for a single sample!\n",
        "\n",
        "Isolate a sample of your choice and save it in the variable _im_vec_."
      ],
      "id": "0db17dbe"
    },
    {
      "cell_type": "code",
      "metadata": {
        "colab": {
          "base_uri": "https://localhost:8080/"
        },
        "id": "cba8bcdd",
        "outputId": "4131c732-f6fc-4250-ffaf-f0a73ea31f2e"
      },
      "source": [
        "im_vec = digits['data'][9, 0:]\n",
        "print(im_vec.shape)"
      ],
      "id": "cba8bcdd",
      "execution_count": 16,
      "outputs": [
        {
          "output_type": "stream",
          "text": [
            "(64,)\n"
          ],
          "name": "stdout"
        }
      ]
    },
    {
      "cell_type": "markdown",
      "metadata": {
        "id": "ddd73a30"
      },
      "source": [
        "### Task 1.3.2 Reshape the vector into a 2D matrix\n",
        "Now, you should have a vector of length 64. The image samples of the dataset are square. So now you need to reshape the vector into the appropriate shape using Numpy. Save the resulting matrix into the variable _im_.\n",
        "\n",
        "Hint: a helpful function is [numpy.reshape](https://numpy.org/doc/stable/reference/generated/numpy.reshape.html)."
      ],
      "id": "ddd73a30"
    },
    {
      "cell_type": "code",
      "metadata": {
        "colab": {
          "base_uri": "https://localhost:8080/"
        },
        "id": "584fcc46",
        "outputId": "3f7fc80a-2d82-4944-dff4-f55de441483d"
      },
      "source": [
        "size = int(np.sqrt(im_vec.shape) )\n",
        "im = im_vec.reshape(size, size)\n",
        "print(im.shape)"
      ],
      "id": "584fcc46",
      "execution_count": 17,
      "outputs": [
        {
          "output_type": "stream",
          "text": [
            "(8, 8)\n"
          ],
          "name": "stdout"
        }
      ]
    },
    {
      "cell_type": "markdown",
      "metadata": {
        "id": "6581bf35"
      },
      "source": [
        "### Task 1.3.3 Plot the image\n",
        "Use the skills obtained above to plot the sample using the ```imshow``` [function from matplotlib](https://matplotlib.org/stable/api/_as_gen/matplotlib.pyplot.imshow.html)."
      ],
      "id": "6581bf35"
    },
    {
      "cell_type": "code",
      "metadata": {
        "colab": {
          "base_uri": "https://localhost:8080/",
          "height": 283
        },
        "id": "d0ee8850",
        "outputId": "fe7ecf08-6896-4a4d-f177-bd911552e3b5"
      },
      "source": [
        "plt.imshow(im)"
      ],
      "id": "d0ee8850",
      "execution_count": 18,
      "outputs": [
        {
          "output_type": "execute_result",
          "data": {
            "text/plain": [
              "<matplotlib.image.AxesImage at 0x7f4fd7d8e550>"
            ]
          },
          "metadata": {
            "tags": []
          },
          "execution_count": 18
        },
        {
          "output_type": "display_data",
          "data": {
            "image/png": "[encoded data removed]",
            "text/plain": [
              "<Figure size 432x288 with 1 Axes>"
            ]
          },
          "metadata": {
            "tags": [],
            "needs_background": "light"
          }
        }
      ]
    },
    {
      "cell_type": "markdown",
      "metadata": {
        "id": "b6239e8d"
      },
      "source": [
        "## 1.4 Visual recognition of correlations\n",
        "\n",
        "In this part you shall plot different attributes against each other in a scatterplot to find out if the selected attributes are correlated.\n",
        "\n",
        "The [scatter()](https://matplotlib.org/stable/api/_as_gen/matplotlib.pyplot.scatter.html) function from matplotlib might be worthwhile to look into.\n",
        "\n",
        "Don't forget the title and axes labeling for your plots!\n"
      ],
      "id": "b6239e8d"
    },
    {
      "cell_type": "markdown",
      "metadata": {
        "id": "d69edc60"
      },
      "source": [
        "### Task 1.4.1 Nitric oxid concentration and industrial density\n",
        "\n",
        "We assume a positive correlation between the proportion of non-retail business acres per town and the amount of nitric oxid in the air as a result of higher emissions in industrial areas.\n",
        "Plot the asscociated attributes (INDUS and NOX) against each other and analyse the plot to find out if this is true."
      ],
      "id": "d69edc60"
    },
    {
      "cell_type": "code",
      "metadata": {
        "colab": {
          "base_uri": "https://localhost:8080/",
          "height": 279
        },
        "id": "cedf202b",
        "outputId": "02ea003d-4da4-4b69-f1a7-3e6586f4fe54"
      },
      "source": [
        "indus = boston['data'][0:,2]\n",
        "nox = boston['data'][0:,4]\n",
        "\n",
        "fig, ax = plt.subplots()\n",
        "ax.set_xlabel('Non retail buisness area in acres')\n",
        "ax.set_ylabel('Amount of nitric oxid (pp 10 million) ')\n",
        "ax.scatter(indus, nox)\n",
        "plt.show()\n",
        "# is the assumption true?: \n",
        "# It is true since many low NOX points are in the bottom left quarter that goes with fewer non\n",
        "# retail business area"
      ],
      "id": "cedf202b",
      "execution_count": 19,
      "outputs": [
        {
          "output_type": "display_data",
          "data": {
            "image/png": "[encoded data removed]",
            "text/plain": [
              "<Figure size 432x288 with 1 Axes>"
            ]
          },
          "metadata": {
            "tags": [],
            "needs_background": "light"
          }
        }
      ]
    },
    {
      "cell_type": "markdown",
      "metadata": {
        "id": "a3fc08b3"
      },
      "source": [
        "### Task 1.4.2 House age and number of rooms\n",
        "\n",
        "We assume a negative correlation between the number of rooms and the age of the house as a result of the trend towards more open interior design choices and larger rooms in modern housing.\n",
        "Plot the asscociated attributes (RM and AGE) against each other and analyse the plot to find out if this assumption is true."
      ],
      "id": "a3fc08b3"
    },
    {
      "cell_type": "code",
      "metadata": {
        "colab": {
          "base_uri": "https://localhost:8080/",
          "height": 297
        },
        "id": "602ebbf4",
        "outputId": "1affe77d-d386-40fe-e1f7-6149cad07db4"
      },
      "source": [
        "rooms = boston['data'][0:, 5]\n",
        "age = boston['data'][0:, 6]\n",
        "# Are they sure AGE is what they think it is?\n",
        "\n",
        "\n",
        "fig, ax = plt.subplots()\n",
        "ax.set_ylabel('amount of houses build priot to 1940')\n",
        "ax.set_xlabel('number of rooms')\n",
        "ax.scatter(rooms, age)\n",
        "# is the assumption true?: No, the data points are not visibly correlated.\n",
        "\n"
      ],
      "id": "602ebbf4",
      "execution_count": 20,
      "outputs": [
        {
          "output_type": "execute_result",
          "data": {
            "text/plain": [
              "<matplotlib.collections.PathCollection at 0x7f4fd8014a90>"
            ]
          },
          "metadata": {
            "tags": []
          },
          "execution_count": 20
        },
        {
          "output_type": "display_data",
          "data": {
            "image/png": "[encoded data removed]",
            "text/plain": [
              "<Figure size 432x288 with 1 Axes>"
            ]
          },
          "metadata": {
            "tags": [],
            "needs_background": "light"
          }
        }
      ]
    },
    {
      "cell_type": "code",
      "metadata": {
        "colab": {
          "base_uri": "https://localhost:8080/"
        },
        "id": "nLZOl7um7BXo",
        "outputId": "3898f87e-33fc-489d-efe2-a68654b73420"
      },
      "source": [
        "# print('sample: %s' % boston['data'][0:10, 6])\n",
        "print(boston['DESCR'])\n",
        "# print(boston.keys())\n",
        "# print(boston['feature_names'])"
      ],
      "id": "nLZOl7um7BXo",
      "execution_count": 21,
      "outputs": [
        {
          "output_type": "stream",
          "text": [
            ".. _boston_dataset:\n",
            "\n",
            "Boston house prices dataset\n",
            "---------------------------\n",
            "\n",
            "**Data Set Characteristics:**  \n",
            "\n",
            "    :Number of Instances: 506 \n",
            "\n",
            "    :Number of Attributes: 13 numeric/categorical predictive. Median Value (attribute 14) is usually the target.\n",
            "\n",
            "    :Attribute Information (in order):\n",
            "        - CRIM     per capita crime rate by town\n",
            "        - ZN       proportion of residential land zoned for lots over 25,000 sq.ft.\n",
            "        - INDUS    proportion of non-retail business acres per town\n",
            "        - CHAS     Charles River dummy variable (= 1 if tract bounds river; 0 otherwise)\n",
            "        - NOX      nitric oxides concentration (parts per 10 million)\n",
            "        - RM       average number of rooms per dwelling\n",
            "        - AGE      proportion of owner-occupied units built prior to 1940\n",
            "        - DIS      weighted distances to five Boston employment centres\n",
            "        - RAD      index of accessibility to radial highways\n",
            "        - TAX      full-value property-tax rate per $10,000\n",
            "        - PTRATIO  pupil-teacher ratio by town\n",
            "        - B        1000(Bk - 0.63)^2 where Bk is the proportion of blacks by town\n",
            "        - LSTAT    % lower status of the population\n",
            "        - MEDV     Median value of owner-occupied homes in $1000's\n",
            "\n",
            "    :Missing Attribute Values: None\n",
            "\n",
            "    :Creator: Harrison, D. and Rubinfeld, D.L.\n",
            "\n",
            "This is a copy of UCI ML housing dataset.\n",
            "https://archive.ics.uci.edu/ml/machine-learning-databases/housing/\n",
            "\n",
            "\n",
            "This dataset was taken from the StatLib library which is maintained at Carnegie Mellon University.\n",
            "\n",
            "The Boston house-price data of Harrison, D. and Rubinfeld, D.L. 'Hedonic\n",
            "prices and the demand for clean air', J. Environ. Economics & Management,\n",
            "vol.5, 81-102, 1978.   Used in Belsley, Kuh & Welsch, 'Regression diagnostics\n",
            "...', Wiley, 1980.   N.B. Various transformations are used in the table on\n",
            "pages 244-261 of the latter.\n",
            "\n",
            "The Boston house-price data has been used in many machine learning papers that address regression\n",
            "problems.   \n",
            "     \n",
            ".. topic:: References\n",
            "\n",
            "   - Belsley, Kuh & Welsch, 'Regression diagnostics: Identifying Influential Data and Sources of Collinearity', Wiley, 1980. 244-261.\n",
            "   - Quinlan,R. (1993). Combining Instance-Based and Model-Based Learning. In Proceedings on the Tenth International Conference of Machine Learning, 236-243, University of Massachusetts, Amherst. Morgan Kaufmann.\n",
            "\n"
          ],
          "name": "stdout"
        }
      ]
    },
    {
      "cell_type": "markdown",
      "metadata": {
        "id": "a397946a"
      },
      "source": [
        "### Task 1.4.3 Social status and price\n",
        "We assume a negative correlation between the amount of people with lower social status in a neighbourhood and the house prices.\n",
        "Plot the associated attributes (LSTAT and MDEV) against each other and analyse the plot to find out if this assumption is true."
      ],
      "id": "a397946a"
    },
    {
      "cell_type": "code",
      "metadata": {
        "colab": {
          "base_uri": "https://localhost:8080/",
          "height": 295
        },
        "id": "b319baea",
        "outputId": "3dd4580f-dd1e-4141-bcb4-028714850c2b"
      },
      "source": [
        "# Your code here\n",
        "price = boston['target'][0:]\n",
        "social_status = boston['data'][0:, 12]\n",
        "\n",
        "fig, ax = plt.subplots()\n",
        "ax.set_xlabel('Median Value of owner- occupied homes in $1000')\n",
        "ax.set_ylabel('lower status population in %')\n",
        "plt.title(\"Scatter plot of value\")\n",
        "ax.scatter(price, social_status)\n",
        "plt.show()\n",
        "\n",
        "\n",
        "# is the assumption true?: Yes the data points show a correlation that suggests\n",
        "# that a higher property mean value means a higher social status."
      ],
      "id": "b319baea",
      "execution_count": 22,
      "outputs": [
        {
          "output_type": "display_data",
          "data": {
            "image/png": "[encoded data removed]",
            "text/plain": [
              "<Figure size 432x288 with 1 Axes>"
            ]
          },
          "metadata": {
            "tags": [],
            "needs_background": "light"
          }
        }
      ]
    },
    {
      "cell_type": "code",
      "metadata": {
        "id": "qjhfG07YEyyX"
      },
      "source": [
        ""
      ],
      "id": "qjhfG07YEyyX",
      "execution_count": 22,
      "outputs": []
    }
  ]
}