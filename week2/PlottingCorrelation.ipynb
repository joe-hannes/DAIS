{
  "nbformat": 4,
  "nbformat_minor": 5,
  "metadata": {
    "kernelspec": {
      "display_name": "Python 3",
      "language": "python",
      "name": "python3"
    },
    "language_info": {
      "codemirror_mode": {
        "name": "ipython",
        "version": 3
      },
      "file_extension": ".py",
      "mimetype": "text/x-python",
      "name": "python",
      "nbconvert_exporter": "python",
      "pygments_lexer": "ipython3",
      "version": "3.9.3"
    },
    "colab": {
      "name": "PlottingCorrelation.ipynb",
      "provenance": []
    }
  },
  "cells": [
    {
      "cell_type": "markdown",
      "metadata": {
        "id": "36344343"
      },
      "source": [
        "# 1 Plotting and Data Visualisation"
      ],
      "id": "36344343"
    },
    {
      "cell_type": "markdown",
      "metadata": {
        "id": "a1844dd0"
      },
      "source": [
        "In this notebook we want to get familiar with plotting and the Python library ```matplotlib```. Plotting is an essential tool for data exploration that can help you to get an intuition about certain characteristics and features of data.\n",
        "\n",
        "\n",
        "[Matplotlib](https://matplotlib.org/) is probably the most widely used Python library and will be the one we are using in this course. However, there are also other alternatives that might be interesting for you, for instance [Seaborn](https://seaborn.pydata.org/) or [Plotly](https://plotly.com/) (for this course, we expect you to stick to matplotlib)."
      ],
      "id": "a1844dd0"
    },
    {
      "cell_type": "markdown",
      "metadata": {
        "id": "c3b9f785"
      },
      "source": [
        "Let's install and import matplotlib:"
      ],
      "id": "c3b9f785"
    },
    {
      "cell_type": "code",
      "metadata": {
        "colab": {
          "base_uri": "https://localhost:8080/"
        },
        "id": "87ad92fe",
        "outputId": "b81e36ef-f9f1-46b3-d630-8976ceb95f75"
      },
      "source": [
        "!pip install matplotlib"
      ],
      "id": "87ad92fe",
      "execution_count": null,
      "outputs": [
        {
          "output_type": "stream",
          "text": [
            "Requirement already satisfied: matplotlib in /usr/local/lib/python3.7/dist-packages (3.2.2)\n",
            "Requirement already satisfied: cycler>=0.10 in /usr/local/lib/python3.7/dist-packages (from matplotlib) (0.10.0)\n",
            "Requirement already satisfied: kiwisolver>=1.0.1 in /usr/local/lib/python3.7/dist-packages (from matplotlib) (1.3.1)\n",
            "Requirement already satisfied: pyparsing!=2.0.4,!=2.1.2,!=2.1.6,>=2.0.1 in /usr/local/lib/python3.7/dist-packages (from matplotlib) (2.4.7)\n",
            "Requirement already satisfied: python-dateutil>=2.1 in /usr/local/lib/python3.7/dist-packages (from matplotlib) (2.8.1)\n",
            "Requirement already satisfied: numpy>=1.11 in /usr/local/lib/python3.7/dist-packages (from matplotlib) (1.19.5)\n",
            "Requirement already satisfied: six in /usr/local/lib/python3.7/dist-packages (from cycler>=0.10->matplotlib) (1.15.0)\n"
          ],
          "name": "stdout"
        }
      ]
    },
    {
      "cell_type": "code",
      "metadata": {
        "id": "660c59bd"
      },
      "source": [
        "import matplotlib.pyplot as plt\n",
        "%matplotlib inline\n",
        "import numpy as np #numpy will always have our back"
      ],
      "id": "660c59bd",
      "execution_count": null,
      "outputs": []
    },
    {
      "cell_type": "markdown",
      "metadata": {
        "id": "68efa9be"
      },
      "source": [
        "## 1.1 Obtaining a dataset"
      ],
      "id": "68efa9be"
    },
    {
      "cell_type": "markdown",
      "metadata": {
        "id": "3720eae5"
      },
      "source": [
        "For illustration purposes, we will use datasets that are canon in machine learning and data science. Those datasets are already preprocessed and easily obtainable through the [scikit-learn](https://scikit-learn.org/stable/) library.\n",
        "\n",
        "Now, let's install (mind the version number 0.24.1!) and import scikit-learn and load the dataset."
      ],
      "id": "3720eae5"
    },
    {
      "cell_type": "code",
      "metadata": {
        "colab": {
          "base_uri": "https://localhost:8080/"
        },
        "id": "823d7a4e",
        "outputId": "2cd911b2-a11f-419c-c939-801c12855a15"
      },
      "source": [
        "!pip install scikit-learn==0.24.1"
      ],
      "id": "823d7a4e",
      "execution_count": null,
      "outputs": [
        {
          "output_type": "stream",
          "text": [
            "Collecting scikit-learn==0.24.1\n",
            "\u001b[?25l  Downloading https://files.pythonhosted.org/packages/f3/74/eb899f41d55f957e2591cde5528e75871f817d9fb46d4732423ecaca736d/scikit_learn-0.24.1-cp37-cp37m-manylinux2010_x86_64.whl (22.3MB)\n",
            "\u001b[K     |████████████████████████████████| 22.3MB 57.2MB/s \n",
            "\u001b[?25hRequirement already satisfied: numpy>=1.13.3 in /usr/local/lib/python3.7/dist-packages (from scikit-learn==0.24.1) (1.19.5)\n",
            "Requirement already satisfied: joblib>=0.11 in /usr/local/lib/python3.7/dist-packages (from scikit-learn==0.24.1) (1.0.1)\n",
            "Requirement already satisfied: scipy>=0.19.1 in /usr/local/lib/python3.7/dist-packages (from scikit-learn==0.24.1) (1.4.1)\n",
            "Collecting threadpoolctl>=2.0.0\n",
            "  Downloading https://files.pythonhosted.org/packages/f7/12/ec3f2e203afa394a149911729357aa48affc59c20e2c1c8297a60f33f133/threadpoolctl-2.1.0-py3-none-any.whl\n",
            "Installing collected packages: threadpoolctl, scikit-learn\n",
            "  Found existing installation: scikit-learn 0.22.2.post1\n",
            "    Uninstalling scikit-learn-0.22.2.post1:\n",
            "      Successfully uninstalled scikit-learn-0.22.2.post1\n",
            "Successfully installed scikit-learn-0.24.1 threadpoolctl-2.1.0\n"
          ],
          "name": "stdout"
        }
      ]
    },
    {
      "cell_type": "code",
      "metadata": {
        "id": "6ce5feaa"
      },
      "source": [
        "from sklearn import datasets\n",
        "boston = datasets.load_boston()"
      ],
      "id": "6ce5feaa",
      "execution_count": null,
      "outputs": []
    },
    {
      "cell_type": "markdown",
      "metadata": {
        "id": "a103b7e8"
      },
      "source": [
        "Now we have the Boston House Prices dataset. Let's try to explore it with ```matplotlib```."
      ],
      "id": "a103b7e8"
    },
    {
      "cell_type": "code",
      "metadata": {
        "colab": {
          "base_uri": "https://localhost:8080/"
        },
        "id": "8229f530",
        "outputId": "0bf179d9-ac1d-4e90-a273-3314ce406a56"
      },
      "source": [
        "print(boston[\"data\"].shape)"
      ],
      "id": "8229f530",
      "execution_count": null,
      "outputs": [
        {
          "output_type": "stream",
          "text": [
            "(506, 13)\n"
          ],
          "name": "stdout"
        }
      ]
    },
    {
      "cell_type": "markdown",
      "metadata": {
        "id": "04352269"
      },
      "source": [
        "As you can see, we have 506 samples with 13 features. (Actually, there is a 14th feature, the target, which denotes the price of a house.) Now, have a look at what features we are dealing with:"
      ],
      "id": "04352269"
    },
    {
      "cell_type": "code",
      "metadata": {
        "scrolled": true,
        "colab": {
          "base_uri": "https://localhost:8080/"
        },
        "id": "69a0f0c5",
        "outputId": "ce8f9a44-f8f1-4dc0-d2c7-f3268b12aa61"
      },
      "source": [
        "print(boston[\"feature_names\"])"
      ],
      "id": "69a0f0c5",
      "execution_count": null,
      "outputs": [
        {
          "output_type": "stream",
          "text": [
            "['CRIM' 'ZN' 'INDUS' 'CHAS' 'NOX' 'RM' 'AGE' 'DIS' 'RAD' 'TAX' 'PTRATIO'\n",
            " 'B' 'LSTAT']\n"
          ],
          "name": "stdout"
        }
      ]
    },
    {
      "cell_type": "markdown",
      "metadata": {
        "id": "160866c9"
      },
      "source": [
        "The given abbreviations may seem rightfully cryptic to you, more information can be found in the dataset description:"
      ],
      "id": "160866c9"
    },
    {
      "cell_type": "code",
      "metadata": {
        "colab": {
          "base_uri": "https://localhost:8080/"
        },
        "id": "42459cf9",
        "outputId": "04667224-e8e6-4c5b-8b2d-3c35ba58ff51"
      },
      "source": [
        "print(boston[\"DESCR\"])"
      ],
      "id": "42459cf9",
      "execution_count": null,
      "outputs": [
        {
          "output_type": "stream",
          "text": [
            ".. _boston_dataset:\n",
            "\n",
            "Boston house prices dataset\n",
            "---------------------------\n",
            "\n",
            "**Data Set Characteristics:**  \n",
            "\n",
            "    :Number of Instances: 506 \n",
            "\n",
            "    :Number of Attributes: 13 numeric/categorical predictive. Median Value (attribute 14) is usually the target.\n",
            "\n",
            "    :Attribute Information (in order):\n",
            "        - CRIM     per capita crime rate by town\n",
            "        - ZN       proportion of residential land zoned for lots over 25,000 sq.ft.\n",
            "        - INDUS    proportion of non-retail business acres per town\n",
            "        - CHAS     Charles River dummy variable (= 1 if tract bounds river; 0 otherwise)\n",
            "        - NOX      nitric oxides concentration (parts per 10 million)\n",
            "        - RM       average number of rooms per dwelling\n",
            "        - AGE      proportion of owner-occupied units built prior to 1940\n",
            "        - DIS      weighted distances to five Boston employment centres\n",
            "        - RAD      index of accessibility to radial highways\n",
            "        - TAX      full-value property-tax rate per $10,000\n",
            "        - PTRATIO  pupil-teacher ratio by town\n",
            "        - B        1000(Bk - 0.63)^2 where Bk is the proportion of blacks by town\n",
            "        - LSTAT    % lower status of the population\n",
            "        - MEDV     Median value of owner-occupied homes in $1000's\n",
            "\n",
            "    :Missing Attribute Values: None\n",
            "\n",
            "    :Creator: Harrison, D. and Rubinfeld, D.L.\n",
            "\n",
            "This is a copy of UCI ML housing dataset.\n",
            "https://archive.ics.uci.edu/ml/machine-learning-databases/housing/\n",
            "\n",
            "\n",
            "This dataset was taken from the StatLib library which is maintained at Carnegie Mellon University.\n",
            "\n",
            "The Boston house-price data of Harrison, D. and Rubinfeld, D.L. 'Hedonic\n",
            "prices and the demand for clean air', J. Environ. Economics & Management,\n",
            "vol.5, 81-102, 1978.   Used in Belsley, Kuh & Welsch, 'Regression diagnostics\n",
            "...', Wiley, 1980.   N.B. Various transformations are used in the table on\n",
            "pages 244-261 of the latter.\n",
            "\n",
            "The Boston house-price data has been used in many machine learning papers that address regression\n",
            "problems.   \n",
            "     \n",
            ".. topic:: References\n",
            "\n",
            "   - Belsley, Kuh & Welsch, 'Regression diagnostics: Identifying Influential Data and Sources of Collinearity', Wiley, 1980. 244-261.\n",
            "   - Quinlan,R. (1993). Combining Instance-Based and Model-Based Learning. In Proceedings on the Tenth International Conference of Machine Learning, 236-243, University of Massachusetts, Amherst. Morgan Kaufmann.\n",
            "\n"
          ],
          "name": "stdout"
        }
      ]
    },
    {
      "cell_type": "markdown",
      "metadata": {
        "id": "0c28de2b"
      },
      "source": [
        "## 1.2 Visualise features"
      ],
      "id": "0c28de2b"
    },
    {
      "cell_type": "markdown",
      "metadata": {
        "id": "3d10f848"
      },
      "source": [
        "Now, we want to get a feeling for a feature, how it is distributed and what we can learn from it. Hence, we will pick out one of the features and plot them in difference ways. \n",
        "\n",
        "As an example feature, we will take \"RM\", the average number of rooms.\n",
        "For the all subtasks of 1.2, the term \"data\" refers to the feature \"RM\" of the Boston Housing dataset."
      ],
      "id": "3d10f848"
    },
    {
      "cell_type": "markdown",
      "metadata": {
        "id": "b16ee34b"
      },
      "source": [
        "### Task 1.2.1: Get the feature\n",
        "Isolate the feature \"RM\" from the data and save the vector into the provided variable _rm_."
      ],
      "id": "b16ee34b"
    },
    {
      "cell_type": "code",
      "metadata": {
        "colab": {
          "base_uri": "https://localhost:8080/"
        },
        "id": "72eb1101",
        "outputId": "96472d7c-c263-4656-ae0f-a608a382d782"
      },
      "source": [
        "rm = boston['data'][0:, 5]\n",
        "rm"
      ],
      "id": "72eb1101",
      "execution_count": null,
      "outputs": [
        {
          "output_type": "execute_result",
          "data": {
            "text/plain": [
              "(506,)"
            ]
          },
          "metadata": {
            "tags": []
          },
          "execution_count": 17
        }
      ]
    },
    {
      "cell_type": "markdown",
      "metadata": {
        "id": "a48d1f77"
      },
      "source": [
        "### Task 1.2.2: Describe the data\n",
        "Use the skills you learnt in the lecture and the last assignment (and numpy), to extract meaningful properties from the data:\n",
        "- attribute type (scale) of the data\n",
        "- mean\n",
        "- median\n",
        "- maximum value\n",
        "- minimum value\n",
        "- variance"
      ],
      "id": "a48d1f77"
    },
    {
      "cell_type": "code",
      "metadata": {
        "colab": {
          "base_uri": "https://localhost:8080/"
        },
        "id": "9da68986",
        "outputId": "09f44276-03b5-445b-b58e-1d7a9371a84f"
      },
      "source": [
        "# attribute type: your answer here\n",
        "rm_mean =  np.mean(rm)# Your Code here\n",
        "print('mean: %s' % rm_mean)\n",
        "rm_median =  np.median(rm)# Your Code here\n",
        "print('median: %s' % rm_median)\n",
        "rm_max =  np.max(rm)# Your Code here\n",
        "print('max: %s' % rm_max)\n",
        "rm_min =  np.min(rm)# Your Code here\n",
        "print('min: %s' % rm_min)\n",
        "rm_var =  np.var(rm) # Your Code here\n",
        "print('variance: %s' % rm_var)"
      ],
      "id": "9da68986",
      "execution_count": null,
      "outputs": [
        {
          "output_type": "stream",
          "text": [
            "mean: 6.284634387351779\n",
            "median: 6.2085\n",
            "max: 8.78\n",
            "min: 3.561\n",
            "variance: 0.49269521612976297\n"
          ],
          "name": "stdout"
        }
      ]
    },
    {
      "cell_type": "markdown",
      "metadata": {
        "id": "967bfaca"
      },
      "source": [
        "### Task 1.2.3: Show the distribution\n",
        "Now, we are interested in the distribution of the number of rooms over the data, i.e. we want to visualise how many houses have how many rooms. \n",
        "\n",
        "Have a look at the sample plots in on the [matplotlib website](https://matplotlib.org/stable/gallery/statistics/histogram_features.html) and choose an appropriate type of plot to display that information.\n",
        "\n",
        "IMPORTANT: Do not forget to label your axes correctly!"
      ],
      "id": "967bfaca"
    },
    {
      "cell_type": "code",
      "metadata": {
        "colab": {
          "base_uri": "https://localhost:8080/",
          "height": 279
        },
        "id": "cf81f019",
        "outputId": "5a8d9ec1-4354-42d8-be5c-93f14503c563"
      },
      "source": [
        "fig, ax = plt.subplots()\n",
        "# plt.hist(rm)\n",
        "ax.hist(rm)\n",
        "ax.set_xlabel('Number of Rooms')\n",
        "ax.set_ylabel('Number of Houses')\n",
        "plt.show()"
      ],
      "id": "cf81f019",
      "execution_count": 57,
      "outputs": [
        {
          "output_type": "display_data",
          "data": {
            "image/png": "[encoded data removed]",
            "text/plain": [
              "<Figure size 432x288 with 1 Axes>"
            ]
          },
          "metadata": {
            "tags": [],
            "needs_background": "light"
          }
        }
      ]
    },
    {
      "cell_type": "markdown",
      "metadata": {
        "id": "63387014"
      },
      "source": [
        "### Bonus Task 1.2.4: What type of function could describe the data approximately?"
      ],
      "id": "63387014"
    },
    {
      "cell_type": "code",
      "metadata": {
        "id": "a5f0e3d5"
      },
      "source": [
        "# Your Answer here"
      ],
      "id": "a5f0e3d5",
      "execution_count": null,
      "outputs": []
    },
    {
      "cell_type": "markdown",
      "metadata": {
        "id": "2fc36444"
      },
      "source": [
        "### Task 1.2.5: Show the boxplot and describe it\n",
        "Now that you know how to plot with matplotlib, you are tasked to create a box and whiskers plot of the data. Have a look at the [official matplotlib documentation](https://matplotlib.org/stable/api/_as_gen/matplotlib.pyplot.boxplot.html) if you need some guidance. Additionally, give a quick description of the plot and what you learn from it about the data."
      ],
      "id": "2fc36444"
    },
    {
      "cell_type": "code",
      "metadata": {
        "id": "3ad43df6",
        "colab": {
          "base_uri": "https://localhost:8080/",
          "height": 268
        },
        "outputId": "daf7a8f5-4562-45f9-b0fb-265279a49237"
      },
      "source": [
        "# Your Code here\n",
        "\n",
        "fig, ax = plt.subplots()\n",
        "# ax.set_xlabel('Number of Rooms')\n",
        "ax.set_ylabel('Number of Rooms')\n",
        "ax.boxplot(rm)\n",
        "plt.show()\n",
        "\n",
        "# Your description here"
      ],
      "id": "3ad43df6",
      "execution_count": null,
      "outputs": [
        {
          "output_type": "display_data",
          "data": {
            "image/png": "[encoded data removed]",
            "text/plain": [
              "<Figure size 432x288 with 1 Axes>"
            ]
          },
          "metadata": {
            "tags": [],
            "needs_background": "light"
          }
        }
      ]
    },
    {
      "cell_type": "markdown",
      "metadata": {
        "id": "c33559bd"
      },
      "source": [
        "## 1.3 Visualise 2D data\n",
        "After we have looked at the characteristics of a single feature, let's see how matplotlib can help to visualise two-dimensional data and single samples. Prominent 2D data are greyscale photos or images, where the two dimensions are the x and y positions of the pixel values."
      ],
      "id": "c33559bd"
    },
    {
      "cell_type": "markdown",
      "metadata": {
        "id": "0fcc2c79"
      },
      "source": [
        "### 1.3.1 Obtain an image dataset\n",
        "Fortunately, Scikit-learn also provides a dataset with pixel images as samples."
      ],
      "id": "0fcc2c79"
    },
    {
      "cell_type": "code",
      "metadata": {
        "scrolled": true,
        "colab": {
          "base_uri": "https://localhost:8080/"
        },
        "id": "370bad4f",
        "outputId": "36742531-7007-4587-83b9-260619b7b50e"
      },
      "source": [
        "digits = datasets.load_digits()\n",
        "print(digits.keys())"
      ],
      "id": "370bad4f",
      "execution_count": null,
      "outputs": [
        {
          "output_type": "stream",
          "text": [
            "dict_keys(['data', 'target', 'frame', 'feature_names', 'target_names', 'images', 'DESCR'])\n"
          ],
          "name": "stdout"
        }
      ]
    },
    {
      "cell_type": "markdown",
      "metadata": {
        "id": "0f435a3f"
      },
      "source": [
        "Let's go the usual route and have a look at the shape of the data."
      ],
      "id": "0f435a3f"
    },
    {
      "cell_type": "code",
      "metadata": {
        "colab": {
          "base_uri": "https://localhost:8080/"
        },
        "id": "a0d19689",
        "outputId": "d9a8ef0e-8572-42b2-dd26-e9a3d5b62d88"
      },
      "source": [
        "print(digits[\"data\"].shape)"
      ],
      "id": "a0d19689",
      "execution_count": null,
      "outputs": [
        {
          "output_type": "stream",
          "text": [
            "(1797, 64)\n"
          ],
          "name": "stdout"
        }
      ]
    },
    {
      "cell_type": "markdown",
      "metadata": {
        "id": "eb7a25d9"
      },
      "source": [
        "So, we have 1797 samples with 64 features each. That means, if we isolate a feature vector for a single sample, it has 64 features. But aren't we dealing with images that are usually 2-dimensional?\n",
        "\n",
        "Perhaps the feature names can give more insight:"
      ],
      "id": "eb7a25d9"
    },
    {
      "cell_type": "code",
      "metadata": {
        "colab": {
          "base_uri": "https://localhost:8080/"
        },
        "id": "86dddd3a",
        "outputId": "c22bc413-22ed-49d5-dfb4-a1702c4d6fd2"
      },
      "source": [
        "print(digits[\"feature_names\"])"
      ],
      "id": "86dddd3a",
      "execution_count": null,
      "outputs": [
        {
          "output_type": "stream",
          "text": [
            "['pixel_0_0', 'pixel_0_1', 'pixel_0_2', 'pixel_0_3', 'pixel_0_4', 'pixel_0_5', 'pixel_0_6', 'pixel_0_7', 'pixel_1_0', 'pixel_1_1', 'pixel_1_2', 'pixel_1_3', 'pixel_1_4', 'pixel_1_5', 'pixel_1_6', 'pixel_1_7', 'pixel_2_0', 'pixel_2_1', 'pixel_2_2', 'pixel_2_3', 'pixel_2_4', 'pixel_2_5', 'pixel_2_6', 'pixel_2_7', 'pixel_3_0', 'pixel_3_1', 'pixel_3_2', 'pixel_3_3', 'pixel_3_4', 'pixel_3_5', 'pixel_3_6', 'pixel_3_7', 'pixel_4_0', 'pixel_4_1', 'pixel_4_2', 'pixel_4_3', 'pixel_4_4', 'pixel_4_5', 'pixel_4_6', 'pixel_4_7', 'pixel_5_0', 'pixel_5_1', 'pixel_5_2', 'pixel_5_3', 'pixel_5_4', 'pixel_5_5', 'pixel_5_6', 'pixel_5_7', 'pixel_6_0', 'pixel_6_1', 'pixel_6_2', 'pixel_6_3', 'pixel_6_4', 'pixel_6_5', 'pixel_6_6', 'pixel_6_7', 'pixel_7_0', 'pixel_7_1', 'pixel_7_2', 'pixel_7_3', 'pixel_7_4', 'pixel_7_5', 'pixel_7_6', 'pixel_7_7']\n"
          ],
          "name": "stdout"
        }
      ]
    },
    {
      "cell_type": "markdown",
      "metadata": {
        "id": "6d872e0a"
      },
      "source": [
        "From the feature names, we can conclude that the pixel values are represented in a vector, row for row. In order to plot it as a picture, we need a 2D representation, though.\n",
        "\n",
        "Therefore our tasks are now: \n",
        "- 1.) isolate the feature vector of a single sample\n",
        "- 2.) reshape the vector into a 2D matrix\n",
        "- 3.) plot the image using matplotlib"
      ],
      "id": "6d872e0a"
    },
    {
      "cell_type": "markdown",
      "metadata": {
        "id": "0db17dbe"
      },
      "source": [
        "### Task 1.3.1 Isolate a feature vector\n",
        "This task can be seen as the \"inverse\" of task 1.2.1. But now, instead of a single feature over all samples, we want all the features for a single sample!\n",
        "\n",
        "Isolate a sample of your choice and save it in the variable _im_vec_."
      ],
      "id": "0db17dbe"
    },
    {
      "cell_type": "code",
      "metadata": {
        "colab": {
          "base_uri": "https://localhost:8080/"
        },
        "id": "cba8bcdd",
        "outputId": "3dca01df-6421-4695-c885-c08cfaa62b01"
      },
      "source": [
        "im_vec = digits['data'][1, 0:]\n",
        "print(im_vec.shape)"
      ],
      "id": "cba8bcdd",
      "execution_count": 51,
      "outputs": [
        {
          "output_type": "stream",
          "text": [
            "(64,)\n"
          ],
          "name": "stdout"
        }
      ]
    },
    {
      "cell_type": "markdown",
      "metadata": {
        "id": "ddd73a30"
      },
      "source": [
        "### Task 1.3.2 Reshape the vector into a 2D matrix\n",
        "Now, you should have a vector of length 64. The image samples of the dataset are square. So now you need to reshape the vector into the appropriate shape using Numpy. Save the resulting matrix into the variable _im_.\n",
        "\n",
        "Hint: a helpful function is [numpy.reshape](https://numpy.org/doc/stable/reference/generated/numpy.reshape.html)."
      ],
      "id": "ddd73a30"
    },
    {
      "cell_type": "code",
      "metadata": {
        "colab": {
          "base_uri": "https://localhost:8080/"
        },
        "id": "584fcc46",
        "outputId": "86ee5b08-fad4-48fb-bd3f-242428080adf"
      },
      "source": [
        "size = int(np.sqrt(im_vec.shape) )\n",
        "im = im_vec.reshape(size, size)\n",
        "print(im.shape)"
      ],
      "id": "584fcc46",
      "execution_count": 54,
      "outputs": [
        {
          "output_type": "stream",
          "text": [
            "(8, 8)\n"
          ],
          "name": "stdout"
        }
      ]
    },
    {
      "cell_type": "markdown",
      "metadata": {
        "id": "6581bf35"
      },
      "source": [
        "### Task 1.3.3 Plot the image\n",
        "Use the skills obtained above to plot the sample using the ```imshow``` [function from matplotlib](https://matplotlib.org/stable/api/_as_gen/matplotlib.pyplot.imshow.html)."
      ],
      "id": "6581bf35"
    },
    {
      "cell_type": "code",
      "metadata": {
        "id": "d0ee8850",
        "outputId": "ef70b2ea-69ee-4044-b106-75be51f61f37",
        "colab": {
          "base_uri": "https://localhost:8080/",
          "height": 282
        }
      },
      "source": [
        "plt.imshow(im)"
      ],
      "id": "d0ee8850",
      "execution_count": 55,
      "outputs": [
        {
          "output_type": "execute_result",
          "data": {
            "text/plain": [
              "<matplotlib.image.AxesImage at 0x7f224cb80550>"
            ]
          },
          "metadata": {
            "tags": []
          },
          "execution_count": 55
        },
        {
          "output_type": "display_data",
          "data": {
            "image/png": "[encoded data removed]",
            "text/plain": [
              "<Figure size 432x288 with 1 Axes>"
            ]
          },
          "metadata": {
            "tags": [],
            "needs_background": "light"
          }
        }
      ]
    },
    {
      "cell_type": "markdown",
      "metadata": {
        "id": "b6239e8d"
      },
      "source": [
        "## 1.4 Visual recognition of correlations\n",
        "\n",
        "In this part you shall plot different attributes against each other in a scatterplot to find out if the selected attributes are correlated.\n",
        "\n",
        "The [scatter()](https://matplotlib.org/stable/api/_as_gen/matplotlib.pyplot.scatter.html) function from matplotlib might be worthwhile to look into.\n",
        "\n",
        "Don't forget the title and axes labeling for your plots!\n"
      ],
      "id": "b6239e8d"
    },
    {
      "cell_type": "markdown",
      "metadata": {
        "id": "d69edc60"
      },
      "source": [
        "### Task 1.4.1 Nitric oxid concentration and industrial density\n",
        "\n",
        "We assume a positive correlation between the proportion of non-retail business acres per town and the amount of nitric oxid in the air as a result of higher emissions in industrial areas.\n",
        "Plot the asscociated attributes (INDUS and NOX) against each other and analyse the plot to find out if this is true."
      ],
      "id": "d69edc60"
    },
    {
      "cell_type": "code",
      "metadata": {
        "id": "cedf202b",
        "outputId": "a92b4de1-9717-4801-c0bb-c326b5c29950",
        "colab": {
          "base_uri": "https://localhost:8080/",
          "height": 279
        }
      },
      "source": [
        "indus = boston['data'][0:,2]\n",
        "nox = boston['data'][0:,4]\n",
        "\n",
        "fig, ax = plt.subplots()\n",
        "ax.set_xlabel('Non retail buisness area in acres')\n",
        "ax.set_ylabel('Amount of nitric oxid (pp 10 million) ')\n",
        "ax.scatter(indus, nox)\n",
        "plt.show()\n",
        "# is the assumption true?: yes no maybe? i dont know. can you repeat the question?"
      ],
      "id": "cedf202b",
      "execution_count": 60,
      "outputs": [
        {
          "output_type": "display_data",
          "data": {
            "image/png": "[encoded data removed]",
            "text/plain": [
              "<Figure size 432x288 with 1 Axes>"
            ]
          },
          "metadata": {
            "tags": [],
            "needs_background": "light"
          }
        }
      ]
    },
    {
      "cell_type": "markdown",
      "metadata": {
        "id": "a3fc08b3"
      },
      "source": [
        "### Task 1.4.2 House age and number of rooms\n",
        "\n",
        "We assume a negative correlation between the number of rooms and the age of the house as a result of the trend towards more open interior design choices and larger rooms in modern housing.\n",
        "Plot the asscociated attributes (RM and AGE) against each other and analyse the plot to find out if this assumption is true."
      ],
      "id": "a3fc08b3"
    },
    {
      "cell_type": "code",
      "metadata": {
        "id": "602ebbf4",
        "outputId": "7deefa95-c9cc-4e7d-816f-b54ad1b9e264",
        "colab": {
          "base_uri": "https://localhost:8080/",
          "height": 296
        }
      },
      "source": [
        "rooms = boston['data'][0:, 5]\n",
        "age = boston['data'][0:, 6]\n",
        "# Are they sure AGE is what they think it is?\n",
        "\n",
        "\n",
        "fig, ax = plt.subplots()\n",
        "ax.set_ylabel('amount of houses build priot to 1940')\n",
        "ax.set_xlabel('number of rooms in decimal :D')\n",
        "ax.scatter(rooms, age)\n",
        "# is the assumption true?: no\n",
        "\n"
      ],
      "id": "602ebbf4",
      "execution_count": 82,
      "outputs": [
        {
          "output_type": "execute_result",
          "data": {
            "text/plain": [
              "<matplotlib.collections.PathCollection at 0x7f224c77b750>"
            ]
          },
          "metadata": {
            "tags": []
          },
          "execution_count": 82
        },
        {
          "output_type": "display_data",
          "data": {
            "image/png": "[encoded data removed]",
            "text/plain": [
              "<Figure size 432x288 with 1 Axes>"
            ]
          },
          "metadata": {
            "tags": [],
            "needs_background": "light"
          }
        }
      ]
    },
    {
      "cell_type": "code",
      "metadata": {
        "id": "nLZOl7um7BXo",
        "outputId": "906134a0-9812-46df-fddf-61aa3aba0f8d",
        "colab": {
          "base_uri": "https://localhost:8080/"
        }
      },
      "source": [
        "# print('sample: %s' % boston['data'][0:10, 6])\n",
        "print(boston['DESCR'])\n",
        "# print(boston.keys())\n",
        "# print(boston['feature_names'])"
      ],
      "id": "nLZOl7um7BXo",
      "execution_count": 84,
      "outputs": [
        {
          "output_type": "stream",
          "text": [
            ".. _boston_dataset:\n",
            "\n",
            "Boston house prices dataset\n",
            "---------------------------\n",
            "\n",
            "**Data Set Characteristics:**  \n",
            "\n",
            "    :Number of Instances: 506 \n",
            "\n",
            "    :Number of Attributes: 13 numeric/categorical predictive. Median Value (attribute 14) is usually the target.\n",
            "\n",
            "    :Attribute Information (in order):\n",
            "        - CRIM     per capita crime rate by town\n",
            "        - ZN       proportion of residential land zoned for lots over 25,000 sq.ft.\n",
            "        - INDUS    proportion of non-retail business acres per town\n",
            "        - CHAS     Charles River dummy variable (= 1 if tract bounds river; 0 otherwise)\n",
            "        - NOX      nitric oxides concentration (parts per 10 million)\n",
            "        - RM       average number of rooms per dwelling\n",
            "        - AGE      proportion of owner-occupied units built prior to 1940\n",
            "        - DIS      weighted distances to five Boston employment centres\n",
            "        - RAD      index of accessibility to radial highways\n",
            "        - TAX      full-value property-tax rate per $10,000\n",
            "        - PTRATIO  pupil-teacher ratio by town\n",
            "        - B        1000(Bk - 0.63)^2 where Bk is the proportion of blacks by town\n",
            "        - LSTAT    % lower status of the population\n",
            "        - MEDV     Median value of owner-occupied homes in $1000's\n",
            "\n",
            "    :Missing Attribute Values: None\n",
            "\n",
            "    :Creator: Harrison, D. and Rubinfeld, D.L.\n",
            "\n",
            "This is a copy of UCI ML housing dataset.\n",
            "https://archive.ics.uci.edu/ml/machine-learning-databases/housing/\n",
            "\n",
            "\n",
            "This dataset was taken from the StatLib library which is maintained at Carnegie Mellon University.\n",
            "\n",
            "The Boston house-price data of Harrison, D. and Rubinfeld, D.L. 'Hedonic\n",
            "prices and the demand for clean air', J. Environ. Economics & Management,\n",
            "vol.5, 81-102, 1978.   Used in Belsley, Kuh & Welsch, 'Regression diagnostics\n",
            "...', Wiley, 1980.   N.B. Various transformations are used in the table on\n",
            "pages 244-261 of the latter.\n",
            "\n",
            "The Boston house-price data has been used in many machine learning papers that address regression\n",
            "problems.   \n",
            "     \n",
            ".. topic:: References\n",
            "\n",
            "   - Belsley, Kuh & Welsch, 'Regression diagnostics: Identifying Influential Data and Sources of Collinearity', Wiley, 1980. 244-261.\n",
            "   - Quinlan,R. (1993). Combining Instance-Based and Model-Based Learning. In Proceedings on the Tenth International Conference of Machine Learning, 236-243, University of Massachusetts, Amherst. Morgan Kaufmann.\n",
            "\n"
          ],
          "name": "stdout"
        }
      ]
    },
    {
      "cell_type": "markdown",
      "metadata": {
        "id": "a397946a"
      },
      "source": [
        "### Task 1.4.3 Social status and price\n",
        "We assume a negative correlation between the amount of people with lower social status in a neighbourhood and the house prices.\n",
        "Plot the associated attributes (LSTAT and MDEV) against each other and analyse the plot to find out if this assumption is true."
      ],
      "id": "a397946a"
    },
    {
      "cell_type": "code",
      "metadata": {
        "id": "b319baea",
        "outputId": "426bd7b9-bcae-4319-957e-446c700c7f51",
        "colab": {
          "base_uri": "https://localhost:8080/",
          "height": 279
        }
      },
      "source": [
        "# Your code here\n",
        "price = boston['target'][0:]\n",
        "social_status = boston['data'][0:, 12]\n",
        "\n",
        "fig, ax = plt.subplots()\n",
        "ax.set_xlabel('Median Value of owner- occupied homes in $1000')\n",
        "ax.set_ylabel('lower status population in %')\n",
        "ax.scatter(price, social_status)\n",
        "plt.show()\n",
        "\n",
        "\n",
        "# is the assumption true?: yes"
      ],
      "id": "b319baea",
      "execution_count": 93,
      "outputs": [
        {
          "output_type": "display_data",
          "data": {
            "image/png": "[encoded data removed]",
            "text/plain": [
              "<Figure size 432x288 with 1 Axes>"
            ]
          },
          "metadata": {
            "tags": [],
            "needs_background": "light"
          }
        }
      ]
    },
    {
      "cell_type": "code",
      "metadata": {
        "id": "qjhfG07YEyyX"
      },
      "source": [
        ""
      ],
      "id": "qjhfG07YEyyX",
      "execution_count": null,
      "outputs": []
    }
  ]
}