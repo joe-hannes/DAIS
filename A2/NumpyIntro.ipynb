{
 "cells": [
  {
   "cell_type": "markdown",
   "id": "hIXVaybM5OdM",
   "metadata": {
    "id": "hIXVaybM5OdM"
   },
   "source": [
    "# 4 Numpy\n",
    "\n",
    "One of the most important libraries for data science with Python is [NumPy](https://numpy.org/).\n",
    "If you have followed along the Jupyter Intro notebook, you should already have it installed. If, for some reason, you did not, you need to install it with pip into your virtual environment. You can do that by uncommenting the below command and executing the cell."
   ]
  },
  {
   "cell_type": "code",
   "execution_count": 1,
   "id": "hFOlDvky5OdT",
   "metadata": {
    "id": "hFOlDvky5OdT",
    "scrolled": true
   },
   "outputs": [],
   "source": [
    "#!pip install -U pip\n",
    "#!pip install numpy==1.20.2"
   ]
  },
  {
   "cell_type": "markdown",
   "id": "ruVmFCkX5OdU",
   "metadata": {
    "id": "ruVmFCkX5OdU"
   },
   "source": [
    "## Creating Vectors and Matrices with NumPy"
   ]
  },
  {
   "cell_type": "code",
   "execution_count": 2,
   "id": "Y3YLXjLw5OdU",
   "metadata": {
    "id": "Y3YLXjLw5OdU"
   },
   "outputs": [],
   "source": [
    "import numpy as np"
   ]
  },
  {
   "cell_type": "markdown",
   "id": "AR0t5Zul5OdV",
   "metadata": {
    "id": "AR0t5Zul5OdV"
   },
   "source": [
    "NumPy is a great library that enables Python users to easily work with vectors and matrices which are very important in all kinds of data science applications. It also has great [documentation](https://numpy.org/doc/) that should help you out in case you are stuck with a task."
   ]
  },
  {
   "cell_type": "markdown",
   "id": "SwXRKzN15OdV",
   "metadata": {
    "id": "SwXRKzN15OdV"
   },
   "source": [
    "Let us create a simple column vector with three elements, where each element has the value 7."
   ]
  },
  {
   "cell_type": "code",
   "execution_count": 3,
   "id": "2frnC9jU5OdW",
   "metadata": {
    "colab": {
     "base_uri": "https://localhost:8080/",
     "height": 183
    },
    "id": "2frnC9jU5OdW",
    "outputId": "8f5f94aa-5803-4b62-a49c-5db865b9e3e3",
    "scrolled": true
   },
   "outputs": [
    {
     "data": {
      "text/plain": [
       "array([7., 7., 7.])"
      ]
     },
     "execution_count": 3,
     "metadata": {},
     "output_type": "execute_result"
    }
   ],
   "source": [
    "sevens_vector = np.ones(3) * 7\n",
    "sevens_vector"
   ]
  },
  {
   "cell_type": "code",
   "execution_count": 4,
   "id": "FBdPwBCL5OdZ",
   "metadata": {
    "id": "FBdPwBCL5OdZ",
    "outputId": "7c984165-7851-47ba-9bb4-ea3120747da0"
   },
   "outputs": [
    {
     "data": {
      "text/plain": [
       "(3,)"
      ]
     },
     "execution_count": 4,
     "metadata": {},
     "output_type": "execute_result"
    }
   ],
   "source": [
    "sevens_vector.shape"
   ]
  },
  {
   "cell_type": "markdown",
   "id": "WQGc--eX5Oda",
   "metadata": {
    "id": "WQGc--eX5Oda"
   },
   "source": [
    "If we supply the function with only one value, it will create vectors. But np.ones is very flexible and can also create matrices. However, now we have to give the shape of matrix inside a tuple."
   ]
  },
  {
   "cell_type": "code",
   "execution_count": 5,
   "id": "Qmv2ER755Oda",
   "metadata": {
    "id": "Qmv2ER755Oda",
    "outputId": "7a0e8079-73a4-4468-beeb-6b09213c6ed9",
    "scrolled": false
   },
   "outputs": [
    {
     "data": {
      "text/plain": [
       "array([[7., 7., 7.],\n",
       "       [7., 7., 7.],\n",
       "       [7., 7., 7.],\n",
       "       [7., 7., 7.]])"
      ]
     },
     "execution_count": 5,
     "metadata": {},
     "output_type": "execute_result"
    }
   ],
   "source": [
    "sevens_matrix = np.ones((4,3)) * 7\n",
    "sevens_matrix"
   ]
  },
  {
   "cell_type": "code",
   "execution_count": 6,
   "id": "caTJSsxG5Odb",
   "metadata": {
    "id": "caTJSsxG5Odb",
    "outputId": "a8ca312f-0cd7-4529-b583-82640738ebab"
   },
   "outputs": [
    {
     "data": {
      "text/plain": [
       "(4, 3)"
      ]
     },
     "execution_count": 6,
     "metadata": {},
     "output_type": "execute_result"
    }
   ],
   "source": [
    "sevens_matrix.shape"
   ]
  },
  {
   "cell_type": "markdown",
   "id": "mv8sNHWX5Odb",
   "metadata": {
    "id": "mv8sNHWX5Odb"
   },
   "source": [
    "Of course you can also turn Python lists into NumPy arrays."
   ]
  },
  {
   "cell_type": "code",
   "execution_count": null,
   "id": "PyHWAzI_5Odb",
   "metadata": {
    "id": "PyHWAzI_5Odb",
    "outputId": "f276fad1-41d0-45ff-b731-64b3674aee77"
   },
   "outputs": [
    {
     "data": {
      "text/plain": [
       "array([[1, 2, 3],\n",
       "       [4, 5, 6]])"
      ]
     },
     "execution_count": 6,
     "metadata": {
      "tags": []
     },
     "output_type": "execute_result"
    }
   ],
   "source": [
    "l = [[1,2,3], [4,5,6]]\n",
    "x = np.array(l)\n",
    "x"
   ]
  },
  {
   "cell_type": "markdown",
   "id": "6Uhp4Zx05Odc",
   "metadata": {
    "id": "6Uhp4Zx05Odc"
   },
   "source": [
    "Accessing rows and columns works as you would expect from native Python lists."
   ]
  },
  {
   "cell_type": "code",
   "execution_count": null,
   "id": "9StTZfha5Odc",
   "metadata": {
    "id": "9StTZfha5Odc",
    "outputId": "01c65884-4922-444d-859d-a1c72054da09"
   },
   "outputs": [
    {
     "data": {
      "text/plain": [
       "array([[   1,    2,    3],\n",
       "       [   4, 1337,    6]])"
      ]
     },
     "execution_count": 7,
     "metadata": {
      "tags": []
     },
     "output_type": "execute_result"
    }
   ],
   "source": [
    "x[1,1] = 1337\n",
    "x"
   ]
  },
  {
   "cell_type": "markdown",
   "id": "rHelRyxl5Odc",
   "metadata": {
    "id": "rHelRyxl5Odc"
   },
   "source": [
    "## Tasks"
   ]
  },
  {
   "cell_type": "markdown",
   "id": "gui-k--q5Odd",
   "metadata": {
    "id": "gui-k--q5Odd"
   },
   "source": [
    "Now, you are given a sample matrix and we want to investigate it a little. Make sure that you do not change the supplied variable names in the subtasks. Solve the tasks so that the supplied variables contain the solution."
   ]
  },
  {
   "cell_type": "markdown",
   "id": "DKKtNw295Odd",
   "metadata": {
    "id": "DKKtNw295Odd"
   },
   "source": [
    "### Matrix Manipulation"
   ]
  },
  {
   "cell_type": "code",
   "execution_count": null,
   "id": "FtxcUgCv5Odd",
   "metadata": {
    "id": "FtxcUgCv5Odd",
    "outputId": "292e5fdb-c85c-4f62-b221-9c607477c093"
   },
   "outputs": [
    {
     "data": {
      "text/plain": [
       "array([[  2. ,   3.2,   5.5,  -6.4,  -2.2,   2.4],\n",
       "       [  1. ,  22. ,   4. ,   0.1,   5.3,  -9. ],\n",
       "       [  3. ,   1. ,   2.1,  21. ,   1.1,  -2. ]])"
      ]
     },
     "execution_count": 8,
     "metadata": {
      "tags": []
     },
     "output_type": "execute_result"
    }
   ],
   "source": [
    "# sample matrix a\n",
    "a = np.array([[2, 3.2, 5.5, -6.4, -2.2, 2.4], [1, 22, 4, 0.1, 5.3, -9],\n",
    "                [3, 1, 2.1, 21, 1.1, -2]])\n",
    "a"
   ]
  },
  {
   "cell_type": "code",
   "execution_count": null,
   "id": "tMV0sNZM5Odd",
   "metadata": {
    "id": "tMV0sNZM5Odd",
    "outputId": "13662f73-840b-4b1a-ff73-42824614ba35"
   },
   "outputs": [
    {
     "data": {
      "text/plain": [
       "array([[ 0,  1,  2,  3,  4,  5],\n",
       "       [10, 11, 12, 13, 14, 15]])"
      ]
     },
     "execution_count": 9,
     "metadata": {
      "tags": []
     },
     "output_type": "execute_result"
    }
   ],
   "source": [
    "# sample matrix b\n",
    "b = np.array([range(6), range(10, 16)])\n",
    "b"
   ]
  },
  {
   "cell_type": "markdown",
   "id": "cS8bcJUJ5Ode",
   "metadata": {
    "id": "cS8bcJUJ5Ode"
   },
   "source": [
    "#### 4.1\n",
    "The variable sol_4_1 should contain the second row of the sample matrix a."
   ]
  },
  {
   "cell_type": "code",
   "execution_count": null,
   "id": "nYy7ch2h5Ode",
   "metadata": {
    "id": "nYy7ch2h5Ode",
    "outputId": "95296f1f-cf00-42fd-af1d-04cda2b661e6"
   },
   "outputs": [
    {
     "data": {
      "text/plain": [
       "array([  1. ,  22. ,   4. ,   0.1,   5.3,  -9. ])"
      ]
     },
     "execution_count": 10,
     "metadata": {
      "tags": []
     },
     "output_type": "execute_result"
    }
   ],
   "source": [
    "sol_4_1 = a[1]\n",
    "sol_4_1"
   ]
  },
  {
   "cell_type": "markdown",
   "id": "fcvRh9-W5Ode",
   "metadata": {
    "id": "fcvRh9-W5Ode"
   },
   "source": [
    "#### 4.2\n",
    "The variable sol_4_2 should contain all rows except the first row of the sample matrix a."
   ]
  },
  {
   "cell_type": "code",
   "execution_count": null,
   "id": "NclJt4nl5Odf",
   "metadata": {
    "id": "NclJt4nl5Odf",
    "outputId": "e031c791-6779-4a34-c9db-e46edf46463e"
   },
   "outputs": [
    {
     "data": {
      "text/plain": [
       "array([[  1. ,  22. ,   4. ,   0.1,   5.3,  -9. ],\n",
       "       [  3. ,   1. ,   2.1,  21. ,   1.1,  -2. ]])"
      ]
     },
     "execution_count": 11,
     "metadata": {
      "tags": []
     },
     "output_type": "execute_result"
    }
   ],
   "source": [
    "sol_4_2 = a[range(1,len(a))]\n",
    "sol_4_2"
   ]
  },
  {
   "cell_type": "markdown",
   "id": "VSebydII5Odf",
   "metadata": {
    "id": "VSebydII5Odf"
   },
   "source": [
    "#### 4.3\n",
    "The variable sol_4_3 should contain only the fifth element of every row of the sample matrix a."
   ]
  },
  {
   "cell_type": "code",
   "execution_count": null,
   "id": "UazKg7g45Odf",
   "metadata": {
    "id": "UazKg7g45Odf",
    "outputId": "4b461a4a-23e0-493f-d148-ff12da89ef44"
   },
   "outputs": [
    {
     "data": {
      "text/plain": [
       "array([-2.2,  5.3,  1.1])"
      ]
     },
     "execution_count": 12,
     "metadata": {
      "tags": []
     },
     "output_type": "execute_result"
    }
   ],
   "source": [
    "sol_4_3 = a[range(len(a)),4]\n",
    "sol_4_3"
   ]
  },
  {
   "cell_type": "markdown",
   "id": "ZVOvNc2K5Odf",
   "metadata": {
    "id": "ZVOvNc2K5Odf"
   },
   "source": [
    "#### 4.4\n",
    "The variable sol_4_4 should contain the third element of every row except the first row of the sample matrix a."
   ]
  },
  {
   "cell_type": "code",
   "execution_count": null,
   "id": "USBA6zXu5Odg",
   "metadata": {
    "id": "USBA6zXu5Odg",
    "outputId": "0007b561-c370-4c7e-ac36-b4e4586a7d94"
   },
   "outputs": [
    {
     "data": {
      "text/plain": [
       "array([ 4. ,  2.1])"
      ]
     },
     "execution_count": 13,
     "metadata": {
      "tags": []
     },
     "output_type": "execute_result"
    }
   ],
   "source": [
    "sol_4_4 = a[range(1,len(a)),2]\n",
    "sol_4_4"
   ]
  },
  {
   "cell_type": "markdown",
   "id": "js7piT6E5Odg",
   "metadata": {
    "id": "js7piT6E5Odg"
   },
   "source": [
    "### Matrix built-in functions\n",
    "Check out the docs or search the web. There are plenty of resources that will help you with the following tasks."
   ]
  },
  {
   "cell_type": "markdown",
   "id": "xjqsUSoA5Odg",
   "metadata": {
    "id": "xjqsUSoA5Odg"
   },
   "source": [
    "#### 4.5\n",
    "The variable sol_4_5 should contain the absolut values of sample matrix a."
   ]
  },
  {
   "cell_type": "code",
   "execution_count": null,
   "id": "IUh3GSnv5Odg",
   "metadata": {
    "id": "IUh3GSnv5Odg",
    "outputId": "bc68a45f-4451-40e9-e976-8bfdf31fd10d"
   },
   "outputs": [
    {
     "data": {
      "text/plain": [
       "array([[  2. ,   3.2,   5.5,   6.4,   2.2,   2.4],\n",
       "       [  1. ,  22. ,   4. ,   0.1,   5.3,   9. ],\n",
       "       [  3. ,   1. ,   2.1,  21. ,   1.1,   2. ]])"
      ]
     },
     "execution_count": 14,
     "metadata": {
      "tags": []
     },
     "output_type": "execute_result"
    }
   ],
   "source": [
    "sol_4_5 = np.abs(a)\n",
    "sol_4_5"
   ]
  },
  {
   "cell_type": "markdown",
   "id": "1mdYyu9t5Odh",
   "metadata": {
    "id": "1mdYyu9t5Odh"
   },
   "source": [
    "#### 4.6\n",
    "The variable sol_4_6 should contain the shape of sample matrix b."
   ]
  },
  {
   "cell_type": "code",
   "execution_count": null,
   "id": "EOb_llYM5Odh",
   "metadata": {
    "id": "EOb_llYM5Odh",
    "outputId": "e166ace8-493c-43ae-e61c-a466edf0edbc"
   },
   "outputs": [
    {
     "data": {
      "text/plain": [
       "(2, 6)"
      ]
     },
     "execution_count": 15,
     "metadata": {
      "tags": []
     },
     "output_type": "execute_result"
    }
   ],
   "source": [
    "sol_4_6 = b.shape\n",
    "sol_4_6"
   ]
  },
  {
   "cell_type": "markdown",
   "id": "R68nOcvJ5Odh",
   "metadata": {
    "id": "R68nOcvJ5Odh"
   },
   "source": [
    "#### 4.7\n",
    "The variable sol_4_7 should contain the highest value of sample matrix b."
   ]
  },
  {
   "cell_type": "code",
   "execution_count": null,
   "id": "zOkwAemh5Odh",
   "metadata": {
    "id": "zOkwAemh5Odh",
    "outputId": "54492678-9be2-4864-b136-a13109983cf4"
   },
   "outputs": [
    {
     "data": {
      "text/plain": [
       "15"
      ]
     },
     "execution_count": 16,
     "metadata": {
      "tags": []
     },
     "output_type": "execute_result"
    }
   ],
   "source": [
    "sol_4_7 = b.max()\n",
    "sol_4_7"
   ]
  },
  {
   "cell_type": "markdown",
   "id": "7KrLUQiD5Odi",
   "metadata": {
    "id": "7KrLUQiD5Odi"
   },
   "source": [
    "#### 4.8\n",
    "The variable sol_4_8 should contain the smallest value of sample matrix b."
   ]
  },
  {
   "cell_type": "code",
   "execution_count": null,
   "id": "P8a7NL1a5Odi",
   "metadata": {
    "id": "P8a7NL1a5Odi",
    "outputId": "58e2b30c-4974-4c5b-c04d-d6d21b429d89"
   },
   "outputs": [
    {
     "data": {
      "text/plain": [
       "0"
      ]
     },
     "execution_count": 17,
     "metadata": {
      "tags": []
     },
     "output_type": "execute_result"
    }
   ],
   "source": [
    "sol_4_8 = b.min()\n",
    "sol_4_8"
   ]
  },
  {
   "cell_type": "markdown",
   "id": "6IaEajRy5Odj",
   "metadata": {
    "id": "6IaEajRy5Odj"
   },
   "source": [
    "#### 4.9\n",
    "The variable sol_4_9 should contain the transpose of sample matrix b."
   ]
  },
  {
   "cell_type": "code",
   "execution_count": null,
   "id": "UqjI-myd5Odj",
   "metadata": {
    "id": "UqjI-myd5Odj",
    "outputId": "ab7ab4f8-c69f-4937-a681-347b73a8ff59"
   },
   "outputs": [
    {
     "data": {
      "text/plain": [
       "array([[ 0, 10],\n",
       "       [ 1, 11],\n",
       "       [ 2, 12],\n",
       "       [ 3, 13],\n",
       "       [ 4, 14],\n",
       "       [ 5, 15]])"
      ]
     },
     "execution_count": 18,
     "metadata": {
      "tags": []
     },
     "output_type": "execute_result"
    }
   ],
   "source": [
    "sol_4_9 = b.transpose()\n",
    "sol_4_9"
   ]
  },
  {
   "cell_type": "code",
   "execution_count": null,
   "id": "iJrcEVex5Odj",
   "metadata": {
    "id": "iJrcEVex5Odj"
   },
   "outputs": [],
   "source": []
  }
 ],
 "metadata": {
  "colab": {
   "name": "NumpyIntro.ipynb",
   "provenance": []
  },
  "kernelspec": {
   "display_name": "Python 3",
   "language": "python",
   "name": "python3"
  },
  "language_info": {
   "codemirror_mode": {
    "name": "ipython",
    "version": 3
   },
   "file_extension": ".py",
   "mimetype": "text/x-python",
   "name": "python",
   "nbconvert_exporter": "python",
   "pygments_lexer": "ipython3",
   "version": "3.9.4"
  }
 },
 "nbformat": 4,
 "nbformat_minor": 5
}
