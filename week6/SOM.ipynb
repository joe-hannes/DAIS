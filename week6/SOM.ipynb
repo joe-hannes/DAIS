{
 "cells": [
  {
   "cell_type": "markdown",
   "metadata": {},
   "source": [
    "# 3 The Self-organizing Map (SOM)"
   ]
  },
  {
   "cell_type": "markdown",
   "metadata": {
    "pycharm": {
     "name": "#%% md\n"
    }
   },
   "source": [
    "In this task, we will implement some python functions for the self-organizing map (SOM), or self-organizing feature map algorithm. The SOM is an artificial neural network used for clustering and dimensionality reduction. Its goal is to find a high-quality topological respresentation of the input space (also called _map_)."
   ]
  },
  {
   "cell_type": "code",
   "execution_count": null,
   "metadata": {
    "collapsed": false,
    "jupyter": {
     "outputs_hidden": false
    },
    "pycharm": {
     "name": "#%%\n"
    }
   },
   "outputs": [],
   "source": [
    "# Load libraries\n",
    "import numpy as np\n",
    "import matplotlib.pyplot as plt\n",
    "from sklearn import datasets\n",
    "from sklearn.preprocessing import StandardScaler\n",
    "\n",
    "np.random.seed(42)"
   ]
  },
  {
   "cell_type": "markdown",
   "metadata": {},
   "source": [
    "First, we will load the [Iris Flower Dataset](https://scikit-learn.org/stable/auto_examples/datasets/plot_iris_dataset.html) that we will use for training our SOM. We will also apply the [StandardScaler](https://scikit-learn.org/stable/modules/generated/sklearn.preprocessing.StandardScaler.html) that scales all features to zero mean and unit variance."
   ]
  },
  {
   "cell_type": "code",
   "execution_count": null,
   "metadata": {},
   "outputs": [],
   "source": [
    "iris = datasets.load_iris()\n",
    "iris_data = iris.data"
   ]
  },
  {
   "cell_type": "code",
   "execution_count": null,
   "metadata": {},
   "outputs": [],
   "source": [
    "print(iris.DESCR)"
   ]
  },
  {
   "cell_type": "code",
   "execution_count": null,
   "metadata": {},
   "outputs": [],
   "source": [
    "scaler = StandardScaler()\n",
    "iris_scaled = scaler.fit_transform(iris_data)"
   ]
  },
  {
   "cell_type": "markdown",
   "metadata": {},
   "source": [
    "So, how does a sample look like when the scaling operation is applied?"
   ]
  },
  {
   "cell_type": "code",
   "execution_count": null,
   "metadata": {},
   "outputs": [],
   "source": [
    "iris_data[0]"
   ]
  },
  {
   "cell_type": "code",
   "execution_count": null,
   "metadata": {},
   "outputs": [],
   "source": [
    "iris_scaled[0]"
   ]
  },
  {
   "cell_type": "markdown",
   "metadata": {},
   "source": [
    "Now it's time to take a step further and get to now object-oriented Python programming. What you can see below is that we define our self-organizing map as a Python class that has the attributes \n",
    "- _size_ (number of nodes in the network), \n",
    "- _sigma_ (neighborhood learning coefficient whose value is dependent on the current iteration), \n",
    "- _nodes_ (list of all nodes in the network), and \n",
    "- _learning rate_ (determines how much other nodes are pulled towards the input).\n",
    "\n",
    "Also, the SOM class consists of several functions that are needed for training. Your job will be to implement the functions \n",
    "\n",
    "- _neighborhood_function(self, v, n_b)_ (takes the indices of the current network node $v$ and the winning node $n_b$, outputs the Gaussian neighboorhood pull factor according to $h(v, n_b) = - exp \\left( -\\frac{d_{v, n_b}^2}{2 \\cdot \\sigma^2} \\right)$, where $d_{v, n_b}$ is the Euclidean distance between the $v$-th and $n_b$-th network node)\n",
    "- _find_winner(self, x)_ (takes the current input sample and returns the index $n_b$ of the closest node in the network),\n",
    "- _update_network(self, x, n_b)_ (takes the current input sample and the index of the winner and updates all network nodes based on the input), and\n",
    "- _plot(self)_ (scatterplot of first two dimensions of the nodes in the network)."
   ]
  },
  {
   "cell_type": "code",
   "execution_count": null,
   "metadata": {},
   "outputs": [],
   "source": [
    "class SOM:\n",
    "    \n",
    "    # Map Initialization\n",
    "    def __init__(self, rows, columns, dim, lr):\n",
    "        self.size = rows * columns\n",
    "        self.sigma = 1\n",
    "        self.nodes = np.random.normal(size=(rows * columns, dim))\n",
    "        \n",
    "        # learning rate\n",
    "        self.lr = lr\n",
    "        \n",
    "    def neighborhood_function(self, v, n_b):\n",
    "        # your code here\n",
    "        return h\n",
    "    \n",
    "    def find_winner(self, x):\n",
    "        # your code here\n",
    "        return n_b\n",
    "    \n",
    "    def update_network(self, x, n_b):\n",
    "        # your code here\n",
    "     \n",
    "    def plot(self):\n",
    "        # your code here "
   ]
  },
  {
   "cell_type": "markdown",
   "metadata": {},
   "source": [
    "With the code given below, you can test your implemented functions with different learning rates / neighboorhood size adjustments. The steps below are the same ones as on slide 20 in the lecture slides on SOM. "
   ]
  },
  {
   "cell_type": "code",
   "execution_count": null,
   "metadata": {},
   "outputs": [],
   "source": [
    "# Step 1: Initialize Network (10 x 10 nodes, learning rate 0.5)\n",
    "som = SOM(10, 10, iris_data.shape[1], 0.5)\n",
    "  \n",
    "# Step 2: Get Input\n",
    "for x in iris_scaled:\n",
    "    \n",
    "    # Step 3: Find Winner\n",
    "    n_b = som.find_winner(x)\n",
    "    \n",
    "    # Step 4: Update winner and neighborhood\n",
    "    som.update_network(x, n_b)\n",
    "    \n",
    "    # Step 5: Adjust neighborhood size\n",
    "    som.sigma /= 1.1\n",
    "    \n",
    "# Step 6: Plot network\n",
    "som.plot()   "
   ]
  },
  {
   "cell_type": "markdown",
   "metadata": {},
   "source": [
    "_Hint 1: As this is an unsupervised learning method, you don't have to worry about accuracies etc., as long as your code works as described in the SOM lecture slides._\n",
    "\n",
    "_Hint 2: When plotting the network, don't forget to add labels and title to the plot!_\n",
    "\n",
    "Good luck with this task!"
   ]
  },
  {
   "cell_type": "code",
   "execution_count": null,
   "metadata": {},
   "outputs": [],
   "source": []
  }
 ],
 "metadata": {
  "kernelspec": {
   "display_name": "PyCharm (Assignments SS21)",
   "language": "python",
   "name": "pycharm-9dd6583e"
  },
  "language_info": {
   "codemirror_mode": {
    "name": "ipython",
    "version": 3
   },
   "file_extension": ".py",
   "mimetype": "text/x-python",
   "name": "python",
   "nbconvert_exporter": "python",
   "pygments_lexer": "ipython3",
   "version": "3.8.8rc1"
  }
 },
 "nbformat": 4,
 "nbformat_minor": 5
}
