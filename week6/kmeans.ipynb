{
  "nbformat": 4,
  "nbformat_minor": 5,
  "metadata": {
    "kernelspec": {
      "display_name": "Python 3",
      "language": "python",
      "name": "python3"
    },
    "language_info": {
      "codemirror_mode": {
        "name": "ipython",
        "version": 3
      },
      "file_extension": ".py",
      "mimetype": "text/x-python",
      "name": "python",
      "nbconvert_exporter": "python",
      "pygments_lexer": "ipython3",
      "version": "3.9.5"
    },
    "colab": {
      "name": "kmeans.ipynb",
      "provenance": []
    }
  },
  "cells": [
    {
      "cell_type": "markdown",
      "metadata": {
        "id": "b14c9b76"
      },
      "source": [
        "# 2 K-Means Clustering\n",
        "In this notebook we will explore and cluster data with the K-Means algorithm.\n",
        "\n",
        "In K-Means, a dataset is partitioned in _k_ clusters while trying to minimise the sum of squared distances of each point to its cluster centre. On of the characteristics of this algorithm is that the number of clusters _k_ is predefined, i.e. the choice is left to the machine learning practitioner.\n",
        "\n",
        "You can find an overview of the algorithm on page 23 in the lecture.\n",
        "\n",
        "Before we start however, we need a package that we did not use before, _ipywidgets_. We will use it later for a dynamic visualisation of our clusters."
      ],
      "id": "b14c9b76"
    },
    {
      "cell_type": "code",
      "metadata": {
        "colab": {
          "base_uri": "https://localhost:8080/"
        },
        "id": "33f81626",
        "outputId": "e1419517-53bc-4634-958c-e7f6303512ef"
      },
      "source": [
        "! pip install ipywidgets"
      ],
      "id": "33f81626",
      "execution_count": 1,
      "outputs": [
        {
          "output_type": "stream",
          "text": [
            "Requirement already satisfied: ipywidgets in /usr/local/lib/python3.7/dist-packages (7.6.3)\n",
            "Requirement already satisfied: jupyterlab-widgets>=1.0.0; python_version >= \"3.6\" in /usr/local/lib/python3.7/dist-packages (from ipywidgets) (1.0.0)\n",
            "Requirement already satisfied: traitlets>=4.3.1 in /usr/local/lib/python3.7/dist-packages (from ipywidgets) (5.0.5)\n",
            "Requirement already satisfied: widgetsnbextension~=3.5.0 in /usr/local/lib/python3.7/dist-packages (from ipywidgets) (3.5.1)\n",
            "Requirement already satisfied: nbformat>=4.2.0 in /usr/local/lib/python3.7/dist-packages (from ipywidgets) (5.1.3)\n",
            "Requirement already satisfied: ipython>=4.0.0; python_version >= \"3.3\" in /usr/local/lib/python3.7/dist-packages (from ipywidgets) (5.5.0)\n",
            "Requirement already satisfied: ipykernel>=4.5.1 in /usr/local/lib/python3.7/dist-packages (from ipywidgets) (4.10.1)\n",
            "Requirement already satisfied: ipython-genutils in /usr/local/lib/python3.7/dist-packages (from traitlets>=4.3.1->ipywidgets) (0.2.0)\n",
            "Requirement already satisfied: notebook>=4.4.1 in /usr/local/lib/python3.7/dist-packages (from widgetsnbextension~=3.5.0->ipywidgets) (5.3.1)\n",
            "Requirement already satisfied: jsonschema!=2.5.0,>=2.4 in /usr/local/lib/python3.7/dist-packages (from nbformat>=4.2.0->ipywidgets) (2.6.0)\n",
            "Requirement already satisfied: jupyter-core in /usr/local/lib/python3.7/dist-packages (from nbformat>=4.2.0->ipywidgets) (4.7.1)\n",
            "Requirement already satisfied: pygments in /usr/local/lib/python3.7/dist-packages (from ipython>=4.0.0; python_version >= \"3.3\"->ipywidgets) (2.6.1)\n",
            "Requirement already satisfied: pexpect; sys_platform != \"win32\" in /usr/local/lib/python3.7/dist-packages (from ipython>=4.0.0; python_version >= \"3.3\"->ipywidgets) (4.8.0)\n",
            "Requirement already satisfied: setuptools>=18.5 in /usr/local/lib/python3.7/dist-packages (from ipython>=4.0.0; python_version >= \"3.3\"->ipywidgets) (57.0.0)\n",
            "Requirement already satisfied: prompt-toolkit<2.0.0,>=1.0.4 in /usr/local/lib/python3.7/dist-packages (from ipython>=4.0.0; python_version >= \"3.3\"->ipywidgets) (1.0.18)\n",
            "Requirement already satisfied: decorator in /usr/local/lib/python3.7/dist-packages (from ipython>=4.0.0; python_version >= \"3.3\"->ipywidgets) (4.4.2)\n",
            "Requirement already satisfied: pickleshare in /usr/local/lib/python3.7/dist-packages (from ipython>=4.0.0; python_version >= \"3.3\"->ipywidgets) (0.7.5)\n",
            "Requirement already satisfied: simplegeneric>0.8 in /usr/local/lib/python3.7/dist-packages (from ipython>=4.0.0; python_version >= \"3.3\"->ipywidgets) (0.8.1)\n",
            "Requirement already satisfied: jupyter-client in /usr/local/lib/python3.7/dist-packages (from ipykernel>=4.5.1->ipywidgets) (5.3.5)\n",
            "Requirement already satisfied: tornado>=4.0 in /usr/local/lib/python3.7/dist-packages (from ipykernel>=4.5.1->ipywidgets) (5.1.1)\n",
            "Requirement already satisfied: jinja2 in /usr/local/lib/python3.7/dist-packages (from notebook>=4.4.1->widgetsnbextension~=3.5.0->ipywidgets) (2.11.3)\n",
            "Requirement already satisfied: nbconvert in /usr/local/lib/python3.7/dist-packages (from notebook>=4.4.1->widgetsnbextension~=3.5.0->ipywidgets) (5.6.1)\n",
            "Requirement already satisfied: Send2Trash in /usr/local/lib/python3.7/dist-packages (from notebook>=4.4.1->widgetsnbextension~=3.5.0->ipywidgets) (1.5.0)\n",
            "Requirement already satisfied: terminado>=0.8.1 in /usr/local/lib/python3.7/dist-packages (from notebook>=4.4.1->widgetsnbextension~=3.5.0->ipywidgets) (0.10.1)\n",
            "Requirement already satisfied: ptyprocess>=0.5 in /usr/local/lib/python3.7/dist-packages (from pexpect; sys_platform != \"win32\"->ipython>=4.0.0; python_version >= \"3.3\"->ipywidgets) (0.7.0)\n",
            "Requirement already satisfied: wcwidth in /usr/local/lib/python3.7/dist-packages (from prompt-toolkit<2.0.0,>=1.0.4->ipython>=4.0.0; python_version >= \"3.3\"->ipywidgets) (0.2.5)\n",
            "Requirement already satisfied: six>=1.9.0 in /usr/local/lib/python3.7/dist-packages (from prompt-toolkit<2.0.0,>=1.0.4->ipython>=4.0.0; python_version >= \"3.3\"->ipywidgets) (1.15.0)\n",
            "Requirement already satisfied: python-dateutil>=2.1 in /usr/local/lib/python3.7/dist-packages (from jupyter-client->ipykernel>=4.5.1->ipywidgets) (2.8.1)\n",
            "Requirement already satisfied: pyzmq>=13 in /usr/local/lib/python3.7/dist-packages (from jupyter-client->ipykernel>=4.5.1->ipywidgets) (22.1.0)\n",
            "Requirement already satisfied: MarkupSafe>=0.23 in /usr/local/lib/python3.7/dist-packages (from jinja2->notebook>=4.4.1->widgetsnbextension~=3.5.0->ipywidgets) (2.0.1)\n",
            "Requirement already satisfied: pandocfilters>=1.4.1 in /usr/local/lib/python3.7/dist-packages (from nbconvert->notebook>=4.4.1->widgetsnbextension~=3.5.0->ipywidgets) (1.4.3)\n",
            "Requirement already satisfied: bleach in /usr/local/lib/python3.7/dist-packages (from nbconvert->notebook>=4.4.1->widgetsnbextension~=3.5.0->ipywidgets) (3.3.0)\n",
            "Requirement already satisfied: defusedxml in /usr/local/lib/python3.7/dist-packages (from nbconvert->notebook>=4.4.1->widgetsnbextension~=3.5.0->ipywidgets) (0.7.1)\n",
            "Requirement already satisfied: testpath in /usr/local/lib/python3.7/dist-packages (from nbconvert->notebook>=4.4.1->widgetsnbextension~=3.5.0->ipywidgets) (0.5.0)\n",
            "Requirement already satisfied: entrypoints>=0.2.2 in /usr/local/lib/python3.7/dist-packages (from nbconvert->notebook>=4.4.1->widgetsnbextension~=3.5.0->ipywidgets) (0.3)\n",
            "Requirement already satisfied: mistune<2,>=0.8.1 in /usr/local/lib/python3.7/dist-packages (from nbconvert->notebook>=4.4.1->widgetsnbextension~=3.5.0->ipywidgets) (0.8.4)\n",
            "Requirement already satisfied: webencodings in /usr/local/lib/python3.7/dist-packages (from bleach->nbconvert->notebook>=4.4.1->widgetsnbextension~=3.5.0->ipywidgets) (0.5.1)\n",
            "Requirement already satisfied: packaging in /usr/local/lib/python3.7/dist-packages (from bleach->nbconvert->notebook>=4.4.1->widgetsnbextension~=3.5.0->ipywidgets) (20.9)\n",
            "Requirement already satisfied: pyparsing>=2.0.2 in /usr/local/lib/python3.7/dist-packages (from packaging->bleach->nbconvert->notebook>=4.4.1->widgetsnbextension~=3.5.0->ipywidgets) (2.4.7)\n"
          ],
          "name": "stdout"
        }
      ]
    },
    {
      "cell_type": "markdown",
      "metadata": {
        "id": "2c1d94ed"
      },
      "source": [
        "No we can import the usual packages."
      ],
      "id": "2c1d94ed"
    },
    {
      "cell_type": "code",
      "metadata": {
        "id": "c6da3ea0"
      },
      "source": [
        "import numpy as np\n",
        "from sklearn.datasets import load_iris\n",
        "from sklearn.decomposition import PCA\n",
        "import matplotlib.pyplot as plt\n",
        "import ipywidgets as widgets\n",
        "%config InlineBackend.figure_format = 'svg' # matplotlib magic\n",
        "np.random.seed(1337) # seeds help with reproducible results"
      ],
      "id": "c6da3ea0",
      "execution_count": 2,
      "outputs": []
    },
    {
      "cell_type": "markdown",
      "metadata": {
        "id": "244287e0"
      },
      "source": [
        "## 2.1 The dataset\n",
        "We are going to use familiar data, the Iris flower dataset.\n",
        "However, the dataset contains four features. We want to be able to look at our clustering results later. Four dimensional data is hard to visualise for human brains. Thankfully, we know a handy dimensionality reduction technique."
      ],
      "id": "244287e0"
    },
    {
      "cell_type": "markdown",
      "metadata": {
        "id": "46570a43"
      },
      "source": [
        "### Task 2.1.1 Transform the data\n",
        "- Load the Iris dataset with the provided function.\n",
        "- Use the PCA class from sklearn to project the dataset into a two-dimensional space."
      ],
      "id": "46570a43"
    },
    {
      "cell_type": "code",
      "metadata": {
        "id": "248ffd7b"
      },
      "source": [
        "iris_data = load_iris()\n",
        "np.shape(iris_data['data'])\n",
        "pca = PCA(n_components=2)\n",
        "pca.fit(iris_data['data'])\n",
        "iris_pca = pca.transform(iris_data['data'])\n",
        "# your code here"
      ],
      "id": "248ffd7b",
      "execution_count": 22,
      "outputs": []
    },
    {
      "cell_type": "markdown",
      "metadata": {
        "id": "ce11724d"
      },
      "source": [
        "## 2.2 Initialization\n",
        "Before we start with the learning phase, we need to set up a few initial parameters."
      ],
      "id": "ce11724d"
    },
    {
      "cell_type": "markdown",
      "metadata": {
        "id": "4ff5afb1"
      },
      "source": [
        "### Task 2.2.1 The _k_-Question\n",
        "As mentioned, the choice of the right _k_ is an important decision for the success of the algorithm. The number of clusters you will stare at in the end, depends on _k_. Too many or too few clusters might give you suboptimal results.\n",
        "\n",
        "Fortunately, we know that the Iris dataset is labeled. Those labels already partition the data. Therefore, let's choose _k_ according to the number of labels."
      ],
      "id": "4ff5afb1"
    },
    {
      "cell_type": "code",
      "metadata": {
        "id": "77ab12dc"
      },
      "source": [
        "k = 3# your code here"
      ],
      "id": "77ab12dc",
      "execution_count": null,
      "outputs": []
    },
    {
      "cell_type": "markdown",
      "metadata": {
        "id": "3ef4a844"
      },
      "source": [
        "### Task 2.2.2 The first cluster centres\n",
        "You have to start somewhere! Theoretically, you could choose arbitrary points in the input space. Unfortunately, if we choose those randomly, it might take a while to converge.\n",
        "\n",
        "In order to speed things up a little, let's choose different random datapoints as the initial cluster centres and put them into a list/array.\n",
        "\n",
        "_Hint:_ np.random has a few good functions for that purpose."
      ],
      "id": "3ef4a844"
    },
    {
      "cell_type": "code",
      "metadata": {
        "colab": {
          "base_uri": "https://localhost:8080/"
        },
        "id": "4aa1298c",
        "outputId": "d0c452df-5201-424c-ce51-d428421bb6c6"
      },
      "source": [
        "rnd = [ np.random.randint(0, len(iris_pca)) for i in range(3) ]\n",
        "\n",
        "rnd_data_point = [ iris_pca[_rnd] for _rnd in rnd]\n",
        "# print(rnd_data_point)\n"
      ],
      "id": "4aa1298c",
      "execution_count": 32,
      "outputs": [
        {
          "output_type": "stream",
          "text": [
            "[array([ 0.51169856, -0.10398124]), array([ 0.35788842, -0.06892503]), array([3.49992004, 0.4606741 ])]\n"
          ],
          "name": "stdout"
        }
      ]
    },
    {
      "cell_type": "markdown",
      "metadata": {
        "id": "50439bf1"
      },
      "source": [
        "## 2.3 The Algorithm\n",
        "Now the algorithm goes as follows:\n",
        "\n",
        "    - obtain the distance of each point to each cluster centre\n",
        "    - assign that point to the nearest cluster\n",
        "    - move position of centre to mean of points in cluster\n",
        "    \n",
        "Thus, we need to calculate a few things."
      ],
      "id": "50439bf1"
    },
    {
      "cell_type": "code",
      "metadata": {
        "id": "i2VbOH-ciw7U",
        "outputId": "d1275897-554b-4bf6-ed6d-ae862dc3d69a",
        "colab": {
          "base_uri": "https://localhost:8080/"
        }
      },
      "source": [
        "np.argmin([80,2,3,4,5,6])"
      ],
      "id": "i2VbOH-ciw7U",
      "execution_count": 56,
      "outputs": [
        {
          "output_type": "execute_result",
          "data": {
            "text/plain": [
              "1"
            ]
          },
          "metadata": {
            "tags": []
          },
          "execution_count": 56
        }
      ]
    },
    {
      "cell_type": "markdown",
      "metadata": {
        "id": "51013379"
      },
      "source": [
        "### Task 2.3.1 Compute the distances\n",
        "Complete the function _distances()_ that takes a list/array of datapoints and a list/array of cluster centres and returns the distance of each datapoint to each cluster centre."
      ],
      "id": "51013379"
    },
    {
      "cell_type": "code",
      "metadata": {
        "colab": {
          "base_uri": "https://localhost:8080/"
        },
        "id": "37a5553d",
        "outputId": "be847741-7bae-4e92-ace6-ea2038c70566"
      },
      "source": [
        "def distances(data, centroids):\n",
        "\n",
        "    data = np.array(data)\n",
        "    centroids = np.array(centroids)\n",
        "\n",
        "    dist = []\n",
        "\n",
        "    dist = [ np.sqrt((np.abs(data[item,0] - centroids[0:,0]))**2 + (np.abs(data[item,1] - centroids[0:, 1]))**2) for item in range(len(data)) ]\n",
        "\n",
        "    return dist\n",
        "    # your code here\n",
        "\n",
        "\n",
        "print(distances(iris_pca, rnd_data_point))\n",
        "    "
      ],
      "id": "37a5553d",
      "execution_count": 54,
      "outputs": [
        {
          "output_type": "stream",
          "text": [
            "[array([3.22374651, 3.06669914, 6.18565922]), array([3.22666658, 3.07393062, 6.24669456]), array([3.40093589, 3.24776891, 6.41755083]), array([3.264085  , 3.11323493, 6.29365615]), array([3.26891775, 3.11186318, 6.23007609]), array([2.91769311, 2.76034513, 5.78758858]), array([3.33226794, 3.17849251, 6.34435463]), array([3.14921366, 2.99306251, 6.13327428]), array([3.43102694, 3.28401738, 6.47026697]), array([3.18446941, 3.03097605, 6.19934818]), array([3.11019254, 2.95246843, 6.00969668]), array([3.12670814, 2.9718213 , 6.12892039]), array([3.30041387, 3.14838682, 6.32441956]), array([3.75765393, 3.60891924, 6.79362783]), array([3.40714058, 3.25154876, 6.18648759]), array([3.23672254, 3.08362632, 5.95099356]), array([3.26592239, 3.10846381, 6.1334426 ]), array([3.18723783, 3.03020428, 6.15001772]), array([2.8821021 , 2.72558133, 5.71462336]), array([3.1606019 , 3.00290986, 6.08813615]), array([2.86509646, 2.70755335, 5.81058986]), array([3.10223096, 2.94468512, 6.04368865]), array([3.73519304, 3.57955421, 6.7238257 ]), array([2.82172098, 2.6658973 , 5.81393182]), array([2.86822824, 2.71382695, 5.87680859]), array([3.01866016, 2.8655945 , 6.03715038]), array([2.98976332, 2.83376631, 5.97784037]), array([3.10999847, 2.95267244, 6.06295257]), array([3.17857591, 3.021536  , 6.14125368]), array([3.14506267, 2.99261801, 6.16707365]), array([3.10072088, 2.94839724, 6.12353345]), array([2.96665733, 2.80910804, 5.91006193]), array([3.29099789, 3.13352576, 6.15888908]), array([3.33285476, 3.17679727, 6.13136486]), array([3.14867319, 2.99527363, 6.16438237]), array([3.38238507, 3.22709447, 6.37817669]), array([3.21482103, 3.05706752, 6.12672818]), array([3.33327592, 3.17655995, 6.30352983]), array([3.51324685, 3.36458612, 6.54948654]), array([3.11953183, 2.96291559, 6.09432979]), array([3.3023144 , 3.14560828, 6.27312111]), array([3.46371297, 3.32369437, 6.50215713]), array([3.51716311, 3.3663829 , 6.54671061]), array([2.93197511, 2.77550127, 5.91178608]), array([2.77437549, 2.61668635, 5.70945977]), array([3.22946219, 3.0776835 , 6.25489939]), array([3.10981166, 2.95211947, 6.0382221 ]), array([3.35345275, 3.20130259, 6.37667341]), array([3.13029244, 2.97253923, 6.04417217]), array([3.22201981, 3.06633969, 6.21331369]), array([1.10474893, 1.19492998, 2.22644046]), array([0.59616613, 0.69291743, 2.57137421]), array([1.13022775, 1.24607224, 2.03608435]), array([0.79497031, 0.77885012, 3.55814927]), array([0.60343211, 0.74418443, 2.44252341]), array([0.34008121, 0.45006357, 2.99033453]), array([0.70030598, 0.81707035, 2.41137938]), array([1.5496156 , 1.44965712, 4.49469074]), array([0.62764412, 0.74787   , 2.46675185]), array([0.80879389, 0.74989438, 3.70297333]), array([1.54585941, 1.4772971 , 4.36388033]), array([0.        , 0.15775454, 3.04110231]), array([0.50974213, 0.49000085, 3.38915852]), array([0.47369445, 0.62953221, 2.58223799]), array([0.70202765, 0.56337871, 3.74287601]), array([0.70669341, 0.78248103, 2.57206748]), array([0.2899531 , 0.41487865, 2.95390426]), array([0.35872208, 0.29135844, 3.35907385]), array([0.6167534 , 0.7545015 , 2.74529251]), array([0.66921953, 0.60240253, 3.60914146]), array([0.60489465, 0.75855708, 2.44521306]), array([0.15775454, 0.        , 3.18635182]), array([0.81770919, 0.975277  , 2.33865635]), array([0.41752544, 0.57521253, 2.65726331]), array([0.32449911, 0.41825788, 2.8024458 ]), array([0.58134099, 0.6723275 , 2.60310321]), array([0.89125334, 1.02329818, 2.17865283]), array([1.11010255, 1.24618286, 1.95170179]), array([0.30738002, 0.46508851, 2.75814864]), array([0.85894985, 0.7278723 , 3.89473936]), array([0.83524103, 0.76570169, 3.75368532]), array([0.90773303, 0.82068955, 3.86193159]), array([0.43005693, 0.33033626, 3.45155677]), array([0.92437288, 1.08106   , 2.29591322]), array([0.38788618, 0.47484757, 3.06140377]), array([0.41954831, 0.52038394, 2.70621495]), array([0.87430288, 0.9856586 , 2.27984656]), array([0.40484993, 0.54855718, 2.81099486]), array([0.31255826, 0.22884142, 3.33466662]), array([0.67323321, 0.64221011, 3.52389052]), array([0.56866747, 0.61120958, 3.23913343]), array([0.38543743, 0.53403978, 2.65567134]), array([0.4114469 , 0.35881685, 3.38188144]), array([1.51794766, 1.42077278, 4.45498767]), array([0.42974564, 0.435986  , 3.28791963]), array([0.21005962, 0.14605417, 3.2387504 ]), array([0.23273702, 0.22504142, 3.21339132]), array([0.17873032, 0.29758619, 2.89147145]), array([1.5609138 , 1.43902821, 4.57130124]), array([0.32438318, 0.28609876, 3.30171022]), array([2.02168681, 2.17410708, 1.07695157]), array([1.01890116, 1.17218209, 2.32773616]), array([2.1520991 , 2.29620307, 0.89092955]), array([1.46179632, 1.61744237, 1.65713235]), array([1.83941138, 1.99232371, 1.25428801]), array([2.95871162, 3.10169941, 0.13679858]), array([1.08881923, 1.13564228, 3.40681979]), array([2.46410718, 2.60944625, 0.57699938]), array([1.81492641, 1.97111588, 1.37318649]), array([2.5633267 , 2.69688698, 0.66621774]), array([1.20105578, 1.34049785, 1.85108045]), array([1.29652027, 1.45293977, 1.82635461]), array([1.68461487, 1.83006308, 1.35652589]), array([1.0719336 , 1.21564828, 2.48395943]), array([1.15921032, 1.31516349, 2.1596283 ]), array([1.41053424, 1.55797386, 1.63158642]), array([1.44537561, 1.59565694, 1.60578691]), array([3.23889377, 3.36762159, 0.71518095]), array([3.30376266, 3.453203  , 0.35889439]), array([1.02690716, 1.16971857, 2.51575409]), array([1.97585634, 2.11766979, 1.07527001]), array([0.85117539, 0.99800721, 2.53618155]), array([3.04110231, 3.18635182, 0.        ]), array([0.88279744, 1.03974138, 2.21343477]), array([1.81753863, 1.95962126, 1.23092281]), array([2.20502168, 2.34246216, 0.89148164]), array([0.75063882, 0.90740734, 2.33109681]), array([0.77953676, 0.9344641 , 2.28299562]), array([1.61537521, 1.77132552, 1.5309062 ]), array([1.96057346, 2.09906091, 1.11192409]), array([2.37875195, 2.52319108, 0.66376461]), array([3.09479275, 3.21487234, 0.95234416]), array([1.65162954, 1.80764711, 1.50216894]), array([0.93329607, 1.08882375, 2.14267729]), array([1.32989761, 1.48722111, 1.96885208]), array([2.68432041, 2.82204071, 0.48062523]), array([1.65068488, 1.79853838, 1.39307218]), array([1.40180516, 1.55172009, 1.6470231 ]), array([0.66045166, 0.81710466, 2.41311477]), array([1.66546367, 1.80449396, 1.39511153]), array([1.8252618 , 1.97250414, 1.21769498]), array([1.50102103, 1.63581469, 1.57849162]), array([1.01890116, 1.17218209, 2.32773616]), array([2.08655151, 2.23222708, 0.95457537]), array([1.95036696, 2.09446981, 1.0923526 ]), array([1.46177361, 1.60681941, 1.579605  ]), array([1.05109394, 1.20875454, 2.14257722]), array([1.26592077, 1.4142002 , 1.77707656]), array([1.40665017, 1.55416958, 1.63557322]), array([0.89647736, 1.05419507, 2.23685328])]\n"
          ],
          "name": "stdout"
        }
      ]
    },
    {
      "cell_type": "markdown",
      "metadata": {
        "id": "ea6ee35c"
      },
      "source": [
        "### Task 2.3.2 Assign to clusters\n",
        "Now that we can compute the distances to the cluster centres, we need to assign the points to their respective clusters.\n",
        "\n",
        "Complete the function _compute\\_assignments()_ that takes a list/array of datapoints and a list/array of cluster centres and returns a list of assignments of each data point to the nearest cluster centre.\n",
        "\n",
        "_Hint:_ Make ample use of the _distances()_ function you just wrote."
      ],
      "id": "ea6ee35c"
    },
    {
      "cell_type": "code",
      "metadata": {
        "id": "ZrdMXY75rw1I",
        "outputId": "b54291b2-a38b-49ca-ca62-cb75b2043ca3",
        "colab": {
          "base_uri": "https://localhost:8080/"
        }
      },
      "source": [
        "np.unique([1,3,1,3,4,5], return_index=True)"
      ],
      "id": "ZrdMXY75rw1I",
      "execution_count": 62,
      "outputs": [
        {
          "output_type": "execute_result",
          "data": {
            "text/plain": [
              "(array([1, 3, 4, 5]), array([0, 1, 4, 5]))"
            ]
          },
          "metadata": {
            "tags": []
          },
          "execution_count": 62
        }
      ]
    },
    {
      "cell_type": "code",
      "metadata": {
        "id": "da0a1298"
      },
      "source": [
        "def compute_assignments(data, centroids):\n",
        "     dist = distances(data, centroids)\n",
        "     clusters = [ np.argmin(dist[item])  for item in range(len(dist)) ]\n",
        "     return clusters\n",
        "    # your code here\n",
        "\n",
        "# compute_assignments(iris_pca, rnd_data_point)"
      ],
      "id": "da0a1298",
      "execution_count": 59,
      "outputs": []
    },
    {
      "cell_type": "markdown",
      "metadata": {
        "id": "b3634ee8"
      },
      "source": [
        "### Task 2.3.3 New cluster centres\n",
        "Now that we have our clusters, we can compute new centres that better represent the cluster.\n",
        "\n",
        "Complete the function _compute\\_new\\_centres()_ that takes takes a list/array of datapoints and a list/array of assignments and returns the new cluster centres."
      ],
      "id": "b3634ee8"
    },
    {
      "cell_type": "code",
      "metadata": {
        "colab": {
          "base_uri": "https://localhost:8080/"
        },
        "id": "86afd505",
        "outputId": "26677c0d-786b-40bf-c052-e8d7cfb306a0"
      },
      "source": [
        "def compute_new_centres(data, assignments):\n",
        "    # your code here\n",
        "    cluster_index = []\n",
        "    cluster = []\n",
        "    new_cluster = []\n",
        "    for j in range(len(np.unique(assignments))):\n",
        "        cluster_index.append([i for i in range(len(assignments)) if j == assignments[i]])\n",
        "\n",
        "    for item in range(len(cluster_index)):\n",
        "        cluster.append([data[index] for index in cluster_index[item]])\n",
        "\n",
        "    print(len(cluster[0][0]))\n",
        "\n",
        "    for i in range(len(cluster)):\n",
        "        new_cluster.append([np.sum(cluster[i][0:][feature]) for feature in range(len(cluster[0][0])) ])\n",
        "\n",
        "        # new_clusters = [np.sum(cluster[i]) for i in range(len(cluster))]\n",
        "\n",
        "\n",
        "    return new_cluster\n",
        "\n",
        "print(compute_new_centres(iris_pca, compute_assignments(iris_pca, rnd_data_point)))\n",
        "\n"
      ],
      "id": "86afd505",
      "execution_count": 87,
      "outputs": [
        {
          "output_type": "stream",
          "text": [
            "2\n",
            "[[1.9699861593256598, -2.3647283793844367, 2.521343618304825], [1.2508221705749465, -2.891142912359107, 2.9605791673374235]]\n"
          ],
          "name": "stdout"
        }
      ]
    },
    {
      "cell_type": "markdown",
      "metadata": {
        "id": "683ad50e"
      },
      "source": [
        "The most important parts are done! Theoretically, we only need to run the algorithm repeatedly until the cluster centres do not change anymore."
      ],
      "id": "683ad50e"
    },
    {
      "cell_type": "markdown",
      "metadata": {
        "id": "25db7af0"
      },
      "source": [
        "## 2.4 Cluster quality\n",
        "As we have seen in previous assignments, blindly running an algorithm without evaluating the quality of its results is not always the best idea.\n",
        "\n",
        "Hence, we will use the Davies Bouldin Index to evaluate the quality of our clusters (see also page 18 in the lecture).\n",
        "\n",
        "### Task 2.4.1 The Davies-Bouldin-Index\n",
        "\n",
        "Write a function _db\\_index()_ that takes a list/array of datapoints, a list/array of cluster centres and a list/array of assignments and returns the Davies-Bouldin Index.\n",
        "\n",
        "You will need to:\n",
        "    \n",
        "    - calculate the radii of the clusters, R\n",
        "    - calculate the inter class distance between the clusters\n",
        "    - calculate the badness of separation between the clusters, D\n",
        "    \n",
        "Lastly, you need to average over the relevant D-values of each cluster.\n",
        "\n",
        "All necessary formulas can be found in lecture 19, \"Basic Clustering."
      ],
      "id": "25db7af0"
    },
    {
      "cell_type": "code",
      "metadata": {
        "id": "749be475"
      },
      "source": [
        "def db_index(data, centroids, assignments):\n",
        "    # your code here\n"
      ],
      "id": "749be475",
      "execution_count": null,
      "outputs": []
    },
    {
      "cell_type": "markdown",
      "metadata": {
        "id": "fc520992"
      },
      "source": [
        "## 2.5 Learning Phase"
      ],
      "id": "fc520992"
    },
    {
      "cell_type": "markdown",
      "metadata": {
        "id": "2b02c602"
      },
      "source": [
        "### Task 2.5.1 Iterative Clustering\n",
        "Finally, we have all the ingredients in order to cluster our data. Remember, we already initialised the first cluster centres.\n",
        "\n",
        "Therefore, for 20 iterations, you will need to:\n",
        "\n",
        "    - compute the cluster assignments\n",
        "    - compute the new cluster centres according to the assignments\n",
        "    - compute the DB index for the current assignments and cluster centres\n",
        "    \n",
        "Do not forget to log relevant data for each iteration:\n",
        "\n",
        "    - the cluster centres\n",
        "    - the cluster assignments\n",
        "    - the DB-Index"
      ],
      "id": "2b02c602"
    },
    {
      "cell_type": "code",
      "metadata": {
        "id": "97cbd5c3"
      },
      "source": [
        "iterations = 20\n",
        "\n",
        "# your code here"
      ],
      "id": "97cbd5c3",
      "execution_count": null,
      "outputs": []
    },
    {
      "cell_type": "markdown",
      "metadata": {
        "id": "7ebe3dab"
      },
      "source": [
        "## 2.6 Evaluation"
      ],
      "id": "7ebe3dab"
    },
    {
      "cell_type": "markdown",
      "metadata": {
        "id": "649c71de"
      },
      "source": [
        "### Task 2.6.1 Plotting the DB-Index\n",
        "Plot the DB-Index over the iterations."
      ],
      "id": "649c71de"
    },
    {
      "cell_type": "code",
      "metadata": {
        "scrolled": false,
        "id": "783eee93"
      },
      "source": [
        "%matplotlib inline\n",
        "# your code here"
      ],
      "id": "783eee93",
      "execution_count": null,
      "outputs": []
    },
    {
      "cell_type": "markdown",
      "metadata": {
        "id": "d5936529"
      },
      "source": [
        "### Task 2.6.2 Plotting the Cluster Assignments\n",
        "In order to see how the clusters evolve over the iterations, plotting the state of the iterations over and over again is a bit cumbersome. Therefore we are going to use some matplotlib magic to make an interactive plot within this notebook.\n",
        "\n",
        "The _plot\\_clusters()_ function takes as an argument the current iteration and updates the plot with the relevant data from the iteration. If everything works out, you can then use the interaction slider to go back and forth between the iterations and see how the clusters develop."
      ],
      "id": "d5936529"
    },
    {
      "cell_type": "code",
      "metadata": {
        "scrolled": false,
        "id": "ed810b0f"
      },
      "source": [
        "%matplotlib widget\n",
        "_, ax = plt.subplots()\n",
        "\n",
        "    \n",
        "def plot_clusters(iteration):\n",
        "    iter_assignments = # get current cluster assignments\n",
        "    iter_centres = # get current cluster centres\n",
        "    ax.clear()\n",
        "    ax.set_xlabel('YOUR LABEL HERE')\n",
        "    ax.set_ylabel('YOUR LABEL HERE')\n",
        "    ax.set_title('YOUR TITLE HERE')\n",
        "    \n",
        "    # Plot each cluster\n",
        "    for i in range(k):\n",
        "        points = # get data points belonging to cluster i\n",
        "        ax.scatter(points[:, 0], points[:, 1], color=\"C{}\".format(i), s=20)\n",
        "        ax.scatter(iter_centres[i, 0], iter_centres[i, 1], color=\"C{}\".format(i), \n",
        "                   marker='s', s=50, edgecolor=\"black\", linewidth=2)\n",
        "    \n",
        "\n",
        "iteraction_slider = widgets.IntSlider(min=0, max=iterations-1, description='Iteration:')\n",
        "widgets.interact(plot_clusters, iteration=iteraction_slider);"
      ],
      "id": "ed810b0f",
      "execution_count": null,
      "outputs": []
    },
    {
      "cell_type": "markdown",
      "metadata": {
        "id": "86be0a85"
      },
      "source": [
        "### Task 2.6.3 Clustered Data vs Labeled Data\n",
        "In the beginning, we told our K-Means algorithm to separate the data into three clusters, because we have labels that also separate the data into three parts.\n",
        "\n",
        "Create two plots side-by-side (using subplots), where one side is showing the clustered data and the other side is showing the partitions of the labeled data. "
      ],
      "id": "86be0a85"
    },
    {
      "cell_type": "code",
      "metadata": {
        "id": "1aa93c2c"
      },
      "source": [
        "%matplotlib inline\n",
        "# your code here"
      ],
      "id": "1aa93c2c",
      "execution_count": null,
      "outputs": []
    },
    {
      "cell_type": "markdown",
      "metadata": {
        "id": "4b70e277"
      },
      "source": [
        "## 2.7 K-Means in the wild\n",
        "It is quite fun to write the K-Means algorithm from the ground up. But, usually, a practitioner would rely on libraries, which have already implemented the algorithm, if possible.\n",
        "K-Means is implemented in the sk-learn library, so we are going to use it cluster somewhat more complex data and visualise the cluster centres."
      ],
      "id": "4b70e277"
    },
    {
      "cell_type": "code",
      "metadata": {
        "id": "9a94936e"
      },
      "source": [
        "from sklearn.datasets import load_digits\n",
        "from sklearn.cluster import KMeans"
      ],
      "id": "9a94936e",
      "execution_count": null,
      "outputs": []
    },
    {
      "cell_type": "markdown",
      "metadata": {
        "id": "1c2e9057"
      },
      "source": [
        "### Task 2.7.1 Digits data and the K-Question\n",
        "Load the digits data set and decide the obvious question of how many cluster centres we want to have."
      ],
      "id": "1c2e9057"
    },
    {
      "cell_type": "code",
      "metadata": {
        "id": "0f18ff1c"
      },
      "source": [
        "# your code here"
      ],
      "id": "0f18ff1c",
      "execution_count": null,
      "outputs": []
    },
    {
      "cell_type": "markdown",
      "metadata": {
        "id": "54338297"
      },
      "source": [
        "### Task 2.7.2 Run the K-Means algorithm\n",
        "Use the provided KMeans object on the digits data and extract the cluster centres"
      ],
      "id": "54338297"
    },
    {
      "cell_type": "code",
      "metadata": {
        "id": "a339e4e4"
      },
      "source": [
        "# your code here"
      ],
      "id": "a339e4e4",
      "execution_count": null,
      "outputs": []
    },
    {
      "cell_type": "markdown",
      "metadata": {
        "id": "9088e4b0"
      },
      "source": [
        "### 2.7.3 Plot the Cluster Centres\n",
        "Plot all the extracted cluster centres"
      ],
      "id": "9088e4b0"
    },
    {
      "cell_type": "code",
      "metadata": {
        "id": "eb43b124"
      },
      "source": [
        "%matplotlib inline\n",
        "# your code here"
      ],
      "id": "eb43b124",
      "execution_count": null,
      "outputs": []
    }
  ]
}