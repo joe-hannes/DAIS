{
 "cells": [
  {
   "cell_type": "markdown",
   "id": "b14c9b76",
   "metadata": {},
   "source": [
    "# 2 K-Means Clustering\n",
    "In this notebook we will explore and cluster data with the K-Means algorithm.\n",
    "\n",
    "In K-Means, a dataset is partitioned in _k_ clusters while trying to minimise the sum of squared distances of each point to its cluster centre. On of the characteristics of this algorithm is that the number of clusters _k_ is predefined, i.e. the choice is left to the machine learning practitioner.\n",
    "\n",
    "You can find an overview of the algorithm on page 23 in the lecture.\n",
    "\n",
    "Before we start however, we need a package that we did not use before, _ipywidgets_. We will use it later for a dynamic visualisation of our clusters."
   ]
  },
  {
   "cell_type": "code",
   "execution_count": null,
   "id": "33f81626",
   "metadata": {},
   "outputs": [],
   "source": [
    "! pip install ipywidgets"
   ]
  },
  {
   "cell_type": "markdown",
   "id": "2c1d94ed",
   "metadata": {},
   "source": [
    "No we can import the usual packages."
   ]
  },
  {
   "cell_type": "code",
   "execution_count": null,
   "id": "c6da3ea0",
   "metadata": {},
   "outputs": [],
   "source": [
    "import numpy as np\n",
    "from sklearn.datasets import load_iris\n",
    "from sklearn.decomposition import PCA\n",
    "import matplotlib.pyplot as plt\n",
    "import ipywidgets as widgets\n",
    "%config InlineBackend.figure_format = 'svg' # matplotlib magic\n",
    "np.random.seed(1337) # seeds help with reproducible results"
   ]
  },
  {
   "cell_type": "markdown",
   "id": "244287e0",
   "metadata": {},
   "source": [
    "## 2.1 The dataset\n",
    "We are going to use familiar data, the Iris flower dataset.\n",
    "However, the dataset contains four features. We want to be able to look at our clustering results later. Four dimensional data is hard to visualise for human brains. Thankfully, we know a handy dimensionality reduction technique."
   ]
  },
  {
   "cell_type": "markdown",
   "id": "46570a43",
   "metadata": {},
   "source": [
    "### Task 2.1.1 Transform the data\n",
    "- Load the Iris dataset with the provided function.\n",
    "- Use the PCA class from sklearn to project the dataset into a two-dimensional space."
   ]
  },
  {
   "cell_type": "code",
   "execution_count": null,
   "id": "248ffd7b",
   "metadata": {},
   "outputs": [],
   "source": [
    "# your code here"
   ]
  },
  {
   "cell_type": "markdown",
   "id": "ce11724d",
   "metadata": {},
   "source": [
    "## 2.2 Initialization\n",
    "Before we start with the learning phase, we need to set up a few initial parameters."
   ]
  },
  {
   "cell_type": "markdown",
   "id": "4ff5afb1",
   "metadata": {},
   "source": [
    "### Task 2.2.1 The _k_-Question\n",
    "As mentioned, the choice of the right _k_ is an important decision for the success of the algorithm. The number of clusters you will stare at in the end, depends on _k_. Too many or too few clusters might give you suboptimal results.\n",
    "\n",
    "Fortunately, we know that the Iris dataset is labeled. Those labels already partition the data. Therefore, let's choose _k_ according to the number of labels."
   ]
  },
  {
   "cell_type": "code",
   "execution_count": null,
   "id": "77ab12dc",
   "metadata": {},
   "outputs": [],
   "source": [
    "k = # your code here"
   ]
  },
  {
   "cell_type": "markdown",
   "id": "3ef4a844",
   "metadata": {},
   "source": [
    "### Task 2.2.2 The first cluster centres\n",
    "You have to start somewhere! Theoretically, you could choose arbitrary points in the input space. Unfortunately, if we choose those randomly, it might take a while to converge.\n",
    "\n",
    "In order to speed things up a little, let's choose different random datapoints as the initial cluster centres and put them into a list/array.\n",
    "\n",
    "_Hint:_ np.random has a few good functions for that purpose."
   ]
  },
  {
   "cell_type": "code",
   "execution_count": null,
   "id": "4aa1298c",
   "metadata": {},
   "outputs": [],
   "source": [
    "# your code here"
   ]
  },
  {
   "cell_type": "markdown",
   "id": "50439bf1",
   "metadata": {},
   "source": [
    "## 2.3 The Algorithm\n",
    "Now the algorithm goes as follows:\n",
    "\n",
    "    - obtain the distance of each point to each cluster centre\n",
    "    - assign that point to the nearest cluster\n",
    "    - move position of centre to mean of points in cluster\n",
    "    \n",
    "Thus, we need to calculate a few things."
   ]
  },
  {
   "cell_type": "markdown",
   "id": "51013379",
   "metadata": {},
   "source": [
    "### Task 2.3.1 Compute the distances\n",
    "Complete the function _distances()_ that takes a list/array of datapoints and a list/array of cluster centres and returns the distance of each datapoint to each cluster centre."
   ]
  },
  {
   "cell_type": "code",
   "execution_count": null,
   "id": "37a5553d",
   "metadata": {},
   "outputs": [],
   "source": [
    "def distances(data, centroids):\n",
    "    # your code here"
   ]
  },
  {
   "cell_type": "markdown",
   "id": "ea6ee35c",
   "metadata": {},
   "source": [
    "### Task 2.3.2 Assign to clusters\n",
    "Now that we can compute the distances to the cluster centres, we need to assign the points to their respective clusters.\n",
    "\n",
    "Complete the function _compute\\_assignments()_ that takes a list/array of datapoints and a list/array of cluster centres and returns a list of assignments of each data point to the nearest cluster centre.\n",
    "\n",
    "_Hint:_ Make ample use of the _distances()_ function you just wrote."
   ]
  },
  {
   "cell_type": "code",
   "execution_count": null,
   "id": "da0a1298",
   "metadata": {},
   "outputs": [],
   "source": [
    "def compute_assignments(data, centroids):\n",
    "    # your code here"
   ]
  },
  {
   "cell_type": "markdown",
   "id": "b3634ee8",
   "metadata": {},
   "source": [
    "### Task 2.3.3 New cluster centres\n",
    "Now that we have our clusters, we can compute new centres that better represent the cluster.\n",
    "\n",
    "Complete the function _compute\\_new\\_centres()_ that takes takes a list/array of datapoints and a list/array of assignments and returns the new cluster centres."
   ]
  },
  {
   "cell_type": "code",
   "execution_count": null,
   "id": "86afd505",
   "metadata": {},
   "outputs": [],
   "source": [
    "def compute_new_centres(data, assignments):\n",
    "    # your code here"
   ]
  },
  {
   "cell_type": "markdown",
   "id": "683ad50e",
   "metadata": {},
   "source": [
    "The most important parts are done! Theoretically, we only need to run the algorithm repeatedly until the cluster centres do not change anymore."
   ]
  },
  {
   "cell_type": "markdown",
   "id": "25db7af0",
   "metadata": {},
   "source": [
    "## 2.4 Cluster quality\n",
    "As we have seen in previous assignments, blindly running an algorithm without evaluating the quality of its results is not always the best idea.\n",
    "\n",
    "Hence, we will use the Davies Bouldin Index to evaluate the quality of our clusters (see also page 18 in the lecture).\n",
    "\n",
    "### Task 2.4.1 The Davies-Bouldin-Index\n",
    "\n",
    "Write a function _db\\_index()_ that takes a list/array of datapoints, a list/array of cluster centres and a list/array of assignments and returns the Davies-Bouldin Index.\n",
    "\n",
    "You will need to:\n",
    "    \n",
    "    - calculate the radii of the clusters, R\n",
    "    - calculate the inter class distance between the clusters\n",
    "    - calculate the badness of separation between the clusters, D\n",
    "    \n",
    "Lastly, you need to average over the relevant D-values of each cluster.\n",
    "\n",
    "All necessary formulas can be found in lecture 19, \"Basic Clustering."
   ]
  },
  {
   "cell_type": "code",
   "execution_count": null,
   "id": "749be475",
   "metadata": {},
   "outputs": [],
   "source": [
    "def db_index(data, centroids, assignments):\n",
    "    # your code here\n"
   ]
  },
  {
   "cell_type": "markdown",
   "id": "fc520992",
   "metadata": {},
   "source": [
    "## 2.5 Learning Phase"
   ]
  },
  {
   "cell_type": "markdown",
   "id": "2b02c602",
   "metadata": {},
   "source": [
    "### Task 2.5.1 Iterative Clustering\n",
    "Finally, we have all the ingredients in order to cluster our data. Remember, we already initialised the first cluster centres.\n",
    "\n",
    "Therefore, for 20 iterations, you will need to:\n",
    "\n",
    "    - compute the cluster assignments\n",
    "    - compute the new cluster centres according to the assignments\n",
    "    - compute the DB index for the current assignments and cluster centres\n",
    "    \n",
    "Do not forget to log relevant data for each iteration:\n",
    "\n",
    "    - the cluster centres\n",
    "    - the cluster assignments\n",
    "    - the DB-Index"
   ]
  },
  {
   "cell_type": "code",
   "execution_count": null,
   "id": "97cbd5c3",
   "metadata": {},
   "outputs": [],
   "source": [
    "iterations = 20\n",
    "\n",
    "# your code here"
   ]
  },
  {
   "cell_type": "markdown",
   "id": "7ebe3dab",
   "metadata": {},
   "source": [
    "## 2.6 Evaluation"
   ]
  },
  {
   "cell_type": "markdown",
   "id": "649c71de",
   "metadata": {},
   "source": [
    "### Task 2.6.1 Plotting the DB-Index\n",
    "Plot the DB-Index over the iterations."
   ]
  },
  {
   "cell_type": "code",
   "execution_count": null,
   "id": "783eee93",
   "metadata": {
    "scrolled": false
   },
   "outputs": [],
   "source": [
    "%matplotlib inline\n",
    "# your code here"
   ]
  },
  {
   "cell_type": "markdown",
   "id": "d5936529",
   "metadata": {},
   "source": [
    "### Task 2.6.2 Plotting the Cluster Assignments\n",
    "In order to see how the clusters evolve over the iterations, plotting the state of the iterations over and over again is a bit cumbersome. Therefore we are going to use some matplotlib magic to make an interactive plot within this notebook.\n",
    "\n",
    "The _plot\\_clusters()_ function takes as an argument the current iteration and updates the plot with the relevant data from the iteration. If everything works out, you can then use the interaction slider to go back and forth between the iterations and see how the clusters develop."
   ]
  },
  {
   "cell_type": "code",
   "execution_count": null,
   "id": "ed810b0f",
   "metadata": {
    "scrolled": false
   },
   "outputs": [],
   "source": [
    "%matplotlib widget\n",
    "_, ax = plt.subplots()\n",
    "\n",
    "    \n",
    "def plot_clusters(iteration):\n",
    "    iter_assignments = # get current cluster assignments\n",
    "    iter_centres = # get current cluster centres\n",
    "    ax.clear()\n",
    "    ax.set_xlabel('YOUR LABEL HERE')\n",
    "    ax.set_ylabel('YOUR LABEL HERE')\n",
    "    ax.set_title('YOUR TITLE HERE')\n",
    "    \n",
    "    # Plot each cluster\n",
    "    for i in range(k):\n",
    "        points = # get data points belonging to cluster i\n",
    "        ax.scatter(points[:, 0], points[:, 1], color=\"C{}\".format(i), s=20)\n",
    "        ax.scatter(iter_centres[i, 0], iter_centres[i, 1], color=\"C{}\".format(i), \n",
    "                   marker='s', s=50, edgecolor=\"black\", linewidth=2)\n",
    "    \n",
    "\n",
    "iteraction_slider = widgets.IntSlider(min=0, max=iterations-1, description='Iteration:')\n",
    "widgets.interact(plot_clusters, iteration=iteraction_slider);"
   ]
  },
  {
   "cell_type": "markdown",
   "id": "86be0a85",
   "metadata": {},
   "source": [
    "### Task 2.6.3 Clustered Data vs Labeled Data\n",
    "In the beginning, we told our K-Means algorithm to separate the data into three clusters, because we have labels that also separate the data into three parts.\n",
    "\n",
    "Create two plots side-by-side (using subplots), where one side is showing the clustered data and the other side is showing the partitions of the labeled data. "
   ]
  },
  {
   "cell_type": "code",
   "execution_count": null,
   "id": "1aa93c2c",
   "metadata": {},
   "outputs": [],
   "source": [
    "%matplotlib inline\n",
    "# your code here"
   ]
  },
  {
   "cell_type": "markdown",
   "id": "4b70e277",
   "metadata": {},
   "source": [
    "## 2.7 K-Means in the wild\n",
    "It is quite fun to write the K-Means algorithm from the ground up. But, usually, a practitioner would rely on libraries, which have already implemented the algorithm, if possible.\n",
    "K-Means is implemented in the sk-learn library, so we are going to use it cluster somewhat more complex data and visualise the cluster centres."
   ]
  },
  {
   "cell_type": "code",
   "execution_count": null,
   "id": "9a94936e",
   "metadata": {},
   "outputs": [],
   "source": [
    "from sklearn.datasets import load_digits\n",
    "from sklearn.cluster import KMeans"
   ]
  },
  {
   "cell_type": "markdown",
   "id": "1c2e9057",
   "metadata": {},
   "source": [
    "### Task 2.7.1 Digits data and the K-Question\n",
    "Load the digits data set and decide the obvious question of how many cluster centres we want to have."
   ]
  },
  {
   "cell_type": "code",
   "execution_count": null,
   "id": "0f18ff1c",
   "metadata": {},
   "outputs": [],
   "source": [
    "# your code here"
   ]
  },
  {
   "cell_type": "markdown",
   "id": "54338297",
   "metadata": {},
   "source": [
    "### Task 2.7.2 Run the K-Means algorithm\n",
    "Use the provided KMeans object on the digits data and extract the cluster centres"
   ]
  },
  {
   "cell_type": "code",
   "execution_count": null,
   "id": "a339e4e4",
   "metadata": {},
   "outputs": [],
   "source": [
    "# your code here"
   ]
  },
  {
   "cell_type": "markdown",
   "id": "9088e4b0",
   "metadata": {},
   "source": [
    "### 2.7.3 Plot the Cluster Centres\n",
    "Plot all the extracted cluster centres"
   ]
  },
  {
   "cell_type": "code",
   "execution_count": null,
   "id": "eb43b124",
   "metadata": {},
   "outputs": [],
   "source": [
    "%matplotlib inline\n",
    "# your code here"
   ]
  }
 ],
 "metadata": {
  "kernelspec": {
   "display_name": "Python 3",
   "language": "python",
   "name": "python3"
  },
  "language_info": {
   "codemirror_mode": {
    "name": "ipython",
    "version": 3
   },
   "file_extension": ".py",
   "mimetype": "text/x-python",
   "name": "python",
   "nbconvert_exporter": "python",
   "pygments_lexer": "ipython3",
   "version": "3.9.5"
  }
 },
 "nbformat": 4,
 "nbformat_minor": 5
}
